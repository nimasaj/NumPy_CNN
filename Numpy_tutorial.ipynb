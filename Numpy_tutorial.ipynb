{
  "nbformat": 4,
  "nbformat_minor": 0,
  "metadata": {
    "colab": {
      "provenance": [],
      "collapsed_sections": [],
      "toc_visible": true,
      "include_colab_link": true
    },
    "kernelspec": {
      "name": "python3",
      "display_name": "Python 3"
    }
  },
  "cells": [
    {
      "cell_type": "markdown",
      "metadata": {
        "id": "view-in-github",
        "colab_type": "text"
      },
      "source": [
        "<a href=\"https://colab.research.google.com/github/nimasaj/Numpy/blob/main/Numpy_tutorial.ipynb\" target=\"_parent\"><img src=\"https://colab.research.google.com/assets/colab-badge.svg\" alt=\"Open In Colab\"/></a>"
      ]
    },
    {
      "cell_type": "markdown",
      "metadata": {
        "id": "fY12nHhyL9hX"
      },
      "source": [
        "This tutorial was originally written by [Justin Johnson](https://web.eecs.umich.edu/~justincj/) for cs231n. It was adapted as a Jupyter notebook for Stanford cs228 by [Volodymyr Kuleshov](http://web.stanford.edu/~kuleshov/) and [Isaac Caswell](https://symsys.stanford.edu/viewing/symsysaffiliate/21335).\n",
        "\n",
        "Numpy is the core library for scientific computing in Python. It provides a high-performance multidimensional array object, and tools for working with these arrays. If you are already familiar with MATLAB, you might find this [tutorial](http://wiki.scipy.org/NumPy_for_Matlab_Users) useful to get started with Numpy.\n",
        "\n",
        "Some examples are also copied from here:\n",
        "* https://www.tutorialspoint.com/numpy/index.htm\n",
        "* https://colab.research.google.com/github/jakevdp/PythonDataScienceHandbook/blob/master/notebooks/02.02-The-Basics-Of-NumPy-Arrays.ipynb#scrollTo=69NldifJfJAM\n",
        "* [Python Data Science Handbook](https://jakevdp.github.io/PythonDataScienceHandbook/)"
      ]
    },
    {
      "cell_type": "markdown",
      "metadata": {
        "id": "u4vVCdandgwK"
      },
      "source": [
        "## NumPy (short for Numerical Python)"
      ]
    },
    {
      "cell_type": "markdown",
      "metadata": {
        "id": "lZMyAdqhL9hY"
      },
      "source": [
        "To use Numpy, we first need to import the `numpy` package:"
      ]
    },
    {
      "cell_type": "code",
      "metadata": {
        "id": "58QdX8BLL9hZ",
        "colab": {
          "base_uri": "https://localhost:8080/"
        },
        "outputId": "c24b304f-0551-4ce9-9e2f-e8be55cb9139"
      },
      "source": [
        "import numpy as np\n",
        "\n",
        "print(np.__version__)"
      ],
      "execution_count": null,
      "outputs": [
        {
          "output_type": "stream",
          "name": "stdout",
          "text": [
            "1.21.6\n"
          ]
        }
      ]
    },
    {
      "cell_type": "markdown",
      "metadata": {
        "id": "DDx6v1EdL9hb"
      },
      "source": [
        "##Arrays"
      ]
    },
    {
      "cell_type": "markdown",
      "metadata": {
        "id": "f-Zv3f7LL9hc"
      },
      "source": [
        "A numpy array is a grid of values, all of the same type, and is indexed by a tuple of nonnegative integers. The number of dimensions is the rank of the array; the shape of an array is a tuple of integers giving the size of the array along each dimension."
      ]
    },
    {
      "cell_type": "markdown",
      "metadata": {
        "id": "jt3NXbtOuvxD"
      },
      "source": [
        "###  Initialize numpy arrays from Python lists, "
      ]
    },
    {
      "cell_type": "markdown",
      "metadata": {
        "id": "_eMTRnZRL9hc"
      },
      "source": [
        "We can initialize numpy arrays from nested Python lists, and access elements using square brackets:"
      ]
    },
    {
      "cell_type": "code",
      "metadata": {
        "id": "-l3JrGxCL9hc",
        "colab": {
          "base_uri": "https://localhost:8080/"
        },
        "outputId": "b59641a7-fe24-4ad5-b302-e76c5a7fb75e"
      },
      "source": [
        "a = np.array([1, 2, 3])  # Create a rank 1 array\n",
        "# a = np.array([1, 2, 3], dtype=np.int8)  # np.int8, np.int16, np.int32, np.int64\n",
        "print('type:', type(a))\n",
        "print('shape:', a.shape) # the shape of an array\n",
        "print('ndim:', a.ndim)   # the number of array dimensions\n",
        "print('size:', a.size)   # the total number of elements\n",
        "print(\"dtype:\", a.dtype)                # data type of the array \n",
        "print('itemsize:', a.itemsize, 'bytes') # the length of each element in bytes\n",
        "print(\"nbytes:\", a.nbytes, \"bytes\")     # nbytes = itemsize * size\n",
        "\n",
        "print(a)\n",
        "print(a[0], a[1], a[2])                 "
      ],
      "execution_count": null,
      "outputs": [
        {
          "output_type": "stream",
          "name": "stdout",
          "text": [
            "type: <class 'numpy.ndarray'>\n",
            "shape: (3,)\n",
            "ndim: 1\n",
            "size: 3\n",
            "dtype: int64\n",
            "itemsize: 8 bytes\n",
            "nbytes: 24 bytes\n",
            "[1 2 3]\n",
            "1 2 3\n"
          ]
        }
      ]
    },
    {
      "cell_type": "code",
      "metadata": {
        "id": "weZPBlzxCbFA",
        "colab": {
          "base_uri": "https://localhost:8080/"
        },
        "outputId": "b3372644-eb3e-4a48-ddd8-8f9c298c646d"
      },
      "source": [
        "a[0] = 5                 # Change an element of the array\n",
        "print(a) "
      ],
      "execution_count": null,
      "outputs": [
        {
          "output_type": "stream",
          "name": "stdout",
          "text": [
            "[5 2 3]\n"
          ]
        }
      ]
    },
    {
      "cell_type": "code",
      "metadata": {
        "id": "ma6mk-kdL9hh",
        "colab": {
          "base_uri": "https://localhost:8080/"
        },
        "outputId": "d1e13c2e-e995-4538-b098-21fb8e5208eb"
      },
      "source": [
        "# b = np.array([[1,2,3],[4,5,6]])   # Create a rank 2 array\n",
        "b = np.array([[1,2,3],[4,5,6]], dtype=np.float32)   # IEEE 754 Standard\n",
        "# np.float16 (half-precision), \n",
        "# np.float32 (single-precision, C float), \n",
        "# np.float64 (double-precision, C double)\n",
        "print('type:', type(b))\n",
        "print('shape:', b.shape) # the shape of an array\n",
        "print('ndim:', b.ndim)   # the number of array dimensions\n",
        "print('size:', b.size)   # the total number of elements\n",
        "print(\"dtype:\", b.dtype)                # data type of the array \n",
        "print('itemsize:', b.itemsize, 'bytes') # the length of each element in bytes\n",
        "print(\"nbytes:\", b.nbytes, \"bytes\")       # nbytes = itemsize * size\n",
        "\n",
        "print(b)\n",
        "print(b[0])\n",
        "print(b[1][2])"
      ],
      "execution_count": null,
      "outputs": [
        {
          "output_type": "stream",
          "name": "stdout",
          "text": [
            "type: <class 'numpy.ndarray'>\n",
            "shape: (2, 3)\n",
            "ndim: 2\n",
            "size: 6\n",
            "dtype: float32\n",
            "itemsize: 4 bytes\n",
            "nbytes: 24 bytes\n",
            "[[1. 2. 3.]\n",
            " [4. 5. 6.]]\n",
            "[1. 2. 3.]\n",
            "6.0\n"
          ]
        }
      ]
    },
    {
      "cell_type": "code",
      "metadata": {
        "id": "ymfSHAwtL9hj",
        "colab": {
          "base_uri": "https://localhost:8080/"
        },
        "outputId": "93ee7a24-2c31-4b99-94fa-43e057ec1a87"
      },
      "source": [
        "print(b.shape)\n",
        "print(b[0, 0], b[0, 1], b[1, 0])\n",
        "print(b[0][0], b[0][1], b[1][0])"
      ],
      "execution_count": null,
      "outputs": [
        {
          "output_type": "stream",
          "name": "stdout",
          "text": [
            "(2, 3)\n",
            "1.0 2.0 4.0\n",
            "1.0 2.0 4.0\n"
          ]
        }
      ]
    },
    {
      "cell_type": "code",
      "metadata": {
        "id": "TsDNV37pQ4xV",
        "colab": {
          "base_uri": "https://localhost:8080/"
        },
        "outputId": "0e9378f5-fb40-48cb-c662-43b3579fa7e0"
      },
      "source": [
        "a = np.array([[1,2,3],[4,5,6]])\n",
        "c = a.T # Transpose\n",
        "# Matlab: c = a';\n",
        "print(a.shape)\n",
        "print(c.shape)"
      ],
      "execution_count": null,
      "outputs": [
        {
          "output_type": "stream",
          "name": "stdout",
          "text": [
            "(2, 3)\n",
            "(3, 2)\n"
          ]
        }
      ]
    },
    {
      "cell_type": "code",
      "metadata": {
        "id": "SXMRlCtqRXRx",
        "colab": {
          "base_uri": "https://localhost:8080/"
        },
        "outputId": "e1b11104-2045-478b-b632-c25003e59dd3"
      },
      "source": [
        "a = np.array([[1,2,3]])\n",
        "c = a.T # Transpose\n",
        "print(a.shape)\n",
        "print(c.shape)"
      ],
      "execution_count": null,
      "outputs": [
        {
          "output_type": "stream",
          "name": "stdout",
          "text": [
            "(1, 3)\n",
            "(3, 1)\n"
          ]
        }
      ]
    },
    {
      "cell_type": "code",
      "metadata": {
        "id": "Ec5H65sGReEa",
        "colab": {
          "base_uri": "https://localhost:8080/"
        },
        "outputId": "dc273e19-cb06-4563-a073-c55ad2b86589"
      },
      "source": [
        "a = np.array([1,2,3])\n",
        "c = a.T # Transpose\n",
        "print(a.shape)\n",
        "print(c.shape)"
      ],
      "execution_count": null,
      "outputs": [
        {
          "output_type": "stream",
          "name": "stdout",
          "text": [
            "(3,)\n",
            "(3,)\n"
          ]
        }
      ]
    },
    {
      "cell_type": "markdown",
      "metadata": {
        "id": "s4EzV44gu51S"
      },
      "source": [
        "### Data types"
      ]
    },
    {
      "cell_type": "markdown",
      "metadata": {
        "id": "aYwqB8y1xNCl"
      },
      "source": [
        "Every numpy array is a grid of elements of the same type. Numpy provides a large set of numeric datatypes that you can use to construct arrays. Numpy tries to guess a datatype when you create an array, but functions that construct arrays usually also include an optional argument to explicitly specify the datatype. Here is an example:"
      ]
    },
    {
      "cell_type": "markdown",
      "metadata": {
        "id": "B_QaDKuqe2Dt"
      },
      "source": [
        "| Data type\t    | Description |\n",
        "|---------------|-------------|\n",
        "| ``bool_``     | Boolean (True or False) stored as a byte |\n",
        "| ``int_``      | Default integer type (same as C ``long``; normally either ``int64`` or ``int32``)| \n",
        "| ``intc``      | Identical to C ``int`` (normally ``int32`` or ``int64``)| \n",
        "| ``intp``      | Integer used for indexing (same as C ``ssize_t``; normally either ``int32`` or ``int64``)| \n",
        "| ``int8``      | Byte (-128 to 127)| \n",
        "| ``int16``     | Integer (-32768 to 32767)|\n",
        "| ``int32``     | Integer (-2147483648 to 2147483647)|\n",
        "| ``int64``     | Integer (-9223372036854775808 to 9223372036854775807)| \n",
        "| ``uint8``     | Unsigned integer (0 to 255)| \n",
        "| ``uint16``    | Unsigned integer (0 to 65535)| \n",
        "| ``uint32``    | Unsigned integer (0 to 4294967295)| \n",
        "| ``uint64``    | Unsigned integer (0 to 18446744073709551615)| \n",
        "| ``float_``    | Shorthand for ``float64``.| \n",
        "| ``float16``   | Half precision float: sign bit, 5 bits exponent, 10 bits mantissa| \n",
        "| ``float32``   | Single precision float: sign bit, 8 bits exponent, 23 bits mantissa| \n",
        "| ``float64``   | Double precision float: sign bit, 11 bits exponent, 52 bits mantissa| \n",
        "| ``complex_``  | Shorthand for ``complex128``.| \n",
        "| ``complex64`` | Complex number, represented by two 32-bit floats| \n",
        "| ``complex128``| Complex number, represented by two 64-bit floats| "
      ]
    },
    {
      "cell_type": "code",
      "metadata": {
        "id": "L4ZcpBj1xTyq",
        "colab": {
          "base_uri": "https://localhost:8080/"
        },
        "outputId": "64cea7e2-6be5-4994-9d68-4a6e1b470d9a"
      },
      "source": [
        "x = np.array([1, 2])  # Let numpy choose the datatype\n",
        "y = np.array([1.0, 2.0])  # Let numpy choose the datatype\n",
        "z = np.array([1, 2], dtype=np.int64)  # Force a particular datatype\n",
        "\n",
        "print(x.dtype, y.dtype, z.dtype)"
      ],
      "execution_count": null,
      "outputs": [
        {
          "output_type": "stream",
          "name": "stdout",
          "text": [
            "int64 float64 int64\n"
          ]
        }
      ]
    },
    {
      "cell_type": "markdown",
      "metadata": {
        "id": "7v1DgnkJgcJl"
      },
      "source": [
        "Keep in mind that, **unlike Python lists, NumPy arrays have a fixed type**. This means, for example, that if you attempt to insert a floating-point value to an integer array, the value will be silently truncated. Don't be caught unaware by this behavior!"
      ]
    },
    {
      "cell_type": "code",
      "metadata": {
        "id": "gKJHamJ_ggXd",
        "colab": {
          "base_uri": "https://localhost:8080/"
        },
        "outputId": "5790e3e1-a169-4515-ac63-ffc0aadcdb43"
      },
      "source": [
        "x = [1, 2, 3]\n",
        "# a = np.array(x, dtype=np.float64)  # Create a rank 1 array\n",
        "a = np.array(x)  # Create a rank 1 array\n",
        "a[0] = 3.9999999 # this will be truncated!\n",
        "print(a)"
      ],
      "execution_count": null,
      "outputs": [
        {
          "output_type": "stream",
          "name": "stdout",
          "text": [
            "[3 2 3]\n"
          ]
        }
      ]
    },
    {
      "cell_type": "markdown",
      "source": [
        "**<font color='red'> In-class Excercises: Find out how many bytes the following np array takes. Hint: size, itemsize, nbytes. </Font>**"
      ],
      "metadata": {
        "id": "rFOyncMnXJLU"
      }
    },
    {
      "cell_type": "code",
      "source": [
        "x = np.array([100,20,34], dtype=np.float32)\n",
        "print(\"Size of the array: \",  )"
      ],
      "metadata": {
        "colab": {
          "base_uri": "https://localhost:8080/"
        },
        "id": "SpH-0-V0W-Pc",
        "outputId": "2da8061a-2582-42d4-c544-b70ab7ac352d"
      },
      "execution_count": null,
      "outputs": [
        {
          "output_type": "stream",
          "name": "stdout",
          "text": [
            "Size of the array: \n"
          ]
        }
      ]
    },
    {
      "cell_type": "markdown",
      "metadata": {
        "id": "NX95jfXzvDWD"
      },
      "source": [
        "### Other ways to create NumPy arrays"
      ]
    },
    {
      "cell_type": "markdown",
      "metadata": {
        "id": "F2qwdyvuL9hn"
      },
      "source": [
        "Numpy also provides many functions to create arrays:"
      ]
    },
    {
      "cell_type": "code",
      "metadata": {
        "id": "mVTN_EBqL9hn",
        "colab": {
          "base_uri": "https://localhost:8080/"
        },
        "outputId": "83e93f28-ffe4-4fbd-b2a3-fc08d187586c"
      },
      "source": [
        "a = np.zeros((2,2))  # Create an array of all zeros\n",
        "print(a)"
      ],
      "execution_count": null,
      "outputs": [
        {
          "output_type": "stream",
          "name": "stdout",
          "text": [
            "[[0. 0.]\n",
            " [0. 0.]]\n"
          ]
        }
      ]
    },
    {
      "cell_type": "code",
      "metadata": {
        "id": "skiKlNmlL9h5",
        "colab": {
          "base_uri": "https://localhost:8080/"
        },
        "outputId": "6231f3c1-5c47-4f2f-957d-d9a57c47217b"
      },
      "source": [
        "b = np.ones((1,2))   # Create an array of all ones\n",
        "print(b)\n",
        "print(b.shape)"
      ],
      "execution_count": null,
      "outputs": [
        {
          "output_type": "stream",
          "name": "stdout",
          "text": [
            "[[1. 1.]]\n",
            "(1, 2)\n"
          ]
        }
      ]
    },
    {
      "cell_type": "code",
      "metadata": {
        "id": "-LLp33pCRI4K",
        "colab": {
          "base_uri": "https://localhost:8080/"
        },
        "outputId": "432ddd45-82b1-4296-e2df-3b8937eb8590"
      },
      "source": [
        "b = np.ones(2)   # Create an array of all ones\n",
        "print(b)\n",
        "print(b.shape)"
      ],
      "execution_count": null,
      "outputs": [
        {
          "output_type": "stream",
          "name": "stdout",
          "text": [
            "[1. 1.]\n",
            "(2,)\n"
          ]
        }
      ]
    },
    {
      "cell_type": "code",
      "metadata": {
        "id": "HtFsr03bL9h7",
        "colab": {
          "base_uri": "https://localhost:8080/"
        },
        "outputId": "081ff2e7-05f9-41ef-f7b8-992a0d25d04e"
      },
      "source": [
        "c = np.full((2,2), 7) # Create a constant array\n",
        "# c = np.ones((2,2))*7 # Create a constant array\n",
        "print(c)"
      ],
      "execution_count": null,
      "outputs": [
        {
          "output_type": "stream",
          "name": "stdout",
          "text": [
            "[[7 7]\n",
            " [7 7]]\n"
          ]
        }
      ]
    },
    {
      "cell_type": "code",
      "metadata": {
        "id": "-QcALHvkL9h9",
        "colab": {
          "base_uri": "https://localhost:8080/"
        },
        "outputId": "613af709-3542-4cf5-98c3-34d4edc8ffb5"
      },
      "source": [
        "d = np.eye(2)        # Create a 2x2 identity matrix\n",
        "print(d)"
      ],
      "execution_count": null,
      "outputs": [
        {
          "output_type": "stream",
          "name": "stdout",
          "text": [
            "[[1. 0.]\n",
            " [0. 1.]]\n"
          ]
        }
      ]
    },
    {
      "cell_type": "code",
      "metadata": {
        "id": "RCpaYg9qL9iA",
        "colab": {
          "base_uri": "https://localhost:8080/"
        },
        "outputId": "bc6bb1b1-3e58-4ce1-9275-dd404303d180"
      },
      "source": [
        "e = np.random.random(size=(2,2)) # Create an array filled with random values\n",
        "print(e)"
      ],
      "execution_count": null,
      "outputs": [
        {
          "output_type": "stream",
          "name": "stdout",
          "text": [
            "[[0.89651289 0.50638982]\n",
            " [0.23020318 0.28248024]]\n"
          ]
        }
      ]
    },
    {
      "cell_type": "code",
      "metadata": {
        "id": "SYws3pmwUOvN"
      },
      "source": [
        "import numpy.random as R"
      ],
      "execution_count": null,
      "outputs": []
    },
    {
      "cell_type": "code",
      "metadata": {
        "colab": {
          "base_uri": "https://localhost:8080/"
        },
        "id": "Mn5ZS-V5UXpw",
        "outputId": "49e8c040-a79f-4bb2-cf95-81f1723288e9"
      },
      "source": [
        "R.random(size=(2,2))"
      ],
      "execution_count": null,
      "outputs": [
        {
          "output_type": "execute_result",
          "data": {
            "text/plain": [
              "array([[0.48590078, 0.43886168],\n",
              "       [0.78204708, 0.88163098]])"
            ]
          },
          "metadata": {},
          "execution_count": 22
        }
      ]
    },
    {
      "cell_type": "code",
      "metadata": {
        "id": "CgRyDkTTUtEM"
      },
      "source": [
        "from numpy.random import random"
      ],
      "execution_count": null,
      "outputs": []
    },
    {
      "cell_type": "code",
      "metadata": {
        "colab": {
          "base_uri": "https://localhost:8080/"
        },
        "id": "4b7pPBlFUxrd",
        "outputId": "9be99aaf-8e66-4272-8a59-ab0022d742cc"
      },
      "source": [
        "random(size=(2,2))"
      ],
      "execution_count": null,
      "outputs": [
        {
          "output_type": "execute_result",
          "data": {
            "text/plain": [
              "array([[0.02371266, 0.33771083],\n",
              "       [0.23351158, 0.9664018 ]])"
            ]
          },
          "metadata": {},
          "execution_count": 24
        }
      ]
    },
    {
      "cell_type": "code",
      "metadata": {
        "id": "ha4LFUqUEWDV",
        "colab": {
          "base_uri": "https://localhost:8080/"
        },
        "outputId": "8aa560ff-2077-4cb5-d750-1178f0fd154f"
      },
      "source": [
        "# Generating random integers between 1 and 5 (including 5)\n",
        "b = np.random.randint(1, 6, size=(3, 4))\n",
        "print(b)"
      ],
      "execution_count": null,
      "outputs": [
        {
          "output_type": "stream",
          "name": "stdout",
          "text": [
            "[[1 5 2 1]\n",
            " [1 2 4 2]\n",
            " [5 2 2 2]]\n"
          ]
        }
      ]
    },
    {
      "cell_type": "code",
      "metadata": {
        "id": "zAIdMD6zE0OI",
        "colab": {
          "base_uri": "https://localhost:8080/"
        },
        "outputId": "ea41e233-9cbd-4b29-af83-26ed8e270eea"
      },
      "source": [
        "# Draw random samples from a normal (Gaussian) distribution\n",
        "# loc: Mean (“centre”) of the distribution.\n",
        "# scale: Standard deviation (spread or “width”) of the distribution.\n",
        "b = np.random.normal(loc=2, scale=2, size=(3, 4))\n",
        "print(b)"
      ],
      "execution_count": null,
      "outputs": [
        {
          "output_type": "stream",
          "name": "stdout",
          "text": [
            "[[-4.23980844  1.20979139  3.26653074 -0.22587264]\n",
            " [ 6.32195286  0.3191488   0.84333051  3.17277635]\n",
            " [ 4.28059081  2.69224256  3.20059253 -0.74128089]]\n"
          ]
        }
      ]
    },
    {
      "cell_type": "code",
      "metadata": {
        "id": "bH_xFi3DEu4Z",
        "colab": {
          "base_uri": "https://localhost:8080/"
        },
        "outputId": "f0ac1223-2891-4334-a360-a0f6e1800f84"
      },
      "source": [
        "# Draw random samples from a normal (Gaussian) distribution\n",
        "a = np.random.normal(size=3) # by default, loc=0.0, scale=1.0, \n",
        "print(a)"
      ],
      "execution_count": null,
      "outputs": [
        {
          "output_type": "stream",
          "name": "stdout",
          "text": [
            "[0.06259502 0.93698818 0.50798108]\n"
          ]
        }
      ]
    },
    {
      "cell_type": "markdown",
      "metadata": {
        "id": "dg4YpX2lDqgN"
      },
      "source": [
        "You also use **arange** to create an array of evenly spaced values. \n",
        "\n",
        "It is very similar to **range** function of Python. \n",
        "\n",
        "Its syntas is: **numpy.arange(start, stop, step, dtype)**\n"
      ]
    },
    {
      "cell_type": "code",
      "metadata": {
        "id": "7stY6pvuImWS",
        "colab": {
          "base_uri": "https://localhost:8080/"
        },
        "outputId": "93ff39d9-dc0d-4202-9f9b-76dc990fa811"
      },
      "source": [
        "a = np.arange(5)  # if start is omitted, defaults to 0\n",
        "print(a)"
      ],
      "execution_count": null,
      "outputs": [
        {
          "output_type": "stream",
          "name": "stdout",
          "text": [
            "[0 1 2 3 4]\n"
          ]
        }
      ]
    },
    {
      "cell_type": "code",
      "metadata": {
        "id": "dlK37eVCDvkR",
        "colab": {
          "base_uri": "https://localhost:8080/"
        },
        "outputId": "bb92c20b-9f8c-44c3-8a38-4483ca7a8979"
      },
      "source": [
        "a = np.arange(1, 3)  # if step is omitted, defaults to 1\n",
        "print(a)"
      ],
      "execution_count": null,
      "outputs": [
        {
          "output_type": "stream",
          "name": "stdout",
          "text": [
            "[1 2]\n"
          ]
        }
      ]
    },
    {
      "cell_type": "code",
      "metadata": {
        "id": "TjzJmoNDDy-o",
        "colab": {
          "base_uri": "https://localhost:8080/"
        },
        "outputId": "41eff379-92e9-43e7-b991-d9fd2f8d618d"
      },
      "source": [
        "b = np.arange(1, 3, 0.1)  # step size = 0.1\n",
        "print(b)"
      ],
      "execution_count": null,
      "outputs": [
        {
          "output_type": "stream",
          "name": "stdout",
          "text": [
            "[1.  1.1 1.2 1.3 1.4 1.5 1.6 1.7 1.8 1.9 2.  2.1 2.2 2.3 2.4 2.5 2.6 2.7\n",
            " 2.8 2.9]\n"
          ]
        }
      ]
    },
    {
      "cell_type": "code",
      "metadata": {
        "id": "Yn49GwOQD5Ae",
        "colab": {
          "base_uri": "https://localhost:8080/"
        },
        "outputId": "b5b1d622-6526-436a-8e9b-08222a73e98c"
      },
      "source": [
        "c = np.arange(6, 9, dtype=np.float64)\n",
        "# c = np.arange(6, 9, dtype=float) # not recommended\n",
        "print(c)\n",
        "print(c.dtype)"
      ],
      "execution_count": null,
      "outputs": [
        {
          "output_type": "stream",
          "name": "stdout",
          "text": [
            "[6. 7. 8.]\n",
            "float64\n"
          ]
        }
      ]
    },
    {
      "cell_type": "code",
      "metadata": {
        "id": "J-3aU1TJejEt",
        "colab": {
          "base_uri": "https://localhost:8080/"
        },
        "outputId": "4e52fbe3-3c04-46fe-a6af-e36ec863a658"
      },
      "source": [
        "# Create an array of five values evenly spaced between 0 and 1\n",
        "print(np.linspace(0, 1, 5))"
      ],
      "execution_count": null,
      "outputs": [
        {
          "output_type": "stream",
          "name": "stdout",
          "text": [
            "[0.   0.25 0.5  0.75 1.  ]\n"
          ]
        }
      ]
    },
    {
      "cell_type": "markdown",
      "metadata": {
        "id": "YnPAIf2AvK32"
      },
      "source": [
        "### Reshape Arrays"
      ]
    },
    {
      "cell_type": "markdown",
      "metadata": {
        "id": "IevQrzfjuNfF"
      },
      "source": [
        "Another useful type of operation is reshaping of arrays.\n",
        "\n",
        "The most flexible way of doing this is with the ``reshape`` method.\n",
        "\n",
        "For example, if you want to put the numbers 1 through 9 in a $3 \\times 3$ grid, you can do the following:"
      ]
    },
    {
      "cell_type": "code",
      "metadata": {
        "id": "bZy3CqD9uNfH",
        "colab": {
          "base_uri": "https://localhost:8080/"
        },
        "outputId": "c4ad1c7d-7514-498a-9c21-fa6489e1d427"
      },
      "source": [
        "vector = np.arange(1, 10)\n",
        "print(vector)\n",
        "grid = vector.reshape((3, 3))\n",
        "print(grid)\n",
        "\n",
        "grid[0,0]=100\n",
        "print(grid)\n",
        "print(vector)"
      ],
      "execution_count": null,
      "outputs": [
        {
          "output_type": "stream",
          "name": "stdout",
          "text": [
            "[1 2 3 4 5 6 7 8 9]\n",
            "[[1 2 3]\n",
            " [4 5 6]\n",
            " [7 8 9]]\n",
            "[[100   2   3]\n",
            " [  4   5   6]\n",
            " [  7   8   9]]\n",
            "[100   2   3   4   5   6   7   8   9]\n"
          ]
        }
      ]
    },
    {
      "cell_type": "code",
      "metadata": {
        "id": "TiM4exnGGWYa",
        "colab": {
          "base_uri": "https://localhost:8080/"
        },
        "outputId": "86fd2f5e-4a4c-4905-bc6c-6b389fd70628"
      },
      "source": [
        "a = np.array([[1,2,3],\n",
        "              [4,5,6]]) \n",
        "print('a shape: ', a.shape)\n",
        "print(a)\n",
        "\n",
        "print('')\n",
        "b = a.reshape(3,2) \n",
        "print('b shape: ', b.shape)\n",
        "print(b)\n",
        "\n",
        "print('')\n",
        "c = a.reshape(3,-1) # -1: the value is inferred from the length of the array and remaining dimensions\n",
        "print('c shape: ', c.shape)\n",
        "print(c)"
      ],
      "execution_count": null,
      "outputs": [
        {
          "output_type": "stream",
          "name": "stdout",
          "text": [
            "a shape:  (2, 3)\n",
            "[[1 2 3]\n",
            " [4 5 6]]\n",
            "\n",
            "b shape:  (3, 2)\n",
            "[[1 2]\n",
            " [3 4]\n",
            " [5 6]]\n",
            "\n",
            "c shape:  (3, 2)\n",
            "[[1 2]\n",
            " [3 4]\n",
            " [5 6]]\n"
          ]
        }
      ]
    },
    {
      "cell_type": "markdown",
      "metadata": {
        "id": "VhM3Va6qw2dw"
      },
      "source": [
        "Another common reshaping pattern is the conversion of a one-dimensional array into a two-dimensional row or column matrix.\n",
        "This can be done with the ``reshape`` method, or more easily done by making use of the ``newaxis`` keyword within a slice operation:"
      ]
    },
    {
      "cell_type": "code",
      "metadata": {
        "id": "0Xovr7Eovlp9",
        "colab": {
          "base_uri": "https://localhost:8080/"
        },
        "outputId": "9bace8e6-b1c9-4e00-e515-72bd3a7aa157"
      },
      "source": [
        "a = np.array([1, 2, 3])\n",
        "print('shape before reshape: ', a.shape)\n",
        "print(a)\n",
        "\n",
        "b = a.reshape((1, 3))\n",
        "print('shape after reshape: ', b.shape)\n",
        "print(b)\n",
        "\n",
        "c = a.reshape((3, 1))\n",
        "print('shape after reshape: ', c.shape)\n",
        "print(c)"
      ],
      "execution_count": null,
      "outputs": [
        {
          "output_type": "stream",
          "name": "stdout",
          "text": [
            "shape before reshape:  (3,)\n",
            "[1 2 3]\n",
            "shape after reshape:  (1, 3)\n",
            "[[1 2 3]]\n",
            "shape after reshape:  (3, 1)\n",
            "[[1]\n",
            " [2]\n",
            " [3]]\n"
          ]
        }
      ]
    },
    {
      "cell_type": "code",
      "metadata": {
        "id": "jncPutQFwi82",
        "colab": {
          "base_uri": "https://localhost:8080/"
        },
        "outputId": "cdec4a57-ef3f-4563-b23d-b4b37b317fde"
      },
      "source": [
        "# Add a new dimension (as the first dimension)\n",
        "print('shape = ', a.shape)\n",
        "print('a =', a)\n",
        "print('')\n",
        "\n",
        "b = a[np.newaxis, :]\n",
        "print('shape = ', b.shape)\n",
        "print('b =', b)"
      ],
      "execution_count": null,
      "outputs": [
        {
          "output_type": "stream",
          "name": "stdout",
          "text": [
            "shape =  (3,)\n",
            "a = [1 2 3]\n",
            "\n",
            "shape =  (1, 3)\n",
            "b = [[1 2 3]]\n"
          ]
        }
      ]
    },
    {
      "cell_type": "code",
      "metadata": {
        "id": "OwKTGDNZwqDC",
        "colab": {
          "base_uri": "https://localhost:8080/"
        },
        "outputId": "a1e95e73-3cb0-4e92-e7b9-30d532a87b8b"
      },
      "source": [
        "# Add a new dimension (as the second dimension)\n",
        "print('shape = ', a.shape)\n",
        "print('a =', a)\n",
        "print('')\n",
        "\n",
        "# b = a[:, np.newaxis, :] \n",
        "b = a[:, np.newaxis] \n",
        "print('shape = ', b.shape)\n",
        "print('b =', b)"
      ],
      "execution_count": null,
      "outputs": [
        {
          "output_type": "stream",
          "name": "stdout",
          "text": [
            "shape =  (3,)\n",
            "a = [1 2 3]\n",
            "\n",
            "shape =  (3, 1)\n",
            "b = [[1]\n",
            " [2]\n",
            " [3]]\n"
          ]
        }
      ]
    },
    {
      "cell_type": "code",
      "metadata": {
        "id": "ugS-ySywcQBE",
        "colab": {
          "base_uri": "https://localhost:8080/"
        },
        "outputId": "f6955af3-1191-4384-91f1-46595df8cc6a"
      },
      "source": [
        "# Add a new dimension (as the last dimension)\n",
        "print('shape = ', a.shape)\n",
        "print('a =', a)\n",
        "print('')\n",
        "\n",
        "# b = a[:, :, np.newaxis] \n",
        "b = a[:, np.newaxis] \n",
        "print('shape = ', b.shape)\n",
        "print('b =', b)"
      ],
      "execution_count": null,
      "outputs": [
        {
          "output_type": "stream",
          "name": "stdout",
          "text": [
            "shape =  (3,)\n",
            "a = [1 2 3]\n",
            "\n",
            "shape =  (3, 1)\n",
            "b = [[1]\n",
            " [2]\n",
            " [3]]\n"
          ]
        }
      ]
    },
    {
      "cell_type": "markdown",
      "metadata": {
        "id": "SSdxnmU33575"
      },
      "source": [
        "### Transpose"
      ]
    },
    {
      "cell_type": "code",
      "metadata": {
        "id": "09-o3sIl39fy",
        "colab": {
          "base_uri": "https://localhost:8080/"
        },
        "outputId": "49c37f49-d205-4e95-f4fe-4ad8e3ab46c8"
      },
      "source": [
        "# a = np.random.randint(5, size = (3, 5))\n",
        "a = np.arange(1, 16).reshape((3, 5))\n",
        "print(a, \"\\n\")\n",
        "b = np.transpose(a)\n",
        "# b = a.T\n",
        "print(b, \"\\n\")"
      ],
      "execution_count": null,
      "outputs": [
        {
          "output_type": "stream",
          "name": "stdout",
          "text": [
            "[[ 1  2  3  4  5]\n",
            " [ 6  7  8  9 10]\n",
            " [11 12 13 14 15]] \n",
            "\n",
            "[[ 1  6 11]\n",
            " [ 2  7 12]\n",
            " [ 3  8 13]\n",
            " [ 4  9 14]\n",
            " [ 5 10 15]] \n",
            "\n"
          ]
        }
      ]
    },
    {
      "cell_type": "code",
      "metadata": {
        "id": "oiEMqBaj4hfX",
        "colab": {
          "base_uri": "https://localhost:8080/"
        },
        "outputId": "7c5a4eef-48a9-4492-a746-6c711c9b92e2"
      },
      "source": [
        "a = np.arange(1, 121).reshape((3, 4, 5, 2))\n",
        "# print(a, \"\\n\")\n",
        "print(a.shape, \"\\n\")\n",
        "\n",
        "b = np.transpose(a)\n",
        "# print(b, \"\\n\")\n",
        "print(b.shape, \"\\n\")"
      ],
      "execution_count": null,
      "outputs": [
        {
          "output_type": "stream",
          "name": "stdout",
          "text": [
            "(3, 4, 5, 2) \n",
            "\n",
            "(2, 5, 4, 3) \n",
            "\n"
          ]
        }
      ]
    },
    {
      "cell_type": "markdown",
      "metadata": {
        "id": "riTi82ko5Sn4"
      },
      "source": [
        "### Flatten"
      ]
    },
    {
      "cell_type": "code",
      "metadata": {
        "id": "fsL8NN4k5Gk9",
        "colab": {
          "base_uri": "https://localhost:8080/"
        },
        "outputId": "2b3926a3-1bf4-4324-947d-40ef0d8082c7"
      },
      "source": [
        "a = np.arange(1, 61).reshape((3, 4, 5))\n",
        "print(a, \"\\n\")\n",
        "print(a.shape, \"\\n\")\n",
        "\n",
        "flattened_array = a.flatten()\n",
        "print(flattened_array, \"\\n\", \n",
        "      \"The dimension of the flattened array is:\", \n",
        "      flattened_array.shape, \"\\n\")\n",
        "\n",
        "print(a.shape)\n",
        "\n",
        "flattened_array[0] = 100\n",
        "print(flattened_array)\n",
        "print(a[0,0,0])"
      ],
      "execution_count": null,
      "outputs": [
        {
          "output_type": "stream",
          "name": "stdout",
          "text": [
            "[[[ 1  2  3  4  5]\n",
            "  [ 6  7  8  9 10]\n",
            "  [11 12 13 14 15]\n",
            "  [16 17 18 19 20]]\n",
            "\n",
            " [[21 22 23 24 25]\n",
            "  [26 27 28 29 30]\n",
            "  [31 32 33 34 35]\n",
            "  [36 37 38 39 40]]\n",
            "\n",
            " [[41 42 43 44 45]\n",
            "  [46 47 48 49 50]\n",
            "  [51 52 53 54 55]\n",
            "  [56 57 58 59 60]]] \n",
            "\n",
            "(3, 4, 5) \n",
            "\n",
            "[ 1  2  3  4  5  6  7  8  9 10 11 12 13 14 15 16 17 18 19 20 21 22 23 24\n",
            " 25 26 27 28 29 30 31 32 33 34 35 36 37 38 39 40 41 42 43 44 45 46 47 48\n",
            " 49 50 51 52 53 54 55 56 57 58 59 60] \n",
            " The dimension of the flattened array is: (60,) \n",
            "\n",
            "(3, 4, 5)\n",
            "[100   2   3   4   5   6   7   8   9  10  11  12  13  14  15  16  17  18\n",
            "  19  20  21  22  23  24  25  26  27  28  29  30  31  32  33  34  35  36\n",
            "  37  38  39  40  41  42  43  44  45  46  47  48  49  50  51  52  53  54\n",
            "  55  56  57  58  59  60]\n",
            "1\n"
          ]
        }
      ]
    },
    {
      "cell_type": "markdown",
      "metadata": {
        "id": "v_ILz6WU5lhI"
      },
      "source": [
        "### Squeeze"
      ]
    },
    {
      "cell_type": "markdown",
      "metadata": {
        "id": "2McNDASk6EcH"
      },
      "source": [
        "Remove single-dimensional entries from the shape of an array."
      ]
    },
    {
      "cell_type": "code",
      "metadata": {
        "id": "R4JUUQdv5tz7",
        "colab": {
          "base_uri": "https://localhost:8080/"
        },
        "outputId": "ce7f5d45-2f8c-4fa0-cc46-921393522682"
      },
      "source": [
        "a = np.array([[[0], [1], [2]]])\n",
        "print(a)\n",
        "\n",
        "print('\\n shape:', a.shape)\n",
        "\n",
        "squeezed_array = np.squeeze(a)\n",
        "print(\"\\nThe squeezed array is \\n\",  squeezed_array, \n",
        "      \"\\n and the dimension is\", squeezed_array.shape)\n",
        "\n",
        "squeezed_array = np.squeeze(a, axis=0)\n",
        "print(\"\\nThe squeezed array is \\n\",  squeezed_array, \n",
        "      \"\\n and the dimension is\", squeezed_array.shape)\n",
        "\n",
        "squeezed_array = np.squeeze(a, axis=2)\n",
        "print(\"\\nThe squeezed array is \\n\",  squeezed_array, \n",
        "      \"\\n and the dimension is\", squeezed_array.shape)"
      ],
      "execution_count": null,
      "outputs": [
        {
          "output_type": "stream",
          "name": "stdout",
          "text": [
            "[[[0]\n",
            "  [1]\n",
            "  [2]]]\n",
            "\n",
            " shape: (1, 3, 1)\n",
            "\n",
            "The squeezed array is \n",
            " [0 1 2] \n",
            " and the dimension is (3,)\n",
            "\n",
            "The squeezed array is \n",
            " [[0]\n",
            " [1]\n",
            " [2]] \n",
            " and the dimension is (3, 1)\n",
            "\n",
            "The squeezed array is \n",
            " [[0 1 2]] \n",
            " and the dimension is (1, 3)\n"
          ]
        }
      ]
    },
    {
      "cell_type": "markdown",
      "source": [
        "<font color=\"red\">In-class excercises: What is/are the advantage(s) of NumPy Arrays over classic Python lists? </font>\n",
        "\n",
        "1. Insertion, concatenation and deletion are faster.\n",
        "1. It has better support for mathematical operations.\n",
        "1. They consume less memory.\n",
        "1. All of these answers."
      ],
      "metadata": {
        "id": "8rvvUzDIerHB"
      }
    },
    {
      "cell_type": "markdown",
      "source": [
        "<font color=\"red\">What is printed? </font>"
      ],
      "metadata": {
        "id": "j4xb9pPnfme_"
      }
    },
    {
      "cell_type": "code",
      "source": [
        "ary = np.array([1,2,3,5,8])\n",
        "ary = ary + 1\n",
        "print (ary)"
      ],
      "metadata": {
        "colab": {
          "base_uri": "https://localhost:8080/"
        },
        "id": "uIN3aHOyfphx",
        "outputId": "de3ca8e5-1524-4d02-dd49-1ba7515e06e5"
      },
      "execution_count": null,
      "outputs": [
        {
          "output_type": "stream",
          "name": "stdout",
          "text": [
            "[2 3 4 6 9]\n"
          ]
        }
      ]
    },
    {
      "cell_type": "markdown",
      "source": [
        "<font color=\"red\">What is printed? </font>"
      ],
      "metadata": {
        "id": "fOtBm1rXf0lZ"
      }
    },
    {
      "cell_type": "code",
      "source": [
        "a = np.array([1,2,3,5,8])\n",
        "b = np.array([0,3,4,2,1])\n",
        "c = a + b\n",
        "c = c*a\n",
        "\n",
        "print (c)"
      ],
      "metadata": {
        "colab": {
          "base_uri": "https://localhost:8080/"
        },
        "id": "X9Qo6t9bfzlS",
        "outputId": "84a66577-07ed-4a01-e331-054bc27e1afc"
      },
      "execution_count": null,
      "outputs": [
        {
          "output_type": "stream",
          "name": "stdout",
          "text": [
            "[ 1 10 21 35 72]\n"
          ]
        }
      ]
    },
    {
      "cell_type": "markdown",
      "metadata": {
        "id": "jI5qcSDfL9iC"
      },
      "source": [
        "##Array indexing"
      ]
    },
    {
      "cell_type": "markdown",
      "metadata": {
        "id": "2iPBto_8jcAR"
      },
      "source": [
        "### One-dimensional subarrays"
      ]
    },
    {
      "cell_type": "markdown",
      "source": [
        "![image.png](data:image/png;base64,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)"
      ],
      "metadata": {
        "id": "d31gLCvQkZLS"
      }
    },
    {
      "cell_type": "markdown",
      "metadata": {
        "id": "dTR_PfHdhNNl"
      },
      "source": [
        "The NumPy slicing syntax follows that of the standard Python list; to access a slice of an array ``x``, use this:\n",
        "``` python\n",
        "x[start:stop:step]\n",
        "```\n",
        "If any of these are unspecified, they default to the values ``start=0``, ``stop=``*``size of dimension``*, ``step=1``.\n",
        "We'll take a look at accessing sub-arrays in one dimension and in multiple dimensions."
      ]
    },
    {
      "cell_type": "code",
      "metadata": {
        "id": "8wCvu7R5il_O",
        "colab": {
          "base_uri": "https://localhost:8080/"
        },
        "outputId": "fd2bc26f-0923-47e6-fad6-0e6c99314584"
      },
      "source": [
        "a = np.arange(10) \n",
        "print(a)"
      ],
      "execution_count": null,
      "outputs": [
        {
          "output_type": "stream",
          "name": "stdout",
          "text": [
            "[0 1 2 3 4 5 6 7 8 9]\n"
          ]
        }
      ]
    },
    {
      "cell_type": "code",
      "source": [
        "print (a.ndim)"
      ],
      "metadata": {
        "colab": {
          "base_uri": "https://localhost:8080/"
        },
        "id": "rJfzR3bPgJQh",
        "outputId": "597c7401-af79-4420-b9ad-a2a1edfc3269"
      },
      "execution_count": null,
      "outputs": [
        {
          "output_type": "stream",
          "name": "stdout",
          "text": [
            "1\n"
          ]
        }
      ]
    },
    {
      "cell_type": "code",
      "source": [
        "print (a.size)"
      ],
      "metadata": {
        "colab": {
          "base_uri": "https://localhost:8080/"
        },
        "id": "hPMzg5-ogMTw",
        "outputId": "4cb37562-5c20-40ab-ad56-8cc42cb8050d"
      },
      "execution_count": null,
      "outputs": [
        {
          "output_type": "stream",
          "name": "stdout",
          "text": [
            "10\n"
          ]
        }
      ]
    },
    {
      "cell_type": "code",
      "source": [
        "print (a.shape)"
      ],
      "metadata": {
        "colab": {
          "base_uri": "https://localhost:8080/"
        },
        "id": "PFA87nLZgWRf",
        "outputId": "9281ffe5-df45-40a8-b5a3-d825f1738506"
      },
      "execution_count": null,
      "outputs": [
        {
          "output_type": "stream",
          "name": "stdout",
          "text": [
            "(10,)\n"
          ]
        }
      ]
    },
    {
      "cell_type": "code",
      "metadata": {
        "id": "1XATG-LlLPnV",
        "colab": {
          "base_uri": "https://localhost:8080/"
        },
        "outputId": "0059e3b9-3b19-4067-b598-8e6d4e3ff5c0"
      },
      "source": [
        "# If only one parameter is put, a single item corresponding to the index will be returned. \n",
        "b = a[2] \n",
        "print(b)"
      ],
      "execution_count": null,
      "outputs": [
        {
          "output_type": "stream",
          "name": "stdout",
          "text": [
            "2\n"
          ]
        }
      ]
    },
    {
      "cell_type": "code",
      "metadata": {
        "id": "R7WwEUXdM_2h",
        "colab": {
          "base_uri": "https://localhost:8080/"
        },
        "outputId": "fa7da76f-4391-4b8f-8810-f62c57752f28"
      },
      "source": [
        "# If two parameters (with : between them) is used, items between the two indexes (not including the stop index) with default step one are sliced.\n",
        "b = a[2:8:2] \n",
        "print(b)"
      ],
      "execution_count": null,
      "outputs": [
        {
          "output_type": "stream",
          "name": "stdout",
          "text": [
            "[2 4 6]\n"
          ]
        }
      ]
    },
    {
      "cell_type": "code",
      "metadata": {
        "id": "9XgpfAB-iCWW",
        "colab": {
          "base_uri": "https://localhost:8080/"
        },
        "outputId": "87b30a41-b122-4d44-8525-307582c9a02a"
      },
      "source": [
        "b = a[2:8]  # Step is omitted, step = 1\n",
        "print(b)"
      ],
      "execution_count": null,
      "outputs": [
        {
          "output_type": "stream",
          "name": "stdout",
          "text": [
            "[2 3 4 5 6 7]\n"
          ]
        }
      ]
    },
    {
      "cell_type": "code",
      "metadata": {
        "id": "KJsacNkZNCt3",
        "colab": {
          "base_uri": "https://localhost:8080/"
        },
        "outputId": "73f54f14-39ad-4e95-a13d-0833e2836dd8"
      },
      "source": [
        "# If : is inserted in front of an index, all items before that index (not including that index) will be extracted. \n",
        "\n",
        "# First two elements\n",
        "b = a[:2]  # start and step are omitted, start = 0, step = 1\n",
        "print(b)"
      ],
      "execution_count": null,
      "outputs": [
        {
          "output_type": "stream",
          "name": "stdout",
          "text": [
            "[0 1]\n"
          ]
        }
      ]
    },
    {
      "cell_type": "code",
      "metadata": {
        "id": "-gQJifrtM-ay",
        "colab": {
          "base_uri": "https://localhost:8080/"
        },
        "outputId": "6f946518-9870-4d8c-a8b2-0e28eec2ac7a"
      },
      "source": [
        "# If : is inserted after an index, all items from after that index (including that index)  will be extracted. \n",
        "\n",
        "# Elements after index 2\n",
        "b = a[2:] # stop and step are omitted, end = last, step = 1\n",
        "print(b)"
      ],
      "execution_count": null,
      "outputs": [
        {
          "output_type": "stream",
          "name": "stdout",
          "text": [
            "[2 3 4 5 6 7 8 9]\n"
          ]
        }
      ]
    },
    {
      "cell_type": "code",
      "metadata": {
        "id": "bEp-kVHhiSLm",
        "colab": {
          "base_uri": "https://localhost:8080/"
        },
        "outputId": "f11d9343-b274-4b32-cd42-59ef8ee62920"
      },
      "source": [
        "b = a[::2]  # every other element\n",
        "print(b)"
      ],
      "execution_count": null,
      "outputs": [
        {
          "output_type": "stream",
          "name": "stdout",
          "text": [
            "[0 2 4 6 8]\n"
          ]
        }
      ]
    },
    {
      "cell_type": "code",
      "metadata": {
        "id": "UgC8GvfwiXzn",
        "colab": {
          "base_uri": "https://localhost:8080/"
        },
        "outputId": "d3c7dbab-06ff-4aae-c58c-471c4c6b94de"
      },
      "source": [
        "b = a[1::2]  # every other element, starting at index 1\n",
        "print(b)"
      ],
      "execution_count": null,
      "outputs": [
        {
          "output_type": "stream",
          "name": "stdout",
          "text": [
            "[1 3 5 7 9]\n"
          ]
        }
      ]
    },
    {
      "cell_type": "markdown",
      "metadata": {
        "id": "oPzkXARAi-An"
      },
      "source": [
        "A potentially confusing case is when the ``step`` value is negative.\n",
        "**In this case, the defaults for ``start`` and ``stop`` are swapped.**\n",
        "This becomes a convenient way to reverse an array:"
      ]
    },
    {
      "cell_type": "code",
      "metadata": {
        "id": "J8IElweKic-9",
        "colab": {
          "base_uri": "https://localhost:8080/"
        },
        "outputId": "fc5eb1ff-f1d9-4a37-c57e-2e1390b9246e"
      },
      "source": [
        "b = a[::-1]  # reverse the order\n",
        "print(b)"
      ],
      "execution_count": null,
      "outputs": [
        {
          "output_type": "stream",
          "name": "stdout",
          "text": [
            "[9 8 7 6 5 4 3 2 1 0]\n"
          ]
        }
      ]
    },
    {
      "cell_type": "code",
      "metadata": {
        "id": "dwzDCbOyjDDe",
        "colab": {
          "base_uri": "https://localhost:8080/"
        },
        "outputId": "82c33ff9-cc3f-4c6f-ec22-0f049c492574"
      },
      "source": [
        "b = a[5::-2]  # reversed every other from index 5\n",
        "print(b)"
      ],
      "execution_count": null,
      "outputs": [
        {
          "output_type": "stream",
          "name": "stdout",
          "text": [
            "[5 3 1]\n"
          ]
        }
      ]
    },
    {
      "cell_type": "markdown",
      "metadata": {
        "id": "oDkD-f7Yjjvp"
      },
      "source": [
        "### Two-dimensional subarrays"
      ]
    },
    {
      "cell_type": "markdown",
      "source": [
        "![image.png](data:image/png;base64,iVBORw0KGgoAAAANSUhEUgAAA8QAAAMzCAYAAABgO9tWAAAgAElEQVR4nOzde1xU1d4/8M+DIAzQyNULF0GRAou0VBD00OOdEs2ORyNLT9TJHm+V3dPnPGr9Oke7nvL2Sy07oj4oWaRoXuGXBsiIJuKFHAdB7gIzOILDCNLvj2lvGBhggJkRnM/79fL1cmaz16w1a++91nfttdf8x++///47iIiIiIiIiKyMzd3OABEREREREdHdwICYiIiIiIiIrBIDYiIiIiIiIrJKDIiJiIiIiIjIKjEgJiIiIiIiIqvEgJiIiIiIiIisEgNiIiIiIiIiskoMiImIiIiIiMgqMSAmIiIiIiIiq8SAmIiIiIiIiKwSA2IiIiIiIiKySgyIiYiIiIiIyCoxICYiIiIiIiKrZHu3M0CmlZaWBk9PTwQGBt7trBARALlcjvLyckRERJg0XaVSiePHfwYAPPjgQy3OeY1GA4lEovdeYuIPAIC+ffuZPD9EPYVw7syY8ZRZ0gWAyMjH4ObmZtL009LScP16GQCYPO9E3Vli4g9mOadM0SYWFRXh1q1bLdpguVyOCxfOAzDP9YBMi3eI7zFJSfvEE7AtaWlp2L49zgI5IrJuFy6cR1LSPqP+dtmy91BUVGTU31ZWVmLJ4oU4dOgQysvLxfflcjmWLXsP9wcOxsaNG6BUKsVtMpkMO3fuNDo/RPci4dwxRmfOSZlMBo1GA0DX1s6ePQu+PgPg6zOg03kGgNxcBQ4dOmR03onuFUsWL0RlZWW7f9fRvu2SxQtRUlLS6XzNnj0Lo8NGYvy4SERGjsXGjRsMfoYxeae7iwGxlbp+vQwXL16829kgoibitn2LW7dudWif119/QxzZlsvlGD8uEr6+vkhOOY5z585hxozp4t/+4x//xJw5c0yaZ6J7WWfOyX/845/w9vYGADg5OWHOnDn4Zuu2Lufluefm4vXX3+hyOkT3qs70bSdOnNTpu8Nz5sxB1rkLuCzPxeuvv4F/fPiBOAgdGBjImRw9CAPiHk64G+TrMwDLlr0HlUolbktLS0Nk5Fj4+gzA7NmzxFEzuVyOJYsXIm7bt3qj1tu3x4mvFyz4L6Slpd2VMhH1ZBqN5o/pXWOxYMF/4bfffhO3KZVKrFmzGpGRY8VzUmg8hfPzs88+xbJl7yEtLQ1KpVI8v4W/F+48GZKRcRLhEWOxYMFCBAYG4r//+++4mquAXC43b6GJujGNRoONGzeI7dvRo0f0ti9Y8F/itjVrVovny7Jl7wGAbpDJZwASE39AUVGR3h3fNWtW683CaG7YsGGYMeMp+Pv7dzjfcrlcnNJJZE2azqxofte1aV919uxZOHJEdz4nJv6g17cVzt+m5/eCBf+FrKysNj87MfEHo9vMGTOegpubGyQSCaZMiQIAnD59uqPFpW6AAXEPVlRUhPHjItGnTx8kpxxHnz59kLTvR3G7p6cn1q5dj6xzF7B8+X/jvXffhlwuR2BgINau24C5855HQWEJCgp100UGDw5AcspxZJ27gClTpuDp2TPb7HwTUUuvv74UO3fuxOrVH2HKlClYt/YLcZtGo8EDDzyAr7/eiuXL/xupqanYtSseADBu3HgAwJ//PBOxsS8gKCgIGo0GoaGhSE45jtdeW4q9e/diz57vWv3sixcvYsiQIeJr4S6VMY9REN2rvvzyC6SkpCA55Th27d6DlJQUve1z587DZXkuss5dAAB8//0eALo7vQCQnHIcBYUlmDHjKUgkEixf/t8oKCzByYxMnD59GgcO7DdLvi9cOM/p0WR10tLS8PTsmXjttaU4mZGJgoICve0hIQ+Ld2Vfe20pXoidB41GgxkzntLr2wrnb9Pze8yYMfi//3djm5+/ZPHCTrWZhw4dBACMGDGiw/vS3ceAuAc7dUoGAHjllVcRGBiIl16ar7c9MDAQNTU1OH78Z1y9movwiLHIyDjZanrClBFhURAA+PXXX82Qc6J7k1KpRNK+H/HSS/MRERGBGTOewtx5z4vbvb29xSlUV6/mwt/fH//7vzvFbQDg7++PwMBAuLm56f399etlGDJkCPbu3WvhUhH1bOvWfoHp06cjMDAQERERGDdunN72oKAg/Prrrzh+/GdIpVKsW/tFq4PBbm5u8PDwwJEjR3DqlMys5+SMGU+JA9ZE1uLEieMIjxiLiIgIeHt74+mnY/S233///SgoKMChQwfFReba6qs2Pb9v3ryJpH0/tjmrQxj86oi0tDQsWbwQ/1z9ERfP6qEYEPdwgwYHiCvJurm5YdDgAHFbYuIPePfdt/WmbLb1bMWyZe9h+fJlen8vXGyIqH3CwhlNp0eGhoaK/9doNIiMHIsXX4yFTCZDXl4eruYqWk1PqVTC12cAli9fBplMhitXriA97ZcO58vJybnD+xDdS5ydG8+BAQMaF7fSaDQY9vCDiIvTf8a3sLDQYDpyuRyjw0bizJnGaZGdOSeJyLAbN27ozXTy9fXV2/7BB+/jww//j95iWG31VWfMmN7i/DblIldZWVl4evZMLFv+dzz33FyTpUuWxZ9d6sGcnJxxNVcBpVIJNzc3FBUV6XWuP/vsU/z97yswadIk8XXTi8yVK1fE/yuVSsRt+xZJ+w9i2LBhRq+qSUSN3N3dAQB5eXniTzDIZDJx+y+/6DrOhw4dgUQiQWLiD3qPOQDQW8DnwIH9CI8Yi927EwDonp1qq/M9dOhQbNr0lfhaeFaqM88vEt0rBg0O0Os8Nx30Fc7Jzz77XDwnm+9bXl4uns/ff78Hi5e8infeebdFWkTUdb6+vuLMKQDIyckR/9/RvmpaWhqu5irENtfUa+MUFRVhyZJFWLb871iwgI839GQMiHuwESNGYNDgAHzyyceIjp6Gf/3rc73tY8f+CSkpyXByckJS0j5czVVg7Ng/AQBGjQrFksULxcZ/ypQoDBocgIMHf0JNTU2LtIiofW5uboie9iQ2b94EJycnXL9ehrht34rTpp2cnHA1V4HLly+jpqYGn332qd7+c+c9j1274uHo6Ah3d3fxrpbwW8ZNg11DwsJG471338ayZe8hOnoa3n33bYRHjOXvkpNVmz//Zbz37tvi66bP9QuDRXv2fAdnZ+cW5+TUqdGIi9uG69fL8OCDD+HRR0fggw9W4YEHHkBJSYleWoYIv00sBORCmytMyfT1GYC16zYYnKIpLBLEadNkTSZOnIR/fPgBli17r8UgrzATcteueFy/fh2bN2/S27dv33745ZcTSEz8AX379kNQUBCA1s9vQ5qfk62do0qlEs888zQA3awT4dx+8MGH2Ob2QAyIezA3NzckJu7Frl3x+Ne/Psf06dMxffp09O3bDwCwaNFibN8eh3/963OMGzcOy5b/Hffddx8A3fOKu3bvwYkTx3Hjxg3dYgRr12PXrnjExW3DnDlz9NIiIuN8+OE/sGtXPJ6ePRPhEWPxz9UfidseeeQRLF7yKqKnRiE8Yizmz39Z7zGG2NgX8P33e7B16zeIjp6GyMjH8Ntvv2H8uEiDf99cYGAgss5dwK5d8Xj33bfx+utviCtfElmr556bi7Cw0eJiWbt27xF/izswMBDfbN2GlJRk9OnTB6tXf4SkpH1wdHQEALz00nwcP/4zZDIZ+vbth7FjdeehTCaDr68v/rn6ozbPSY1GI84SmTvvefH/TTvXrbWzffv201uDgMgaNG3HLl68KPZNhXPy66+34vvv9yAlJRkvvTRfr6/6yCOPYPXqj5CVdRbV1dWIiIgQ+7oAWqRlyNx5z4vpCatNP/jgQy3+TqPRiDeZms4E69u3HwPiHug/fv/999/vdiaIiKhjhN8cXrb875g4cZJRDXBi4g9iwy2swElEpiGck3PnPY9FixaLC+W19ffLly8TH4loz/btcUhNTUXSvh9515jIBHx9BiB62pMYM2aMwed/hTazM+1lWloakpL2IW7bt0hOOc4guZtjQExE1AMJUzEB46doCVO6+vbtJ64qT0SmodFoxMW4fHx8xAUvTaWoqEhcY4Cda6KuE+4AOzo6tjuA1VFKpVJcvMsc1wMyLQbEREREREREZJX4s0tERERERERklRgQExERERERkVViQExERERERERWiQExERERERERWSUGxERERERERGSVGBATERERERGRVWJATERERERERFaJATERERERERFZJQbEREREREREZJUYEBMREREREZFVYkBMREREREREVokBMREREREREVklBsRERERERERklWzN/QG+PgPM/RFEPU5BYcndzgIR3QPYxhK11J3bWJ6zRPq6w/lq9oAYAAIXJljiY8xGvmFWjy8DcO+Uo6eTb5h1t7PQJjbWRK3rDg13c5dy5Hc7C10SHBTY48twr7gX6iI4KPBuZ6FdPf07vhcEBwXeE33iva8Mv9tZ6JLucr5aJCAmop7lXmgkiEytuw9mERERUcfxGWIiIiIiIiKySgyIiYiIiIiIyCoxICYiIiIiIiKrxICYiIiIiIiIrBIDYiIiIiIiIrJKDIiJiIiIiIjIKjEgJiIiIiIiIqvEgJiIiIiIiIisEgNiIiIiIiIiskoMiImIiIiIiMgqMSAmIiIiIiIiq8SAmIiIiIiIiKwSA2IiIiIiIiKySgyIiYiIiIiIyCoxICYiIiIiIiKrxICYiIiIiIiIrBIDYiIiIiujUChMnqZKpUJxcbHJ023r81QqlcnTVSgUqK2tNXm6bX2eqd1LdUH3xvdbW1trlmPSXN9Na+rU5Wio15o0zYZ6LbSVhSZNsy3mqovi4mKL1oUpdcuAWFtZiNxtS8TX9Ro1KjITUZGZiHqN2ug0ylJ3oirnhHjgaisLkb9nhVnybEhFZiKqck6Ir2sKzqMkeRNqCs4btb86NxMVmYkoSd6k975QLktoqNcid9sS8XtvqNeiKucEylJ3GlUXQj2UJG+C8txh1KnLAejqVL5hltH12VU1BedRlrqzRb6aHh9tUedmoiR5k1gOYR91bqZeutas+XdZr1F3uH4N7WNsHZlKVc4JvTzUa9TicWusOnV5i30sXQ51bqZeORrqtR0qR71GDW1l4V2vj66Wo05dDm1locH6sNT1p7tRKBRYtWql/uuVK7Fq5UqjO8gZGRmYN28utmzZLHaAlEolXoh93ix5NuTLL77A5cuXAeg6eElJ+zBv3lwkJe0zKqCNj48Xy93U9rg4ZGVlmSXPzRmqi6WvvWZ0XQhljpoyGVu2bBY7uUqlEu+++47Z8t2cobqImjLZqLooLi7G0tdeQ3BQIObNm4v4+Hhx2/a4OGRkZJg17z3Bq6++AqVSCUAXAG7ZshlRUyYb/d20do6vWmX8Od9VR48ewa5djXVr6BrSloyMDLEMTYO5s2d/xZdffGGWPDfXUK9FQeL7aKjTtYFCfJK/Z4VRfXtN6RUUHvgU8g2zUHjgU2hKr4jbivavsVhQfPToERw4sF98nZGRIV5DjKmLVStXIjgoEFFTJuPzzz8T9zlz5jS+/Xar2fJtTt0yIFZmHYBb6GwAusDl6tYXYdPbEXe0t3AtYXm7nZiqnBMo2r8G9u6+qM6VofjwOgCAvbsPABgdkHZFvUYNlWwHnP2GAdAFx2UpX0HiFYyylK9aBLmG1OSdwR3tLVTnHNF73yUoEkrZbot0StVXZHAKCIetRIp6jRp5O9+EpvgS7O7zwNWtL+qdzIZob5TC7j4PuAwdj7qbFSg+oqsLW4kUrqHPQi0/afYyAECFLAHSgFAAuuPj2q6lsLvPA9W5MhT8+I929+9l5wBpYASkgRG4VZgN5dmfAADOA0OgzvrBajvWgpqC87hx4ShsbO0BAMpzh3F164u4lrAcFZmJ7R6rDfVaVGQm4lrCclzd+iIqMhPFbZriS6i+lm3W/AuEcthKpAD+OFYSlqMg8X2Upe5stxx16nLIN8xC3vaFqMj8QW+bpvgS1FdkZst7U9rKQqh+3adXjrydb6Ig8X2UJG9qtxzq3Exc3foiyjN24erWF/UGfeqrKy1ajopf/t2iHHnbF6IkeVO75522shB52xdCmXUABYnvI3fbErHs9dWVqLqQbPYydEfb4+Iwe7aujVUoFIieGoURI0dgxMgRiJ4a1e6dg/j4eKz4n79j0aLFuHnzJp6JeRoAEBAQgODgoRYJYBQKBdLT0zBsmK6NXbN6NY4dPYZFixZj9+7d2LhxQ7tpVFffhLePN+Ljd+i9/+eZM7F+/Tqz5Lu57XFxiI2NBaDrlEZPjcKEiRPwQFCQUXUBAG+99TbWb9iIC+cvYPMmXd8iICBATNPchLoICwsDAMyf/xKOHT2Gjz/5FLt378b27XFt7i+RSBDzzDM4lvwz3nrrbaxa+Xcx31GPP26xuuiuMjIy4O7mLtbpMzFP4+bNm1j1/gdY8T9/R1LSvjb3N3SOC0Hw7NmzsT2u7foxhdraWqxbuxbTpz8JQDeQ0/wa0t7Aya1bNRgxcgTi43dAo9GI74eHRyA9Pc0igb36igwSnxDYSqRoqNfiWsJy3NHegkfoLJSlfNXuzaqGulq4hkyB/3Mb4OgTgpLDX6ChXgsbW3u4hc7GzauZZi+DUBfjxo0H0Hg9X/X+B3rX87ZEPhaJpP0H8c3Wb6G+ocaePd8BACZOnIRNX23skXeJu11AXK9RozrniBhI1hRdhHTYU3B7eDL6jZmDXk5uqM5ve+S2OlcGl+HT4BL0J3hNXgxN3klx1MX1kWlQy9PMXo7q/Cw4B00SO3Iq2Q4MmPwqXIL+hAGTX20R5BoyYPx8uARFtnjf3t0HvT38oSmRmzzfzSllu8VAUltxDb2c3DBg/Hy4PTwZ0mFPQa1ou2MsHTwSbg9PhqT/ELg/Go3bZRfFurhv0EhUnW37Qm4KQtAu6T9E97r4EtzHvgS3hyfDa/JivTy1xsn3IfGfo08Iaq/rLrw2tvZwDX223WPyXlchS4BH6CwAuu+76uw++D+3AQNnfYia/F/bDWirr2VDffEYBs76EP7PbYD64jFx4Mpl6HiofjX/cQIAankaXB+ZBkBXjvLkL+E99R0MnPUhakt/Q9XFn9vcv5ejFAOf/hye419psc1t2BNQynabJd/NKbMOoM+DEwHognShHP5zPsFtVVG75bDv0x+DYr+GzxNvYFDs11Bn/aB33lpqQE6ZdQAuw6fplaPfuJcRMH877tTebDegtXf3QeDCBAwYPx+D560FAPFY7HP/GKgvHrPo3e7uQKVSIT5+B8aMGQsAOHXqFOa/vADR0dMQHT0NUVFTcebM6TbTyDh5EouXLEFYWBiWLn0d+flXxc7o9Cen4+BPP5m9HCkpyXg+9gU4ODigtrYW8fE78NbbbyMsLAxvvfU2Nn21sd00/va3l8ROYVMhISG4XlZm9g52cXEx4uN3IDw8AgCQnX0Ob7z5NqKjpyEmJsaouoiOnoaQkBAEBARg+pPTkZ7e2L+JjY21SF3s3fsjno99AYDu+DolO4m33n4bISEhWLRoMT795KM293d1dUVYWBi8vLwQGBgIP79B4rawsDCckp206qnTB3/6CRMmTgCgC27z869i6dLXERYWhsVLluDY0WNt7n/p0kVERU0Vz/H5Ly/AqVOnAOgCmPj4HWZ/REAu1/VXhaD+dObpFteQoqKiNtMYN248oqOntXjfwcEBz8e+IJbJnKpzZZAG6s7Xuhu6WUf9xsyBk+9DcBk+DZriS23uL/Qj7aSecBn6GO5Ul4rpOPsNg0q2o839TSErKwvBwUMbB82aXM8XLFiodz1vzbhx4xEQEAAvLy9I+0hx8+ZNALq6mP/yAqSm/mL2cphatwuI79zSjfgLgaS2Ig/27r7i9t6u3u2mock7CUnfwQB0AUvvfkOhvVEKQNfRMyYY7SpN8SVIvIL13rPr01eXBw9deboyNcKuzwDU1Zh3BKahXos71aWwdewDAKirUel9//buvmjQVhudnlp+Er37DRXv1Nu7++BOdanZ765qq0r08q0pzIa9qxeAxuPDGMpzh1F44FNUnd0Hz7DGETRbZ/d2L4L3snqNGrfLLsLeYyAA3fct8QmBndQTthIpnPweQU3emTbT0JRcFmci2Ek94RQQDk1Z40DG7bKLHZ623FEN9VpU5xyBxMNPLIdz0CTYu/vAViLFfYFjoK3IazMNG1t78fhuTjjeLTElqjrnCCSeuk5lTXEOJP6jYe/uAxtbe/R5cGK75RDKDAA2dvYttjVtxM2pOucInLx156emIh+9+w2Fk+9DsLG1h/PgUNSpr7ebhvBsVk3BedypLoWdowsAwE7qiV5ObhYpR3ciTLt0dXUFAPyWk4PAwEBxu4uLS7tpHDy4H8HBjdfNUaGjce1aPgBg4EC/FndczaGosAjOzk66///Rkfby0l3XHR0du5x+eHiEWCZzqaysBKDrRAK6MvXv31/cbkxdCGpra7F161YxMAV0ddE0QDYX9Q01+vXT9W+E40uoCw8PD6PTWbVyJR4ZHoLg4KHinX8AiIl5FhUVFSbMcc8SH79D73yLipoq/t/Pzx8HD+43tJuepsdSYGAgfsvJAdDk2GsnGO2q/Pw8ceBH0No1pDOcnZ3EMpmTJu8kbP9oQzTlVyHxCRG32fSWdCgt5dmf9PrEYtxj5j5Cefl1veOh6fXcwcEBo0JHG5VOfHw8oqZMxqGDB/H00zHi+4GBgeIASE/S7QJiTflVOAdN6nI6NnYO4v97SaRouK3543371nYxO+GzhWmlXWHv7mv2IEzoKNpJPbucVk3BeVT+shn9//OlFtuEQRBzsrF3bvy86lLxggYYN8gCAPauXnAeHIpeTm5601rsXQZAU2iZKb3dUfNBLED/+7Z1dm83jQZttd7Al727r16w07vfUNTfumGK7LaqveO9o42dIRL/0ai/VdXldNoiNKZ2fRrL0cvhvk6l1VCvRfHhdWJALXAOmiQOMpqLMFDWy1F3XDXc1uidqxLPQbitar8TV3ejHNd2LUXxvlW6cnjoD7Bqyq+aOOfd26VLF43u8BjrelkZHB2dTJpme+Ljd8DPz9+sn1FTU2PW9PPz8xAT82yX06mtrcV7774Ldzd3zJgxo9lnmP/4jo/fgYED/bqcznNz52LDxq9w6dLFFs9wl5e3P/hlLSqVlSZNzxIDDqWlbbcX18vKupS+n58/FLnmnUUgDMqLffku9Amqck5AffEYvCYt1nu/l3P/VvYwndLSUjwQFNTqdmPrIjIyEqve/wDBwUP1ng0HdINkPU23C4ibBxd20r6or248+e/U3mw3DYn/aL1OjibvpHi3RHgQ/m4QOtyGOqwdVV9dCXsP83YGhI6o0DG16S3R+/7rqyv1Ap/W1BScR/G+VfCatsLg3TNLDFI0vZPtHDRJ7/gwdsaAk+9DcAn6E/qOmas3rUW4I2qtGupaTrXqyMwBcZ/bjc8ENT+2ekmkBj+np+nlcB/uWKgcphh4E56V95q8uMW2pvVlDr//ca1uen3Qu/7cqjJqMEuYNj0o9mvc0agt9jx6dxUcPBSnZI1rN4wYOUJvNL+qqv0Bm6ioqbh06SIAXTCWn39V705g0ymv5hIT8yzy83UzHby9dceB8LztrVu3TPIZTk7mDfL9/Pz17qY/EBSkVxeKXIVReRCe0f3n6tXiHb/Gz7BMXQjHg5ubG4DGuqioqDA6DwEBARg3bjzCwyOQlpaqt83Ts68Jc9yznZKdFKc4Gzuo0vS8Pp15Wi8gio/f0aE7+Z3RdOaDQJjiLFxDujKokp+fh4DBAZ3e3xjCYLkQRzSfcWpsm1hTcB5K2W74zvifFgPwd6rNO9AM6Oqi6d10Q9dzY3h5eSEsLAzTn5yOQwcP6m2T9pG2slf31e0CYlvHPrhTXSo+1yXpNwTqi8egKb0CdW4mNHkn4eSlO5FrCs4bnFrg0DcANy4c1S3IkpmIXs79xeCz/lYVJP6mHR03xN7DH9rKAvG1c9AklGfsQp26HMqsA+jdbyhsbO1Rr1G3+hB+nbpcvAvTfJXUOvV12Dq7mbUMwh0/4Q6g44D7ock7iaqcE7r6uHgMkgH3i/kztFiZEAy7hj4LW0cXaCsLxboVymOKO9BtsXNy1buTZO/hD6VsNzSlV1ocH62tPFtTcF5cbVitkOnNYmi4rYGd1Hoba2FKvVCvNr0let93da6s3cEbiVcwbjUZCKvJ/1U8tgD9aUrm0nwAyM7JFZrCbLFcmuJLXa7n6pwjsO9j3hFg4VgWzi9hkLGj5ajITNSNYE9e3CK41hRmi4OM5iJcF4SBRInnIGjyTjaWo+yKUQNyAluJFL0kUtxWNrYZd2pvwt5lgAlz3f0JAYuw6Elw8FBs+mojkpL2IT4+HgcP7sejj44AoJsSZ2hRpgkTJ2Dd2rXIyMjAmtWrMSp0tPg82rVr+S2mRpqDt4+3eNfJwcEBMTHP4uOPPkJGRgY+/vgjvPHm2wB0gVnzVaQFCoVCnKapUCj0FoJJT08zyV3Ptvj46AaIhc8dNWqUXl2ckp3E8OGPAGi9LrZs2YzvEhLwwosvoqioSO/Zv0uXLlqkLqR9pKiu1t1Nd3V1RVTUVLEu1q9fh7/M0q0v0VpdFBcXIyUlGQqFAikpyYiP34GJExvbWEsEbN1Z0wGHgIAA+PkNwprVq5GSkox1a9dixEjd+ZqRkaG3Qrfg0UdH4ODB/YiPj//j2NqBUaNGAWg89oRBJXMJDh6qN30/8rFIfLv1G6SkJGPN6tXw8xsk5qH5KtIClUolHt/XruXrHeulpaXi92BOEv/RYr/cro8nejn3R0nyJqhzM1F1dh+c/B8F8EfQe+5wi/01pVdQvG8VPMb+FQ11WoN94tYeuzKV5nfT27qet1YXW7ZshkKhQEZGBvb+uFc8xwHd8+JNH8PpKbpdQGwn9UTvfkPFUXwn34fQb9zLuJ4ah5q8M/CatkLsKJWlfGVw2p7b8MfR58GJKNq/BnXq6/Ce+o7YoVPL0+A8ONTs5XDyHooaRbp4oHuGx8ChbwDyti+EnbnBT1wAACAASURBVLQvvJ94A4Au2GxtoZ2KzB9QdnANAODarqXiqrXCwmOOTQIGc3ENfVacHmwr0S0YpCm+hOupceg37mVIB48EAFTlHBef+WxKWMBMJduBa7uW4tqupWIH92ber3AN7fp0sfZIBgTiTo1SHDxxGfoY3EJno+TwF3rHR0O9FuXJX4p3ppqX4+rWF1GQ+D4AwGPkU+K2qrP7cN+gkWYvR3dlJ9U1CtoK3QCQ80Dd3fL8PStQkrwJdzRqSAN1g1DCT1c15+w3DHc0ahQe+BSFBz4FAPH4rlOXo5dzf7M3ErYS6R/luAZAd9z0cnJDwY//QEnyJmgKs8V6rso50epK8VU5J6ApvqRbvCrnhHjciYF2F2aGGEN4Lv72Dd20J0n/IZD4hHSoHOrcTKhkO+AUEA71FVmLctypLhUHEMxJb/0Hdx84B01C3s43UZa6E+qLx/RWjjdUDuEn4oTtmryTcHlQt4hSQ70WmryT4toO1sLV1RUxMc+Ki54EBAQgaf9ByOVyVFffRFq6THz+89ut3xhMIzp6Gla9/wEO/vQTRowcgU2bNovbtm7diqjHHzd7OcaNG4/vEhLEO2XvvPsuJkycgIM//YRFixbjb3/TPZ7z2285rU6l3B4Xh+M/H0dMzLPYHhcn/mxQRkYG+vbrJ3YKzcWYuhCe9W6tLooKixAeHoHv9+zB9rg4vRWDd+/ebZG6mD79SXy79RuxLv65enWH6kIikeDs2bPYHheHs2fPYsPGrxASomtHMjIy9Dro1ijq8cexe3djPzHxx70YMXIEzp49i/UbNooLTWVnn0NJScvgxcvLC2npMlRX30RpaSnS0mXi95ma+gvmv7ygxcwCUwsICEDffv3EQZ1x48Zj/YaNOHv2LEaMHIHEH/fCwcFBXPRPImk5Hfny5cvYHheHmJhncfzn4+KxXltbi08/+UhcKNCcXEOmQJ2jW5TSxtYe/nM+gcQrGJqSy/Ce+o7YJ9aUXUHD7ZYzVRrqauEcNAk1eWegzDoAZdYB8abTjcupFukTBwYG6i0aGB09DR9/8inS0lL1rufCon+G6gLQXT+FBd+ee24uAN2gxaavNlqkLkztP37//fffzfkBvj4DELgwoUP71BScR4UsAX4zV7X6N3XqchQfWQffJ5cZPTWwTl2OgsT34T/nkw5NJ5RvmNXhMgC6zr+T/6PiCWKI8txh2PSWwCXoT0anK/wkjcfIGe38pb7OlKNeo8bVrS8iYP72Nr+z3G1LMHDWh3rPkbaloV6LvJ1vwnvqO2YPdIA/7vxWV7b5ndUUnIdanoYB4+cbnW5n9pFvmIWCwhKj/97SOnPO6gKmAvQbM0d8r6bgPO7U1eod//l7VsAjdBacfB8ymI4wy6Dp9s4e750hBLNN61Moh/PAEPEcKEneBIlXsMHztvmMD4nnINi7+1i0HDUF56HKPgSfPwbeAN3IdN2tKr1ylKXuhL27b4tyaCsLWzxbK5RDee4wGm7fslg5mrcF2spCaG+UGlWOeo0at0ou62ZxOLnC3mOg3k84Na/r9nTHc9fXZwAu5XRsAROFQoFFCxfg4KGWdzAEKpUK3367FUuXvt6hdFetWolt2zr2My7BQYEdLgOgu3sR+VikwZWiBUlJ++Dn5y8GWMZY+tpriHnmGfFnhMzJmO+sM3WRnZ2Njz/+yKJ1EfX4421+Z/Hx8XjwwQc7VBfz5s3FokWLO1QXwUGB3e48baoz5+y8eXOxYsXKNgcGtmzZjJkz/yIOohgjaspkrN+w0SIDDhkZGUhLS23zOFYoFLh06aLB1aRbk5KSjLNnz3bo/AB0x0ln+vb5e1bAa9LiNmc3lqXuhPuj0R3uE3ekHy3Y+8rwDv09oLsuyuXyNr+z7Oxs5Ofndagu4uPjUV19UxwEM0Z3OV+7ZUAM6Do9pg6U6jVq/F6n7fAU3c4GxJ39vPbUqcvRy1Ha4WcEO1uOzn5eWxrqtai7UW6RYFj4vDu31CavC+GuX0cuYN2xU91UZ87Zhnotyo7/G/0i/9rmcVKVc6JDgz+ALvj0DI/pcCPRGUI52vu8qpwTkA4J7dA5YclyAMY1yJ0pR1nqTriFTDL7ow5NP6+9cqhzM/UCZGPTdQmK7NA1qDueu53pXHc3nQ3CyPTuhbroLh3s1twL5+y9oLMBcXfTmYC4O+ku56vt3c5Aa8wRKNlKpEDXF4q9659nqY6oOT+vrZ+nMQcbW3vYmKEclgpuujsbW3uj7rR1NBgG0KE7eF11r5QDgN7d+tZ0phzGpGtKxnxeW7NwupIuERER3fu63TPERERERERERJbAgJiIiIiIiIisEgNiIiIiIiIiskoMiImIiIiIiMgqMSAmIiIiIiIiq8SAmIiIiIiIiKwSA2IiIiIiIiKySgyIiYiIiIiIyCoxICYiIiIiIiKrxICYiIiIiIiIrBIDYiIiIiIiIrJKDIiJiIiIiIjIKjEgJiIiIiIiIqvEgJiIiIiIiIisEgNiIiIiIiIiskoMiImIiIiIiMgqMSAmIiIiIiIiq8SAmIiIiIiIiKyS7d3OABEREXVecFDg3c5Cl90LZbhXsC7Mj99x9yDfMOtuZ6HLgjfc7RzcGxgQE1EL90IjQWQtAhcm3O0sdIl8w6weX4Z7xb1QFz2h/bqUI7/bWbB6wUGBPf5YB4C9rwy/21noku4yOMSAmIhaYGNN1FJ3abiJiIjIdPgMMREREREREVklBsRERERERERklRgQExERERERkVViQExERERERERWiQExERERERERWSUGxERERERERGSVGBATERERERGRVWJATERERERERFaJATERERERERFZJQbEREREREREZJUYEBMREREREZFVYkBMREREREREVokBMREREREREVklBsRERERERERklRgQExERERERkVViQExERERERERWiQExERERERERWaVuGxBX5Zzochp16nK919rKQtQUnO9yusbSVhZCU3rF5OnWFJxvUTZzUudmol6j7vT+9Ro1tJWFLd4zRR13JA9drXttZaHBY6p52YiIurOGei1KkjeJr+vU5Qavb+1p3jZoSq+gIjPRZPk05vOF63pDvVa8HjfUa43aX2ibml/Dy1J3Wuy63tW6qNeooc7NhDo3U28fTekVKM8dNnl+W9OVumio10JTegVVOSdQU3Beb5+y1J1d6n/cK7Zs2QyFQgEAUKlUyM7ORlLSvg6lkZ2djYyMDL33Vq1cidraWpPlsy0KhQLx8fF6r1NSksVytae2thYKhQJJSfugUqnE9zMyMpCSkmzy/LamIjNRPNfqNWrx2DVGQ70WNQXnUZVzQi8+EK4Dxl67uqqrdSEcf0lJ+1BcXCy+n5S0z6J1YUrdMiCuKTgPTfElALrGIX/PCsg3zNJrNNpSr1GjIjMRedsXIn/PCvGg6+UoRfG+VRa7uJZn7EJDne5Cozx3GPINsyDfMMvohrbwwKfiPk3V1aigzD5i8vwaoq0sRMUv/4atRAoAYl00z1Nr1LmZuLr1RVzbtRS525aIFw1biRQ3Lhy1WKej6kIytCrdSVtTcB6525ZAvmGW0RexkuRNuLZrKQoS30futiVivhvqalH6/zabLd89SVLSPr2GVaVS6V0ojaFSqfQaOkPpmltKSrJeHlQqldGNhKC4uLhF2XtaOYS/7+n1Ify9ofpoXjZrob4ig429MwDdNT5v+0Jc27UUFZk/GLW/trIQ+XtWQJ3zM65ufVEMvOw9fKG+eMwiA7YN9VpU/PJv2HsMBACUHf83ru1aimu7lqLuhnGfL7RN13Yt1Xvf3t0XN69mmjzPhqivyGAn7Qugc3VRnh4Pdc7PqMk7g7ztC8U2zd7DF1Vn91mkv9PVuqi7UY7rqXHQVhZAlX0Iik3Pifm2u88DVRd6ZgfbVIqLi/FdQgK8vb0BABHhoZg96894683Xjdq/trYWq1auxFtvvoH169fpBcHePt44etQy/cntcXFwdnYCoLv+Rk+NwsIFL+PSpYtG7b9m9WosWrgAb735OpRKpfi+r68v1qxebZF2SVtZCPXFY7CTegLQXUNKDn+B8uQvjdpffUWGClkC6qsrcT01DoUHPgUA2Njai9stYXtcHAYNGgSgsS7WrF5tdF18/PFHkMvlkMvleCH2eXGgJTh4KNasXm22fJtTtwyIK2QJkAZGAAD+w84e/f/zJbiGPmv0/lUXklF7XYFBsV/D9ZFpKPz+PdRr1LCVSOEa+izU8pPmyrpIW1mI2xV5cPJ9CAAg6TsYA5/+vENpuIZMQb+od1q8Lx0SCnXWDxZp6JRZB+AyfJr4uu+YuQbz1Br7Pv0xKPZrBC5MgMfYv6I8+UtxBKzPgxOhzDpg8jw3V69RQyXbAWngaACAraMLvKe+A4n/aKPT8AyPQeDCBAyetxbSoRPEfEv6DwEAi8486I4yMjKwe/duODg4oLi4GFFTJiMiPBSbNxk3iFVbW4stWzYjIjwUz8Q8rTfyfTrzNLKyssyVdT0KhQJbt26Fq6srAIjliJ4aZdT+QtknjH+sRdlPZ562WMdDoVBgzerVnS5HSkoyIsJDsWrVSkSEh+Lzzz8Tt8nlcouXQyKRAADmzZvboXIoFApEhIdi3dq1mDD+McybN1fsNJWWluLQoUNmy3t3ppTthktQJADAro8nAhcmwHP8K8bvn3UADv0fgM8Tb8D/uQ2o/GUz6jVq2Njaw2X4NNy4nGqurIuqr2VD4hMiDtb2i/wrAhcmdCiNgPnbDbbLzn7DoJLtMHsb21CvhVK2G/cNGgmgc3XhGR4DnyfewIDx8+E5/hUoZbsB6DrY0qETLBJMqq/IulQX9u4+8Ju5Cv3GzIHPE2+gl3N/VOfrrvnSwNEWqYvu7MCB/fjLrFlwcHAAAFzKkSNp/0Gj909PT0N6ehoSf9yLTZs2Q5GrQHp6GgBg3LjxWLd2rVny3VRxcTHi43dg4sRJAIDo6Gm4lCNHTIzxffsVK1fi4KGWsx68vLwQHh4hlsmcqnKO6/WJAxcmwHuq8X1iZ79h8Ju5Ch4jZ8D7iTegyTspDiC6DB2PGxeOmjzPzRUXFyM9PQ3Dhg0D0FgX4eERRqexbVscli59HUuXvo7nY1/AwZ9+AgAEBAQgOHhoi5kIPUG3C4i1lYW4XXZRDCRtJVLYu/vA1tnd6DRq8n+FNOgx2EqkkA7WNTR3bukupk4+D+FWYbbpM948D0UXIR06QXwt6T8E9u4+HUrDyfch2Pfp3+J9G1t7OAdNwq2Sy13OZ3uqc47AyXuo+FrSf4jBPLXG3t1HbCSF/RrqdAGxk1cQqnPM37HWVlyDxH90Yz7cfWDv7oNeDvcZnYawb526HHXq6+LdFUAX2GvKTD81vidZv34dFi1aDABwc3PD+g0bsTvhe6P3T09Pw3cJCTiW/DO+2fot1q1dK15Qox5/HOvXrzNLvpvbHheH2bNni6/Xb9iIb/+93ej9hbKvWPlBi21/njkTu3fvNkk+27M9Lg6LlywRX3e0HAMH+iEtXYZt2+JwLPlnbPpqo3hXdvr0J7Fu7VqLjMbv3fsjno99QewIrlixskPl8Pb2xq9ns/H5v/6FX89m43pZmdhpeuKJqfh26zcWvdvdHWgrC3GnulRsj4Q7Ex2hKcyG88CHAUC8U1J34zoAwMl7KGryfzVRbltXk3cGEq9g8XVnytHaPrYSKST+o8UymUvdjfIu14XQNgFAfXUlenv4i6+dfB5C7fWOzW7pDE3xpS7XBdA4zftOdSmcvIIA6MrXu99Qs9dFd3b8+HGEhDzc6f1ramoQHh4BBwcHODg44IknpuLs2bMAdAFMfv7VDs/m6qjffstBVNRU8VpuaiNGjhDLZE41inS9PnFHNT1fhbjkP+x054uk/xDcLrto9sGfM2dOi8dDV2RkZCApaR++3foNIh+LFN8PGz0aV69e7Wo2La7bBcT1t6rQy9n4gMuQ22UX9YI2if9oaMp1lWNj5wBNngXuEFfkdSiI7yh7D3/cVpp3urEwamXXx7PLaTXUa1GesQvSYU+JFwShI2XuadN1NaoOBb+tKUnehLztC6EpzBbvrgCATW8J6tTW21irVCqckp3E/fffDwBwcHBAQEAAHB0djU7j7NmzmBIVBS8vL3G0Nzv7HAAgLCwMp2Qnzd5g19bWIj5+B4KDGxu7gIAAeHh4GJ2GUHZhWlhTISEhOCU72eHp153R1XIEBASId5fd3NxabMvPv4qioiLTZLYNm77aiFGjRul9dkfrA9DdKc7KykJ+/lV4eOiuO15eXgBgkXJ0J6ZoY+9Ul8LW0UV8LfEfDW1Vifj6dplx0+664raqCHZOrmZLv5fDfXplMgftjVL07tf5znVTNQXnoZLtgGfY0+J7lurv3FYVwd5lQJfTqbqYjKqz+yDxHy0GCQDQ29Xb7HXRnZ2SnezQda89zs5OUN9oDLqioqaioKDAZOkbUlZ2HS4uLu3/YSd5evbFtfxrZksf0M02vFNdChu7zg34NFWnLkfR/jVwH/uSXpDcy7m/GCibS3V1Dbx9vLucztWrV3Hs6DEAgKNjY5/H2dkJv+XkdDl9S+t2AXFdjUpvhLOzhGd3AeB2RZ7YcPZylLa2S49i01uCO9pbZv0M4U5uZ0d7myo+rLvD5xk2s8tpdYbwjFZXDBg/H4Niv4Z06AS954btHF1wW2VdneqmhGd5hACqM9Q31AgMDBRfjxg5AkWFjd/pqNDRqKys7HwmjSAERgEBAWb7jKioqaioqDBb+gDEgFt43qyr1qxejaioqXrfS0zMs7h2Ld8k6bdGuHPbPCDvqKKiIkRPjcLzf30OMTHP6h1n4eERRj8zRY16OfdH/a0q8bUm7yQknoMsno87dT377n4vO9PcLdNWFqJ43yp4TVvR4ZloptJggroYMH4+Bs/TTd+19ueGzam0tBTSPo194UplZYcGsDvD0CCxKd26VWPWgBuAGAgLfePOaqjXoiDxfUiHToDbw5P1tt2pLu1S2sZwdnbCzZs3u5xOTEwMPv/Xv7B4yRKLzeIzp24XEEs8B3V5RNM5aBI013MBNI7o9O7TD4BuikJXR8eNYWPvjIbbGrOlrym+BHt3X7OlDzTeGe7qHVxh1VGvyYv1gmvhWWJLDFKY6g6urUQKSb8huFPTuKCDtqoEvV1NE3z0RKYK8Kqra8T/N2+w3d3cceuWeQeALMHFxQXl5ZaZTWCKqWlbtmxGenoa/mlgkYyamhoDe5iOMNAiPD/cWQEBAbiUI8ex5J/FZ+msma2ji9Gdrjp1ucHpe04B4ai+ppvB0XTRSkAXGHVkfYbO6u3qbVQbK6x43FF3am+a5K5nW2wdXYy+m95aXQh3mrymrRAfNRPU36qyWF3U1bS/QF1rddF8Zd07GrXeDLvbqqK7MuDSXYwKHW1UO9vaQpaenn2Rnp4mLlp5/PhxDB8+XNx+SnYS7u7mm9Eo5EGRa9zsKIVC0eFHWWpqTHPXsy02tvbo5dzfqMGfeo3a4OKCDfVaFB9eB+nQCfAYOaPFNsD8fWInJ/0ZAm1prS6aLkhZWloKdzd3vdcPBAV1PaMW1u0CYiEIa7qkeVXOCWiKL+G2qghVOSfERqEkeZPBVYJdho5H5S+bUZGZiGsJy+EcNEmcnqspvwqngHCzl0My4H69Z5W1lYViXm9ezRT/r60sbHXF5pqC8+JKl8LPEQhMNUWpLTa29ujdb6jenYCqnBN6eRIat6qcEwZXAVeeOwyVbAccfUKgviLTqz9tRQF6OffXmy5iDhLPQdAUZosXG+GYuq0qgqb4kt4x1Noq4Pl7VqAq5wQqMhNRlvKV3qIK2soCveenrI2vr25gpivPYo4YOQIZJxsHwi6cv6DXYB88uN+kU8YMEe5EmnPl4eZTmc1BuDPc1SnmW7ZsxncJCfhm67ctgmtFrgJ+fl2fydMWU09p9vLyQnDwUL0p61VVVfD07PrskZ7E3t0HvZz767UnJcmbcOPCUWgKs1GSvElsf8t+2SYubtSUW8gk1Jb+hvw9K1By+Av0i3pHvI7XFJ6HQ1/zzbIQOPk/iurcxhVZlecOi21QecYuceVrbUVBi1WkBSXJm1CesUv8v/Cd1GvU0OSdhF0f8x4bQl0Igwp16vIO10VB4vsAALU8DSXJm/TaYU3ZFYvUhcQrWPxlEKDjdVF3oxy525agJHkTcrctwZ0aJZz9dAv+1GvUuF120SSPbvVUkZGR4iNEABAfHy8uhLVq5Urx53NSU38xuJDlsGHD8JdZs/BMzNN4JuZpREZGigsoZWdnY1ToaPF6ay73338/TslOiu1rcXExVq1cifT0NOzevRurVq4U26zoqVEGr/sZGRlYtXIlAGDd2rXi/wFg9+7dXXrO2ljSoRNQU9h47VSeO2zwGlKdn2VwpXj1FdkfC2ldF89X4RzXlMjRu99Qs/eJH3ggCPHxO9qsC0DXp2utLiLCQ7Fq5UpETZmM7xIS8MKLL4rbjh8/Lq5g3ZPY3u0MNGdjaw/X0Gdx43Kq3uiJxCu4RdBRnXMEbsOeaJGGpP8QDIr9GtX5WfCe+o7eFKIbF46i/3++ZL4C/MF5YAgqfvk36tTlYjAOoMXqkfW3qtp8hsjW2b3FPsIJJ6xwbE4eobOgyj6kN/JsKE/VuTJIgx5rsb+9q1erK2ZWXUyGW+hsg9tMyd7dB72c3KApkeuVo8+DE/X+rk5djl7O/Q02vB6hs1BXo4Kts7veMVWvUUOd9QMGxX5t3kJ0Y15eXvDzGwS5XI6QkBAAumX8S0tLocjV/WZgcPBQBAQEiBfaFU0aMgAYM2as2MBVVVWhUlmJ4cMfAdAY2JlzKjOgm/Lt5zcIly9fRlhYmF45hP8L5UhK2ofTmadblEP4u9OZp1uUXWh8TDWVuTUODg7w8xuEgoICsZPT0XKkpCTj008+wvyXF+DMmdM4c+a0XjlOyU7Cx8f8UzOFOyNC3Xe0HMLf9+/fH3K5HAcP7sf/rFgBQNfYHzy4H2+9/bbZy9HduIXOhlqeJl4Pm7ejvRylut+GzTuJ/uNatpd2Uk/4zVwFbWUh7Pp4ijN/Guq1UMl2WOR6KLSx2spC2Lv74D7/R+DkPVQsizC9UXM9t9VfqRDL/cdzt8KdmaoLyXANfdbsHVPgj7pQyCDpPwS9HKUdrovWVrgVfl3BEnUhHRIKpWy32N9prS5qCs/DfWzLMti7+4jlsBn5lF6fSagLUzy61VPNnPkXRISHYubMv8DV1RWRkZEYNWqUuHCiMIvmdOZpRD3+eIv9HRwc8Le/vYSZM/8CQP/xpu/37EFsbKzZy+Dq6oo33nwbhw4dQkxMDNzc3PDc3Ll4bu5c8W/c3NygUCgwKnS0wfb+/vvvh4eHh94+QONjQkK7bU4uD47HtYTlcBv+OGxs7cVjvfk1pDpXBteQKS32d/YbBkmzle2FfVTZh+ARatxPmnaFl5cXYmKeRWrqL4iOnmawLgDdL0q0Vhdp6TIolUq8NH++3mCKsBiqJerC1LpdQAzoDrjKM0kAdFNUXYL+1OJv6tTlcA19ttXnZQztp60shEP/ByzyjI2NrT08xv4Vmop82Ek9xZWNm6urUaHvmLkGUkCL6U/G7GNqTr4PofraOfFnqwzVBQDY9RkgrujdfH9DhLu10iGhpstsG/qOmQvN9Vw4+T7Uajnqb92Ax9i/Gmx4WyuHtuIaPMe/YpGOU3e2eMkSHD16RAyIAaB///56KzYDujtyMc8802J/V1dXJP64F0ePHoGnZ1+9i+mBA/vxxpuWCVoWL1mCgz/9pPf5/fv3x8effKb3d6czT2PEyBGtpjNi5IgW2/fs+Q5vvPm22VbZbGrxkiWI/9//bbcccrncYDkGDvRr8beC1NRf8Mabb3fpmXFjLVq0GOvXrzOqHIamaI0ZMxapqb+guroGw4cPx7Hkn8V8Hz16BDExz5r9zkh31Py6a6htaqjXwv+5DW1e25rvd+eWGl7TVljkemhja48Bk18VXzcNopq6z/+RVqcgttYX6O3mA8cB93c9k0aQDgmFMHnRxta+w3XRWhl+r9NavC6EZytbq4s+94/pcF3YOruLd4utlaurK77993ZoNBq4urq2es16bu7cNgeODV2zR4wc0aGf2+mKmTP/gsuXdb+OIixA2Zybmxu++MLwb/q6urq22u6sWNFycNocbCVS9Bv3MhrqtLCxtW/1WPcMe9rgMW0rkRo8JxvqtXAeHNpqX9PUXpo/X1xIrbW68PHx6XBdODo6WqwuTK1bBsS2Ein6jZnT5t/YST1bzL9vj727T7vpmpKhALG51gJMU+/TFcZ8Zx39Xm1s7TFg/PzOZqnDJP2HtHtHXdJ/CDr6tKKlLl7d3cSJk3A68zRqa2vh4OCA6OhpBv9uoN/AVkcOW9uvqLAIr7z6qoE9TM/Ycgh/a0hr+9y8eRPPP2/+kXigsRwqlQqurq6t5kl9Q22wHAEBAa12rORyOaZPf9Kk+W1NWFgY0tJS2y0HAMyY0bI9aGsfuVzeYkTcWtjY2rfbjtjY2sOmlc5ea+yknq12EM3BmFlSncmPMW23qbAu2mbp/k53Zcwdt87Momrrmmpqrq6u7ZajMwOt5p491pwx/b6O3ngz5jpgSsIverSlM3XR9KZIT9MtA2Ii6lkcHBwMTh9ubunS1zuctjHpmoqx5ehMnjpT9s66V8ph7Od1Jk+WLgcRERF1T91uUS0iIiIiIiIiS2BATERERERERFaJATERERERERFZJQbEREREREREZJUYEBMREREREZFVYkBMREREREREVokBMREREREREVklBsRERERERERklRgQExERERERkVViQExERERERERWiQExERERERERWSUGxERERERERGSVGBATERERERGRVWJATERERERERFaJATERERERERFZJQbEREREREREZJUYEBMREREREZFVYkBMREREREREVsnWxjYh6wAAIABJREFUEh8i3zDLEh9jVvdCGYB7pxxERKSz95XhdzsLXRK8oeeX4V5xL9RF8Ia7nQMi6mksEhAHLkywxMeYjXzDrB5fBuDeKUdP1xMGJYKDAu92FoiIiIiIzM4iATER9SyXcuR3OwtE3Q4HioiIiO49fIaYiIiIiIiIrBIDYiIiIiIiIrJKDIiJiIiIiIjIKjEgJiIiIiIiIqvEgJiIiIiIiIisEgNiIiIiIiIiskoMiImIiIiIiMgqMSAmIiIiIiIiq8SAmIiIiIiIiKwSA2IiIiIiIiKySgyIiYiIiIiIyCoxICYiIiIiIiKrxICYiIiIiIiIrBIDYiIiIiIiIrJKDIiJiIiIiIjIKjEgJiIiIiIiIqvEgJiIiMjKKBQKk6epUqlQXFxs8nTb+jyVSmXydBUKBWpra02eblufZ2qsi3tLcXGx2b5fS6mtrTXLMWmuY681depyNNRrTZpmQ70W2spCk6bZFnPVhbmOU0volgFxvUaNstSdAHQHXlXOCVRkJqKm4LzRB2G9Rg3lucN6B5i2shAVmYlmybMh6txMqHMzAQCa0iuoyjkB5bnD0JReMWp/bWUh1LmZqMo5ofd+Vc4Jo9MwhbLUnajXqFGvUUOdm4mKzESoczNRr1G3u2+9Rm2w/hrqtShJ3mTyi0prNKVXoDx3GEDjMSXUhTF5EOqvIjNRb5+agvMt6oeIqDtTKBRYtWolACA7Oxvz5s1FcFAglr72GrKzs41KIyUlGVFTJmPLls1iB0ipVOKF2OctFsB8+cUXuHz5MgDg888/Q3BQoJgnY/KwZctmLH3tNQQHBeq9vz0uDunpaWbJc3NdrYukpH2ImjIZwUGB+Pzzz8ROrlKpxLvvvmPWvDf16quvtFoX7SkuLhbLPW/eXL19tsfFISsry2z57glqa2vxQuzz0Gg0UKlU4jHb/Ltqi0KhwLx5czFv3ly942rVqpVGn/NddfToERw4sB+A/nG7auVKo4KzlJRksexNA/nLly/jyy++MFu+m2qo16Ig8X001GlRr1Gj8MCnkG+Yhfw9K4zqC2pKryB/zwrIN8xC4YFPxRjBxtYeRfvXWCwobl4XwUGBLa4hbRHqQdhHaAPOnDltsbowtW4ZEFddSEYve0cAQEXmD9AUX4KtszsqZAkoO/7vdvfXlF7BtYTlqLtZgaL9a8Tg2t7dBzX5v1rkgGuo16Lil39D4uEHACg5/AUabmvE/9cUnG83jWu7lkKd8zPKk7/Ue9/OyRXXU+NMn2kDagrOo+5GCWwlUlTnZ0H16z7YOrujJu8MriUsbzeYrM7PMlh/Nrb2AAD1FZnZywAAlWd+hL2rFwDdMVVfXQkAuJ4ah6qLP7e7v+Z6Lhpua2DT2xElh78Q823vMRDlyV9aLLDvzpKS9omdUJVK1amRfZVK1WKfpKR9JsujMVJSksWLe21tbafL0bxRafr9WIKhcnRk5La1sve0cgjHYvN9kpL29diR7K7aHheH2bNnAwBu3bqFRYsW41jyz5gwcQLeevONdut3y5bNWLN6NT7+5FPcvHkTz8Q8DQAICAhAeHiERQIYhUKB9PQ0hIWFAQDuu+8+JO0/iG+2fovjx48bFdA6O9+HsNGjW7z/55kzsXXrVpPn2ZDtcXGIjY0F0LIuPv74I6PS+PiTT3Es+Weob6ixedMmALq6cHdzR0ZGhtnyLhCCk6Z1cSz5Z6zfsBHfJSS0mweJRIK33nobaekyrFixEp9+8pG4T9Tjj2P9+nXmLUA3d/ToEQQHD4WXlxc0Gg0mTJyg9121F9AqFApET41CbGwsYmNj8dabb4j7xMbG4vs9e8xehtraWqxbuxbjxo0X3/v4k0/x69lsSPtIxeO2LY6OTpj+5PQW7w8bNgzp6WkWudutviKDxCcEthIpfq/TwnlwKAbFfo2+Y+aiPPnLduOLhrpaeITOwqDYr+E8OBQVv/xb7D+6hc6GMuuA2csg1MUTT0wFADg5OWF3wvdIS9f1a42pi5hnnkFaugxp6TKob6ixZ893AICJEychPT2tR7at3S4gbqjXQiXbgT73jwEA9Iv8KwaMnw+XoD/Ba9JiVOccQZ26vM00qi4mw2X4NPQbMwcDZ30IddYP4j59HpyIqpzjZi9H9bVs9Pbwh53UEwDgP+cTuD08GW4PT4bL8GlQy9tvrAMXJsAz7OkW7zv5PgQAFrlLXCFLgGvIFACAs98w+M1cBZegP2HA+Pm4U10KbUVBm/tLh4S2Wn8uQ8fjxoWjZi9DnboctyvyxO+tX+Rf4TFyBtwengyP0FmoOtt+wCXUndvDk+EWOhvVuboLh61ECumwp1B9zTIjrN1VRkYGdu/eDQcHB6SkJCMiPBSLFi7AI8NDjBrBrq2tRVLSPkSEh2LGk9P1guBjR49ZpFMH6DoOW7duhaurKzIyMvDI8BBET40yuhzCnY6I8NAWjcrpzNMWveu0ZvVquLq6ori4WCxHRHgoVq1c2e7+QtkN1eHpzNM4evSIObMvKi4uxprVqyGRSMRyLFq4wOhyKBQK3d+uWtlin9LSUqSm/mLO7HdLKpUK8fE7MHHiJAC6ICYsLAxeXl549NERyM+/CqVS2WYaF85fwOIlSxASEoKlS19Hfv5VsTMa9fjjOPjTT2YvR0pKMp6PfUF8/be/vYSAgAB4eXnhkUcewdmzZ9tNIyYmBqNGjWrxfkhICK6XlZm9g11cXIz4+B0ID48AoF8XwcFDcUp2st2OZXT0NISEhMDLywuRj0XqXWOmPzndInWxd++PYuca0NWFl5eXOECSnX2uzf1dXV0REhICV1dXeHt7w89vkLgtLCwMp2QnLTq1t7s5nXkaEyZOAAB4eXkhOnoaXF1dERAQgKioqcjPz2tz/0uXLiIm5lmMGzce48aNx5SoKGRknAQAhIdHID5+h9kDGLlcDkA3UAM0HrcODg6YOHES4uN3tJtGWFiYXkAtcHBwwPOx/5+9+4+Lqsr/B/7a1GQQERCUnxGOU6Dhj0wUNPtomrSi2Rqmpq62u7Vl7if76Y+vq65bof2wQvG7ZuoKKmmupliYBt9IQQhKxB/oOP6CQVRgFIEZEuX7x+y9zmVmmAFmEL2v5+PRI2eGe+85c+6597zPOffMi/j5558dm2gLrh3bD3eVsb52cPeBR+jjaK9wh8K3J+7v3gu110ob3b5T0CPoFPSIse3YMwI3q0px45qxTewW3BdVhc6/t+bn54sdLAAwfPgIsf7169fPrnbKoEGD4OnpCYVCIXnfxcUFo6Oj78p7a5sLiIUTQwgkhZFEANCXnUc7N1/xM2uqCveJo4HtFe5o5+aL365dAgAofEJQrclyRtIl9BdPwTUwXHxtmo+a4gJ0cO/Wov3f7xmA2qsXW7QPW27V1eK3S8fR3tUDgPG7FAi9YO1duzS6D0vl187VuJ+O3kH47dJxp4+uVpcUQmGlLPSXTqNdJy/79lN0FGW5O1GRsxXuoU+I73fsGoTqc784LsF3oeQtW8RRjgceCEZmVg5S936PH9J+xMcfLbc5BScrKxMr4+ORsicVqxJWY2V8vBgET5o8udVGCExHzry9vZGyJxUnCtViPmw1yoSRjjffesfss9YedXpt9mwxTUI+MrNykJy8yWY+vL298UPaj5IyFLaZOm0aVsbHOz0PAPDtt3vwXGwsXFxcxHyk7v0evx4uQHLyJpsdJQEBAfj1cAE2bkzEr4cLkJWVKW4zfPgIrIyPl93ziUKw6+LiYvbZV18lIzp6jNhQsiY1dQ/CwnqJrwdGDMaFC+cBGM8dexq3LaUt1sLNrZPZ+yUlJVjzr9ViwN9ckZFRYp6cpbzcOFPJUlns2vUNoqPHwNPT0659GQwGrF+/XtJJ8MADwa3SCVd5rRLdu5u3aYSAf9Ag81F4S+a8/jr69wtHZGQU+vbtK74/adILTi+Ltiw5eZOkvgkKCgqQmroHQ4YMbdL+VCoVtMVaAMZzLzg4xGYnWEudP39O7PgxZTAYsO7LLy3eM5vCza0TThYWtmgf9jBtE5uqPJOLm9UVcPV7yO59VRz+DooHB6Nj10AAt9vYzp7FeuXKZXh4mOfB0jWkMUsWL0b/fuHIysqUdIipVCrk5eY5LL2tpc0FxLXXSqF40PzieaPyCsoO/Bvdh79s135MT1hFYDhuVBt7v+7r0BE3qxrvwXGEW7VVuO9+hdn7Zbk78VvZOXj0Nu/lagqFfxhqyxsfnW0poXNCqKyCW3W1KP1/X6Dr0L/Y7JwQ92VSfkJAKvxfOI4zWeqAqC46isrjP8B/1Gt27+dmbQ0AiNPfAaCjhx9+02lbnsi7lE6nQ2rqHvTr1x+AsQdYaMR5eRk7G/R6vdXtAeDw4cMYHR0NpVIpjiqcPXsWwO0RAmf3YBsMBknDQ0gLcDsfNTU1je5DGOnw9fU1+yw8PLzVRjpM8yGMJADG4Dg4OARlZWWNbi+MtAHmeVcqlZIRQWf6+KPl4oiAaT6ERtyVK5cb3d7FxQUuLi4wGAxQq9U4f/4sXF2Nj+MI+9Jq5VV3T5w4joER5vfYtWu/wN7UVLz9TtMbppcvXYKrq3lw6kzJyZsQHPyg5L2SkhK8OHMG3nzrHYSHh1vZ0n7V1dUt3kdjzp8/h0mTXjB7v6llYTAYMG/uXHT16orx48c3OMZZh6S1McnJm/DAA8GS95pTFq/Nno0N/05CVlam2bR7Z5fF3aakpARvv/UmNvw7ye5OE2tao/Onqsq8/ITzFgCmTp3Wov0HBz+Iq1evtmgftgizG+/r0FHyfnXRUVxKXYbuw1+WDBw1pix3JyqP/4DuQ6dL3m/nZt52cLSqqmo8HBoqea+xa4g1f3npJWzd9h+EhfXCV18lOyOprarNBcTtOrjgtzLp9I8blVdQtPMf6D78ZXHaa2MaTluoKtwHhY9xCs6tG3fuWU+hAgSN/7vdlcaaW7/pxeesnUWo9KYjuLfqalHy/Up0Cu4Prz5P2bWfppafM9yolDacq4uOomT3Evg99b92B/Wdgh5B9yFT0H34y6jI2Xp73zVXcb9ngEPTezcRepYt3ZRXr07AwIjBYvBhTeW1SqhUtxe2GfDYAElvb3BwCIqLndtrKgRGltKalJSIgRGDJWlsjujoMTaD0ZYSRuMDAszPyaSkRHTr3l0y+mLL6tUJiI4eI2nUtsaIjTByKwTkpoQp9faMAmo0GvTvF46JsX9AdPQYSRlGRkbhxInjDkrx3UGYimsqOTkZX2/bhnXrN9gcHQaM57HwvRkMBpw/fxbe3t7i56ZTXp1l0qQXJFNFhQDsudhY/PnPf3HIMTp1cm6QHxbWy2w0fe3aL5pUFqZBxQdxcWajza1VFqb1qLlloVQqMWjQIERGRiEz86DkMx+fls2qu5sFB4dIOmOF73fJP5aKz23bYhos5uXmSQIiSx0ajmZpNkdj521TnT9/zuKopyMJbUXTOEJoS/qPXWR3+9Y0FmjY/rxZVWoWcDtaw9F0W9cQa/z9/REeHo5xz4zD3tRUyWfuXVoW49wJbS4gbu/qIRnBFYIp915Pmp1s1UVHLU4t6BTcH5WFP+JWXa24gpswTffWDYPFEWhH6+DeTVy4CbBeAYRVmJuqtuwc2rt1dUharRHSKYzgCsFwhy5+8H5M2oNUW15scaGwxspP6G1rOALtaB06eeKm4br42vQCpvDtKfnbq4U/WVw92/S59YbTrG/9pm/xFPi7mbUATxjliItbZtd+THuQS0tLJRfUsLBeKCtz/kwCS4QGalzcshbftD08PGyOaraUMBrfMK3NyUdjI1XOHrGx1tGSnZ2NlfHxWLd+g135UCqV4rT3EyeOt9pz3G2V0MEgzLgoKCjAksUL8e7cudDr9ZKF1JKTky1OS39y5JNYGR+P9PQ0LIuLk3R6Xbhw3uLUSEcLCAxAaamxrWAwGDB37rsIC+uF4cNHQKPRiB1DJSUlVp8312g0YsdOw4XXWiNIaFgWycnJ+Pij5U0qi3lz5+LEieN48U9/glarlczcOHHieKuUhXsXd7EsdDodXpw5o0llUVJSgpSU3dBoNEhJ2S15xh0wlkVQUJDT89FWRUZG4dixYwCk3++VK5fF7w0wXhuTk81H6oYMGYrU1D1YseITJCcnIzl5k/jsvHDuWepAdaSGnT/JyclITd2DQYMHY//+fZJ1Q6ytOi2cH4BxDQHTbUpLSzHgsQFOzIGR4sHB4oDbjcorKNm9BIoHB+NGtQ5XC38SY5LqoqPiL5uYqjyTC13OJnRSRqK6pFDS5hTamfYO0jRXcPCD0Jy5fZ1YvTqhyWWxdu0XKCgoQHp6mtk067zcPPTr18+peXCGNhcQd+waiPu79xKDq7LcHbhZVQpdziaoE2KhTogVT7iynG3QXzGfDuTRewRcuimhWTMVul93I/APH4gjstXFR+HSrfHRKkdQdO+JyuM/iK91OZtws6oU55JehTohFhfTjAvu3KypNFtFWnAxbQ0ufDUHACTb3KqrRVXhPrgF2z/K01xuoaNQrTX2/FaezoH+3CFU5u8Qy0II5q+fzUXVBfOFMxorv+qSQriFtuw5L3t09H4A+nOHxIuOsKBZye4lYpoEV9I+x80a84BYKDd1Qiyqz/+KbkNuT++5dmw/FN17mm0jF8LIkOmzmE0d5Rjw2ABkH7o9anXs6DHJSF5q6h6nN06FxSFMG8VNzYct1p4FcyShYWN6E0tJ2d3kfDSWd80Zjdl0VUcTjmnawM/Ozsaivy9sVnkICxWZ7u/q1auyG3ny9PTEpEkvYO/evQCMU+EnTXoBGT9mICkxEUmJiWJnxIb16yzuIyZmLFYlrMbhw4cx4LEBWLPm9qJr69evR/TTTzs9H8OHj8DX27bBYDCgoqICyh5KeHh4iHnIyDAunnnyZKGk8WcqKTERGT9mYNKkF5CUmCj+bFB2drZdM1taSigL0wVomloWHh4eiIyMwn+2bxe3EWzdurVVymLcuGfEstDr9YiMjGpSWSgUCqjVaiQlJqK0tBQb/p0kzkgRysIR19+7VfTTT4s/kWP6/ebl5iEvN0/slC4oOIKqqutm23t6eiIzKwedO3dGVdV1ZGbliOf23r178eZb77S4s9cWpVKJgRGDJZ06kya9gJOFhWI+gNuL/jVcrAkwdr7n5eZh0qQXoC3WSrb5+KPlTX6Wujk8w0dD9+vtgNEtdBTauXSGvuQE9CUnUFdjHInXXzqNW7+ZP2LVroML3EJH4VZtlbhN/X9HnK+dOgjPCPNHKBxNqFvCSuN+fv4Wy0JYA8BSWQDAf7Zvx+HDhzFz5kxxmrVQfsIjdHeT9nc6AZZ4R8SiUp2JTkGPwG/ES8CIl8z+pk5fiZvVFXDvGWH2WXuFO7wfGw+P3iMkU5Pr9JXQ5WxCyMwvnZp+wDi9tl0nL1QXHUWnoEegenWbxb/TXzlrtQJYy3vl6Ry49322xdOu7eHV9/fQ7llmXB079HF4hD5u8e+qz/8K3/8xnxplLQ+AMZC0tI2jtVe4wzPiBVSqD8Grz1NW06QvPY37u/eyOGKtenUbasuL0c7VXfK9Cyt936mp4G2BUqlEcHAI1Go1wsPDkZ6eho8/Wo6XXn4Fv/ySh19+yUNYWC8olUpxdGBRg1GCRx8dgJXx8eLnJ04cx98XLQJwO0B1duPU399fnJrt6enZaD5SUnYjLzfPLB8AxM80Z4y92cI2Qj4sTQF2JOH52qKiIvj7+6OgoABvv/VGk/LRWN51Oh1+zjmEwEDnzuwAjIs1lZWVQalUoqCgADP+OBXR0WPszkdKym6UlpbC19cXarUaqal7xNFug8EgeS0nU6dNw6xXX8GkSZPElY0b0ul0GB0dbXVKplKpxJw5b0jeExpY9k7jbAlhrYGsrEwMHz7CYl0EjDMZ3n7bchlb2yZ5yxbMmmX/2hItIZRFTMxYTJo0yeLfNFYW1vIgBB6tWRb5+fkYNGiQ1TRdunQZixaZf+bp6Wl2LglWrVrZamXRVg0aNAirVq1EQUEBwsPDrX6/ADBhwnMW3/f09LQ4fX3D+nVYt36Dw9LamFmzXkNm5kEMGjTI6rleUVGBDz/6xOIjWNauVYcP/4o333qnxc9S26NT0CMoy9mGG5VX0MHdx9ietOBmbQ26PhpjcXtL7UXhF3ZaIz4BjGWxf/8+hIeHWy2L8vJyq2Vh7VGI7du/brWycLTf1dfX1zvzAEGBflaDwcZcLfzJavAFGE+emzWVTZpaUFtejLqaq00OXtQJsc3Kgz3Hu1F5Be1c3SUrH9tSXXQU93fp3uRpFc3NR+WZXLj6PdRoAF5bXtykqc91+krUXDwF9x6PNTk9zVGnr0Rt2YVGy0IYQW5KR4Mw2t2UvKsTYlFU7NwVwlsiKNAPJwrVTdpGCDz+/Oe/QKPRmD2XKQQuc15/HU+OfBIxMWPN9mEwGMSf8xk5cpTYYy385I+jngtsjGlg1Vg+Vqz4BCqVymI+Gv5usrBNcnIyqqqut7l8GHuHpTfExrZprDPA0bKzs5G8ZQtWfPppo2mydo6UlJQgIyMDJwsLMeCxAXj00QHiSFNz8hEWqmpzdbc59bWtCQtV3fV5uFfcC2XRFuupqXuhzt4LwkJVzWoTtzW7/nb3TU821Vbqa5scIQbQaDAMGFcovq+JAWHHroFOf161qcdrzrMCrT0aaU/Q2tTvtb3CvdWCYeF47W18b80ZcW/N86ktGzlyFMY/Mw4TJjwnWZ25oQeCH7C6EJKLi4vFAPPjj5aLPxjvbCNHjsLK+HjodLpG81F5rdJqPizlAWjdnnghHyUlJY3mA4DFFSUb22ZlfDxWJax2WFobI4yM2MrH9evXMWPGTLP3/f3Ng33B1q1bLY5WERERkby02YCYiO4eLi4uSN1rvoBEQ9amxTWmNXvS7c1Hc0ZH7dmvozizPFozHwCwcWOizb9pTj7s2S8RERHd+9rcolpERERERERErYEBMREREREREckSA2IiIiIiIiKSJQbEREREREREJEsMiImIiIiIiEiWGBATERERERGRLDEgJiIiIiIiIlliQExERERERESyxICYiIiIiIiIZIkBMREREREREckSA2IiIiIiIiKSJQbEREREREREJEsMiImIiIiIiEiWGBATERERERGRLDEgJiIiIiIiIlliQExERERERESyxICYiIiIiIiIZKn9nU4AERERNV9YqOpOJ6HF7oU83CtYFs7H77htUCfE3ukktFhYwp1Owb2BATEREdFd7ESh+k4noUXCQlV3fR7uFfdCWdwNwebd/h3fC8JCVVC9uu1OJ6PFdv2t351OQou0lfrKgJiIzLSVCxQRERERkTMxICYiM+y9JjLHjiIiIqJ7DxfVIiIiIiIiIlliQExERERERESyxICYiIiIiIiIZIkBMREREREREckSA2IiIiIiIiKSJQbEREREREREJEsMiImIiIiIiEiWGBATERERERGRLDEgJiIiIiIiIlliQExERERERESyxICYiIiIiIiIZIkBMREREREREckSA2IiIiIiIiKSJQbEREREREREJEsMiImIiIiIiEiWGBATERERERGRLLXZgLi2vNjh+6zTV+JG5RWH77e1j3ej8gpu1dU6fL+tebxbdbVOKePGjueMsqjTV6JOX+nw/RIROYvBYMCSxYvFf2dnZyMlZTeys7NhMBjs3kd6ehp0Op34XkFBAdau/cIpabYkPT0N2dnZAACNRoOUlN1IT09DSUmJXdvrdDox76ZWrPgEGo3G4em1xLQsTNNTUFBgV1nodDqkp6chJWW3JN8FBQVm+XImS2XRME3WGAwGMb3Z2dmSc2rFik8kr+Vq7dovxHNSOEfs/X4F2dnZYhkJlixebHedbymNRoPk5GQAxvNWyIO91x2dTieeJ6bnRHZ2NtLT05yW7obKcneK7cnqoqO4WvgTKs/k2tXGrNNXovJMLq4W/oTqoqNi2/pWXS0upq1ptba9tbKw97ojlENKym7JtVK4Bt+N2mRAXFtejNL/Z7ypVhcdxfnti6BOiMX57YtQeSbX5va36mpxtfAnnNk4G5cObhYDlps1lSja+Y9WO+GuZCVDX3YeAFBx5HuoE2KhTojFxbQ1dlWcstydKP72Y6gTYiXvXzt1EBWHv3NKmhuq01fiXNKrAIyBsZCe89sXoSx3p83t9aWnxfIr/vZj6EtPi59p9yxrtWCy8nQOrp06CMB4Tp3ZONtimqyxVn61ZRdwJSvZqWknInKk/fv3wb2LOwBAq9Ui9bvvkJebh+QtW/DSS3+xub1Go8H4Z8Zh1ze7EBUZITasVCoVvt62rUmN9OYyGAxYFheHhx56CACwZMli5OXmIePHDLw4c4ZZw9+SqMgILPr7Qrz91huS91UqVas16vbv34eAwAAAwMGDB8SyWPfll3aVxeeffYZd3+xCXm4eXpw5QwyCVSoVVsbHt0owaa0s8nLz8OSIJ2yWhVarxbovv0Rebh5Sv/sOUZERYrr9/PyxffvXTs9DW6bRaPD1tm0ICDCeJ6nffYeqqmqo1Wo8OeIJm503BoMB06dPw6pVK7Fq1UpMnz5N/H4DAgOwf/8+p+cBAJISE9G9ezcAwKlTp6BWq1FVVY1Vq1ZiWVycze0//+wzfPjhcrz91huoqKgQ3w8KCsKyuLhWCexry4tRefwHdHD3AQBUqjMBAPqLp3Au6VWbbfuq8/nQ/bobdVXlKMvZhpLvVwIA7mvf0bi/0zlOTP1tSYmJCAkJAWAsi9LSUpSWluLDD5cjKSnR5vb/2b4dVVXVKC0txaxXXxHreFhYr1YrC0drf6cTYElF/rfw7D8WANDe1QO+//MXtHN1R23ZBZTsXgLXmV+ivcLd+vaHv0Pl8R/g99T/orr4KC5sW4AHp3yEjl0DoQgMR+XpHHiEPu7UPNSWF0NfXIDuw/4IAOgU0AudpyYAAMpyd6CiYB+6D5nS6D7au3WF6/3pm1LxAAAgAElEQVSu0J87JHnfo/cIXNi2AF79nhYrkbNcPZYGz4gXcF/7jrjVoSO6PvoM2g+djrqaayj+zzx0CnwECt+eje7DOyIW7V09oL9yFhe//ww9psfjvvYd4dFvLK4eS4P3Y+OdmodbdbWoyNmKgDHvAgDu79IdAWPeRTtXd1SqD+HywUQET1jS6D4all9Z7g74jXgJCj8VLqX/C7XlxejYNdCp+WjrNBoNAgIC4OLiYvG1PYSLqOk2Go0GSqXSsYltRMN0l5SUwMvLq0n5sLbfuy0fltLcnHJtiYbpLikpgUKhgKenZ7P3AbR+PtqSlfHxWJWwGgCgVCqxyGS0uH+/cJvnalJiIkZHR2POnDfwdsk7eHLEExg2bBj8/f0xY+aL+PbbPfjzn20Hcy2RlZWJyMgo8TzYuPF2Iy45ORmp332HQYMGNbqPE4VqaDQaxIyJlrw/cuQo9O8XjgkTnmvSedZUBoNBUhYxMWMRE2Ns++h0OkRFRtgsi7/97/+KaUxPT8OyuDjExIyFi4sLnouNxfbtXzu9LPbv34fR0dEWy8K9izsyMw82WhZKpRIrPv1UfJ2VlYmDBw8gJmYsRo8ejajICKeXRVu2a9c3mDHzRfFaJdRXAKi8VokTJ443eo5kZRmDtjVrvoCLiwvmvP66+P3+/vdj8OLMGeJ55ywlJSVITt6Ed+fOBQAMGjRIPCd69+6NibF/kOTLEuHzsFCV5H1/f39ERkYhKysTw4ePcELqb7tamAGPfre/K78RL4n/vnHtIqpLCuHx32DZEveeEWL84dF7BM6u/xNuVF5BB3cfePQagYvff+b0+KSkpARZWZkWyyI8vA9m/HGqzWtGw7ISrrdKpRJhYb2Qn59v8/rb1rS5EeIblVdQVbgPbg+EAwA6dg1Ex66BaK9wR3tXD7v2YbisgVfERCh8e8L7sfG4WVWKG9eMvTbuqijoS044Lf2Cau1xdFJGigFrx66B6ODugw7uPrivoxtu1VbZ3IdH6OPoFNDL7P32CncoAsNRdaHA4eluSJezCZ1DHrt9XN+e6ODug47eQWjn5mtze4VvT3QKegQduwaik3+osSz+24PW+cH+0OVscmr6AUB/UY12nbzEgLWDu8/tc8rNCzerK2zsQVp+Hdy74b6ObgAgBvbV2uNOzUNbp9FosGTJYri4uECj0SAsVIWYMdHo3y9cnA5oS0rKbox/ZhzGPzNOMtVvyZLFdo32OIJGo8GsV1+R5OPJEU/YnY+SkhJMnz4NYaEqs79PSkxs9XwI/zbNx5zXX7fZe5udnS2WYVioSjINNikxsdVGFHQ6HV6cOQOANB9RkRF25aOxMmzNfLQlGo0G58+flTSghSlzq1cnYGDEYHEkypqsrExERQ0BYGyMAkB5eTkAYODAgcjIyHBS6m/L+DEDAx4bIHlPmEq6Yf06RD/9dLP37eLigujoMSgudu5jPVqt1qwshOnGGzasx8CIwTY70UyDRI1Gg7Cw222GQYMG49jRY45PeAN5uXlQqaRBijCdcm9qqniu2JKSslucbfDoo8ay9fT0xMCIwU4vi7bs119/Re/evSXvCd9VVlampMwtqa6uhrKHUgyoBw0ejLzcPADG+nv+/FmnPyJw8mQhoqPHmHVKpqTsNs6GePmVFu1/wGMDcPjw4ZYm06bK/B1m7fKrhT+hLHcnfis7B4VPSKPbmw5i3bh2GQDwuw7G9xS+PXGzqtTpMyd/+SUPkZFRFsti1aqVePOtd+zaT3Z2NpKTk/H1tm2S6+2gwYNRUHDE4el2tjYXENfVXAMgPWmuFv4EdUIsLnw1B54RLzQ6OgwA+nOHJCel4sHB0F85C8A44lxV6PxGUG3ZOXTsGiR572LaGqgTYlGtyYJX39+3aP8d3Luhrsp2INcSQqVs53r7+64tL4Y6IRaaNVOhCAxHR+8ga5ubqSjYB8WDg8WpJsL/nf1c941qHe73lDbwhHPqUuoydB/+sl37Ecqv8vgP8AgdJr5/3/0K1Jadc2ia7zZJiYmYOHEiACAgIACZWTk4UahGZlYOsrIybQaC2dnZ4kjJqoTVWBkfL24za9ZrWLVqpdPzABjz8drs2QCalw+FQoG3337H4g0l+umnWzUfwohCw3ycOHEc+fn5jW7v7e2NlD2pOFGoxtZt/8HHHy0Xp8FOnTYNW7dubY1sYPv2r/FcbKxZPn49XIDyinJx5MOaxspw6rRpWBkff1dO7WqJsrIyBAdLG216vR55uXnYm5oKZQ/bsxjOnz8Lb29v8XV09BicP3/7GvhzziFLmzlUVlYmfHy6Sd47e/Ysftj/g0P27+HhIcmTM1y4cB4DIwZL3isrK5OUhb3nZ3Z2Nj7+aLl4/QIAV1dXpKbucWiaLdGc0SA4+EHJe3m5eWJZuLq62rWfvNw8fPvtHoSF9YJCoRDfV/ZQOr0s2rKfcw5Z/A6zDzWvnrm5dZK8jo4eg7Kysmbty16XLl2Gh4f5oJZarcaJE8fRuXPnFu3fx6cbLpy/0KJ92CK0ie/rIJ2Zees3PQyXNWjXycvufd2ovIKL338GnxF/k8Q07dx8cbPGuQFxVVW1+JiGKbVajZ9zDsHNzf6yOFlYaPaem1snaIu1LUrjndDmAuLaqxfhFjpK8p5bcF888PwK+Iz4G3Q5m+wKoG7duH0TuamvxH33Gy+uDU/k1uT92LMI/MMHUASG40r2Vy3aV3u3rk4PwoRKaVpZO3TxwQPPr4D/2EWoKtwH/UW1Xfsqy92Jak0Wug+dbvbZrRvOf6ZbGNEVCOeUe99nUbK78enSAmvlp/AJwW+6u6/yO4rBYEBy8iaxR9/FxUUctSguLjZrPFtSUHAEo6OjoVQqoVQqERkZhbNnjZ1YgwYNws85h1rlWbjk5E1ib7ulfNhq2Hl6eiI8PBy+vuazJ4R8tMbzlcnJmzBw4EAA0nzo9Xq7thfKAYA48iOMACqVSvycc6hVFh36+KPl4hQ403xUVFTg8qVLcHXt1NjmZtuYlqGQP61WvnVX4O/vj0WLF2PnN7uQlZVps8MkODhE0oBOTd1jc5TK0bp1746ammrJe5MmTcKKTz/FjJkvtlrnU0tYOn8HDRoklkVy8iabZQEYg+EZf5yKDf9OatXHMkzV1NRIXi9avBgrPv0Uz8XGYt2XX9q1j0WLF2PjxkR4eHjI/rlhW2Jixorf765d3zRp29LSUnENAQAoryi3u9OiuRoG4YDxGjxnzhtYt36DpNO1OWpqqi0G3I4kxA8N26xefZ5C4O/fxP2eAbh+1vY6Rzcqr6Bo5z/g3utJs+nRN6tKHZdgK9zcOuH69euS94SySNmTiiWLF9rV3hKuVa/Nnn1XXG9taXMBscInxGwEt73CHR27BoonjrBQldV9PDgYtVcvAjA+P/rbpePo2MXYQG2N4MuaDu4+UPj2NE7bPteyHvTa8iIo/MMclDLLhJFh0w6I+9p3NE5/DnoEbqGjUKuzfQEry92JyuM/IGj838VRYUvHcaaGU9SFc8or3Nj5Yk8ni1B+Hr1GSMpPf+Ws2Qi0nAgBhTB1Erg9VXVi7B8wadILNhtp2mKtZMrdgMcGSHoeg4NDJItoOIMQ4DWcvijkIzp6DMLDw1t0jIERg1FUVNSifdgiNCpMp72aTh0OC+uFvn372r2/pKREDIwYLCmfSZNewIULjV+HW0oYGfPykva6NzUfplP4G5ZhZGQUTpyQ1+MOQUFBOH/+rPjatOGj1+slHVglJSUWG0ajo6ORmXlQXB0YuF1ONTU1iI4e48wsADCOGlZXGwNig8EgSWdV1XVxpNtgMDSr88bSqKejeXt7S0bTTQMCofPKVlmYBsMNn9krKyvDpEkvOCPpEsoeSly5Ypz+2bAsAIiBirWyMBgMkpFwzRmNpFPRnmnB97Lo6DHi9db0+zUYDDh29Jg4uqrT6SwGlT4+3ZCVlSmeQxkZGZJp7D/nHELXrl2dmgcfn27QnLld9qbpPHnSeK8XriEajabJM3eqqy2PejrSfe07op2brzjgdquuVhw1vlVXi990WrR3M36P1n5lxjQYbrh+jrDgb4cu1p9BdoROnTqh8trtUWjT+nrhwnkEB4eIMzSslYXpNmq1WjKzqLS0FA+Hhjoj6U7V5gJiITgSTrKKI9+juugo9KWnUZa7E+3cfMXni4XPGnLrEYGKnK24WvgTLmX8G/d37yU+P1p7rdRsBNoZFP5hkmeVy3J3Ql96GpVncqEr2AvPCONN6kblFVxMW2NxH9VFR8XeJmGJdsGNaxfRoZNzF5hor3BHOzdfcRq7sLx8bXkxrhb+hKrCfeKzFNVFR1Fx5HuzfVQc+R66nE3opIxEdUkhrhb+JJZtbXkx2rn52pwC31IdPfwkI7jCd1lddBQVBftwf/deYqBubQVw0/Ir/+UbsfwAoK6qHB29ndtwasssTbVSKpXidNvk5E12PTtbVXV7tKdhD3ZYWC+nB2CWmObjxInjLV551rTh6CxCQ9r0+aCG+bA11Viwdu0X+HrbNsTFLTNbfEoIRpxF6ABpuJDOiUI1UvakoryiHDt32l7p3tFleLfz9/fHwIjBYp08ePAApk+fhjmvv46oyAhJB9aHy5fj4MEDZvt4/vlJqLxWifHPjMPbb72JhNX/EsspO/sQej/S22wbRxv2xDBx6r5Wq0VUZASWLF6M6NFP4ett2zB12jQAxsZaw0WzBEJHifBvYe0CnU6Hn3MOITDQuQslKpVKBAeHiJ0KX6xZIymLl15+xWZZzPjjVPH/YaEqyYJDBQVHWqVhOuyJYeL06OaUhVarxfhnxmHJ4sVi+ocMGQrAcgef3PR+pLf4fKzw/U6fPg39+xnbwhMmPAfAWJe/WGPenhw0aBBemz0bL86cgajICAwbNkzsTMzOzsbAiMGSDm1neOihhyQzvb5YswbRo59C9OinsCwuDh9+9Il4j4kZE21x5k5Kym7x/BDWtxBs3boV4eF9nJoHAHDv9SSqi41t8RvXruDs+j/h/PZF0KyZinYKd7gFG7/XqvP5KMvdYbZ9dUkhblaVQpezSfzlEuEnSPUX1bi/ey+nL5bbr19/JCdvEsvi888+k5TFu3PnwsXFBQaDwWpZCOdgWKgKv/76K/4wYYL4WUZGhjhD7W7S5laZbq9wh1voKFSdz4dH6OPo6OkvLmve0ftBBIx5VzxZrh7ebfH5T4/Qx6HwCcHVwgwo/MPElZ4BQPfrbnhHxJpt42huwX1xJe1z1EVOEgO+q8fTcF9HN7iHPiEG9XU116Avtrw4Vq2uBDcqL8MtdBT0JSdwy/tBdAp6BLXlxcaH9/1UFrdzJK+IiajU5EDh29P4/PWFI9CXnEAH927wH7tI7GiounAEHTpbnhbrFjoKt2qrxA6CTv6hgAK4fjYX7r2edHoehFWw9aWnofDtifvuV4jnlMI/DF0fjQFg7ISpKtwHn8hJFvdz9bixIW1afrfqaqHL2YSQmfZNCbsXNTYdOjw8HNHRY2wGgQ+HhiL70CFMmmT87o8dPYYnR94+N1JT90iejXMGoUdUp9OZBWHh4eEIC+sFjUbTolUss7Iyxcahswi97CUlJWaNnPDwcERGRtmVDyEYXrd+g9l+NGc0khugMwjHtLTKrlKpRP/+/XHxov1T7CyV4dWrV82eQ5WDWbNeE1cFjYkZK46+fRAXJzZKDQYDUlP34O+LFpltL0yxbrh6t06nw8cfLUdmlvN/OiQyMgrL4uLE8yMzKwcVFRX4y0svSc7XY8eOWV0kJmVPquS1UHe2b/8ab771Tqusavza7Nn4z/btCA8Px6LFi8UR1IZlceLEcYtl0TAPgjtRFiUlJY2WRXb2ISxavNRse6VSiXXrN0Cv10tWzQaAb7/dI64jIFcTJjyHqMgIzJgxU/L9enl5Sb6rvNw8q4vJxcSMxciRo6DX6yXbpH73HWbNes3pefD09MSbb70jrnounOsKhUJyjhQUFFhdTG7IkKEWz3ehQ6k1VjUWVob26vc0OnYNRMjML3GzphIduvhIAtmqMznwDB9ttr1bcF8onl8heU8YES7L2dYq8YlQFsJK49bKQq1WIzp6jMWy+PVwAbRardk5KHS03qlHN1qizQXEAODV9/fQ7llmXGU56BF0CnrE7G/q9JXopIy0+BlgXBW44c8aCb0w1rZxpPYKd3hGvIBK9SF49XnK6k8L3ai5anVRJ68+T1l8/2phBrwiJjq9FwkwLhF/Lmcr6h6NsfidCm7VVsFjkHkD2Voe6vSVrRpIekfEioG9e4/H4N7jMbO/uXHtstkCB+L2Vsqv6kIB3Ps+6/RR7rZMuPAVFBQgPDwc2dnZOHv2LNzcOqG0tFTSqBZW+W24ZP/AgQOxYf06rFjxifgzEsI24u8lOnmEwN/fH8HBISguLoanpyeys7NRUHAEvr6+Yj7efsfYsE5J2Y283DyLPxMhfKY5Y1y1MSysF5RKJXQ6Hc6fP2s2BdjRPD09ERwcgqKiIvj7+5vlIzl5k9iosJaP9PQ0fPzRcrz08iv45Zc8/PJLnpgPg8HQKlPsAOMU87KyMiiVSrN8rPnXapv5sHQuCh0rQsAnlKmcDBo0SNJJZa3x8kPaj40GhQ07SvR6PTb8O6lVAkkXFxd8+NHH4mtPT0+Lxx02bJjVOmct376+vuIIpbONHCmdsWYtTevWb7CYP2t/X1FR0eplIcxOsVYWv//9GKtlYW2EsjXLoq3y9PTEhn8nicGste936rRpjQYiLi4uZh0LAx4b0Go/jzNhwnM4deqU+NpSWgMDA/HZZ59b3N5avl1dXbFokX2/ZtFS7RXu8B+7CLdu1OK+9h2Nv1Ziof3nM+h5iz/Fae3vb9XVokvvka0SnwD2l4WlTjjAeC5ZO9daqywc7Xf19fX1zjxAUKAfVK9uc+YhnE6dEHvX5wG4d/Jxt1MnxKKo+OKdToZVQYF+OFFo32JpAuFnef78579Ao9EgPT0N2mItBjw2AI8+OkBs7Mx5/XU8OfJJi795aDAYxJ/BGTlylHjjNt23s6Wk7IZarcacOW+gpKQE3367R8yHEBACwIoVn0ClUlnMh+lPRgEQt0tOTkZV1fVWy4cQIJrm4+HQUAwcOFCSj86dO5ulSaPRmD1bK+Sjsc4AZ+Tjh/0/YMWnn5rlo3fv3uLzwNbOkcbKMD09DRk/ZjQpH2GhqjZXd5tTX9uasFDVXZ+He8W9UBZtsZ6auhfq7L0gLFR1T7SJd/2t351OQou0lfraJkeIiejuIkzpmjDhOckKxQ15eHiYjYgIXFxcLAaYX2/bhi3JLVuV3V4jR47Cyvh4zJgxE/7+/laD18prlVbzYSkPALBh/TqsSljtsLQ2RsiHTqdrNB8AMHWq+RTuxspQ+Hms1iDkQ5j+bS0f169fx4wZM83eb2yb9evX37U92UREROQ4DIiJqMU8PT3t6vFuzqhi6l7zxdqcxcXFxa7j3Sv5mDPnjSbv+17Jx8aNic1JEhEREd1j2twq00REREREREStgQExERERERERyRIDYiIiIiIiIpIlBsREREREREQkSwyIiYiIiIiISJYYEBMREREREZEsMSAmIiIiIiIiWWJATERERERERLLEgJiIiIiIiIhkiQExERERERERyRIDYiIiIiIiIpIlBsREREREREQkSwyIiYiIiIiISJYYEBMREREREZEsMSAmIiIiIiIiWWJATERERERERLL0u/r6+npnHiAo0M+Zuye6KxUVX7zTSbAqKNAPJwrVdzoZRG1OWKiqzdVd3mOJzLW1emqKdZZIqi3U1/bOPkBbyCQREdG9iPdYorsL6yxR2+P0gJiI7j5hoao7nQQiIiIiIqdz+pRpIiIiIiIioraIi2oRERERERGRLDEgJiIiIiIiIlliQExERERERESyxICYiIiIiIiIZIkBMREREREREckSA2IiIiIiIiKSJQbEREREREREJEsMiImIiIiIiEiWGBATERERERGRLDEgJiIiIiIiIlliQExERERERESyxICYiIiIiIiIZIkBMREREREREckSA2IiIiIiIiKSJQbEREREREREJEsMiImIiIiIiEiWGBATERERERGRLDEgJiIiIiIiIlliQExERERERESyxICYiIiIiIiIZIkBMREREREREckSA2IiIiIiIiKSJQbEREREREREJEsMiImIiIiIiEiWGBATERERERGRLDEgJiIiIiIiIlliQExERERERESyxICYiIiIiIiIZIkBMREREREREckSA2IiIiIiIiKSJQbEREREREREJEsMiImIiIiIiEiWGBATERERERGRLDEgJiIiIiIiIlliQExERERERESyxICYiIiIiIiIZIkBMREREREREckSA2IiIiIiIiKSJQbEREREREREJEsMiImIiIiIiEiWGBATERERERGRLDEgJiIiIiIiIlliQExERERERESyxICYiIiIiIiIZIkBMREREREREckSA2IiIiIiIiKSJQbEREREREREJEsMiImIiIiIiEiWGBATERERERGRLDEgJiIiIiIiIlliQExERERERESyxICYiIiIiIiIZIkBMREREREREckSA2IiIiIiIiKSJQbEREREREREJEsMiImIiIiIiEiWGBATERERERGRLDEgJiIiIiIiIlliQExERERERESyxICYiIiIiIiIZIkBMREREREREckSA2IiIiIiIiKSJQbEREREREREJEsMiImIiIiIiEiWGBATERERERGRLDEgJiIiIiIiIlliQExERERERESyxICYiIiIiIiIZIkBMREREREREckSA2IiIiIiIiKSJQbEREREREREJEsMiImIiIiIiEiWGBATERERERGRLDEgJiIiIiIiIlliQExERERERESyxICYiIiIiIiIZIkBMREREREREckSA2IiIiIiIiKSJQbEREREREREJEsMiImIiIiIiEiWGBATERERERGRLDEgJiIiIiIiIlliQExERERERESyxICYiIiIiIiIZIkBMREREREREckSA2IiIiIiIiKSJQbEREREREREJEvtFi9evPhOJ+Jeptfrce7cOXTt2tUp+62oqMDvfvc7KBQKh+6/tdwr+aB7x86dO9CtW3eHn4s7d+5AYWEhKip0CAoKknxWUVFh9/Ga8reO3FbYfu/eVBQWFqJdu/YOv64RtYQz6m5zz/mKigoUFxc7pY6o1WqL98vGrjFEd0JbqpONEdqird0OFa4Trq6u6NChg+R93mtbF0eInay4uBgjhg+z62/nz5+HzMzMJu13/fp1KCwsFN9Xq9WYP38ehg0bip07d0Cv11vcvqKiAq+88lcEBfohKNAPr7zyV+Tn59t1bGH71asTxO0bS/eyZXHi302cGIukpETJftavX4c//WkmMjJ+tPv4RM4y+7VXUV5ebvPvMjMzJeeyPfvdvHkzzpzRiO8J9bVvn95YvToBFRUVVrcX6mvfPr0xcWIs9u3bZ9dxTet6U7bV6/UYNmwoggL9JO/l5OTgk08+xrFjR+06PlFrsbfuJiUl2n2vLS8vx+zXXkVOTg6uXLli1zYTJ8aib5/eGDF8GIYNG4rVqxPs2s6WzMxMBAX6YcTwYejbpzdeeeWvUKvV4uc5OTnYvHkzUlJ2O+R4RC3lzDppKjMzExMnxoptzaZISkrEQ6oeknrV2L244XGF+2RTj7t6dYJ4nXhI1QPz588za7Nv3ryZ99pWwoC4DUncuAGXL19q0jbvv/8BoqKiABgr5ojhw9CrVy/Ex6/C5s2bsXTpPyxup9fr0adPH6SlZyAtPQOenp6YPXuWXcfU6/UYP34cjhw5gpQ9qXht9v/i+YkTGr2AfLV1O9LSMzBlyhTMm/uOGHwHBATg/fc/wNChjzcp30R32uXLl3D8+PEmbTNlyhRMnToNgDFQHTF8GLp06YJD2bkoKirC+PHjrHZi9enTByl7UpF/5BjGjRuHF2dOt+umbVrX848cw4ABA7B06RKrxxF8/vlnZu+xvtK94Pjx4y2619oyfPhw5B85hqLii1i4cBHef2+pJHBtia+2bkdR8UXkHzkGT09PrF+/TpLGKVOmOOQ4RC3R2P3F0n3LWp3U6/VW9zV+/LNQqVQAAB8fH0yZMgXzFyxsclrd3NyQsicVRcUXcSg7F8eOHcW33+6xa1sfHx8sXLioWcft2VOFtPQM8biJGzfgwIEDAAAvLy+MH/8sevbs2eT9UjPVk8MdPHiwPjb2ufq//vXl+oSEVfWBAb7iZ3FxH9THxj5X//jjQ+oTElbVFxcX19fX19cnJm6sDwzwrY+Nfa5+3ry59QcPHqwvLy+vj4v7oP7xx4fUx8Y+V5+YuLG+pqamvr6+vv7UqVOS/Qr7/utfXxZfHz58uD4wwLe+vLxcTNfBgwctplnY36lTp2zmT9ivkPb6+vr6xx8fUr9jx3/q6+vr68vLy8V/WxIb+1x9XNwHkvfmzZvb6DZEznLq1Kn6efPm1gcG+Ir1UKgHO3b8pz429rn6wADf+r/+9eX677//XtwmMMBX/G/evLn19fXGOii8Fxf3Qf3hw4fF4wQG+ErO8e+//74+MMBXrNM1NTX1gQG+Yh09deqU1Toh/G1z6kzDui7UV+E6UV9vrOOPPz6k/uDBg2bXmfp61ldqG4R7rVAHTc9roS4LdVeoVzt2/Mes7hYXF4v7EequcH+zdK8tLi4W67yQDtPXDTWlriYmbpTcp4X2gCVCXhq+11haiJzJtE4K90OhTgrtYaGtK9xPHVEnBZbqRH29eT0SjmFJXNwHTa5DjR1XOI5w3bB23Hnz5podl/fa1sMRYgdbvToBc+e+gylTpmD06NHYsmWz5POAgAC89977iI9fhaKiIvzzn0sBAMOHj/jv/4dj5swXERoaCr1ej4cffhhffrker78+B7t27cL27V9bPfa1a9fQp08f8bXwDJEwXSUlZbfVqVTClAx7nvVxp/0AACAASURBVFM4e/aMmBfB0KGP4+TJk+LxGk5nEWi1WmRlHsCjjw6weRwiZ1Or1eIobcqeVLMR327dumPBgv+DtPQMjB49WhyVDQwMxPwFCxEz9hmkpWdg1qzXAAAPP/ywOOsCAP7v/11t9djV1VWIjBoqPq+kUCgQ0kMp9pIfO3bUaj0SepEHDoxocp4b1nWhvgrXCb1ej/fe+yfeeONN+Pj4NHn/RK2hoqICz0+cgClTpuBQdq7Z5+HhfZB/5BhOqc9g9OjRmDv3HQDGUaVp02cgfmUCioov4v33P4BCocDrr88RR2quXbuGXbu+sXrsmpoaJG7cIL6+fPmS5LUp4fGE3r0fsStfDUfKrM0c0+v12Lx5M6ZNn2HXfomcTaiTf/nLS2I9MhUVNUSsk1OmTMHSpUsAWK+TCxb8H3E2xLVr15CentbstDWsR4kbN6CmpsZiHvbsSUGvXr2afayGxxWOI1w3LB1Xq9UiceMGxMSMdchxqekYEDvYli2bMXnyFIwf/yzGj38WkydLpy9NnToNrq6uOHv2DIKCgpCy+xvo9XoxuPTz84NKpYKXlxcCAgIwfvyzAIw33J49e2LXrl2NHt/P7/YzDF5eXpLPZs16TWy4m8rPz8fs115F/MoEs22aQrj4BQYGigGBKb1ej3/+cylixj6DUaNGNfs4RI4iBIfvvjsXffv2xcyZL0o+j4qKgre3N86dOwcACOmhRF5eHhQKBfz8/ODp6QmVSiXWX6G+Hjt2FO7u7kjZ/U2j05obTocynYo8bNgTFuuRVqvF0qVL8EHcckmnlD0yMzPN6rpQXwMDAwEA27d/ja5du4p5IWqL8vLyENJDifHjn0VAQIBZ3X3ooYdQWFiIDRvWIycnB2fPaKxOW/by8kJwcDD27duHpKREnD59Gunp6VaPrVKpUFR8UXw9fvyzktcC07oqTO205f33P5DUvaLiixbr4oYN61FaehFvvfW2Xfslcra8vDxERg3FqFGjEBAQgOefnyT5PCgoqEl10tvbG/v27cNHH32I06dP22z/NqZhPSoqvmhWJ/V6PRYsmI/evR/BhAnPNftYDY8rHEe4bjQ8bkVFBSZPfh7Tps+w+7EMcjwGxA529oxGEpSa/hswLrYxefLzyMnJQefOnQEYF8iypKKiAkGBfliwYD5ycnLQpUsXZGUeaPT4wigtYLwZmwoICDBrQGu1WsyePQvzFyxscQNYGJFWKBQWLzRvvDEHx44dxSefrGjRcYgcyXSEpeF5u3p1AiZPfl7SM11dXWV1XxMnxmLBgvk4efKkWL8bW1DkwIGfJK9NR5m8vLzM0qPVajF58vPo3fsR8Vlke+Xn5+P5iRPM6rpQXxUKBbRaLebNfQcPPvggdu7cgf37jaNbO3fusHuREaLWcOlSqWTUteHspqVL/4FPP10BPz8/REQ0PpOioqICgwc9hl9+ycPDDz+Mnj172rzX2iLU1cmTpzS5rtqyenUCtmzZjC1bvmpRJzaRI50+rZZ08np7e0s+X7BgfrPqZEREhEPqZGNM26jvvfd+q600bRqEL1z491Y5JlnW/k4n4F4T0kOJixdv9xSb/jszMxNZmQdwSn0GCoXCbEW9kB5Kyetvv92DyKih2Lp1GwDYXKmyS5cuyMvLE1+fP38egPVp0KY37FdesTw10xKhEaLVasUA+8CBn/DGG29a/HvTC82WLV/xp5WoTUncuAELF/4dCoVC0ltdUVGB999biq+2bkdUVBQqKiqsTmEGjAFnVuYB5B85Bi8vL5srZnbr1h1nz2hQUVEBLy8vMeAMCelh8e9Ng+GmdiqZdnzZquvTps/AtWvXkJOTA51OB8C4em1zpmcTOUt4eB/Mm/sOPvlkBRQKheTXFoTph4eycxEQEGDxFxSqqm53bGVk/IiYsc/g3XfnApDet5ujufdWe5gGw02dIULkTFFRQxAzJhrvv/8BgNttUMBYJ1J2f9PsOmk62ONoDduordXJJBwXgHgdozuHI8QONnnyFGzZshk7d+5AZmam5BniTp06AQBOnTqFzMxM8ZkmwZgxMcjJyUF+fj4qKirg5uaG0tKLyM/Px759+8yeR24oOvppZGUewPz587Bv3z7MnfsOpk2fIVbupKRE8WdihCkavXs/gpEjR0GtVkOtVouNcq1Wi/nz51k8jkqlQkgPJSZPfh779u3DK6/8FWfPaDBs2BMWt33jjTlI2f0NFi5chJqaGqjVarPRa6I7QQjyli79B/bt24cFC+aLn3l5eSGkhxIpKbuRn5+Pjz76ULJtt27dceDAT2JdF2ZIfPvtHmRmZuLTTxsPWvv37//fKZ/jsHPnDowfPw4hPZR46KGHABhHZYWfcRDq69kzGgwZMgR796Zi584dYgCvVqsRFOhncfqZsC1gnLGyc+cOq9sKq0gL/wmdXO+//wEb39SmPPTQQwjpocQf/zgdSUmJkvtpQEAAQnooxXtew19QiIiIwJo1/xJ/6iUkpAdSdn+DpKRErF6dgPffW9rosYU6IzCtqwDsrm+WzJ8/Dzt37hBfBwX6ia/37duH999bijFjYvDzzznivonagr59+yKkh1L8ec2W1Mlu3bqLdXLZsjisjDf/1QNTFRUV2LlzB3JycgBAvC8LTOuR8Fqog59//hlSdn9jtV41rJOm1Gq1zeNaq/vCcU3v6fb+9BQ5HkeIHWzGjJnw8/PDJ598DF9fP7z00sviQj19+/bF/AULMXv2LPj6+iEubjlSUnbD1dUVAPCHP0zA/v378NVXyYiJGYthw57AyZMnETMmGjFjn8Ebb7wpVjpL+vbti7T0DKxfvw5Lly5BXNxyq88j6PV68XlF059tiIkZi6ioKBw/ftxsOqepvXv3Ye/eVHFRhK+2brfaq+bp6Ylp02dIpp326tXL4dPIiJoqICAAh7JzsWvXN/jiizUYN24cevbsKdbJ+PhV+OqrZLz33j8xbtw4fBC3HN26dQdgDGgXLlyE9PQ09OrVC1FRUVi3fiO++GINunbtitdfnyPZV0MKhUKsR5s3b8Ybb7yJ0aOjxV7ibt26i9O5hfo6dOjjkoW/unXrDpVKJS7SYWk2iGldN71+CNu6urpi2vQZFtMpfEbU1pjWn5MnTyI+fhXOnj0j1oEvv1yP/fv3QavVmn02enQ0unXrLi6y07dvX3y1dTt++ikDAQEBSNmTKi4eaUnXrl0Rv/L2jK3evR+RvLY2WwowLqwT0kMpPrPfUEzMWMlidvErE8RZWQ8++KDkOERtjT118vr16zbrZFRUlKROHsrOxc8/W2//CiIiIixOxzatR8Jr4diPPz4MDz/8sNV92rPYVWPHFY4jXDfsPS61rt/V19fX3+lEUNMJq+NOmz5DDGIdadmyODz88MNOX1hHq9Vi1aqV4pRrLuRD96qgQD9ERg3FuHHjHN4ZlJSUiOvXrzt8emZDrK8kN8K9FjA2blt6zgsjTc6oO8Io9bTpM8Rpq0T3GkfXSVvHWrBgvvjoYmtpzTySEQPiu1RFRQUyMn4EYOydtncFS3tptVp4eXk5/ZkGZ+eDqK0Qpkm5urretdOP9Xq9uAhg165duaAPERER3fUYEBMREREREZEscVEtIiIiIiIikiUGxERERERERCRLDIiJiIiIiIhIlhgQExERERERkSwxICYiIiIiIiJZYkBMREREREREssSAmIiIiIiIiGSJATERERERERHJEgNiIiIiIiIikiUGxERERERERCRLDIiJiIiIiIhIlhgQExERERERkSwxICYiIiIiIiJZan+nE0BEbUtQoN+dTgJRm1JUfPFOJ8Eq1lcio7ZcTwWsr0S3taU66/SAmJWfyFxbughYcqJQfaeTIHthoSqoXt12p5Mhe+qE2DudBJvu9vNk19/63ekktNi4zw/f6SS0iDoh9q6+7oeFqu50Eux2N3/PRI7S1upsq4wQ3+0363vF3X7Du1e0tYsAEREREZFc8RliIiIiIiIikiUGxERERERERCRLDIiJiIiIiIhIlhgQExERERERkSwxICYiIiIiIiJZYkBMREREREREssSAmIiIiIiIiGSJATERERERERHJEgNiIiIiIiIikiUGxERERERERCRLDIiJiIiIiIhIlhgQExERERERkSwxICYiIiIiIiJZYkBMREREREREssSAmIiIiIiIiGSJATERERERERHJEgNiIiIiGdGXnsbVwp/E17fqalFddBS36mrt3kdteTH0pacl711MW9OkfbREenoasrOzxdc6nQ7p6WkwGAx2ba/T6aDRaFBSUiJ5b8nixXbvo6WuFv4k+Q7r9JWoPJNr17a36mrFcrxReUV8/0blFVw6uNnhabVm7dovzL5D03JpjPC3KSm7odFoxPdLSkqwdu0XDk/r3Uqn02HFik8k72VnZ0u+M3v20bB+pKTsRkFBgcPSaev4lvKg0+ns2t5gMECj0UCj0UjykJyc3KTvoSU0Gg2Sk5MlaUpPT7M7DyUlJUhJ2Y3s7GxJHlas+KTV8lBQUICUlN3i66bkwWAwiNtbyoO930Nb1SYD4jp9peSCfquuFlcLf8LVwp/svtnW6StRlrsT1UVHxfda+0ZReSZXcnOr01ei4sj3qC0vtmv7G5VXxHzX6Sut7tfZVqz4RHLDy87Oxtq1X9h18ut0OqSk7MaKFZ+YVbrWrEANL8YGgwEpKbuRnp5m1/YFBQVYu/YLs3xoNBreuGFsFJleZNPT0zB9+jSkpOy2q3Gp0+mwdu0XmD59mqQx1XC/zqTRaBA9+inJ6yWLF2PJ4sV23aw0Gg1WrPgESxYvluRBo9Fg+vRpTkmzJRfT1ojXPeHaeX77Ism10Jra8mJcOrgZZzbOluwHgN37cITqoqO4mLZGfK0vPY3z2xehLHen5FpoTcWR73Fm42yc2Thbsk3lmVzJfuXq8sFEKHxCABi/63Ob30JZzjac2/yWXWV8MW0NtHuW4fLBRFxMWyN+vx3cu6HydI5T0w4Yr9/L4uIQFBQEwHi9mTzpeez6ZhfGPzPOZiNfo9EgKjICMWOi8cWa2+eDp6cnACA/P995if+vOn0lrqR9jg5dugEwnrNn1/8JlYU/4vz2RZIg15LK0zm4fDAR+pITKNr5D7Ft08HdB4bSk61SV0tKSvD1tm3w8vICYAxOoiIjsGrVSkyfPk3SbrDk4MEDSP3uO6jVaixZYrzWAoC/vz++3rat1YKEtm779q/RuXNnAMZ75fTp07Bq1UrMevUVu9of1uqHj083fPjhcqemXbB9+9dQqVQAjOeNkIeoyAhJkGnNsrg4zHr1FcSMiYZWqxXfDwkJQVJiotPSbSopMREhIcbrpkajwfhnxmHXN7sQFRlhs52i0Wjw4swZUKvVSN6yBf37hYttI5VKZXdbtKU+/HA5fHyM15zs7GwxD5MnPW8zDVqtFuu+/BKlpaVI/e479O8XLraFO3fujO3bv3Z6+p2pTQbEV4+loV1HVwDGm8a5zW9BX3ICVWdyUPTN+zYbRPrS0zi7/k+4WVuDspxtKP72YwCte6O4VVeLsgP/RscuvgCMDbGz6/+EG9fLoN2zzK7AvCx3B/QlJ3Al7XPcrLmdZ4V3MMoO/LtVeuI1Gg1+/fVX+Pv7AwCWLF6MRX9fiOvXryMqMsJmw+PgwQPIy82DSqVCxo8ZmDzpefEzPz//VqtA27d/DT8/Yx6EC1lebh52fbML06dPsxm0HTt2DG5unaFSqbDrm134/LPPAABKpRIZGRmyvnHrdDp8/NFyDBkyFICxo2P9+vWYNes1/LD/ByyLi7O5j8mTnoe2WItZs17Dor8vFG8uw4ePwMr4+FYZsUlKTMRrs2cDMJ4jMWOiMeCxAXg4NBQxY6JtNu7KysqgUqmgOaPBlSuXxfeVSiUA2D1q0hK15cX4TadFp6BHAABF37yPqjM58I6IRVnONpTl7mx0+7qaq+jYNQgBY96Fwj8MJbuXiNdb74hYVKoznZ4HACjL2QZ3VRSA/wax338Gz/5jcbO2Bhe2LbB57evo6Y+AMe8iYMy7MFzW4Oox443e7YFw6IsLbAYb9zLh/texayAA4FL6v+AV8f/Zu/OoJq91f+DfqygEKBIGwQCiTWlB5YhVmWztrVqlgrbnWiw9HY72ql1ObXGq9/5WD6Fddx0UrbYOXVVPtQ5t1Hpuq6CxTre2gkFxOKlCTSMGIaIMwRRMEEp/f6TvJiEDAfJiMM9nra7KG96Xvd9h7/3svd+dmYickQ3/uGmoKdpvd3991S9oKD2Gwen/g4gX/hu/GX5Fg9oYQD4ydAzqivbxmwEAhYUFSEpKZvXSgvlv4b2VK7Fu/Xq8lJ6Oz//xD7v7h4WFoaRUidw1H1l8lvL889i0aSMv6TZVf+UkhPGvwkPghxa9DrU/bkX4f/wd4VOXor8wDHWKY3b3940cicgZ2Rg0YR7CUt+D7vL/9vizevhwPl5KT4eXlxc0Gg2yJe9j3/5/YufOXQgMCMThw/l2909Lm4YsiQSZmUuQlSWBVLqHNbAXLV6Mgwe/5T0Prs5gMGDtmtWYOjUVAHD06FEEBgRi585d+Hz7Dqxds7rD9ofp8zFr9pssCE5ISAAA3keJ27cR9u6Vsjzs2/9PZEve77B+zZJIIDv6ncX2kSNHorCwoMP9u0uj0aCwsAAjR44EYGwvTElJwbr167Hji91YvmyJ3XZKWFgYvvn2IDIzl2Dd+vUYG5+IwkLjMzpp0nNYu2Y17wNEXBuEu+6bNm3ErNlvYt369Vi0eHGHbTWxWIx169djzpy5yJJIEBk5FGfO/AgAmDHjJXy9f3+Pza7hg8sFxK0tTdAW7cGAx8cBABrUl9E/aAgGTZiH8KlLAQD3bl2ze4z6q8aKJmTcXxDxwn9Df+MsG5XtqYqioVyBvj4BrNGhvXgIwRPeRsi4v2DQ5HfMKi9bBk2Yh0ET5lls7+cXjP5BQ9BQzv9Ul4MHv2UFsXG6yB58Jd2LzMwlWLpsBf554IDd/bkKLy1tGt5buRJqdRkrvKdMmYK1a1bz/gBxhfGUKVMAAOfOnUNMzDBkSSRYt3497ty+3eGIQEZGBjIyMpCWNg0Zr7wCqXQP+2zq1FS3rrjPnPkRGRmvstGVLZ99iuXLVyAhIQGLFi+GVLrH7jVWqVRQq8vw3sqVSEhIwHsrV+LE8RMAjAVwTMwwKJVKXvNgMBggle5hFXZJyVXMe2u+8XpnZCAlJRUXLhTbPUZCQgLS0qZB/KjY4rPZs2dDduQIL2k3VV96Go9EGcvOZl017t++itBn58InYoSx7Lt6wu7+PhEj4B/9NDwDw+Ef/TQAoKmmHAAgGBSFhtJjvAeTTbUVuH/7KgvqG29cgH/cNPg9OgYh4/6C3xqq0HzXfhp8IkbAMzAcnoHh8BoohuGOsczp4+EJ/7hp+PXGRV7z4Mr0t3+BT+Qo9vNvDVVstFgw8FHcv33V7v5N9bfQP2QYPAR+6OPhiX4DBkGvKQFgDLJ/a6ji/R45/f1pjB4zGgBYffLEE9EAjGWGTGY/EPPy8rL52ciRI3Gu6Czv9VKz7g48fAMBgHV4ewYZR7wFohgYqn62u7+HwI/9u+luFfr6hrJtHt7+aCi1H1A7w+nTp5GQkAgAqK2tBQDExsYCABISE1FZUWlzXw43bXr3rl1ISUll9UhMzDAclcl4SnnvwY2Gcp0/P5eWIiEx0Wxbebna5v5coDh4cCQAYPjw4ThXdJZ9PmrUKKjVN5yfcBPXrl3D2PhEdm11d3WYOGkiALBRY71e36Vje3l5ISkpGT//XOqcxNpw4UIxkpKSWdkhle5BXFwcALCZKqYj19bSye1rMBhw5/ZteHv7sM9SUlJRUeHY7NGuqq6+Y9Y+OVd0lo14x8QMg1pd5lDHQl7eITYz4cknjeUwd23tnQNX53IBMdfQ6ecXDABoqr0J30fj2ef9hWFovW//wbmvrWQVTR8PTwiGJEJfXQag5yqKloY6eIU+0Zam21fbGh2hjwGA2ahvZ3mHx+J+Hb8PD2AMbsaOHct+Nq2wxGIx6+FyBBfUcNOreuoBqqurM/t7P5eWssIYAJKSks1G9Gzh3h/ZtGmj2cjC2LFjcfGi+zawlUolnoiONtsWGGh8/rjRUUeuMVdZDB4cadag9ff3573C5tLH3SPcrAbTNHTH4MGRnXpWuqr57i14+Bqfr9Zm4yiqaSP5t4Yqh4+lu34efX1D4Rk0GICxLO0fMgwt9+46OdXmmu5WwTf6ObNtffoL2L99o59j5bk9df/6DuoDWdAW7UHIU2+YHaupht/7yZWZBmKcvt7Ge6RPP9uBoqn+wjD2b8/ACLPPBEMSeb9HVNdV8PHxMdvGBQdcw7+ruHKI73qpofQYaxNw+nh4Gv/fX9BhxwSnWVeNmh+/QNBTf2XbuI54vjsmzhWdhbe3cTZf+zLa19fH2i4Wrl27BtmRI5BK92D4iOFse0BAANTqjp/zh11JyVWkpKSabTM9tykpqWhsbLS5PxdohoUZn1nuenGioqJQfN5+Z293tQ/EALDn117nlKOeiI7G7dsdt+G6o6qqCn4D/My2cWUNV/Y4wmAw4L9WrkRMzDA2Ugv0TDtHqVSyjkROUFAQgLb7w5GOieLzxTh9+jRiYoZBIGirm5OSku12zrg6lwuIm+5WoX/IMPZza1NDp49x//ZV9PMRsp/7ej3C/t1vgDHQduQ9tO5oqrlh0VBwpj79BWjW8VsAtJ++UVNTYxYYBAUFO1xhaTQaLF+2FLlrPmJBBwBkZLzK+wNUXq5GRsarTjlWQ8OvAGAxYmna4+pudHd1Djd+umL0mNGoqnI8kOuKmpoaXo8PoEcad/obZ9lrGt3RePMn3JatQsizb5mNRPUXhqGp/la3j29PRx2ejnpkyCgExadDMCQRNef/l20XBA/FfW3v7cXmA9c529rs2KiovqJtdpJeU4I+nr5tx+K5bgWAwIC2gJ5rkHEjxb2lQdbXN9TifHPtktb7erN2kC3Numrc/OYD+A2bCL9Hx1h8/m/9PJ2TWAfExJint6HBdpBmKiEhAVkSCQoKi7B2zWo2QtXVEcOHTfuOHwBm9aFMls/eCbWGG4DgOnis1XXtA72ewAWwzpiJwbXL+OTr+4jZz5GRQ1FSYuy06sx07U8/3QwA+LsDr5I52yOPPGLxXHLlJXd/cPeLPVkSCXbu3AV/f3+L1x65Ue/eyOUC4n7e/mY9o55BQ9DSUNupY/hGP4fmxrZgTl+hYAEyV/H36YGKwlbDrqdW4ewu08AVMPYkmY5yqdU3LHourdFoNHhz9iy8lJ6OtLRpZp+prqsQFBTsnATb4O3tA9X1tnds/Ab4OVxZmxKLxZgzZy5yclZhy2ef8v7OSm9h7Xxy0+e4RirX+2gPVzGWl6vN7qvi88UIDe1+kGcP10vKGT1mtFmnR319fbf/RmTk0I5/qZv6hwxD011jY4kb9eMa2S336tHXt+Pz2HjzJ2gOZUM0LYtNW+bc11bC03+Qk1NtznQ0mGNallobWbOmn18wfCJGQBg7xWxWkL66zGyE0914Bg1BU+1N9nP/kGForDTWuTpVEQvEWluarC4A6ek/iE2LbtHrcF9bCcGgx9nn929fhYf3AF7zMDhyMBsVE4lEiIwcinPnzgEALl26xDpAtVptp8tpriOYm93CF0F4LOtc4jrq7926htaWJjRcL2IzzFr0OqsjvabBcNCYF80+466baWcWH1JSUlmAxTWkudVnDx/OZzOHbF0H023cTC6ug0Ov12NsfCKv6e8N2s+YGj1mNE6fPs1W/AXapuy2X4EZMLbjTJ+PgoIzFvWr6WwoPkRGDjFrO4aFh+Hw4XwYDAa2nbt/rOWhI5UVlQgJsd0p4AwhIQOhu9vW2TclJQXF54thMBhw4UIxIiOHQiwWs9Wwrdm2bSvK1eX4e06Oxci46roKkZFDeM1DaGgofi5tm1qekpKKS5cuATC+ShgZORRCodBmHgwGA7s2BoMBqusqs7aZVLrHoi3Vm7hcQMxVpFzQ6CkUQXf1BJp11WiqrUBD6TEW3Dbe/Mlqhd3PbyAarhexrzD4raGKTftrbW5C/5BhbGoSXwSiGLNpeX4j/4y6y4eNq75e/d44FfGPaU3tV5F2RFPtTQhEMU5NszVj4xPNKjy1uoytsnzi+Ak2xUmlUlldNMg0GJ4zZ67F5+eKzrLptXwJCgoyG8GNi4vD4cP50Gg0UCgUkEr3sPcgbH2Vgek2rvDjCvCamhqHOgYeVlFRUWaF7NJlK5CbuxpyuRwbN2xARsarJouuSCz2F4vFiIwcilU5OZDL5ViVk2M2pb2+vp73ioIL2LnGcEzMMGz57FPk5R2CVCqFTJbP7hGpVGr1Xue+xqW+vh5VVVVmFXt5uRpJScm85gEAvEKfQEuDsWHpIfBD/5BhqC6UQl/1i3GhqmHG89qsq7a62rK+6hdoDmUbF/vx9kdTbUXbqFVLU48EO54DQs0CWJ8hT6L+0iHorp/H7TNfoq9vKAsgbp3cYjVY4Fbz11f9Aq3iKPxG/pl91tJQC88gfu8nV+YpFKFRVch+Dv33ufhVeQbKzekwVP2M0H83ltP6W0pU5q+y2F8Q+hiCJ7yNm998gPL9/w8+kaPgO9j43mjjzZ/QP2QYe+WJL8nJ47BvX9viXblr1uLw4XykTJkM3V0d5s4zrr1x5syPZqtIm4qJjsLyZUsgle5BTHQUW8jv2rVrPVKeC0Qx7N3rPh6eCP+Pv0N78RBufLkMfb0eQUCs8bWBBvVlsxkOnJrz/4vfGqqgLdoD5eZ0KDens/aQvrrM7J7ny/ARw6FQ/AuAMfDKXfMRsv72Pl58YTrEj4rZuh1Hjx7F3r2WKwlv3bIFKVMm4403XkdaagqyJB+yjvhTp05i/PjxvOfB1YWFhSEycigLfidNeg7jx4/Hiy9MZ7PuuCm77Vdg5rR/PpavWAEAbLzmTwAAIABJREFULCBtP7rvbKarSwPGBZjEj4oxKi4Wq3JysPnTz1gglpaawjpHTGVLJIiJNh4nLTWFtSW0Wu0f7/OOstjHmeLiRpkt+vbyyxkAgBdfmI59+/Yhd41x8d7KykqkpaZY7K9SqbB2zWrIZPkYFRdrVuZotVqcKzrLe8dETMwwFBYWsHbJ8hUroLurQ8qUyTh8OL/DPFRWVmJUXCwy330Xo+JiERgQiEmTnmP54zoFeiuPB52A9vr5BaN/yDDobynhEzECPhEjEBA/Eze/+QAAEDzhbTZqoVUche+j8Syw5ATEPY+6S0dQtv0/0T9kGML/4++sp/TXsvNmC4rwRRA8FNUnP0Hr+L+ij4cnAmKfQ53iGFRbXoNv9HMYNPkdAG1fveDz2mag3cDIrZNbWMOwfG+mcb8J84zfGakqhH80/5XF+PHjUVBwBgkJCRAKhdi3/5/IzV2Nc0VvYemyFXjtNePXyZSUXEXx+WKzdyIAY/CoVpdh7ZrVWLvGuLJhXr4MYrEYcrkcY+MTO/X+RVeYViixsbFISkpGY2Mj3pw9CwDMKpRNmzZi9uzZFg/1wYPfYstnnwIwdhK8t3Il6+ErKDhjFsC5m3HjnsLyZUvw9jvvQCgUYs6cuYiN/ROkX32FiZMmsgKztrbW5nu0X0n34sCBr7Fp00Zkf/Ahu49UKhVKSq7yXlF4eXkhI+NVHD16FBkZGRCLxcjLl2H3rl3wG+CHvHwZu0cOH87HwoWLLI7BvQvn7++PyopK7N61C3PnzYNIJGKrbvPNP3o8KvNXIeBPxq+Pinjhv6H7pQi1F75FUHw6Kzv1NdanlbY2G4wzbHR3UHf5MADALyoZHhEjoL+lhG/0c7wHO56B4cZRy5s/wSdiBPweHQPPAaGou3wY/fwGYnD6/6CPh6dxJK30GILGWDb8W+/fQ7V8LwDjeguPDDGW+a0tTdBdPYGIF//Gax5cmU/ECPT1CWDn1zMwHJEzstFUW2FWl+pv/4KA+JlWj+Ef/TT8HotHa3OT2SikTlmAoPh03vOQkJCATZs2QqVSQSwWIzY2Fjt37oJGozGrT6y9M8fJyzdfsInr4Ny0aWOPPKt+j8WjrmgfWvQ6eAj8IAh9DJEzstGsqzZ7xhquF0EYO8Vi/6Axf0bAyKlm27iOorqifQhLfY/fDMAY2CQnxWPGjJcgFAqRljYNkyY9h7q6OrPrcPhwPrKyLDtDsyQSaDQa6PV6szqXW1m5oJD/r/BydV5eXli0eDGOHz+G2NhYeHl5Yc6cuZgx4yUIBALWDlGpVBgbn2g1ILH1fHCrtfMdxHB5OHw4H3PmzIVQKESWRIK58+YhICCA5UGpVCIj41WrbcK58+bhtdfbvr6Qm0lw5syPWLpshcWMRmcTCoVYumwFzpz5EWlp0yASidj9a5peW6/ohYWF2SxzDhz4GkuXrXDK+9T2iMViJCUlo7CwAM8+O8FmHs6dO4ely1ZY3f/iJQUqKystRrkPHvyWfUtHb/Vvv//+++98/oGI8EGIWmD/axzaa7z5E7SKo2xVaaBtxJgb2W1tacKNL5dhyF/W2Bzt5Soa02OotryGobP/wftUIsAY0PoMedLs3Z7Wliaz9Oqun0fjjQtWV5O2pfHmT9ApCzq1DwAoN6ejpLRzq/VqtVokJ8WjoLDIrMDRarVmP2e++y4yXnnFIiC2J1siQcrzz3dqn67KyzuE4vPFyDIZoeR6ybiHWqvV4pWMl/HNtwetFkwGgwF6vd7iPCQnxePiJYXDhVlMdBRuVvD7HmZ3RIQP6vR9sm3bVvj6PoKMjAybv8P1hrafNm/PunUfISoqqlP7dJVKpcLCBfOtfrUDR6PRYOXK97Bzp+Pfe6hSqZCdLenUPoDxPuls2QkYyx2/qGSL6c7tfydg5FSLzkR71AeyMHDc62xRQD45UsZ1pRzsSnmr3Jzu8s9rZ++TptoKtDYb7F7LZl01+nr7dWo2VX3pD/B7LL7TM7AOvh3Xqd8H2mbt2GvMt2/odUSr1bIGb2dN/+RSp/fRV/2CPv287D6H7TsqOtKi1+HerWtW3ym2pyvtA8A4q+rxxx+3G5BwHReO0mq1uHbtWqfaBq5er3K6Ur8aDAYcP37M7n3JjVx2JjCUy+WIiIjgfVAC4DcPHd1/zuLIfanVas06KhyRl3cI48Y91SN50Gg0uHnzpt08aDQas44KR+TlHcKkSc91ah9Xe2ZdMiAGjBUr97Uf1rS2NOG3e7pOjVa06HVoqim321B0pmZdNe7fvW3377XodejTz7NTDYjGmz+h/4CQTo/UuFKFBxgfoJ4IdADHCmODwWDRs90RlUqFmpqah6ri7kqFTZyvqwExca6HMSB2NV0JiF1NVwJiV9LV9oGrcPV6lUP1KyFGrvbMutyUaY69YBgwjhT36WRA6CHwg0cPBcOAcfp3R0FrV0aqeyqg5zgS7HVlyk1PBcOAcRS4o7/n5eXV6Z5SsVjcq9+ZIIQQQgghxJ253KJahBBCCCGEEEJIT6CAmBBCCCGEEEKIW6KAmBBCCCGEEEKIW6KAmBBCCCGEEEKIW6KAmBBCCCGEEEKIW6KAmBBCCCGEEEKIW6KAmBBCCCGEEEKIW6KAmBBCCCGEEEKIW6KAmBBCCCGEEEKIW6KAmBBCCCGEEEKIW6KAmBBCCCGEEEKIW6KAmBBCCCGEEEKIW6KAmBBCCCGEEEKIW6KAmBBCCCGEEEKIW6KAmBBCCCGEEEKIW6KAmBBCCCGEEEKIW6KAmBBCCCGEEEKIW/J40AkghBBCSNcpN6c/6CR0S8zmB50CAgAx0VEPOglugc4zIa6HAmJCiAWqsF1Dbw90SM8oKVU+6CSQXi4mOqpX30e9qc7qzecZAKZ/culBJ6HbDr4d96CT0G29/Tq4WvuGAmJCiIXeXmE/DGKioxC1YP+DTobbc7VKmxBCCCHORe8QE0IIIYQQQghxSxQQE0IIIYQQQghxSxQQE0IIIYQQQghxSxQQE0IIIYQQQghxSxQQE0IIIYQQQghxSxQQE0IIIYQQQghxSxQQE0IIIYQQQghxSxQQE0IIIYQQQghxSxQQE0IIIYQQQghxSxQQE0IIIYQQQghxSxQQE0IIIYQQQghxSxQQE0IIIYQQQghxSxQQE0IIIYQQQghxSxQQE0IIIYQQQghxSxQQE0IIIYQQQghxSxQQE0IIIYQQQghxSxQQE0IIIYQQQghxSxQQE0IIIW7k1KmTOHXqJABAq9VCoVAgL+8QtFqtw8eQy+WQy+Vm27Ilkk4doztOnTrJ/r5Wq4VcLu9UHlQqldkxAMBgMCBbIoHBYOAlze3l5R2CQqEAAGg0GpYHR2i1Wpw6dZIdg0uzVqvFunUf8Zbm9rZt2wqNRgOga3nIyzuEvLxDkMvlLA8ajQbbtm3lLc29jek1NRgMUKlUyMs7BJVK1aljtH8+uPPeE5pqK1Bz/hsAQGtLE/RVv6C+9Ac01VY4tH+zrhqNN39CfekPaNHr2Pa6f30HfdUvvKS5PZVKBalUCsB4Hbhy05HrYDAY2LNx6tRJs+uwbdvWTl3L7uDOOwC06HXsZ9NzaktrSxN018+jvvQH6K6fR7Oumn12+8yXDh3DlblsQOzoQ9IZrS1NZheQb3z9vWZddY/eeBqNhpcGQk8VAHz+Pa1WyxoD7oyrGADzCrszjWONRoNTp06a3WtSqZQ1GPnGNYbbp6czDQZrDRWFQtGjjbv60h9YA6ErFR7X6Gi8+RNaW5rYZz1Z4Zk2nrifddfPO1wvNNVWoL70B9SX/mBWBjfe/Am66+ednt7exGAwYFVODgYPjgQAfPLxx8jNXY3ly5agrq7Oof2zJRJs2rQR0q++whtvvM6e87DwMBw9epTX9HNpWJWTg8cffxyAMQ+bNm10OA8qlQppqSnYvn07ZEeOsO1eXl4AgOPHj/GTcBNarRbLly1BVFQUAGDrli0sD444c+ZHHPz2IBoaGpGbuxqrcnIAAEKhEOXq8h4JdFQqFb7evx8ikQgAMHHCM53Kw7Vr16BUKgEAmzZtZHkQiUQ4ffp0j7cRXNWBA19j0CDjOa6srMTCBfOxb98+lJRcdWj/vLxDSE6Kh1KpRHJSPLs3YmKGYdOmjbyl21Td5cPw8A0EAOh+KcKt7z5GXdE+6KvLHNq/5vz/Qqs4iuqTn+C3e231kKdQhNoL3/KS5vZ279qFoUOHAjCWEbm5q7FxwwaHrkNlZSWy/vY+Ghoacfr700hOimflZmhoKHbv2sVr2jl3zuyCp/8gAECD+jLunNmFuqJ9ZufUlt/u6dB44wIAQH/rGm7sXsDaBP0eCUL9lZP8JbwHuGRA3FRbgar/MzYgW/Q63D7zJa7vXIxbJ7c4fAzd9fNsH+6CtTY34cbuBWaNPD7VXTqCRk0pAGOvzK2TW6DcnM56ZzpSX/oDKg6vhXJzullDsFFTitoLebykuT2DwYA3Z8+CXq8HYOzJynz3XcRERzm0v0KhwBtvvI6Y6ChkvvsuG5UAgOxsSY/1TsrlcmzcsAGAsSGSLZEgZcpkswDIHqlUipjoKJYPrqKuq6vDm7Nn9diIgqvKzV2NmJhhAIBVOTlYuGA+Nm7Y4FDjFDCe34kTnsHBbw/ixRems/M7dOhQ/PPAAd7Sber48WPwG+AHwNjQmzjhGazKyTFrMNuTl3cIaakpFhVkVFQUvt6/v0c6Tlr0OlSf/AT9BgwEAFQXSnHru48tGhG26H4pQk3RfrQ01EKrOIobXy5jn/X19O6xCu/XsvOs8VRf+gPK92ai5scvHG48/Vp2Hk21N9HSUIub33zAytz+A0JQ8+MXPVYHuKLCwgLExAyDWCwGAGRJJNi50/HG2OXLlyGV7sGWLVuxbv16BAYEsiB46tRU7Nj+OS/pNlVYWICkpGQIhUIAnc+DWCxGSakSM2fOtPjsP2bMwL59+5yWVlsOHPgaS5etYEF4lkSCrCzH6iMAmDTpOaxbvx4ZGRnIypJAKt3DypiMV16B9KuveEm3qYMHv8Ws2W+yn0tKlZ3KQ0JCAjIzlyAtbRrLAxckzJw5EwcP9kyg48q0Wi3WrlmNKVOmADDeu7Kj31m9d21ZvmwJdnyxG5mZS5Al+ZAFwVwZwHc7rFlXjYbSY/B7LB4A4B/9NB59YwME4bEOH2PQhHkIn7rUYrtPxAjcr7nB+2CXRqNBYWEBRo4cCQBIS5uGnTt3ISkp2aH9w8LCIDv6nfF5lUgwNj4Rly5dBGB8lk3vfb403vwJACAIfQyA8TpEzsh2+Dr08wvGoAnz4B/9NELG/QX9Q4ahQX0ZAOAXlQht0Z5eXbe6ZEBcd/kwhKOmsZ89AyPgI05yeP/60h9Q8+MXGDT5HfTzG4jy/f8PrS1N8BD4wW/kn6H7pYiPZJtp0eugLdoD30jjw9OnnxcEohgIhiQ6fIx+PkL4RT9jsd3vsXjoLv9vj4zWHD9+zKzhERoaioREx/Nw7949LFy4CAWFRZj+wnQsmP8We+gXLlzkcLDRXZs2bUTGK6+wn0ePGY0pKSkO7z98+HDk5ctw8ZICCYmJyM42VvpisRhJSckoLCxwepp7C64yNW1gy45+53BFodFokC15H3n5Mqxbvx4vpaezhtDIkSNRWFjQI8Hkxg0bMGnScwDaGsyLFi92eP+0tGkoKVVa5NvLywuzZr+Jw4fznZpea+qvnIQw/lV4CIyB/aAJ8/DoGxsc3t83ciQiZ2QjaMyLEE1ehN8aqlgl6j98Qo9UeO3LTv/opxG1YH+nGk9BY15EyLi/IGjMiwiIn4mG68Yyv59fMAThsWgo75lZB65IpVJh+IjhXd6/uvoOxsYnskBucORg/Fxq7PgViURQq8t4H9k7/f1pjB4zmpdjR0VF4VzRWd47OSsrKhEaGtrl/bnzDwDl5WpERg5lI7URERGQyfgvby5evIjhw7t+LwFts2qysyWY99Z81taIiRmGozKZM5LZq3Gdytx56SzuWQwKCgJgbMucKzrLPh8/fjyqq+90M5X23b97G/1DhqGPhycvxxeEx7LBJ75cuFCMpKRks+euM0z302q1uHP7Nry9fdhnGRmv4tq1a05Jqy3NjVr0F4Z1+zj1pT/g9pkv8VtjHaunPQR+6Osbiua7PTcL19lcLiBu0evQUHoMvoONjR8PgR/8o5+GZ2CEw8fQa0oQED8TgtDHEDTmRQBAU81NAICfOB53rxx3fsLbaVBfhm/0c6xh6hkYDv/op9HX6xGHj+ETMQJ+j46x2N7HwxN+I//Memb4dOL4CaQ8/zz7OS1tGsaOHevw/gkJCUhISIBQKMSzz04A0FbAjxw5skd6xVQqFc4VnWU9e0KhEGlp09hUNUfExsZCLBbDy8sLISEDcef2bfZZyvPP4/T3p52e7t6irKwM48eP7/L+3OwDLqBOSEjEls8+BWCsKJKSknHhQnH3E2qHSqWCWl2G2FjHg67OGD58OK78dIWXY5tq1t1hI6tdwZVXANiIcv8BIeyznqjwmu/eQf+QYWZp6Qpu6ndd0T74PhrPtgtEMdDf4rfh4cq6G4gBgPhRMft3+3I0JSUVNTU13Tp+R1TXVQgOHsjLsbmGa2VlJS/H50ile9ismu5QqVRYMP8tZH/wIdvGBcZ8dySeKzoLb2/vbh+nqqoKAKC729bJHxAQALXasRkhD7OSkqvIyHi128cJCAgAAIvrFRoaiuLz/NavzgrEbPEMGoKWhlrejg8Y79Gw8O7nwWAw4IPsbCQlJSMhIcHsM747Jppqb0IginHKsZrv3kJfnwD83tzWQS4Ij0XT3SqnHP9BcLmAmGuEdacnSV+hQD+ftt40QXgsmupvAQA8vAfg/m3H3rvojqbam/AMGsLb8T0DI9BUe5O343NksnzWs9hd27Ztxdj4RISFGQsVLy8vjI1PREWF898XN3Xv3j2zEY2uyss7hJjoKIvGR1BQEKTSPd1NZq/1c2lptxvYptpX2E9ER7MGE19qamoQGTmUt+N7e3v3yIhNQ+kxCIK7n4/WliZojm2EMP5V9PMLZtt7osJrqr/llMZTk1bDRob79Bew7f18hGi+e6vbx3dnpjNiis8Xs1cNAGMD3ll1hi2BAYG8Nx75Fhk5FPfu3evWMTQaDRYumI8dX+w2a1xzo9sCgcDWri5DLBZjzpy5+PjjTyCV7mEjmlxHqbsLDh4I1fWuz7jgAmFuIMJaZ5UzAr0HqfnXmm51BDvC1/cRVFZ0r5PMYDDgv1auBAC898f/e1JfT2+03u/+c+Uf/TTCpy5FX4Ef7l47w7b/ZvgVfft1r539ILlcQKyvLkP/kO71mvb1CcBvzdanO3GNO77fN2htajBrhPH1N/jkzJFbuVyOr/fvR07OKrPAVPyoGGr1Daf9HWvU6htmIxpdNW7cU8jLl2HeW/OR9bf3nZAyYk374LSh4Vf4+jo+s6IrvL29H4rRiL6+oWi1UfY5qrWlCZrvNqKvwI/NsOmNAv40GeFTlyLk2bdQ8+MXbLutusFdPBEdzRYysodblba9J58czaZFazQaqK6rkJw8jn2uVpexRjhfBkcOduj3VCpVp9+P5Oo9bsYKX5KSkh2q+2zlQaPR4M3Zs7Bo8WKLkSZudLur02wd5ehsAHt54IJ3rmOcu3f0ej3Gxjv+etbDKigoyGyKsz3WFrIUCoUYG5/IFqwsKDhjNuJcfL7YqR3a1nj6D4K+wrHXVBxdANJUa1OD2SAYH0JCBqK+vr7D37NVbpoGw3/PybEYoFFdVzllxog9Hr6BaKrpuMxp0eusrnXUotexa9Oi1+F+zQ30Dwhnn+tvnIWHt7/zEtzDXC4gFgQP7fYIbn9hGFoa2hbzaSg9xlZV4xanMh314EM/v4G8T+Ho4+nL6/GdVZnK5XLM+utr+Hz7DjaVi8Mt8MKnmJhhTnnHVygUQiwW4+WXM6BWl5lNR+NzdNHVOdrA5lafbo9rAHFfu1FQcMbs/e7KikqEhPAzPZITGBjI0tgRjUbT6c6impoapKSkdiltnWE6G8ae1pYmqys2c8EwAIgmL7L4vKH0GDwHuE7jqam2wuo7zaYNquZGLfr6tAVorff18BrIb7DjysaOHYujMhm717mZLwCQlprCFhq8du0aW4jQlEgkQu6aj7BwwXy8OXsWZs6cyV5HkcvlGBufyHsglpw8zmzhq2yJxGoeSkqu2lynIiY6CsuXLTFOXY6OYo3YM2d+dMoU1Y6MHjMaJ46fYD9nSyRIS01haesoD1u3bIFaXYbly5awBR+58vXcuXNYumwF73mYOGkiCgraRoja54E7p6dOnTT7Pc7evVKMiov941osRe6aj9i9c+rUyW69ivOwEIvFGBufyDoUVCoVu3e5a69SqWAwGGyusp6VJUFlRSVGxcVCd1eHufPmATDWd4WFBXjySX7ex+d4BhlfeeTqnKbaCig3p6Oh9BiqT34C5eZ0AMb6p/rkJ2bTcDncorQAUL43ky2yy71m6RnkWCdZV8XFjYJMls/qfq7clEr3sOsAGEfira2yXllZCZksHzJZPrvnuedDpVLhzu3bbPYkXwTBQ9FQeozVmfWlP7DrUL43k53f3+4ZF+ds7/fmJpRt/08oN6ejbPt/QhAey15v1Vf9gv4hw+AZGG6xX2/h8aAT0F5fb+PUqxa9jr1D1lRbgZaGWvxm+BVNtRXoNyAYfTw8Ufev7+ApFMEnYoTZMXyGPImaH7+Ah28AGm9cQF/fUPZAttyr79TCVl3VPyAcutLv2c8teh1+u6fDb4Zf0dJQi6baCnbj3Dq5BUFj/mwRpDfrqtH6R8HQdLcKffp5st/Ra0qc9i6APSkpqSgvV7Peco1Gg/JyNQDjQywQCCASiSCXy1FWVoaMjAyz/RUKBWb99TUsXbYCer0eKpUKYWFh8PLygsFg6JHRBIFAALW6DAaDgf3dyspKVFVVob6+3ixNUqkUQ4cOtehxz8s7hMjIIbh37x5kR45gbHwiC+7Ly9UOLyD1MBo6dCh2bP8cmZnGSiAv7xCrELip5CWlSlRWViItNQUlpebBs1AoxOZPP2Oj7klJyWYVtlS6B2+/8w6veRCJRBgbn4jLly+za2+6krpUugd5+TKIxWLkrl6NiZMmIi1tmtkx2ud7+bIlbB+F4l/dWsjIUQJRDPSaEvhHPw3AWLY0lBq/QqZ8byZ8o5/DoAnzoL+lxO1Tn1ksuKX7pQj6G8bRCNUW4/+DJ7wN/+in0VRbgb6+oeg3gOfOxAED8VtDFZp11ejnF4ym2gqU780EANaAGvzyOngGhqN8byb7t6my7f8JwZBE3P+jN3zQ5Lb75+6V4wiKT+c1D66MWwiQu9fT0qZZ3MsAoFD8y+aicmlp09gCdKYjHdKvvsLChZYdKc6WkJCATZs2QqFQIDY21rhCs5VvDFAqlWZrYJhqXw5x9u3b16mVkrtq0qTnsHHDBmg0GohEIpt5OHH8hNXrYOv3DQYDdmz/HJ9v38FLuk1xeZg1azaEQqHNNJ0+fdrqOc3MXIJZs2ZDr9ebdZZzKysXFPK/AGpvwC1AmpCQwBZ8bE+hUGBsfKLVmQ1isRhZEgnefucds84qbtHU9gMVztbHwxMB8TPxa9l5eAaGwzMwHFEL9lv8nv6WEr7Rz1kdsBo0YR4wYZ7Fdp3yrNlCknwRCoVYumwFjh49ioyMDJvlZnm52mpnlK3rBhg7fxYtXtzt1/o64hkYDt/o56D7pQj+0U+z/9prrLyK4AlvW2zv5xeMqAX7zeIXTv3Vk2aLIfdG//b777//zucfiAgfZPXGt+fWyS3wDBqCgD9NZj+b4oLH6zsXI+TZtywCYoD7HsrT8AyMgN9j8eyd5Fsnt8BnyJNWF6typtaWJtz4chkiXvwb+vkFG7//Umk+Sjlowjw01VagMn8VhvxljcV703X/+s5segN3Tlr0OpRt/08Mnf2PThUCys3pNh9IW+RyOTZt2si+0kIqlbIVRQHj6GBGRgb7ntU5c+Za7N++d3vuvHkQiUTIyzuE4vPFVitQZ8uWSDB6zGikpU2DRqPB1i3m9xSXppQpk5G7Zq3F4kqnTp1kC2eNHjMa48Y9xSqWN954HQsXLrIIom2JiY7CzQrXfYcxInxQp+8T03Og1WoteqnFYjHy8g6hqqrK4h7hGAwG1NXVmVXOeXmHoFQqWbDNJ7lcDulXX2Hd+vUALL+3muu9HRUXi4LCIotRMGv5DgsLg16vR3JSvNV97ImJjup02dm+3DHtVAPAOtVqzn8DD99Ai8qQ67gz1dfbDx4CP9w+8yU8AyOsVqDOxn0HcdCYF43f595uIa9+A4LRfLcaVf+3FZEzsi325/Yx7UQE2r7Sz9o+tig3pz90z6tWq7UIQtrTaDQICAjoVCNNpVLxPtWYw43U2HumuGDTUVxnaU/lQaPRQCAQ2M1DZ89pV/MQEx3V6fsIcOw+6Uoe2tcFHXH1epXTlecV6PgcOvI8tOfI/WfN9E8uder3gbYy2d4IIjezpzPt2mZdNfp6+3V63aGDb8d16vcBx+5LrVYLgUDQ6XKTG5TpjK5chxa9Dr83N9mdJduVc2o6WOkoV6tbXTIg5oJEe18X0qLXofZCHkLG/cXh4zbrqnHzmw+sBp98qC/9AS0NtXbfw2u8+RN+azZ0KkA3bSx2RlcCYsAY7OTkrLJbCGzbthUzZrzUqYI1ZcpkbNr8aY80PlQqFbKz7X9XpUajweHD+TYDNmsUCgVyc1d36jswXb3i7kqFrVKpUFNTY7dToCsVhVwuR0REBO892Jy8vENWe305XWmoOXJurOlKQAwYpy716edlt+HRlQqvvvQHs85FPrXodbh365rdcrErjSduyl5npnW5WqXdXlcb2ISY6mpA7CpcvV7lPAzPa1cCMVfTlYDY1fT26+BqdatLBsSEH10NiIlzuXrF/TBU2A+DrgbExLlcrdJuj55X4gwUEPeMh+F57e1d0x6CAAAgAElEQVSBGEABsStwtbrV5RbVIoQQQgghhBBCegIFxIQQQgghhBBC3BIFxIQQQgghhBBC3BIFxIQQQgghhBBC3BIFxIQQQgghhBBC3BIFxIQQQgghhBBC3BIFxIQQQgghhBBC3BIFxIQQQgghhBBC3BIFxIQQQgghhBBC3BIFxIQQQgghhBBC3BIFxIQQQgghhBBC3BIFxIQQQgghhBBC3BIFxIQQQgghhBBC3BIFxIQQQgghhBBC3BIFxIQQQgghhBBC3BIFxIQQQgghhBBC3BIFxIQQQgghhBBC3JLHg04AIYQQQrouJjrqQSeBPAToPuoZdJ4fvJjNDzoFxNVQQEwIIYT0YlEL9j/oJHTLwbfjHnQSum36J5cedBK6Rbk5HSWlygedjC7rTUFmbz7PhDiLqz2zPRIQKzen98SfIQ5wtRuQEGLbwxAo9HY0kkAIIYQ83HokIKbeMNcQEx1F18IFUKcEIYQQQgghroEW1SKEEEIIIYQQ4pYoICaEEEIIIYQQ4pYoICaEEEIIIYQQ4pYoICaEEEIIIYQQ4pYoICaEEEIIIYQQ4pYoICaEEEIIIYQQ4pYoICaEEEIIIYQQ4pYoICaEEEIIIYQQ4pYoICaEEEIIIYQQ4pYoICaEEEIIIYQQ4pYoICaEEEIIIYQQ4pYoICaEEEIIIYQQ4pYoICaEEEIIIYQQ4pYoICaEEEIIIYQQ4pYoICaEEEIIIYQQ4pYoICaEEEIIIYQQ4pY8HnQCCCGEENJzdNfPAwD8Hh2Dxps/oUmrQev9e/AJHwFB6GMOH6P1vh5+j8Wjj4cnAOD2mS8R+GQaPAR+vKWdk5d3CJGRQxAbGwu5XA6F4l/w9X0EY8eOhVgstruvwWCAUqmEWn0DwcEDkZCQwLavysnBeytXwsvLi/c81Jz/Bo8MHYN+A4Khv6WE/vYv6NPfG48MGYV+fsF2923R69Cgvoym2psQDHoc3oMeh4fADy16HaoLpRg0YR7v6QeAbdu2YurUVAQEBKCwsAAqlQq+vo9g/PjxEIlEdvdVqVQ4d+4cfi4txfhnxiMubhSEQiE0Gg327pUiM3NJj+TB1Wm1WuzYsR2ZmUug0Whw4UIxlEolkpPHYeTIkQ7dqyqVCqdOncSMGS9BKBQCMD5DPj4+ePbZCXxngf39OXPmsut+65bG4Txw+QaAceOeMssDVw7wTaFQQK2+gbS0aZ3Og8FgsPl8bNu2Fc8+O6HDcssZTp06CQB49tkJUCgUuHLlChoafkVCQmKH59BgMOD48WMoPl+MJ6Kjzcrades+wvTpL/RIHvhCI8SEkG7TarXQaDRm2wwGQ6eP034fjUbTpeN0lUqlspuerrB2bvik1Wqh1WrNtnU2H9Z+v/254ZPBYHDKtWi/j7Vz425aW5pQ8+MXEARFAgBun/oMANCnvzduffcxGm/+1OH+6gNZ0JV+D72mBDe+XIYWvQ4A0NfTG/VXTvKbARiv4/JlSxAeHg4A2LRpI0JDQwEAaakpHd6rlZWVyM1djX379kF25Ajb7uXlBb8Bfjh+/Bh/if9Di14H3dUT6DcgGM13q1FTtB8evoFovX8PN3YvYOfUFi4Y9gyMgK70e1QXSgGAdUZ0dB2dQaVS4fTp0xCJRKisrMT27dsRGhqKhoZf8ebsWR0+szU1NQCA0WNG4+C3B/HJxx8DAEQiES5evAiFQsF7HnqDAwe+RlRUFABg65YtqKqqQlRUFDZt2ojdu3d1uL9UKsXCBfMBAMlJ8SwoiokZhlU5Ofwl3MTuXbtYsLR71y40NPzaqTzs3StF8fliLF+2BHV1dWx7cPBA5Oau5i3dpnJzVyM4eCAA4ODBbwEAUVFRyPrb+x2WGe2fj4kTnmF1UWzsn7B7V8fnwBm2b9+OwYONZf/yZUsBAL6+j2D5sqWQy+V2962rq4NSqcToMaMBGMtaLg9RUVHsvuqtXDIgNhgMyMs7xH5WqVSQy+Wdbsi030er1fboBePSDbQ18ORyeacadhqNBiqVymwfhULRo41T0/Oo1Wr/6I13vKLSaDSQy+UWQUFe3qEeC3a6e09ptVrWw2m6D5c3d/fJxx/j559LAQCZ776LmOgojIqLRbZE4tA5VqlUyJZI8OIL083ui8OH8x2qLJ1BpVIhO1sCwHjPp0yZjFFxsXjjjdcdusZyuZzl3fRe0+v1DjUOneWdd95mDYY33nidXYt16z7qMA2m+U6ZMhlSqZR9tnvXrh67148fP8bKaqlUyvLwxhuvO1T2rFv3Edsn8913WXl57do1vPPO27ym3dU1lCvQP2gIG4F89I0NCPjTZAT8aTL8hk1EQ/m/7O6vv6XE/dtXET51KQZNmIf+QUOgU54FAPgPnwBt0R7e83DmzI+Y99Z8Nkq0c+cupKVNQ0ZGBjIyXu2wnheLxdi5cxdmzpxp8dmkSc9h44YNvKTbVP2Vk/AbNhF9PDzhGRiOyBnZ8I9+GkFjXoRgSCIa1Jft7u8f/TRCxv3F+P+n3kBD6TE066oBAH5RydAqjvKeh4MHv8XUqakA2s5pWto0zJkzFwBQWFhgd/+EhARkZGQgLW0aFi1eDKl0DyujFi5c1CMdE65Oq9Vi7ZrVGDfuKQBAlkSCOXPmIi1tGpYvX4G1azoOBrMl7yP7gw8xZ85c5K75iAXBYrEYMTHDeC/XNRoNpNI9SEpKtsjD7Nmz8fX+/R0eIzNzCbIkEovt3OwOvtvEKpUKd27fZn8vM3OJ2b27b98+u/u3fz5SUlJx5syPAICRI0dCKt3De8c5d525jgnZ0e/+KDMzMGv2m2adg9aIRCJkZi5hZW1k5FBcunQRgHHUfu2a1b26w9klA2JuSB4wBk0LF8yH7MgRJCfFY926jzrcX6PRIFsiwaZNG/FKxsuscSoQCLAqJ6fHgknTSnVUXCyysyWQfvUVRsXFOtSoy5ZIMHHCM0hLTUFlZSXbfu/ePdZw55tWq0XW396HQCCASqVCclI8ZEeOIDd3NVKmTO6wgZ2XdwgTJzwD2ZEjeHP2LGS++y77TKlU9liFd/z4MVRVVbE0md5Tpo1+Wz75+GNs3LABp78/jeSkeGzbthUAEBAQgFl/fa1XFwLdpVKpUFhYwCq7iZMmoqCwCBcvGe/xAwe+tru/wWBAWmoKnoiOxufbd+DE8RMsCJ4x4yWsXbO6R4LJ3bt2Yfbs2QAAb29vbNr8KUpKlZg5cyay/vZ+h2kICgpCxiuvICUl1Wy7SCRCUlJyj9zr7Su8mTNn4uIlhfF6XLyIy5ftN7K9vb2R/cGHKClVInfNWmRL3mflZcrzz2PTpo38ZgDG+2Hjhg1sGl9IyECcOPk9SkqVmDo11aHRgJdfzsDFSwpcvKTA4MjBrPe9pxpPrux+XQW8wy2nxrW2NKFRfRGCQY/b3b+5UYv+IcPYz14DxWiquQGgbXSyqbbCiSm2VHy+mI2YmeKmJcbG/qnLx46NjYVaXcZ7mW64o0L/gHCL7S16HfQ3zsLTf5DDx2rUlKKvbyjr5Og/IAT6G2edllZbLl68iLFjx1ps12g0UKvL2EiUPSqVClKpFNnZEixdtoJNOw0KCsJRmczpae5tuM5NrvPH1JUrVzA2PtHu/lxZFxQUBMA4KqxWl7HPh48YjurqO85KrlU3b95ESkqq1SnFly5dwpSUlG4dX/yoGCUlV7t1jI6UlFxlbZz2is8XY/z48Q4fS6PRQCbLR0yMsRz18vJCRsaruHnzplPSakt19R2MGjXK6mfys2cRFh7m0HHy8g4h8913MTAkBHFxxuMJhUJERg41G73vbVwyIN64YQP+Y8YMAMZeh2++PYgsiQQnTn6PLZ992mFFtXevMcDZsmUrNm3+FMuXGd+78PLywqLFi3tklFilUqGk5CprgJ04+T127tyFdevXI0vyIT7/xz86PMbcefNQUqq02M4dsydGaw4c+BovpafDy8sLYWFhKCgsQpZEgp07jQ3MjnqAx417ChcvKZAlkeAr6V7IZPmsF2z69Bd6pCe+fQPb9J7at/+fyJa83+E9lSWR/HHtJNjxxW7WK+vl5YWly1Z0GPQ9zLiKgqvs0tKmQSgUwsvLC09ER6OyotLu/lxnT0ZGBkQiEaa/MB2nT58GYCxkMzJe7TCQ6y6tVmvWgx0bG8uCynHjnoJaXdZhQS8Wi5GQkAB/f3+Lz1Kef5518vFJduSI2ahXWto0eHl5QSgUIjAgEGVlZXb2NuabK1+494nu3bsHwFjunCs6y3swyd0P3Pl/9tkJ7F2r4cOH41xRxw19kUgELy8v6PV6AIDfgLZ3WqdOTcW5c+ecnexeo1l3B336Cyy21106gr4CP/gO7vhdvP7CtoZTn/7eZp8JhiSi5V599xNqR2FhAZu6yDEYDPivlSsREzOM3cPdwXfDTn/jLDwHhJpta21pQtWprRDGv+rwu9yNN39C9clPMGjyO2wbFxjz3TFh7Vk0GAzIXb0aS5etcPh9Ql9fHwQGBOLKT1fYtoCAALPAzV2VlFxFRsarFtvlcjl2bP8cOTmrHDpOQECA1e2hoaG8103V1Xes1otyuRxHZTK8/HJGt47/RHQ0G/Dgi1KptBowbtu2FYWFBZgx4yWHjmPv+eC7Y8JWRyI3wPPaa687fKzBkYNx5/Zts3IyKSmZ944JPrlcQKxSqaBWl7HGGNewBsAaNx0pV5dj9JjR8PLyglgsxtj4RDadMyZmmEPTM7qrfW+S6eISDQ2/Wi0c2rO3IMX48eM7bNw6w9f79yMhwdgDyTWsgbZ387y9fezub3r9ONx1FIvFUKvLeqSBrVaXscLHWpoEAssGYntarRYKhQKyI0fMKqiEhESzitzdFJ8vZu+UmNJoNNix/XOkPP98p443eHCkWUPLb4Af7xUFV6hb68H+5OOPkZHxaocLxNgTFBQEqZT/qaSq6yqLQAEwvmYhk+V3qhd727atGBufaFaBpqSksvf++GKrJ95gMCA3dzXmvTXfoeNkSyRITorHls8+xfTpL7Dtvr4++Lm01GnpfRjUnP8GhjsqiCYvYgtk2dNQ2jbboanmBvp4+rKf79fcgId3x/Vbd8TEDDMrE7hgGAD+3kPvRHZXX99QtDa3zTppbWmC5ruN6DdgEILGvOjQMZpqK6A5lA3RtCyzALq1pcn4N7z5X9zMFHcdho8YzqZNd0QsFiMtbRr+npMDmSyftQd680iTMwUHD4TqunkbSS6XY9ZfX0PumrUd1ktcIMydT2vlt6Mjg84kl8uR9bf38fn2Hd2qWwHg1i0NW0OAL1FRURad+9u2bcXX+/fj8+07rI7gt9eV58OZrHUcbNu2FadPn8bfc3IcXkgwLW0aMjOXICkp2WyAsb6+3mr7o7dwuYC4pqYGkZFDLbZzo3xZkg87vPFksnxERg5hP4sfFaOxsRFAW68j31MwbQUJcrkca9esxmuvO94TY01oaCjvjTqDwQC1ugze3t4Wn+3evQsDQ0IwcuRIh4/1QXY2MjJeNesV64kGdk1NjcU0Vi5NubmrkSX50KGC4Nq1a8jNXQ2pdA/GP9MWWHh7e0Mmy3dqmns7jUaDN2fPwkvp6d0erYmKioJSaTlTwpnKy9VWy51t27aivr4e7/3R2HZ154rOsqlxHI1Gg+XLlmLHF7sdbnicOnUSX+/fj5ycVWbPhr+/P++dE9ZwDYnAgEDMn7/AoX24WUXz3ppvNhMlMnKIRQPTnQhEMdBrStjPNee/QaP6okUw3KLXob70B4v9fUTRAIyrTDfVVkBfoYDvYOMU5daWJvzWUMV7IDZ8xHA0NDSyn02DYdP71XQdD0dxM5j4Xi1VEB6LpvpbANqCYQAITphh9ntNtRVWF8hqvPkTyvdmQjQtCz4RI8w+a75bjb6+obyv9p2R8SrKy9UA7Df2bV0HhUIBg8HAVq8FgLAwY3B27949q/W2uwkKCjLrIOaC4R1f7LZYFTgv75DFbDehUIix8Yk4ePBb41TdI0fMOhWLzxfzHkzGxAwz6xDm8mAtGLaWh46Uq8t5D8SCgweivr5t5otUKmXBsGketFqt2RoiHO758Pf3txoMq66r2BRqvvj6+pgF9VxA376et5UHbi0doO1VOdPXU2SyfIv2R2/icgGxNdyNNDhyMDIyOp5akZKSCrX6BvtZdV0FHx/jSCY3EujoaLMzKRQKVpD15qXJbT1Etpj23lsLLO7da7TY5kzWjs+lafz48Q7dU4BxyujOnbuw44vdWDD/Lbd+b9hUWHiYWa+jaTDsSC8o90xy57P9FDFb03ycafDgSIvpedx9vnzFCqd8BUtH73o5Q0pKqtmUJe5aZH/wocMdE3K5HKtycqw2VgoLC3ivtNs3PNqP/nXmWohEIiQnjzPrsFKrb0D8aO8tf7tLEDwU+goFG0XUFu3B/dtXodryGpSb03Hr5BYAQFNNOeqKLBeK6ecXDNG0LGgvHkLV/21FyLNvsYBMf0sJwZBE3gOx2Ng/Ycf2zwEYG2YyWT5ksnyMiotFTHQUsv9YfKek5KrNhWJioqOwfNkSSKV7zBbCu3Ch2OoUVWfzi0rG3SvHARgDWP2Ns9DfOMuuA9cZ0Vh51epCZzql8XUlzaFsKDenQ7k5nU2R/rXsPPyGTeQ9D6PHjMbp742vt1RWVkImy8faNasREx1ldk5PnTqJgoIzFvvL5WcxKi4Wo+JiceL4CWz+9DP2fB8/fgwTJ/GfB1fHzXLkOhS4+3nWX19j55lbeLX9Csycjz/+BI888ggmTngGYeFhmDXLuFYG96oQt2AXX8LCwhAZOZQFU1weJk54huWBS8/yZUusts+zJRL2e2mpKewZ12q1kMnyHR6c6aqRI0eipOQq6zDLlrwPtbrMIg91dXVYvszy68K454Mrb0yfD27BLq4ziC/jxj0FqXQPa2utXbPaLA/cOa2oqLD6OqNer8fCBfONv5stMRvwkMvlGBuf2KtjG5f7HuKgoCCzhqlpY6j9yIBGo4FAILAYMR4cOZiNKGk0GpwrOsves+DeT3NkekN3PBEdjeLzxUhLm8bSwY3StG+YqlQqhIWFdaqh19DQiCeio52a5va8vLwQGTmUvUMImE8Rad8rptfrLRrQHTVmZbJ8LFq8mMdcGIMdmSwf67DeLE2DIwdbBGy27ilT7XvA7t271yPBjqsSi8U4+O1B9vPKle8BMM5i4Ap87nv70lJTLN6LF4lESElJxTvvvI2pU1ORLXkf+/b/k32uuq5iawrwmQfAeP1FIhFOnTqJtWuM03MvXCjGhQvF7LsPsyUSjB4zmj3bLJ1/rBtgOvrI7XPu3Dmbi1k40+DIwaxzQqvV4s3Zs9j00ry8Q+w7V21dC67TzjTfMTHDIBaL2YwRW++iOUtERARksnz83WAsLz79dDNksnxkST5ko0jcuY+JjkJevsyiEl637iPWibJv3z4sXbaCfVZVVWV19o678AwMhyA8Fg3lCvg9OgZRC6y/QqS//QsC4i1XYQYAn4gRFqOSAFBTtB9B8elOTa81CQkJGBgSArlcjoSEBKtrbQDG9/5svbJha5+NGzZg0+ZPnZZWW3wiRqCmaD+aaivgGRhu8zrcq1AgOOFli+2DJswDrHzXcGtLE3RXT2Bw+v84Pc3tcStya7VaiMVim+eUazO0N2fOXKudplqtFkdlModngzzsFi5cBNmRI0hISECWRGJ1tWWFQmExA48jFAqtnuszZ37E0mUreG8Pc+v3HDz4LVst2loerl27ZvP1JFv7HDjwtdlibHzh8nD4cD7mzJlr814vL1eb1Tcce8/HwYPfYtHixbznQSgUYumyFThz5kekpU2zmZ4rV65YbZeLRCLIjn5ndR/ZkSNYuHCRU9Pb01wuIBaLxYiMHAqFQoHY2FgcP34MMlk+UlJS2VLxc+fNg0gkwtYtW6w2TF9+OQMrV76HzHffRUnJVWRJPmQPWEnJVYffQeuOoUOH4vDhtlGJN2fPAmC8abjesSyJhK2wa61RJ5VK2bTojRs2ICExkY1mHj6c3yM335SUFFy5cgWxsbFQqVRYu2Y1xsYnYusW4yhCyvPPIyEhAWfO/Iji88UWBZa966dSqRAZOZT3HiWuAc8FO1wDOyUllfWIdXRPZZvkSyrdY1aJyOVnO/Vu5sMmKSkZq3Jy2Pm19lUmgHHquq2Og3Xr1//xdV7/QkFhkcm5NfaKd/SF8c6wdNkKVtkNHhyJ3DXWV7QvLCywG6Bby//hw/nIyuJ/Zfjp01/AwgXz2eIYtjqbzp07Z3UUzNvb22a+jx8/hoyMV3lvPIlEImRkvIrCwgI8++wEJCePszpDgOvlthagx8XF4fT3pxEWHoaFCxex0QPuK0wKCot4zYOrC07KwO/NTXZ/x9H3WE2F/vtceAZarpzMh48//qTD38nMtBypscdgMGDT5k97bJQjbOrSDn8n3IHfaS/ixb/xPkoPGIOEz7fv6HANDluNaFsEAgE+376D9wCht0hISOhwKmpsbGyn68knnxzt0PopzjBp0nMdzi5KSEjo9CtWU6em8t5Jy5k06bkO321/9tkJbAFXR02f/gLvo8Oc1157vcM8ODpr0uy4r7/eq0eHAeDffv/999/5/AMR4YNs9kLYkpd3CEqlEpmZS6DVai0uHjeaamt0gCOXy/H444+bNeBSpkzusQrvjTdex8KFi9iITHtisRgKhQK5uavZqs2mNBqN2dQRgUAAkUhkdx97YqKjOn0tVCoVFi6Yj2/+GAE0/fonwNgYFQqFbESmfSBp7/pt27YVoaGhFvvwgVtFb86cuRbnlUsTYPx6LNOAjKPRaHDhQjF8fHzwxBPRrIPFYDDgxRemd2phiJjoKNysuNXdLPGmq89sVVWV3SnScrkc3t7enaq01637CMnJ45yyamxHtFotkpPi7eZdq9XiwIGvO7Ughlwux6ZNG3vkeQWMnTfjnxlvt1KWSqUYP358pxYz6cmyk/tOaHvnjBuR70z54ch92l5veF5tjS72FgffjnvQSei26Z9cetBJ6Bbl5vQulTeuwtWfU05X6ldCHkau9sy63AgxYOyF4ZaBFwqFVkcktFotNn/6md3GWftGtEajwUvp6T3Wi7F8+Qr2LrOtv+nt7W1z5MhWY1WtvtFjUxPEYjFeSk9HXV0dRCKRzXzExcVZXRnW1vUDgMqKSoeXqu+uGTNewicffwzA9nnVarXY8cVuq+kViURW91MqlXgpPb3bqyT2do4EJV0Jajs7wtMdQqGww4YKN/WsM7rS690d1qaVtdeVHuDOjvJ0h1gs7rADQSwWd7os74nON0IIIYT0Li45Qkz40dURJ+JcrtYr1h49s66BnlfX0BueVxohfvBohPjBcvXnlEP1KyFGrvbM9opVpgkhhBBCCCGEEGejgJgQQgghhBBCiFuigJgQQgghhBBCiFuigJgQQgghhBBCiFuigJgQQgghhBBCiFuigJgQQgghhBBCiFuigJgQQgghhBBCiFuigJgQQgghhBBCiFuigJgQQgghhBBCiFuigJgQQgghhBBCiFuigJgQQgghhBBCiFuigJgQQgghhBBCiFuigJgQQgghhBBCiFuigJgQQgghhBBCiFuigJgQQgghhBBCiFuigJgQQgghhBBCiFvyeNAJIIQQQkjXKTenP+gkdEvM5gedAgIAMdFRDzoJboHOMyGuhwJiQgghpBcrKVU+6CSQXi4mOqpX30e9KcjszecZAKZ/culBJ6HbDr4d96CT0G29/Tq4WkcuBcSEEAu9qXHxMKPrQAghhBDCLwqICSEWensP9sOgt4/YPCyoU4IQQgh5uNGiWoQQQgghhBBC3BIFxIQQQgghhBBC3BIFxIQQQgghhBBC3BIFxIQQQgghhBBC3BIFxISQ/8/e3cdFVeb/4399WktGEQVRuQ1xREG8R0FQ8QtpUOJNmTomumLahshumpW1j1bctrI7rYTatTbdsCRNM8XCNPhlAg6Kiiii44gIMyA3M4rAYFr8/piuyznD3IEcROf9fDx6JGfmnHOdc67rOtf7uq5zhhBCCCGEELtEATEhhBBCCCGEELtEATEhhBBCCCGEELtEATEhhBBCCCGEELtEATEhhBBCCCGEELtEATEhhBBCCCGEELtEATEhhBBCCCGEELtEATEhhBBCCCGEELtEATEhhBBCCCGEELtEATEhhBBCCCGEELtEATEhhBBCCCGEELtEATEhhBBCCCGEELvU5W4ngBBCCCEdJz19LyorK7FkyVLI5XJk/PADACB8UjhCQ8Pg4OBgcf2mpiYcPHgAlZWVmDXrKTg7OwMAoqMexba0r/nfYvrss08hlUoRERGJ9PS9yD+WD6eeThg5cqTVY2hqakJubg6USiUcHXtAJpMBALRaLcJCg3HiZKHVc9Ae1iYlIfqxxxASEiI4hrCw8QgJCbG4rlqtxvff74OqXIXB/v6IioqCs7Mz1Go1Fsctwu7v9nTIMSxcuABr1iRBKpW2+hiUSiWysjJbHINSqcTatUn44otU0dN/L1AqlUhYFo+M/T+2OGfh4eHw8PCwug25XI6cnGxMnz4DUqkUgL4Mubm5ISZmmtiHgBu15aj8/z6Fz6y1uFFbjuslx3CzrgpdXfvDyW8cukicrK7foCrCjZpLcB3zBB506gMAuJL9FRwfHo7u3kNFPwZ2DlesWMn/XXetDkFjgjB+/ASL9V5TUxN2796Nc8XF8PTyREjIOAwbNgyAvgwlJCy3Wl7aw9XiX3CrvhauY2aioew06i+fwu836tG9/2g4PjwMD3TpanbdW7o61CmO4EbNJTzo1BeSfgP5eb/4RSI8p76Mrr29RD8GsdAIMSGEEGInmpqakLxxI2bNegoA0NjYgKAxQQifFI7Nmzfj4MEDFtfXarWYOWM68o/lAwDmyeZCqVQCABbFLcbOnd+IewB/pOH9995BaGgYAKCyshJBY4Lg5+eHt9etQ0FBgcX1NRoNDuWXbdwAACAASURBVP18CGdOn8G54mK+3NnZGS+sesnqOWgPSqUSubk5GDFiBAD9MYRPCoefnx8W/TkWcrnc4vrHj+vPf9CYIJwrLsY/164FAHh4eCA0NAy5uTniHgDA08gCrPr6Bn4dFv05lucLc2pqauDm5oagMUGoqFDjb3/7q2B71s6BvdiamorliYkAbp+z8EnhqKhQY/Xql62uvzYpCWv+8Rrc3T2QsCweaWlpAICIiEgkb9yIpqYmUdMPAJqC7+EaPBsA8PvNJnRx7I3u/UfjRs0lVOemWV2/QVWEm9drUF98AL/fvMGXO0mDUZO3Q7R0G0pJSUZY2HgAQHV1Ffz8/BA0Jgg/HfzJar2nUqlwrrgYQWOC4OjYA3NmPwmtVgsASEhYzjslxfT7rRvQ5G1HD98xAICbDVp07e2N7v1Ho674Z2hOWk5D8x/nvXv/0eji2BvqvfrODQBwCZ4DTcH34h6AyGiEmBByx7KyMgHob7ByuRyFhadw/fp1m0ZrGLae4YhTWloaAgMDeU+qmLRaLT768EOsSUqCVqtFdvZh5B/Lt7kXXqvV4uTJE2hoaEBAwBDeqGM9+kuWLBX9GAD96J+PT38MGzYM6el7oVAo0KNHDwwbNtxqD7Sl496wYb1gdEFMhudMqVTi6NGjvDFhrScegNk8KJfLUV1d1SEjIp1Vbm4OAgKG8HMYERHJP7typQr5x/Itnp+TJ0+gtLQEGft/BACoylU4evQopFIpoqKiEBYaLHpe379/P15Y9RKvVwz3p1AoUFh4ymJe9/DwwJqkJD6iaSgiIhIJy+JFzyN79nyHRXGLTR7DTwd/QnV1lcX1DdMXEDAEMVOj8Q/tGjg7O+PJWbPw7rvvCK6tGDJ++AFz5szhf7ORdgDYvn07Ll8utVhfGF4jpVKJTf/5BFqtFs7OzjxI6IhRs85MrVYjLe1L/PVvfwMgPGeurn2w6T+foKmpyeI9Ni3tS2zfsQvDhg2Do2N3JG/cCJlMBqlUioCAISgoKBD1PN+sq0Z98QH0C/8zAEDiNhASt4EAgAe79UL5rleAyGctbsNl+KMAgLqCbwXL2XZu1JaLOjpZWFgI4Pb5Nyx/3bt3x+bNmy3We1KpFGuSkvjf8iNHkJ19GDEx0xASEoJFf47F0meftWm0v63qLxfiIdf+/Dz18p/IP7tVr8GNmksW13/QqQ+/DgCgyduOG9cq0bW3F5wGBqM68yPcCpVZHe3vrDrlCLFWq0V01KP832lpaViblIS0tDSrPY6G2/jss08FPYxqtRoLFy4QJc2mpKfvxWeffQpA30DbsGE91iYlISsr06YeOaVSifT0vViblAS1Ws2Xf/bZp0hP3ytauo0tXLiAn3eWHuNza47x9TM8juioR3kPmdiUSiXPU0qlEp999mmr8pRcLufrpKfv5emWy+Udmqc6o6amJry9bh0GD/YHAJSUlMDNzY2P1mzdan3a24rnn0dKSjIAICw0mN98fH198e6774iXeAM7d34DTy9PAIBOp+OjHRUV+imI1spsdvZhHPr5EJI3bsTZs0V8uVQqxaFDh2yuu+6EVqtF8saN8PPzA6APDvz8/ODm5oY1/3jNapllwbCp4/bz8+MdH2LbmprKG9I1NTVwdOzOe+LZSJgl1dVVgjzIRvwGDRqEF1et7LB6pzM6efIkQsaNEyxjdfSWzZ8jdoHl+qyhoQHR0VP5355ennyUlQXZYuf1c8XFcHNzEyxbm5SEtUlJ2J+RcUeBoFQqRWlpieh55HLpZfTr11ewbG1SElY8/zxqNbUYP36Czds6evQoxgaP4+e/d+/eOJp3pF3TawrrXDHEjqG3S2+MHDnK6jbkcjnWJiUhYVk8Xlj1Ej8GV1dXpKV9KUq67yW1tbXw8fEVdAKyc/biqhcEHUOmsLLYu3dvAPrOk9LSEv554NBAlJSUmFy3vehqSiHpP04wHbeh7DQqMjeh4scP0S/a+ii3JQ85e0JXLe4xlJZegnSAsHOH1Ztvr1uHuLg4m7elVquRkbFPUHZksvkoKytrt/Sa8vuvOjzY012wTHPqR1RkbsLVk3vh5Bdm03YqMjeh/Pv38ZBrf3RzHwQAeKBLVzzUbwh+a6xr93R3lE4ZEO/c+Q2emq2fWqHT6QDopwXV119HwrJ4qw3TwsJChIUGA9BPcVjx/PMAwHteOmIaDpuWxm7MhtMr9ny3x6YgISsrEwqFAmlpX/LzAACPPz61w6a5GE+JYlPT3NzcsOjPsTxwMSc7+zAqKtQmG9jLExM7ZHodYHrKEUtTwrJ4q+uzBnbQmCDkH8vHRx9+COB2b2FHBDudFWsUsfIlk8kQEzMNMTHTsDwxEWdOn7G4Prs5fPjhR1iyZCnWJL2OXTt3AujY8/v+e+/g8cf1DX0PDw9+HPHxy1BaWgKVSmVx/ZiYaViTlMSncRp6/PGp2LPnO1HSbYjVnayBtGLFSn4toqKjkZOTbXF9dgwxMdOwYsVKlJaW8OmnkydPwfvvvSN6oMBGRNh5DAkJ4cew+JlnkJGxz+o22PdZHvzp4E8Abk+Jzc4+LOoxdGZ11+rg6NhdsMzX1xeD/fUdWkePHrW6jV69evF/Ozr2EHwmk83H5cul7ZBS83Jzc9CnjzCYDBoTxI/BsEOqrTQazR1vw5KMjH14+GEfwbKgMUEIGTcOVVeu4Pz58zZtRx8cvYZ1697my1hdLHa9aRhYMUFjghA4NBAZGftQXl5udRuurq4IGhOE0NAwHDp0iC/39PRs17Teq0pLL7W4p5g7Z5ZIJBKTy93c3ASPDYjh9191+JODsJ7o0q0XJB4B+FN3F9QV/3xH25d4BOBGrbjBpEKhgFNP4cinr68vgsYEoW+/fjj0s23XgT3jvybp9RazJ6zNCrlTOvVZdO3tLVjW1dmDXwfdlQs2bUfiEQCHvlLoLh0RBMAd0TEhpk43ZbqpqQnvv/cOcnLzANxumBp+plKpLE7D2bVzJ9YkvQ6ZTIbY2AUYNXIYlisTIZVKO2waDgsSWDpbO70CuD2FatN/PhEs9/DwQEDAEOTm5nTIlCjDni/jaV2lpZcsTmc1PO6mpiZs+s8n/PqNHz8BYaHBiI1dIOrLPyxNOVKr1dj0n0+gVqstTlUxPA4fn/6YM/tJPv0lLi4Oe/Z8hxUrVop0BJ2bUqlE4NBAwTL2wokTJ04gIWG5xfVZZw/rAR87dizWJr3Gz690gBRnzxaJOlWXNRwN84BWq8X+/fshP3IEMtn8O9r/2LFjsXZtkvUv3qEzp8/gkcmPCJaxadP7MzKQ8vEnZtZsiZ0Tb2/9DdTBwQE+Pr7QaDSivjSprKwM0dFTBXUCm0J96NAhrEl63abtmMuDbm5uVqcF25uQkBCEhISgX7++eHvdOsHUV1PS0r7k5ZO9JIbJzc2xOsp8p0JDw1o0Hg2v508Hf7rj62sugGgvY4PHoaamRlCvGKbZlnaKXC7Hoj/HYsv/traou4C7E1SyY7h+/ToOHjxg9XEXqVQKqVSKyZOnYNTIYVAqlZBKpVY7IO1Fnz59obwo7Ngwd85MYXmA1dvGnVX19Q2C8ttRuvb2QtfeXuju4Y9LW5fhZl01f1FWa92oLWsR6LU3Pz+/Fo9XsPLJ2oQvr15tsS3LguGnZs82Wcd2797dxFrtp6trf9yqrxXu84+XYnXt5Y7yXa/AdcxMq9thU61/u9GIq8WH0G/80/q/m66jay93S6t2ap1uhJhVgoYNLjbt9pXVq21qmCovKvlUJAcHB0RHT+U9xh01DUepVOJhn4cFy9i06dZOrzDlkcmPdMioWVraly16sdm06dZO62IjTS4uLgBuX2Oxb3zGARdwe9r06tUv49m/xNv03IZSqcSGDevx7rvv4N331vPlDz/sg/0ZGe2f8HuEqlzVYvoiAPTooe8RvtPpWIP9/VFZWXlH27CmpqYGPj6+LZazkTTlReUdj4x2xBRG42lYDLsWto7cqdX6mRPvvrdeUDZCQ8PaZfTNkurqKsEIJMNGIuVHbD+PpvKgj0//Fg1Me8JmuTBZWZlQq9VQKpXY890ePjtLrVZjbVLLTpzRo4MA6O8DhYWFyM3NwbBhwwHoOz1LS0tED8Q8vTxRX98AQN8+kMvl0Gq1UCqV+P77fXxKuFwu5y8QMqZUKlFZWYmrV69CqbxdvtljPWI+ywfoO/pYUG94DIWFhfj++30InxRu8RhYMPzCqpfg6uoKpVLJZ19pNBr4+PiK/pZpw9kA7BjUajUKCwuxPyODv4DI0jGwc7979274+PjyvNPY2CiYmm+vXF1dcTTvCL+2ls6Z8eN1gL4NPDZ4HLampvIy/uxfbs+KM/X4QXuT9PFFffHtF9U1lJ3Gjdpy3KyrxrXz2Xio3xAeDFdkbsLNuuoW27hZV81f4HTjWqXgOzevVeDB7uK+2b5Pn764evUq/5vVm2q1GnL5Ed6Ja67e1Gq1WBy3CAEBQxARESmocwB9R6JxW7u9PfCQBDfrbnck1l08hpt11bhZV42rRZlw9J8CQH+uKzI3tVj/lq4OusoLuFlXDV3lBTQoc+H48HD+ue7SEXTp1lPUYxBTpwuIL18uxdjgcS2Ws4Zpbm6O1Ybp0bwj6Nbtdk+LYeOKBdPGlUZ7U5Wr+HN8htzdPdC3Xz+cPHmyXfYhJkvn2dPLE0fzjtg0JQrQn+81/3gNW/63VRCYdsT0urNniyCTzW+x3M3NDb1deuPEiRM2Tz93d9c3kox7Ck1NHbNnISEhWLJkKRISlmNt0mutWrempkZQB1RUqEW/Ybu6ura4hs7OzoiJmYYNH3yAqitXcPLkCVHT0B7YqJOhmJhpWLJkKRbFLcbmzZutbsOwF9t4lO3q1astpqp2BKlUCplMhg8//AgZGfts6gw0lwdNPQtmT8aPn4C0tC95nbfnuz14JHIS1q5NQuDQQP726XPnik12HHh4eCB9Xwbyj+Xj3Xffwdp/vs5HSnJzcyCTzRc9EIuIiMSWzZ/zY0jbtg1hocFYuzYJ4eHhiIqKAqDvXDE3HXRraipU5Sr06tULW1NT+RTlQ4cO4YVVL4mafgCIfuwxbN++HYC+0zYlJRlhocH4/L//xeOPT+XTZEtKSlBR0bK9UlJSAplsPlTlKmxNTcXW1FQ+zTsrK5N3bIiJPQJmeAyPRE7C5//9LxbFLeb5orDwFOrrr5s8hoRl8QgLDUZFhRrvvvc+zzu7du5sMdvFHkmlUowNHscHFNg5myebKzhnTU1NZgd7PvzwI3h6eSJhWTwemfwI4uOXAWCDTV+2amCjLbr29sJD/YZAV6mfkntDq8blr1egbPc/8duNRrj9P/3Mw1u6OtQXH8D/Pdjyp3+uXzoBTcH3cPSfgoZLx3H9kv5+fLOuGr/WXILEvWV7uz2NGDECZ88W8XvPyZMn8UjkJCyOW4Tr16/zR/J0Op3J66DT6RAaGsbrG8M6p7CwEH379RP9hZWOPiNQX3wAt3T6ac51xT/j0tZlKNv9Tzzo1BeuY54AANxqvAZdecvHIZtv3kBVdioubV2G2uPfodfIaXyEuaHstKBj417U6aZMu7r2aTGSwhqmMTHTEB31KE6ePGFxqrBMNl8wnSo3NwfRjz0GoON6f516OvEebIZNSwsMDMSc2U8iPn5Zh/xOYFuZmxZp2EjetXOn1SlRrIFteINklBeVeHLWrDtPrAU+Pv15w4MxnnJky1sW2Trh4eF4JHKS6G8EvFewESeWL+RyOUJCQqDVapGTk807I9gbjI2DLNa7nZaWhqioKKRt24bw8HD++eXSy3ykQSxs1gJ7W6darYZEIoGzszPkcjlKS0v4S8PkcjlcXV1bdfOqqakx2SnT3oxHncrLyzFs2DBotVqcKy7m59XctTAMhk090pGRsY/f+MUSEDAEyRs38r8LCwt552J29mHBiEh6+l6Tb502lweBuzdFsLMw/Gkh1uGzAR+0+N7JkyfNPu5g/MZUZvPmzVizRvxHA6RSKUJDw3i9be4Y8o/lm52+bSr9TU1N2LL5c3y+eUu7p9lYSEgIUlKSUVhYiGHDhpn9zd3vv99n8pyam9bOfpKKPXYmpsmTpyB540b+yJG5Y/hmxw5sS/u6xXKZTGbyOLRaLXJzc/Dy6tXtnuZ7UULCcqRt24aQkBCz50yhUEAmm2+yTeLs7IwlS5a2qNPZ29o74nfDXYNn42pRJiRuA+Ey/FHB24qZxorzcA6eb/Itxaa+DwDXzmfDJXiOxd/PbQ8ODg5YnpiIrKxMSKVSrFix0uRjcmfPFpl8rIe92d6UXTt33vGsUVt0kTjBOXg+6hRH4DL8UXg9/oLJ7zWUn4ZL8JwWyx906gOfWaZfalmTt4P/rNa9qtONELM34bGeX7VaLXijr3HD1NRIwWB/f2zfvh1qtRpZWZkoLS3BoEH6N6HV1taaHIFub35+foKeablcjqamJmi1Wpw5cwZjg8fxYNjwrcW2UigUCBoT1K5pNsVwxIlNSQP01+XQoUM8DUql0uTLyqw9M3E07wi/5mLp1q2boJOlsLCQn2/W68ryh7k8xaajNTU14fjxfPj4+PIgqqOCnc4qIGCIYMQpJSUZAf5+CAsNRt21Ot4g1Wg0eHFVyxuIg4MD0vdl4FxxMebJ5uKRyY8gNla/jlarRUbGPn59xOLs7AyZbD7/7c5z54oRFhqMAH8/pKQkY03S67yhkbZtm8lZDenpexHg74e0tC/x4qqVCPD343kp44cfOqS8Go86vbjqBX4tnHo68dG/8+fPC4JO5vjxfJSWluD9995BgL8fAvz9+Bvt5XI5xgaPE70XmwW77NzJ5UcwauQwjBo5DD8d/Alr//k6rztfXLXS5MuPzOVBQB9giP3uhc4uNnYBn/pszooVK1v9ro01a5I65Ge5AOCvf/ub1XphTVLr05Py8Scd1tH54YcfwcvL8k/FfPFFaquOQSKR4KfMnzskyHFwcMDnm7fwe6E5Gft/bFV6JBIJPt+8pVMPGHSkkJAQqx2Rw4YNMxtwmRMeHs7vtWLr7j0ULiMet/gdpwFjbHqG1VDPQePhNDD4TpJms8mTp/AXb5oTEzPN6jsYjMUuWGDyZZxicBn5GHr0t/z2d9cxMwU/yWQLt/+3lI8W36s63Qixh4cHxgaP4y+MOneuGMvi/wJAH5wZN0ynz5je4mYxc+ZMODp2x+K4RQgNDUP6vgxeGcvlRwSjT2IZP34CXly1kj9kn5KSzIMymWw+7/HVarV4cdVKkzcw/c8C6adexEyN1q+XlISmpibsz8jA9OkzRD+OOXPmICcnGyEhIdDpdEhYFo/S0hL4+PgiKjoakyfrnzk4e7YI+cfyWzSgDBvY77+n//mc9H0ZkEqlvIEt+rNaf0w5YqNGcvkRzJmtT8vY4HH4+JP/8HOfkpKMuLi4FnkqKyuTpz86eqqgUd5RwU5npZ/OOp+XWXOjBGfPFpmdimhuxGnnzm86rAc7dsECrF2bhIiISEREROJssaLFd7RaLc6eLcJb69a1+IzNYjGmVqs7bLSDjTqxl6yw34o1lpOTjbX/bNmLbe4YAH0+t/aCtPbAeuLZi+pMjWwA+o6t6OipJoMFc3nQ+K359srBwUGUercjz6sYdYKDg8N9cQwdOXNJjH119DHcC8TIlx19jsX4neCOnKJ7P9SbD3TpigdEOGdi/gZ0R/m/5ubmZjF34O3lbrJhaYlcLkdKSrLZRg2gH0GeOWM6dn+3x+ZeRK1Wi7DQYOTk5nVIA/uzzz6Fm5ubxbddZmVlQqlUWn3jtKH09L3IP5bf6t7AAH+/Vl8Ldp63pX1t8ZyteP55LH7mGavTp43Xkc2bJ/obvwF9nsr44QeL50yr1WKebG6r81Rr1wnw90NZeYVN370b2lJmtVotdDpdu98s1Go1XFxcOmykwNLbOtuqreemLeWV7Q9o/8a2GOfGnKamJqu/JtAWbTk392N5JcRYW+ubzqKzl1Pmfiiv0z+683fg3G17/jrybifhjt3r10Hx8exOVWY73QgxoB/lcHV1tfgdBwcHs6Mf5nTkVCJAPy3N2m8ZstGo1hg9Okj0lyAwbEqUtZ+g2PBBy+e3rFmemNhhDWxb8pSzs3Or8xQAmtoF/bkTo1x1dA+2GPlRrHNjaX9i6MhebLFG6jryOhBCCCHk3tApA2JAnMZXR0/DEWt/HR0kiLW/jp62eD8EO4QQQgghhJD20+leqkUIIYQQQgghhHQECogJIYQQQgghhNglCogJIYQQQgghhNglCogJIYQQQgghhNglCogJIYQQQgghhNglCogJIYQQQgghhNglCogJIYQQQgghhNglCogJIYQQQgghhNglCogJIYQQQgghhNglCogJIYQQQgghhNglCogJIYQQQgghhNglCogJIYQQQgghhNglCogJIYQQQgghhNglCogJIYQQQgghhNilLnc7AYQQQghpuwB/v7udBHIfoHzUMeg8330BH9/tFJDOhgJiQggh5B5VVl5xt5NACLERlVdCOieaMk0IIYQQQgghxC7RCDEhpAWa0tU50HUghBBCCBHX/zU3NzeLuQNvL3cxN0/IPYmmTRFCCCGEEHL3iR4QE0IIIYQQQgghnRE9Q0wIIYQQQgghxC5RQEwIIYQQQgghxC5RQEwIIYQQQgghxC5RQEwIIYQQQgghxC5RQEwIIYQQQgghxC5RQEwIIYQQQgghxC5RQEwIIYQQQgghxC5RQEwIIYQQQgghxC5RQEwIIYQQQgghxC5RQEwIIYQQQgghxC5RQEwIIYQQQgghxC5RQEwIIYQQQgghxC5RQEwIIYQQQgghxC5RQEwIIYQQQgghxC5RQEwIIYQQQgghxC5RQEwIIYQQQgghxC5RQEwIIYQQQgghxC5RQEwIIYQQQgghxC5RQEwIIYQQQgghxC5RQEwIIYQQQgghxC5RQEwIIYQQQgghxC5RQEwIIYQQQgghxC5RQEwIIYQQQgghxC5RQEwIIYQQQgghxC5RQEwIIYQQQgghxC5RQEwIIYQQQgghxC5RQEwIIYQQQgghxC5RQEwIIYQQQgghxC5RQEwIIYQQQgghxC5RQEwIIYQQQgghxC5RQEwIIYQQQgghxC5RQEwIIYQQQgghxC5RQEwIIYQQQgghxC51udsJIEKvvvoKEhKWw9PT0+x3FAoF/Pz8bNoWAKvb27o1FUVFRYiJmYawsDAAgE6nw+HDh9G/f3+T+2KfNzTUo3t3RwQFBcHFxcXk9mxNByGdydatqYiIiLRaFr28vCCRSCxui5UBc2VCpVKhtLQUVVVXMHPmEya3odFocOjQzwCAvn37wd/fn5c5S2XM1GcKhQKXLl3ChAkTTKbdeF+jRo3i3zPcHgCkpCSb3TfpWFu3pmLAACmvx01RqVRwcXFpdZ69H+h0Orz++j/x5ptvIScnB+npezFkyBDExi6AQqHAmTOnBd83VxYB2861rQzLm7Hw8Em8nLenu7FPc/u1tL+cnBxcvKhEbOyCVu1HpVLxuold74aGBkyZMoVv1/D6iyknJwcArJZLiURi9byz9hVLt0ajQVlZGUpKLiIwcKjZtmFBQQFKSi4CgMXv3Us++eRjhIWNh6ura4v70O7d3wq+aymPsbzy5ptvtUu6TNUlgP5eKlZdam6fgOV67E7drfLM8jM7NuPP24JGiDuZ1C+2oLGx0eJ3IiPCbd5WXNxiqxVsUVERvL294e/vD0BfcUZFTcHx4/l45pk4vP32uhbraDQaZGVlAgCOH8/HiOGB0Gg0AICIiEhotVpUVV0BAMTFLYZWq7V6XIR0JkVFRTaVxfLycqvbSv1iCyIiInkZY3+zspmSkozU1C+QuHyZ2W0UFxfj3Llz+vVTv8Bzz/2Ff2apjBnXA2+/vQ7PPBOH48fzERU1BQUFBRb39cEHG7By5QrBvlg95eLiIvib3F1FRUW83jUnJSW5TXn2frB/fwa8vb0BAFVVV6DVahEREQkAOHPmNL766iubt2XLuW6Lr776Cnl5ee2+3c6yz9raWov1nLGqqisoKipq9X5cXFwQERGJ1C+2AAB8fHzw+utrodPpAAD+/v7w9vZu07Zbq6rqik3l0lwHhSHWXmP59tChn/HGG//C+vXvmw2IAKCw8BTq6+tRUVGBZ56J40H6vUqhUGDbtq8waNAgNDY2trjPJS5fhoqKCpu2xdYXQ2vS0V7u1/LM2hoAMGjQIKxf/z5UKhX/3LC8twWNEHcCrKcyODiYL9NoNPj++328J5CNVG3dmgrgdu/9m2++xXsMvb29MX36DMEojWEvoKXRLHd3d16R/Pvfn+DZZ/+C2NgFiI5+DDFTo/HXv/5NsJ6np6egF2bfvnTk5+djypQp8PT0hLOzsyANhn8T0lkpFArs2rUTnp6e0Gq1fPnu3d8iLy8P3t7eCAsbjxEjRvAGxfr178PZ2RlvvvmWye8x/fv3F3RO9e/fn5cpVpbS935nNm1hYWG8d3ns2GCMCxnDZ4tYK2OsHlCpVEje+CEKTp2Bi4sLPD098fXXaYJ0Gu8rMHAoIiPC8cYbb8LFxUVQp0gkkvtipOFe1to8e/jwL9BqtXB2dkZCwnKUlpYiPX2v1TxrbgQrJycHBQUn0aNHD6hUKkycGI6wsDDeYx8REYmsrEyzI80s/deuXUNERCSftcC2CwBlZWWIiZnG91NUVIRVq140e480HLk9cOAArlypRGzsAqxf/z7++9/NfN/Ozs6C++XAgQNbjKbk5OTgl18OAQAmTgwXzJZgCgoKkJOTjbKyMkRERPJRyIKCAmRk/IDBgwdbHDVxcXHh+83Ly0NwcLBg5OPVV1/h53HWrKewc+c3vM4wHnFh6b0b+xw9OsjsrBNjxudZoVDg4MED/BwazjpjVCoV9uz5DmVlZfD29kZ8/DLBuj169OD5QCKRoH///nxdT09PBAYOxeHDhzFlyhS4uLjA3d0dZWVlVtPaFhqNLL4iBgAAIABJREFUBl9/nQYA6NGjBxwdHQG0zE9hYWG8XF64cAF5eXm8XJrLd+7u7jzfzpz5BGbOfIK3CQ0ZtvmMR+TS0/e2KI/sujo6OuLcuXM8fYC+zTl3rgxff52G4OBgREVFt7jO7JiNr6FKpUJWViYcHR358RnWDQkJy3H0aJ7J+sownxmO5O7atRPz5j0tSIPxvWjy5CmCZcbt6scfn9oij+l0Ouzc+Q2KiorQs2dPLF36LFxcXPhI6Llz5xAd/ViLe6Yhdk8G9AGxYTrYTIULFxS8XjM8RsOZaWwm5vHj+YJrYW2fxuXZsI4uKipCQsJyZGVlCvZpWGeymMSwPrbGWnk2tR2WL1j8MneujOeXPXv0bSEW0xi3NSQSCebNexpbt6bi5ZdXtyjvbUEjxHfZgQMHsHr1S4iIiBT06LBezLi4xQCAefPmAgDvFYyLW8w/Y3/36NGDf88UW0ez0vd+hwEDpAAAV1dXADC5nkajwe7d3+Ltt9fBzc0dQUFBVrdNSGdVUFCAZ56Jw+DBg6FSqQTBaUVFBeLiFmPgQD/ETI2GRqPhI2dPPjmLl8WKigrMnSvj32O9l+1FoVBg9+5vkZKSjJhpM1odjLJRXNYICAkZh8OHf7G4r7///VUsWLhItCmUpO1UKhXPs9evX2+RZw3zIsuzgYFDeZ51cXFBQ0ODTXnW3AhWVdUVvPnG67h+/ToGDx6MuXNmQafT8VGXXbt2IiIiEh98sKHFNEZAnycnTgxHTMw07Nq1Ezt3fiPYLqCftm24n5iYadDpdHB0dERc3GJcv34dK1Y8DwBwdHTEBx9s4Nt//fW1GDBACpVKhZKLSotl5sKFC9i9+1vs3v0t7/CqqrqC6OjHMHFiOD74YANOnDghWEej0SBmajRGjBiJuXNl6N69OwB9I/Pf//4EEyeG49y5c/j73181u19L2HlknQrNzb8LRkEMR1w++eRjpKZ+wff56aebRN/n1q2pSE39AqNHB+H48Xx89NGHNu3D+Dw3Njbyc5iVlYnvv9/XYp0VK55Hjx49EBe3GO7u7gBu19sDB+qvq6U2UFRUFI4fz7ftJNwBjUaDEcMDAeiD11dWv8Q/M85PBQUFvFxGRETwcllVdQUTJ4abzXe2MG7z5eTkYOvWVGzb9hXmzpW1+H5V1RW8svolnDt3jpdlNvMv9YsteOONfyEiIhL79+/Hli2bW6yv0+kwcKAf5s6V4fjxfJ7/Ghsb8crql5CXl4eYmGmC/BUREQmJRGKyvvLx8cErq1/iadiz5zv07NkTAHDp0iWMGDHS4vEfPHiA5zOWPkdHR8ydK4NKpTJZJrds2YyioiLExS3G6NFBfL0RwwNRX1+PiRPDkZiYYHJmlS2qqq5gcdxCALfrNcMRU8OZaX/+80IcP56P0aODkJr6BQ4cONDmfb75xutQqVSIiIhEY2Nji32yGQxvv70Oqalf8PrY1HU2xbg8V1dXC8ozq9cN/etf+vrdsDyrVCqMCxkDd3d3uLu7Y1zIGH79jQ0c6IdLly7ZfiKsoID4Ljt+PB8rV76AKVOmYNWqF/lyT09PhISMg1x+BEVFRSi5qIRCoeC9goa9QRERkThz5jT/nrmCmpl1CF5eXjalq0+fPjwdltTX1yM/X/wbDCFiKyw8hXnznsbMmU/g5ZdXCz6bPn0Gzpw5jaysTPgOkCI/P58HiIbP2U+fPgNVVVX8e0ePtv+0pYqKChw+/Eu7zboouai0uK/KygreCCGdy9GjeZg6NQYzZz6B+Phl8P2jIxNomRdZnnV2duZ5ViKRYMiQITbl2YSE5QgPn2Tys9CwCYiPX4aZM59AaNgEQeOd3d+WLn0W+/fvb7HuoEGDAAAFBSdRW1uL7OzsFttlIxe+A6T8b09PT/j6DoBcfgRlZWXIzTkMjUaDqKho5OYchkKh4I2zUaNGobGxEaFhE1p5hvXPw1VVVfHROvZ/YxcvKtGtWzee1j179qB///6oqroCT09PpO/9zmzDzharVr2IsLAw9OzZy+x3srKy+D6dnJyQvPFD3rku1j43bfoP+vfvj4aG+jvaJ8sHOTnZuHDhAvbs2WPyeyqVCo2NjQajX9kIDByKhoZ6ODo6WmwD9e3bD9euXWt12lorPz8fMdNm8DIRM20G/yw8fBIaGhpQVXUFvXv3Rk5ONi+X7u7uvFyyslZVdQUDBw40m+8sMW7zXbyo5OWroaHB5Dq+A6R4+eXVPN3FxcX8s+efX4EpU6bguefisW1by8cLXFxc0LdvX5SUXISnpyeSNwo7R1577R+CUc5Vq17ko/WsvmpoqEdo2ATk5+fD09MTCxYuwqFDP0On02Hbtq8QHf0YAP3ADWunmnPq1Cnk5eXxwSZWZ7D0pe/9zmRe1Wq1qK6uxoQJE+Di4oITJ04gNGwCQkLGoU+fPpg6NQY5Odkt1rMVyxvWninPzTmMJ5+chf79+2P8+PHYtWtnm/fJriubvWKKTqdD8sYPsWDBQvTp0wdPPjnL5HU2hZ3ni3+0J0aNGoXu3bujpOQivL29TZbn2tpaQXl2cXFBVlYmFixchMDAoQgMHIqYaTPMxhj9+/e3OKuutSggvsuuXbuGvn37AYBgBEaj0SAyIhyOjo6IiZkmaOgY0mg0GBcyBgD499iLE4yxitYWrNdFoVCY/Y6LiwtiYxdg+/Yd6N27t03PvxDSWalUKt5LCYA3nnU6HcaFjEF9fT0iIiJ548uYTqfDvHlzceVKJf9ee/Pz80N8/DLs338Ahw//csfPgVVXVwsaa6b2tXv3HiRv/NBiXUDujoqKCkGnpWGemzdvLi5cUPwxXW2ixTxr+D1zPD09zc4SGDhwoODfhs9L9u7dGwDQt29fk884btmyGampX8Dd3R1PP/20oIFjuF0AgvQVFBQgMTGBj/gA+gaWRCLBq39/DQcPHkB6+l7BtMrKSsvP8rEp0zNnPsEbq++99y4fpYmIiGgRULm4uCAz6xCuX7+OyIhw/s6N3JzDcHJyAqAftd6Y/LHFfVtj7tzX1+uvq06nE+zT3d0dG5M/vqOA2No+NRoNSi4q27RP4/NsnA9ycw63WGfDhg/g6emJxMQEzJkzGzqdDllZWYLOwY3JH6Nbt24m9ynGM9+mNDTUC9Jk+O+///1VQXBrbsr2e++9i/T0vfzvtgTyxm2+2NgF+OSTf2PlyhcEsygMGZYxZ2dnwTljAWi3bt1QclHZooPn8OHDeOONfwEArl+/LvgsZtqMFu1Plr8M750Mq69iYqZh/fr3ceLECbi5uVucqmxs5coX8Oabbwmm+rP0McazH+fOlSEqKgoffLABUVFToFAoeJB35sxpnDlzGoMHD7Y6Om3J+PHjzX7GHnspLS0V7NPR0RFRUVFt3qelup1h1/PiRSXOnDmNhoZ6rFz5gk3bZ+eZTcPeufMb/Pvfn/DPTZXnf//7P3BycuLlWaPR8JFrdtxRUVEWp0Kbi43aggLiu2zIkCG8cjRs3LIexpkzn9D3shiN4rBpbda+Z2j37m95hjfsPTe2PPFvyMrKhE6ng1x+BL4DpPDz8+NTpAF9wWE3PY1GgzNnTvPAnpB70ejRQdi/fz90Oh3vnQWA8+fPw3eAFLGxCxAUFCRosIeGTUB1dTUA/Y215I9ngYKCgiy+4MRWhuXUcCora4ia6yE3LOuG2GjB7t3fQqfTIT19L4YPH25xX6zBxgIb0nmMGDES2dnZ0Ol00Gg0PG8qFAqUXFRi0aI4BAUFtZgWb5xnzX3PUE5ODu8UMbwXWMN693NysjFv3tN8WyyvnTp1CgsWLMTMmU/wF7nZorDwFB8dr6qqEnw2efIUvPnG60j9YgsPlr28vCzeH81J/WILYmMXYMKECTh16lSLz3U6HXr37o34+GXIzDrER8WWJ/4NwO3Ab+zYYP4soq3nzhQ2G6WgoAA6nY6PvEgkErP7ZI8/tBWrNxQKhWCfLi4uiJk2Az169DC5z9Z02NmaD2JjF2D//gPIzTmM8vJyPP20Pk9FRUVj5swnEB4+yexMuIqKCgwZMsTmNLWVr+8AHD78C28nsXKl0+mQvvc7xMYuQFRUtGAd9rI3hr0kyvh7rcGuFwDB/eDcuXO8s0mn09nc2XnwoH7K7pkzpxEzbQbPz+x+kZWVienTp2PmzCfQo0cPwbqWZjSxoDQ2dgHCwycJgifWYTJ3zix+rQFgwcJFrZ4u+8svhxAREYGZM59Av35uZr83c+YT2L59ByZMmIgzZ04jIiISuTmHER4+iedz9siUSqVq9cwP9jw5oM8rFy5c4NtidfioUaP454Zlq637NNStWzekfrGF3zdY/vT09ERo2AT06+fG98lmKhheZ1tkZ2fjySdnWX3DdXz8Mhw6dBi5OYdRXFyMmJhpuHDhAi/PUVHRZsvzmTOnbQr0bUUB8V32+ONTce3aNXh7uWO1wXMmQUFBqK2tRXj4BCQmJgimer217h2MCxkDby93TJgwwez3jCUuX4ba2loA+orN3BScpUufRc+ePTHIbwD27NnDX0Ji+Da5/Px8DPIbAG8vd4wYHoipU2Pum5/mIPYpKCgIzs7OiIqagnnz5vKyNGjQILi5uWPOnNkYMTxQ0CO5dOmzmDtnFry99FPdYqbNQHj4BIwYHtiqEeJXX30F3l760WlvL3f+gpQzZ07zUYKUlGR4e7nD28sd8+bNxat/f83s85CGZd2QRCJB+r4MfPXVV/ry6+2NRYviLO4rMTEBG5M/pmeIO6FRo0bxPGuYN1leZMsN82JERCRWr36J5zdz3zOWnr6Xd/IUFxdj/fr3bUrjrl07ER4+AVlZWZg+fQbfFstrTz45C3PnzEJ4+IRWNXBDQsZh3750eHu54/XX1wo+Y8dv+Oy7RCJBzLQZrZ5V8erfX8O4kDGIippispOrvLwcI4YHIj7+OURGhOOtde/w4zp16hTCwydgzpzZ/NnW1pw7czYmf4yYqdEY5DdA0FFlbp9nzpy+o31KJBK8te4dREaEt9jnypUvIDs72+Q+DUc4rTHMB+amSI4LGYP4+OcQFTWFv0MhPHwSb6/Exz8n+MULY9u2fYWQkHGtOPK2GTFiBCZMmIgRwwMRFTWFlyuJRIIFCxdh3ry5LfJTWNh4rF//PuLjn9O/1Ozvr+GZZ+IQFTVF8LI8Y7t3fwtvL3ekfrEFicuX8XINCJ8hHjE8kNfp+fn5/L0XJ06csPmXS1jeWr/+fTz3XDwA/Vuu2c/dzJ0rwyurX0J4+ATBow/WeHl5mb3HAsCzz+p/UcHwkY3g4GD+Sye2io5+DG++8TrmzJndos5g3nvvXcyZMxvx8c/h8OFfEB4+CZ6ennhr3TuYOXM64uOfE+TRf/3r9Tt6bJA9KsDu66zdIZFI8PnmL5CYmID4+OcwZ85s/lJdW99Ibg6bis7qfUPPP78Cn366iZ+D9957F4DwOtviySdnYXHcQsyZM9vstGtWb86ZMxu+A6QYNWoURo0ahaCgIAzyG4BXX30FUVFTzL77iL08rN00k06hvLzc5PLz58/btL6p73l5ujV/++2u5tra2hafzZ79FF/nlVdWN7/yyuoW2zBO048//ti8bt1b/O/GxkaT+83Ozm6ePfup5m+/3dXc3Nzc/O23uwT7I6QzKy8vb25sbGyx/Pz58yaX27K+l6db88cfp/AywP42VTYNrVv3Fi9Hzc3NzbW1tSbLkWEZKy8vb549+ynBvk3VA8bl+5VXVjdnZ2cLPje3Ly9Pt+bz588319bWCv4md4e5PGtuuS3fM86zhj7+OEWQL005f/58s5enG/+3JY2NjVbLgjmm7p2NjY3NEyeOF+Tn5ubb96bm5ttlxvg7ptTW1lo9j+bqh9raWkEabTl3tqitrTV7zoz3aVyP3Mk+zZ0HU/v88ccfW7V9W/JBeXm5ye8Yt0dqa2ubP/44hefB7Ozs5ldeWc0/P3/+PG/7iIWl1fhaGS43zr+G+Yh93tjYyL/H0szyLbsnGP5nalvs/BifO8P8aJwew3NtWJYN84DxOobXgf3fMP3G3zF17MbXeN26twRtT7aNiRPH8/uU8X3OXHk0Tl9jY2OL9BifR+N12T5YGizVDabOl6n8a3idjbfH7uuMtfa08fkzlc8Mv2eqTBnf/43bB4y5a2m4X8PvGKfF+NiMt8vSZdjWYH8bnnvj8t4W/9fc3NzcfuE16UzYNBhTP7XEfq4FuP2Sit69e1scBdJoNJBIJFafQzbenqV0EGIP2HTFwMCh8PPz439b+lkUQF+WrL3YznD74eGTIJFIoNPp+HZt3ZdhnWDrvgDwnmpr2yf3FlZvm7ovqFQquLi4WKzPFQoFIiPCUVbesb/BqVKpMG/eXEyYMFHw04CG6WKPANXW1qJbt242lbH2TJ+1c3e/7LMjz6sxnU7HR5bY9QZuP7d6t67/ncrJyUFV1RX07duvXWbl2Zo3vL3cO7wsA0B8/HNI3/sd/6lAQwUFBejWrZvgHTYdeR9iU447Ov/Yeq9uT3e7PLOfvQL0U9oVCsUfb6YfYfLztqCAmBBCCCHtigUkHd1wu1uNVELuZ3cjCGP7pcEU0hEoICaEEEIIIYQQYpfopVqEEEIIIYQQQuwSBcSEEEIIIYQQQuwSBcSEEEIIIYQQQuwSBcSEEEIIIYQQQuwSBcSEEEIIIYQQQuwSBcSEEEIIIYQQQuwSBcSEEEIIIYQQQuwSBcSEEEIIIYQQQuwSBcSEEEIIIYQQQuwSBcSEEEIIIYQQQuwSBcSEEEIIIYQQQuxSl7udAG8v97udBEJEV1ZecbeT0G6ozBJ7cT+UWyqvxB7cD2WVoTJL7EVnKrd3PSAGAL9lO+52ElpN8fFsnC1W3O1k2J3pH52820loNcXHs+92Etod5f2OFeDvd8+e83s17QH+fnc7Ce3mXj3/92LbANDX+fdq2vf8deTdTkKr3U9llblXy+y9mG6A0n43dLZyS1OmCSGEEEIIIYTYJQqICSGEEEIIIYTYJQqICSGEEEIIIYTYJQqICSGEEEIIIYTYJQqICSGEEEIIIYTYJQqICSGEEEIIIYTYJQqICSGEEEIIIYTYJQqICSGEEEIIIYTYJQqICSGEEEIIIYTYJQqICSGEEEIIIYTYJQqICSGEEEIIIYTYJQqICSGEEEIIIYTYJQqICSGEEEIIIYTYJQqICSGEEEIIIYTYJQqICSGEEEIIIYTYJQqICSGEEEIIIYTYpXsuIC7duQY3assBAL/fuoGrxb/gSvZXfJk1t3R1qDm2GzXHduOWro4vu/hFIn6/dUO0dCuVSkRHPcr/1mq1+OyzT/HZZ59Cq9XatH5aWhrWJiVBLpfz5XK5HGuTkkRJM5OevhcbNqxvsc/09L1oamqyuC47zrVJSdiwYb0g7cbHIoaKzE1oKDsNoPX55ZauDhWZm1CRuQk1x3ZDV3mBb0fx8Wyef4hln332KZRKJf9bqVTalHcMyeVyZGVl8r+bmpqwNinJprJzJzZsWA+1Ws3/ViqVyMrKtCntTU1N/FgN8zlLe2uOvy2M087OoS37VavVSE/fy9PO1tFqtR2WdsNr25q0s3PO0s62o9VqBfUYMc2wXm5qakJ6+t5W1dWm7m1NTU2IjnpU1PJ6S1cnqJdN3estuVFbDs2pHwX3DADQVV5A6c41oqUbABrKTqP8+/cFabmS/RWuFv9iU7uk5thuVGRuwpXsr1B38Zhg+dXiX0RJM/PZZ58K6mbWPrAlv7D6hLUPCgsL+WfRUY8K7hvENHY/MSSXy1vVtmpqakJWVmaL+/Rnn33abuk0t1/j+0lr0q7Vanl9f6+l3fAea5jvOzLthu4k7ewcdETaxXRPBcTsJtW1txcA4NJXq6BTn4XEfRBU+94W3AhMuVFbjpLNz6CLY2888FA3lGx+Brd0degicYLTkEdQdyFPtLRnZWVieWIiAH2mCQsNhpubGxwdeyAsNNhqQ6Gmpgb19dehvKhEdXUVXz5ixAjk5uaIduNoampC8saNmD59BgD9zW/NP15D+KRw/HTwJ7yyerXF9XU6HQAgdsECjBw5Eov+HMvT+uSsWUhJSRYl3YD+ev+qVaG791AAQNl3bwryiy0Nhe79R8NlxOMAgPJdr+CWrg4PdOkK5+D5uHom08raRKlU4psdOyCVSgHoG9sJy+JRWVmJmTOmC24Epmi1WixcuABp27bh0M+HsHDhAmi1Wjg4OMDTyxPZ2YdFS7tcLseJEyfg4eHB0752bRJOnjxpU9pVKhUSlsVj+/btyPjhB77cwcEBTj2dcPDggQ5Je1NTExYuXICUlGSedmv1xaebNkGhUAAAUlKS8fa6dQAAZ2dnAEBBQYGoab9cehnOzs487ez625L2mpoaVFZWAgDStm3D3/72V572y6WXRe+Eu5cplUrk5uYgJCQEAPDss0vx08GfED4pHGv+8RrS0/daXF+tViMsNBiOjj34vU2pVMLBwQGL4hZj585vREt7neIInIPno4vECbd0dSjZ/AweeKgbujj2RsnmZ6x2gt5qvIrff23Er1oVbjbcvh9L3AYCgCBIbm81eTvgPCwKAHC1+Beo9r0Nifsg6NRncemrVVbX/+1GI3oNiYTjw8NRc/h/PK09B42HJm+7aJ39Wq0W77/3DkJDwwDo68i0bdt4frGlcRw+KRyxCxbAz88Pc2Y/ydtCyxMTsTU1VZR0308OHjwATy9PAML7Zdq2bfx+aUlhYSFmzpiOkydPImFZPA+UpFIpvtmxQ9ROCZZ2BweHNqU9O/swEpbFI3njRpw9W8SX3wtp/3TTJlRWVqK+vgHvvvsO0tLSAACenp4dlnagbXmmrKxMkHbWPuiI8y6meyogrlPkoGfgZAD6YOe3+kq4jnkCTgPGoLs0FA2Xjltc/3rJMTj6T0Ev/4lwGa4frW2sOA8A6O41FJq87aKku6mpCe+/9w4mT54CADh69ChksvmIiZkGmUwGADh58oTFbYSEhGDJkqWQDpAKlrOGhmEPbXvKzc1BQMAQHtB8s2MHlicmIiIiEssTE5GRsU8wCmXMw8NDn26pFBERkZDJ5vOKa9iwYQAgWuG5WnwIPfzGAwBu1lXj1ytFPL/0GjkN9Rctd4B0kTjBacAYdO3thV6BkQCA5pv6hkXPQeOhzftSlHTfT/bs+Q6L4hYD0DeW09K+RMrHn2DJkqWIio7Grp07La5/8uQJVF25gg0ffIA1f9yoWRD8+ONTkbxxo2hpz8nJRkLCcgBshsaX+PDDj7BixUqEhoZZDWilUiky9v+IOXPmtPhs8uQpoqY9JSWZp12hUOBo3hFs2vQpT/uePd9ZXH9NUhJWrFiJmJhpWLMmCWlpX/JyLnZHVkpKMmTz5gHQB95H847w6x8QMMRqXcfqypiYaViemIijeUd42mXz5oma9nudcXk9mndEUN9v3275Hnn8eD58fHwhk8kgk8kQHT2V1/dRUVF4/713REv71ZN70cN3DACgvrQAf3J0g8vwR9HLfyIk/cdBV11icf3u3kPhOmYmHnL2bPFZz8DJqFPkiJLuG7Xl+K1BwztudeqzcBryCJwGjEGfUBl+q6+0Gsz3G/80JG4D0d17KCRew6C7op/N9KBTHzzk2h+6CoUoad+/fz9eWPUSHBwcAABpaV8K8ss3O3ZYXN/Z2RkREZGQSqWIiZkGADh/Xt8mmzx5CtLSvhR9FtC9LnnjRoSEjANw+9644YMPsOGDDwBYb1sePHgAT82ejRUrVmJb2teCun55YqLVe8Wdpj0iIpKnvbdL71alPSZmGjL2/8g7ZAwtilvcoWkHWnfeX169GkuWLIVMJkNCwnJs2fw5gNtterHTbphnWnve2T1WJpPhxRdfQlra7baw2HlGTPdUQFxffACSPr4AgN9v6ofoH3TqAwDo2tvb6vo366rwoFNf/rej/xT8/qt+BLOrqzd+q68UpSdVpVIBAL9pnCsu5r0zACCTzUdDQ0Obt+/o2B2qctWdJdKMhoYGPOzzMP+7tLQEffroz6Gnp/4Y2CiwNSyoCAgYwpdJB0gFPXvtqanyHLo660f3fv8jkGX5pYujC3SXjljdxs26alRkbkLJ5mfgHDyfr8/+f7OuWoyk3zf2Z2QgMDAQwO18wjpX/Pz8oLxouTNEqVQKbnbSAVI+cunh4YHS0hKLHTJ3YtN/PoGrqysA8DzKRkiDxgSh7lrbp8z7+fmJmvajeUd42ktLL8HHx5fXP61N++XLpfDx8eUj5V5eXjiaZ73stEVTU5Mg7dXVVYiOnso/f9jnYZvqOvaISfLGjZDJ5vO0e3t7i5b2+8Hl0svo109fv7Pyyur5Pn362nTuDMvrwz4PI/9YPoDbZUeMDtBbujr8Vl/JZ48BgMRrGP/3gz3doVOfbfP2u/Zyh67c8oyQttJVlwjSqisvRBfH3gD0nbIAcONapU3buqWrg668EJJ+A/kyh75S3NCKU8+cKy6Gm5sbgNvX1cXFBQAQEDAEpaWWOyEAfcfL2qQkREc9CplsPkaMGKFPt4MDfHx8odFoREn7/UCpVKK0tIQPLlRWVmLUqFH8c+kAqdW25YkTJzBs2HAA+jI6NngcysrKAOiv4f6MDFHSrlarUVpawtsDCoUCIePGCdJ+5UqVudWtCgwMFC3t7Lwbpj08PJx/PmrUKKv1HLsfA0Bh4SlBu3js2LE4ccJyUNpWpvKM8Xm3JR5hU9XfffcdvLDqJb5czDwjtnsqIBbTA126AgBuXmv/AKempgYy2fx23y4TEDBE0EPTnvKP5cPPz0+wrFu3bgCEBdoatVqNhGXxeGHVS7wSASDoGGhvv14pQpduve5oG3/q5oReQyLRe8JSaPO+bBEAs0CbmFZaWsLzizFbGtiqcpUgjxgHc2ODx9ncIdMabFSCBQMA2rUMs7IjRtpZkG1Yzkz1oNu6rbfXrcPaf77Ol4kZ2LDOQ8O09+p1uwwb10WtxQLje3VUohlqAAAgAElEQVRKl9gyMvbh4Yd9RNv+2OBx1r/UBr81ivs+hwcedMBv9bYFpXfL77duoDLrUzgNeYSPNgNAF8feuFFzSZR9Ki8qeQd5W7m4uCB2wQIsiluMtLQveR0A6OstsTrM7wc1NTXw8fHlf6vKVa2uIw07IAF9QMQey3NxcbGpU6MtamtrBfVB3bU6ODp2538P9vfHueLiNm+/W7duKC0tEe19F8ZpZx1DgP4+ZesglVwux/vvvcMfqWTE6rg1lWcMz3trVFZWourKFVy/fp0vk0gkouUZsd2zAfEDD+oblOxlGTdqy6yu86BTX9ysu93jVF98AA88JAEAPjL8YM8+7Z1UuLq6CgJWTy9PQWG502D27NkiwShKewoaE8RH5ADAx8cXpaX6mytrVEokEovbUKvVWBy3CE/Nno0lS5YKPhNrZBsAHuo3BLcarwIAHnjwjw6PPwLaW/UaSPpbb5w90KUrJG4D4TL8UTzUbwh0NaXCz//YLmk949E/U4LGBAnyiEKhwGB/f/63WDcNFvSx0Yk+ffoiN1ecKZPtjY3QsKC+e/fuVkfiTWHldu0/X+fPlBqyVu7bgm3T3DTJ+nrbZtJIpVLIZDK8tW4d0tK+5HUVaxyxc0SExgaPw+XL+jqOXQsWoFRXV9kU0BrmtcullxE0Joj/LVZ5/VM3pxbLDEd0b16rQFfX/m3e/u83m/AnRzfrX2wHEq9huFVfC+B2+6ZrT8v7/v3WDah/TIZDXylcx8wUfHarvvaOjt0Sw+CJdR6yOtPWQNbBwYGXV8NHqoDbj2wR01xdXQXBR9CYID4jw1aGjzUA+vaoj48+v4g5Ot+tWzdUXbnC//b08hS0Nc8VFwvqjrZqzcBNaxjWZYP9/QXnPf9YvqCdYo5cLseiP8diy/+2CjqBxcQ6CpjB/v78nRutIZVKsWTJUmxL+xqb/vMJv2eL0cnfUe6pgNjRfwqfOvRgzz74k6Mbao+no6HsNBqUuejefzQA/csvNKd+bLG+pN9A1BcfwNXiX/jn3dwHAdCPDP/J0Y2PFLcndqNgjbGIiEikpX2J9PS9/EH68eMnAADS0tJMvvSFvU3v6tWrqKysFIxw1Nc3IHBoYLunG9A3pi+XXuZ/PzV7NrZv347CwkJsTU3F2OBx8PDw4NOeTKV7cdwiBAQMQUREJJRKpfCtvReVot3wHnL25FPFHnTqg4f6DUHNsW/RUHYaV0/uhUNffQVkLr/cqC2HrvICbtSW42rxL/j1StHt/PJHYM2mThPToqOn8gY2Kwfp6Xuh1Wrx08GfeL5VKpUm8z0LRJVKJZRKJfZnZMDXV9+7ycqT4ShuezIcfR40aBBKS0uQlZUJrVaL7du38xueubRbwsqAGGlnDQDWmBk82B9H845ALpdDrVZj+/btvKFhLu0sGH559eoWwTCre9hoa3ti22RpHz06CGlpX6KwsBBqtRrff78P4ZP0U9PMvRVTrVbzvMFe/sUCYBbcsQ4PIjRq1Cg+TdHDwwNjg8dha2oqCgsLkbxxI58WKJfL+b3L0OjRQTiad4S/gTQjYx+v31mDSYyGH59a/Meztt09/PFbfSWuFv+Cq8W/QHfpCLp76tOhOfWjyRdk/X7rhv553qbruFVfK3hu98bVCsG05vYk6eMrCN4lHgGoK/oJDWWnUXs8HX9ydONTwSsyN5l8TEf9YzJ+rbmEHr5jcKO2XPCdm3VV6OIoTgeQYWPawcEBMtl8JG/cCLlcju3bt+PZv8QDMP9rGKz+YW/vN3ykqqmpCaWlJdR5ZQE7N6y+M75f5ubm8BF8dp6NBQ4NxE8Hf4JWq+X1qZeXPr81NjaKNthiPPo8bNhw7M/IgFqttjntltTU1Ig2I8X4vPv6+iI3N0eQdtZOMZd2w2DY+B4r5nln19Yw7d/s2MHTnpb2pdXzbtiGz84+DB8fX96BKmbaxXZPBcROfmGoK/4ZgH7k7uHZb+BPXbuhJm8H+kX8BU4D9C/U0F25gN9/bWyxfnfvoXh47gbo1Gfx+6+N8I37L7+RXi85hl4jp4mSbnajYC/hkUqlSN+Xgfxj+aivv470fRm8gcYerDd2/vx5bE1NRa9evaAqV/G3LzY1NWHL5s/5w/3tjU1ZYgVgyZKlSEhYjs//+18EjQnCpk36t0jqdDqTI2g6nQ6hoWHo1asXtqamYmtqKg4dOgTgdsNarJ4xJ78wXFdk87+9Z7wKiUcAtIX70S/iL7wn/YZWjZvXa1qs//vNJlwtyoRq39u4UVsGj2lrbueXSyfgHCzeNPj7xSOTH8HJkycB6MvB9h27sH37doSFBiNwaCBiYxcA0I8mGL6JmQkJCcHyxEQkLItHwrJ4LE9M5DePgoICREdPFa0HODw8nL/AydnZGdt37MLmzZsRFhqM8PBwzJypzz9Hjx41mXYACPD3w4urVuobev5+PM8fP54PmWy+aGl/YdVLPO0eHh7Y8r+tSElJxuK4RZgzZw5/wV9WViZycrJbrP/ppk0oLS3Bsvi/IMDfT5D2s2eLeENXrLQfPXpUkPZ3332Hp51N/8744QeTaf/66zSMGjkMAf5+SElJxrvvref169GjRwXPOxGh6dNn4P9n797DmrryvYF/R0GIIAKCIqCoKR3QMtpRQXTGvlKreGt7arF01N5rn2pta7Wt532fc4TOc85pq62deukzaKedqmOqdcYqKq0Kp3a8BO+NVVqMEoEAcglGIImgff/I7CUhIRfIVjHfzz+aHdb2Z1h77fVba+2V3bt3idc5OeswctRI/OXTT5H9zh/FCp/q6suoqLB/LjU6Ohq5u/JQWVmJ48eOI3dXnmjfDx78p6yffVjybFy9aP2mCf+QSAx+9lO0NNTCpD+HgU+sFEllU5kG15vtl1FebzKi7vRudA/shWbjZdSd3i3eu/LjPoTEd+yxA1cC+sSie1C4+Fq/0ITfo9+El1BTuBXdA3piYMZ/AbDOFjcU7cWvHKxK6h7YC4rYJNSd3o2607txteSkKGMq0yB4oDzJ/OjRo/HV1q2ic/320qV4cOKDUG3ejAULXsGiRW8AsNYXR6tUmpqakLdnj9i9f+0nfxb15fDhQ8jMnM3BKyekZ36lgT9n98u8PXscztrPmTMXw+4bhrGpyVizZjW2bP27+MzV6iM2z5fKEbuUhEuxP/fsM3axqzZvdhi7VqtFYkI8VKpNeHPJG0hMuLlcXKP5wea5Xjlilz734cOHexy71Gd45uk54h4rUauP4MGJD96S2Nt+7stXfOgy9nU5OSLm1atW4ZWFC0VfRs46I7df/fLLL7/czgAGxPZH/HznOxG2ptu2DFH/50WbzTMc/UzM1MUieXFF+oqG1gmyK8VrM3CuyP2dG7VaLRbMfxl539jPREr0ej2WLn0bX3zh/lcNqNVq5O3ZI3bglUNu7k5UVlbaLXf29Gfays7KwshRI8Xuku54+ONTbv8sYK0LEckZNs9UtVWRn4Pw4VOd1qnWbrRYUPK3JRiY8V9u1ZfitRkoLatwO+Y73YDY/m7XfbPZjEcfeRibVV/adGwMBoPN60Wvv47MJ590uDRXOg9gu/zpqafmYsGCV9ot01kGgwFjU5Nx6HChy9ife/55sUmFO556ai6WLctyezAoMSHeo/ZGiv3kKY3NZ2Y2m+0+Q0/ikH6fa9Z+ImvsT2Y+ge1f73Aae/rkSU7jaPt7kmL/y2efuzW7nZgQf1dct55cr4C1XU6fMsXpdZWdlYU5c+d6XG/c/ewB6+fvSd9Auo8r521sd6WX1HYP+sMKt1eDWWrLUPm/6xA3M9vtWIrXZngUe2PpGRiLD6F/2rx2f8Z44Riu1ZXZLYl2pubYdnTr0VN8q4Y7drw6wu2fBax1YfwD450Oyq9c+SHGjh3nUVvtSdt0t1yrEk+uWbVajTVrVtv0G9veL81mM+4fkWR3L2utbXvZ3v3PGU/bem/F3hZjlz92aZKsdXvuaex32nXb5RLiO4WnCTF5h6cJ8Z3AlxNiwNpwKhQKpw2kVqv1aKWA2WxGeXm57M/d6PV6hIeHO53JvRWxe3rDA+7+2PV6vUfLtj2N/U67WXeUp9frncLThPhO4mlCfCfxNCG+E9wt16rE02s2N3en04kFs9mMuro6j9pLrVaLmpoajwYxOtLW5+buxMSJD7Xb1nckdr1ej9LS0lsS+7hxv2u3b3Onf+63u87cadet3+0OgIjubu40qJ4mttJGLHJj7LbupNg9fYb5VsVORHQruVplFxgY6HF7qVQqb0l7KUfs0dHRsuxx0RY/d1u3Kna5dKlniImIiIiIiIi8hQkxERERERER+SQmxEREREREROSTmBATERERERGRT2JCTERERERERD6JCTERERERERH5JCbERERERERE5JOYEBMREREREZFPYkJMREREREREPokJMREREREREfkkJsRERERERETkk5gQExERERERkU9iQkxEREREREQ+iQkxERERERER+SQmxEREREREROSTmBATERERERGRT2JCTERERERERD7J73YHQERdT2JC/O0Owed05c+8K8dOREREdzcmxETksfj5W293CB2y49URtzuEDklMiMe5ouLbHUaHdNXYmcQTEXnm4Y9P3e4QOqwrx06dxyXTRERERERE5JOYEBMREREREZFPYkJMREREREREPokJMREREREREfkkJsRERERERETkk5gQExERERERkU9iQkxEREREREQ+iQkxERERERER+SQmxEREREREROSTmBATERERERGRT2JCTERERERERD6JCTERERERERH5JCbERERERERE5JOYEBMREREREZFPYkJMREREREREPokJMREREREREfmkLpcQNxur0WIyduocN1osuNFisXltqS3rbGguabVar5/TYDDAYDB4/bytmc1m6PX6Tp3DYDDAbDbbHNNqtXbHvK2z9cVR3bhV9YWI6Fbzxj3FbDbbtO1ms1mW+19bltoym3u7N7SYjGg2Vnv1nG15457SYjLa/d+90V9yxRv1xVFf4FbUFyIiSZdKiG+0WFC6/R3xuiI/B8VrM1C8NsPt8vVF36Pkb0tQ+vV/o7H0jHivfNd7st701Go1srOzAAB6vR6LXn8diQnxyM7Kcrt8+uRJSEyIR27uTnG8rKwMr732qiwxSzZu3IATJ447jaM9er0e6ZMnYWxqMu4fkYSVKz8U7xUU5GPjxg2yxS3Vl1+arZ2Euh++9ai+WGrLoM2Zg0tfLkLx2gzUHNsOAOjmF4DK/13HpNhNFfk54lozVZ5HfdH3qC/63u3y0nVbX/S96PDdaLGgeG2G7J29p56aKzpmGo0Gubk73ar3gDUJUKvVyM3dCbVaLY4bDAakT54k+2DQU0/NFQNZnsau1WqhUqmQnZWFgoJ80eGVrmc5YzebzUifPMku9tafoavY169fh+ysLOTm7rylsd8NXnvtVdTV1QEAVCoVEhPikZgQ73b5goJ8PPrIw3j0kYdFfQsMDER2dpbbv8OOsNSWoXzXe+jmF4BmYzXKdn+A4rUZqMjPcat8Y+kZ6LYtQ/HaDLv2qXT7O15PtFszni/E1YvHXMbRHt22Zbj42fPQ5sxB2e4PRKyN+iLUnsiVLW7AWl9+/vlnANb6IvUP3ElotVotEhPiMX1aul3/YOOGDbLWl7uF2WwW/Uhp4MmT9lIqV1CQb/M7k9pRObWYjKjIzxGTVJbaMtQXfW/TN3dVXupTtO6PWWrLRH9NLp2NvdlYLfo1psrz4vitiL2zdUav14v+hFqtFvfUW1Fn5NSlEmLj+UIEKVPhpwgBAAQN+i36pb/tdnlTRTHqCrcgZtrb6DtuLvQ7s9FsrEY3vwCEJ8/ClZ8PyhU6VJs3Y8GCVwAACoUCzz3/PBYvecvt8hEREViz9hOkp0+zOZ6UlAQAst04DAYDPljxPsaN+53TONqjUCiQ/c4fca6oGIcOF+KbvDwR68yZj+OrrVtl66A2XNKgR8Qg+IdEWmPpOwQDn1jpdnn/3pEY/OyniJ+/FYPmrIWhcJMYNAm7fwbqTu+WJe67iaW2DNcM5QgacB8A4PLBDWi4UIjq/I/dKt9iMqLkb0tg0p+DSX8OJX9bghaTEd38AhCWPBv1P+bLFrtUT5VKJQBg+fL3sX/ffry55A23ypeXl0O1eTO2bNmCvD17xPGwsDBMTk/Hvn17vR/0v0ixR0dHA/A89o0bNqCh4SpGjhqJHV/vwMd/+pM4X2rqWFljP3z4EFJTx9rF3vozdKampgbBwb0wctRIFBcXiwFDKfbTp0/LFntXp1ar0Se8j6jzw4YNQ+6uPLfLazQazH/5JSxf8QHWrP0Eby55Q9TFBQtecft32BF1p3cjPHkWAOBX/gEIS5qMsOTZbpf36xmKvuPmQjFojO1xRQgUsUkwni/0arySGy0W1BVuQa/Bo5zG4UxEcgaU8zZCOW8jrpuMItaQe5JhPP0P2QYOpd9tSkoKAGDw4MFYs/YTt8vHxMTg0OFC0T/I+fMn4pzpU6ZgzZrV3g/6LrNv317ExMYAsN5zFsx/2e6e44xGo8GjjzyMA98dwIL5L4tBCaVSiQMHDsg6U9+gOw3/kL7WQawr1Sjf9R6u/LgPxuJDbpe/fHAD6gq3wFR9URwP6BML49n9sk5adDb2mmP/gKW2FDeumXD54AaRBN+K2DtbZ0pLS1FZWQkAWLNmNd57910A1jrz1datXXZ1R5dKiBsuFELR/17xOmTIKAT0jnK//KUfoIhNQkCfWCii7kH34Cg06osAAIrIwTAUbvJ6zIA1qczL2yVuGmFhYUhKSkJUlPuxK5VKKJVKhIaG2r03a9YsHDokTzJ/8OA/kZk5G2FhYS7jcCQsLMzm/52YOBTV1ZdtXhcXF8sSe2PJCQQPSRavFVH3IKBPrNvlu/kFwE8RghstFly7UgXA2tECgJ7970VDkXxJwd2ivugAesWPE6/jZmYjMuUJt8s36E6jR8Qg9E+bh/5p89AjYhAadNaEpve942A8u9/rMUvy9uwRg1gA8MUXG/DKwoVul1cqlVj50UeYNWuW3XsTJz6E1atWeSVOR9asWd2p2JdlZeGFF17E9Okz8OZbb0Gl2iRmbB+bORNbtmzxesySzz77DOlTpojXnsaekpKCzMxMTJ8+A088kYmjhUdE7OxkO5e3Zw8enPigeJ2UlCSSY3fodCUYnTxGlMvMnI2LF60d1eHDh0Ol2iTfAGjRXgRFJwCwJrFBA+6DX3Aft8uLfkFgL7v3FNGJMOnPeS3W1iw1pegeFC7uTc7iaE/QgPvQzS8A3fwC0CMsBjeumQBY72HBCQ+JNtPbNJofMHXqzcHxlJQUj+pLYGCg6FuUlVkTgIiICHGu1tcuObZ61SqkpFgHT5RKJfK++dbhPac9+/btxeMZGViWlYXNqi+R8+dPxGc+a9Ys7NjxtSxxA7AZCAroE4shT61C72ET3S4fmvB7xM3MhiI2yf69ETNQX3TAa7G21dnY+41/Gv3G/QHhv5mEiOQMm76M3LF3ts6kpKSI/sGCBa9ApbqZOz3z7HOy1hk5damE2FRyxKMEuK0blgYERAwSr1tfRNLNSI6R1Lq6OsTFDfb6eSVBQUG4pLsky7kbGhrFSFJnFRTk49y5s2K2GQBCQ0Oh05V45fxtmco0CAjt36lzSMum9TuzEZY8W6xOkP7ksmnnGrWHoeg7pMPlWxpq4d/75u+wZ2wSLLWlAAD/kEhcb6iU7VEHlWqT6Jx5W3x8PHS6i7J19o4WHvFa7CdOHEdc3GAxYxsbG4ujhUdkSWzMZrNXYpeWfC9d+jbmvfSyiH3AgAE4WnjEG6HelbQXtIiM7NupcyiH3EyIYmJj8FORddA5MDAQgHVGwtukNkBaDeRtisjBsg2AWuor0CPMO/fYxtIzaCjai16D7hfHAiIGoaWh1ivnb6u8rBzBwUGdOoe0bHpWxmPIzJxtk1CPTh6D2lp5Yr8baLVa6HQXxUrBjjh58iSSkn4DwDpJERc3GKWl1ntsYuJQfJPn/goRTzQbq3G9odKjSQpPKPoOQaP2sCznttSWdTr2bn4B4u+mqvPo0So3CYoZCnPlT52KsT3eqDPSeVQqFdasWY15L70sjo8ePVq2OiO3LpUQe0Pz1Rrx9+vmq3bvX2/yfkJcU1ODxMShXj+vJCIiEufOnZXl3BUVeo9mstujVqsx/+WXkP3OH8WIMACvJduOXG+oRDf/wE6dI6BPLOLnb0XsY/8DQ+Emm2c9yLXO/g6ajZfh3+tmctSthwI3LA3idY9+Q3Gj2fvP9knPncbEyFM/peTAZDJ5/dxSku3JTE171Go13lzyBpav+EAck65fORIb6ZzeiB0A+oT3wcmTJ8VrKTHuqku65ObNgRTAmjCF9A4Rr0cnu78M2BNytAFdTWPpGeh3ZiN6xjKbgYFuPRRoNl6W5d/0ygCKUolzRcXI3ZWHw4cP2Tz+pRyiRE2NvBuadWU1NTWdnmxpe82npo4Vq/gUCgV0uovtFe2UlqYr6NFPvn5xN/9AXG+olO3Zf2/F3lh6BobCTXYr565VydOn90adkTQ0XMXlqir06nVzNYucdUZuXSoh7h4chRvNHZ+VCIgYhOYrFeK1qeQI/IOsnTtpZliO0aqIiAjk5e3y+nklOl0JUlPHynLu+Ph4HD92vFPnUKvVeObpOfj8rxvF8mlJeVk5goI6N8LcHsWgMbBcqfTOuaLu+VfyZVv/uvcMaacEeYMiOhGWmpsrCEz6czarPOS6aUhJn7S5UFcSHh4OAJ2efdZoNOK6dTSarFAoOnV+R6RzdnbXWuty3Uz8z7vv4mjhEZEAS7Pa0mdEtjIzZ3dqcDUoKMhm+Zz2ghYjRowQr48WHpGl3vj3tiaAcnV+W5rqZeu8d+vR+c+j2ViNqoI/I3rGMrFfg8RSWwpFdGKn/w1HlEOUInnq9LmUSiQmDkVTU6M4plJtwsCBcV45/90oIiKi08lHevo0m2tepdqEuDjrPVaOAVtJN/9AXG+U//7aeibWm7zR92g9iCXXTHlbPXv29ErCqlQq8cILL2Kz6kt8sOJ9cc+Ws87IrUslxEHKVJguXxCvG0vPiJ0ZW+8yV1/0vcOdJXsNuh/XakpQkZ+Dst0foEe/oVD0t+6eaam5JNsNT6lUIi5usE0HNTd3J44fOw7tBa3NTqiLXn/d4U6w0i5w2gtaHD923OZniouL8euEBFlij4zsC+0F250HHcUhLXtqS6/X45mn5yA9fRqqqy/b7GRnNptx+PAh/PrX8sQe2FeJa3U3lzQ3lp4Ru3a23g2wvfpSX/Q9ao5tR33R9yjb/QGuN9aJ+mKqPI/uwVFi6TQ55u6ghKW2zOHujAGh/dFQtBemyvOw1JbBVKYRS7Clzq/UGfY2d5frabVajze1kxI0OWagPZl9bi92vV6PN5csdjiIJcUuzbZ6k3ROdwYi1Gq1w9g1Go1IfKUNtKQEWJqBbr1KhW6KiY0Rm6UAELukA7Bpu3Nzdzr8hoQRI+7H6OQxWPT66+L9ESOsy3e1Wq3N0ntv6uYXgB79hsJSUyqO1Rd9D5P+HK4Zym36BxX5OQ53b24xGVFf9D2uGcph0p+z+RlT1XkERv3a63EDgCIiDg1Fe0V75iyO4rUZDh/TKd3+DnpEDEJzo8Fup1tz5U9i4N/bRo4aif37bj77KPUPAOsjUq3ri6P+QW7uTqxfvw65uTuxcuWHyMvbJeqL3Kt07gZSu+bO4ytqtdrhyphh9w3D/n37xbciANbHYgCgqanJ7Q1UPdW9ZwiuN7g3YdFYesbjx9PkHMSSJkLcGYBrL/bWyXDbQayWpnqPNtXzhPS77UydaZ3LnDp1EnFxg8VAp5x1Rm5dKiEOTRiP+lO2yaJfcB9Eptl+7VB7I6L+IZEY9IcVCBr0W4QlTUbczGwxemQsPoSIZPe+jqcjHs/IwO7dtrPEI0eNtHuQPS9vl9Pl1bNmzcLIUSPFa4PBgJw/f4LJkyd7N+B/kTrDbTuebeOoqalxuBxOoVBg+YoPbTZqkZw+fdpmN1lvCx2WBkPhJrtGy1F98Q+xX/YVHDdcbMoSljQZAzP+62Z90RaKHU2pfcFDktFYckK8rsjPwaUvFwGAzVeiNJafRcOlH+zKK6LuQfSMZbh8cAPKd72HiN89DUXUPQCsu4gHJzwk2wjw1KnToFbffN40OysL06elA4DN144VFOS3u6ldYkI83lzyBlSqTTZfRXLu3FlkZs4Wyau3LV7yFgoKbu7ALX21ibuxr8vJgU53Ec88PUd87Y4U+9GjRz3aId9bsUufoRR73p490Gjs64xafQT3j0hCYkI81qxZjeUrPhQJcEFBvqyxd3UzZz6OD1a8b9dZWr7iQ5vXlZWVDh93CQsLwxdfbEDmk09i/APjkZOzzuaz92RzNE/1HjYR9Wdtd51XRCfabXRjKtM4TRB7D5to03+40WKB8ex+hCaM927A/+IfEonghIfsdrFuG4eltgzdg6McDgCGJ8+y2UBSIj3i07bD7S3jxv0OeXm77FZ0LF/xoc2jVg0NjcjMtN/xe9y434nHI0aMGIFDhwtFfdm27SssXvKWbG3k3SAsLAyjk8fY7Jzf3j1HtXmzw9Ufc+bMxbD7huH+EUlYs2Y1tmz9u/gdqNVHMOy+YbLE7qcIQY9+Q20Gb4rXZqA6/2M0FO21+doxg+Ybm12kJZbaMhSvzUBD0V5U539s85WaDZd+QFDc/XZlvBm7qeLmhrBtY5eS4PZil3aj1u/Mtvs6UFPVeYfXszd4o86sy8lBYkI80idPwnvvvotXFi4U16lafQQpY+RJ5uX2q19++eWX2xnAgNj+iJ+/1e2frzm2Hb0Gj3K6vKC+6HuE3JPsdke5xWRE9WEV+qfNczuO4rUZOFfk/u7IBoMBH//pT1jm5HuHDQYDTp06iQkT0tw+r0ajgU5XgunTZ7hdxjQUsRAAACAASURBVFMajQY//vgjMjMz2/0Z6QLy5Nm/9evXYcKENI/KPPzxKbd/FrDWhYDQ/iKJcqSx9AwU/ePdri83WiyoOvBX9Bv/tFtlitdmoLSswuXPdRWeXLM3Wiwo+dsSDMz4L6ez6WW7P0BkyhMeLRvSbVtm/XoSJ7/btna8OsL1D/2LwWDA2NRkm06aI4tefx2vLFzoUT1OnzwJa9Z+4naZxIR4j9sbd2L3NA6z2YxHH3kYf/nsc7cHsjoS+5OZT2D71zucdobTJ0/CZtWXbs/2SrG7WyYxIf6uuG4HxPb36PPPzd2JuLhBTjddUavVuPfeez367N979128vXSp2wlOYkK8R30DqV2OTM1st6250WJBwyUNQoaMcvu8ltoyXL14DBGjHnW7TPHaDI9id+ffsNSW4Uaz2aP2zp37X1uetJGAtb5ERva1W0nSmqf1BQBWrvwQzzzzrE9dqxJPrlm1Wo01a1bjiy82tPsz7rR9BoPB5j137yGteXrNNpaeQU3hVsTNzG73Z260WKDNmYPBz37q9oq8FpMRFz973qMynl6zd1rsnrTx3qgzBoMBJpPJph/gaZ25067bLpcQ3yk8rYDkHZ4mxHcCX06IAevzbb/yD/Dq8vIbLRY0X6n2+LkbTzt7er0e4eHhXp2lMJvNKC8v9yiB9jSpBBh7W57GfqfdrDvK04T4TuFp5/pO4mnn+k7iaRt5J7hbrlVJRwaxnE2KmM1m1NXVebQaT6vVoqamxulAR1sduWZdTWDdaLHgepPRox3km43VuHalyqOVER25ZuuLvreuJHQyAOdp7JbaMrQ01Xscu6dt/J1QZ+6069bvdgdARHc3Ob4KpZtfwC3ZhEKO5fyBgYFe20XZGcZu61bFTkR0K7laIRgYGOhxm6pUKm9Jexma8Hun73fzC0A3D/sQ/iGRsn0FW2tyxB7QJ/aW9G26cp2RS5d6hpiIiIiIiIjIW5gQExERERERkU9iQkxEREREREQ+iQkxERERERER+SQmxEREREREROSTmBATERERERGRT2JCTERERERERD6JCTERERERERH5JCbERERERERE5JOYEBMREREREZFPYkJMREREREREPokJMREREREREfkkJsRERERERETkk5gQExERERERkU9iQkxEREREREQ+iQkxERERERER+SQmxEREREREROST/G53AETU9RSvzbjdIXRI4trbHUHHJSbE3+4QOqwrx05EdKt11Tazq/YNgK4de1etL3cSJsRE5LFzRcW3OwSfkpgQ32U/864aOzsYRHS7dNU2M37+1tsdRocUr83o0rF31fpyJ+GSaSIiIiIiIvJJTIiJiIiIiIjIJzEhJiIiIiIiIp/EhJiIiIiIiIh8EhNiIiIiIiIi8klMiImIiIiIiMgnMSEmIiIiIiIin8SEmIiIiIiIiHwSE2IiIiIiIiLySUyIiYiIiIiIyCcxISYiIiIiIiKfxISYiIiIiIiIfBITYiIiIiIiIvJJTIiJiIiIiIjIJzEhJiIiIiIiIp/EhJiIiIiIiIh8UpdLiGuObYeltgwAYKktQ33R9zBVnvfoHJbaMnEOAGg2VqPq4N+8GmdbZrMZ2VlZ4u8ajQa5uTuh1+vdPodWq4VWq4XBYBDH1Go1CgryvR5vaxqNBiqVCgBgMBjEv9k6Dmf0ej0KCvKh0WhgNpvF8fXr10Gr1coSs6R1/Wg2VsN44RhMledxo8XisuyNFgtMleft6liLyYiK/By3zkFE1JXk5u6EWq0GcLPtVqvVNm23K9K9SmIwGJCdleXROTqi6uDf0GIyArjZP2h9r3dF6htI5wAg7gFystSWiT5Ii8kIU+V5GC8cs4nDGene1lh6xua+VPfDtx73jzwl1Q/A8/rSui/Utn+QnZXldh+DiKizulRCbKktg/Hsfvj3joSltgzlu96DSX8Olw9uwIUvFrpMUFpMRui2LUPl/65D+a73UJGfAwDwD4mEufInNJaekS32ffv2IqR3iPj78uXv4/ix43ju2WewcuWHLsvn5u7E9GnpWDD/ZRw8+E9x/N5778V7774ra0dj+fL3MXjwYADA2NRkqDZvxoHvDmBsarK4EbZHq9XiwbQHcOC7A/jLp5/i/hFJItaoqChs3LBBtrhbTEZU538M/959YaktQ8nG+WgsOYHaE19DmzPHZWej+Uo1ak98DUttKS4f3ADdtmUAAD+F9ffYcEkjW+x3k6eemis6O7m5O5GdleXRYIhUbv36daLumM1mJCbEy95heuqpudDr9Taxq1Qqt2I3m80oKMi3STAAa3KQPnmSrNes2WxG+uRJInaVSuVR7FqtFuvXr0N2VpbN4NetjN1gMECv19vE7s4AYuvYVSqViF2v18see1dnMBjw5pI3cO+999q03arNm3H/iCSX15s08Ltg/svIzs4SSXBYWBgA671PLo2lZ9B8pQJ+ihDUF30v+gflu95D2e4PXJavL/oel75chPJd76FBd1ocD4gYgOr8j91OTjui7vRuBPQZAACoPqxC7Ymv0VhyAhc/e96tZFy6txk039jc2wLConH5oHz3WLPZjPfefRcDBlhjb1tfXF2v5eXl+Munn6K4uBh/+fRTPPrIw+L6jImNsenrkGOtJ1sMBoPNPcfdtk66V7W+N0jtqJxaTy60mIwwXjiG+qLv7QZ2nJWXBqxaD3xZastQc2y7nKHjRoulU7E3G6tRX/S93YTLrYi9s3VGr9cjN3enXZlbUWfk1KUS4vqiAwgZ+iC6+QXAv3ckBv1hBfqnzUPczGwArhOUBt1pdFeEYMAj/xeD/rACDUV7RUWMSM6AQfONbLGvXrUKDz/8CABg3Ljf4YsvNmBZVhbWrP0EOX/+xGVHY+LEh3CuqBipqWNtjoeFhSE1daxsHQ2NRoPLVVUYPnw4AODQ4UKs/OgjLMvKwrKsPyJvzx6n5WNiYnDylAbLsrKw8qOPMDp5DA4fPiT+TyrVJo9myT1R/2M+Qob/G/wUIfDvHQnlvI3onzYPsVMXo0e/oWiq+Nlp+YA+sYiduhj9xv0BAx75v7hWdVY0uiHxY2E4uVOWuO8mUiKYlJSE8vJyHD92HOMfGI/g4F6YPi3dZb03GAx49JGHUVxcjKtXr+LRRx6GwWBAYGAgFi95C9u2fSV77NHR0TaxNzRcdSv28vJyHPjuAPbv229znYSFheHxjAxZk4N9+/YiMXGoiL2iQo+Ro0aiokKP6dPSXd70duz4GgAwctRI7Ph6B97Jzhaxy9neSLGnpo5FWFgYTpw4bhP7c88+4zL2mpoaREVFIX3KFFRU6PHaa68CsP4e5Y69q9u27SvMe+llhIWF2bXd6enTXCYop0+fhkq1Cdu/3oGcnHU4fPiQaO8fmzkTq1etki32msKtCEuaDAAIjhuOIU+tQv+0eRiY8V8wlRxBs7HaafnguOGIn78Vitgkm+Pd/AIQljwb9T/KsxKr2ViNhqK9CI6z3mMjUzMRO3Ux+qfNQ/SMZbjy4z6X5xj87Kfi3hac8JCINWjAfQAg2yzx4cOHRDsDWPsHUn3JzJyN3bt3OS2vVCqx8qOPsGjRG1j50UcArHUIACZMSJO1vtwt9u3bi5jYGADAwYP/xI6vdwAAVJs349+XLnVZXqPR4NFHHsapU6esA1n/SpSUSiW+2rpV1lV8DbrT8A/pi25+AWjQnYax6DsA1mu59Ov/dqv85YMbUFe4Babqi+J4QJ9YGM/u92h1iKeM5wvRLSDYYez6b1e7LF9z7B+w1JbixjWT9f/ww7e3LPb26syaNavdqjOlpaWorKwUZd57910At6bOyKlLJcTmyp8QFGtt4Lv5BaCbXwAA60jN9YZKdPcPdFrepD8H/979Rdke/YbCUl8BAOjRux9MJUdkiVuv10OnuwilUgkAYrQcsHbeAEChUDg9R2Bg+/+3kaNG4vix416I1J5OV4LU1LHi328de0WF60Q2MDBQlG3bkQ0MDERm5myUlpZ6MeKbmo2Xxah72/riLmnZdLV6G3r0Gwr/3pEAAEX/eFyrOivrrMHdIG/PHkydOg2AtbFclpWFCRPSkJmZ6VYH++DBfyIxcSgWLXoDixa9gcTEoaLMzJmP44MV78sa+4IFr9jF/sILLyIubrDL2KUyD0580O69lJQxsnb2tmzZgswnnxRxLFr0BqZPn4FFi95AXNxg0elsz6JFb+CFF17E9Okz8MrChcjL2yUGAORObFavWoX0KVMAQMQs/anTXURxcbHT8ikpKZg+fQZSUlLwxBOZOFp4RAy6PTZzJrZs2SJb7F1deVk54uPjAdi33bV1tQgKCnJavrr6MjIzZ4uyqaljRecoKSkJOt1FWVZ13Gix4FrVWQREDARwcxUPAPzS7F5737pMWz3CY2G+LE8n79qVKigGjRH/fus4mhvd+6xal7lmKIdfcB/xukdYjOjneNuB7w7YtG+t+wfaC1pERUW5PIe0bFp6LOvee+8FYG23dLqLXbZzfausXrUKKSljAFjby5UffYTp02fgP5ctQ17eLpcTDvv27cUzzz6HRYvewPavd9hMUryycKEYHJVDXeEW9Bo8CgAQmvB7xE5djNCE3yNm6mJcqzrrchArNOH3iJuZbTeIBQChI2agvuiALHEDQHX+xwhNGC/iaB27OwNw/dPmod+4PyD8N5MQkZyB+lM3J1jkjr29OvOnP33sVp1JSUkR/YM333wLKtUm8d4zzz4na52RU5dKiK9VnUW3NknvjRYL9N+uhmLQGDEa6oyUIAHWG4XEP8Sa6MgxKlNbW4vRyWPsjuv1eiz7z//A8hUfOk14XYmM7CtG4b2tsrISv05IsDuuVquR8+dPMGfuXLfP9ckna9EnvI/NLHdI7xBUV1/2SqxtNRTthSJysN3xulN70F0RguCB9o1oW9ebjKg/mw/j6X8gMOrX4riUXF9vYkLsjEq1CaNHj7Y7rtfrkZe3C3Fxg5yWr6ysxMC4geJ1ypgxIiGSOl9ydZhUqk2IiIiwOy4NcCUmDu3wuePj46HTXZRtdcTRwiMOY9dqtdDpLoolju44d+4s4uIGi887NjYWOt1FWZYem83mduPTaDTi33dFWrq1dOnbWJb1RzGD1adPHxwtlGfg826gUm1yWK83brQuu227QsmVmNgYlJeVi9dxcYNRV1fXuSAdaL5i7Xy2TWpbTEaUbn8HfX73orjHd0RA7yjZBsybGw3oHtjL7nhj6RlU53+MvuPcv8fWHNuO6411CLknWRxTRCfCUivPoLP2gtbhIMn69etwuaoKEyc+5PIcdXV1+Pu2bfj8s7/Y1a/MzNli0oDsSe15UpJ9X+bnn60r4FxNtpw8eVI8EhcYGIjRyWPEJEVi4lB8k5fn5aitmo3VuN5QiYA+9u25tHqve8/2B6lcUfQdgkbt4Q6Xd0bKExzF3nzF2p/9lX+A2+czVZ1Hj4ibfaGgmKEwV/7UySgdc6fOhIeHu3We3NydWL78fSzL+qM4Pnr0aNnqjNy6VELclpQMA0D0pFdc/ny3gGCY9OfE62uGcvuf8aASd4Zeb13+93hGBqZPn9GpczU1NaJvv35eisw1tVqNZ56eg8//ulHMeruyfv06XNJdwv+8+26nkn9P3Wi27bTXHNsO82Utoie9IpJaZ/xDItE/bR6U8zaiUXsYpgrns1PkmlT3Fy95y2Gj3Fp5WTn6948Wr4ODg2C8cnMQIj19miwxSrNYMTExNsel2Jdl/dHtuu+IdA2YTKaOB9kOKcluG59er8eC+S/bJIiuqNVqvLnkDSxfcfMZTCkxLi+3bz87Szpn2/j0ej3eXLIYy7L+aDML5UxUVBT6hPexWbYpnZezTo7FxQ1GU1OTzbH169fhq61b8e6777nVdtfX14u/l5eVi6V5AKDTXXRURBY3WiyoLFiHkKEPIvw3k27Zv+sNzcZq6HdmI3rGMiii7nGrTM2x7TCe3Y8Bj/6n3b2te0BPOcJEn/A+aGxstDkm1Ze/fPa5W/UlOjoay7KykPfNt9Be0OLUqZPivdZ1iey1N1jQerLFVXvZdvBUOUQpJinCw8Nlu2Zbmq6gRz/7wbdmYzVq/vlX9Et/260+Wnu6+QfiekOlbJufthd7xbd/QmTaq05XnLTWWHoGhsJNiEx5wub4taqzXomzrZqaGsTF2U8UdWSCrri4GJerqmyOKRSKW9rOe1OXSoh79BuKlqabDWTrZLj1hdNiMjpcrqDofy+uGcrF+9eqziIgtD+AmyM+nRlFbk9sbKzNrETrZPiFF160+Vm9Xu/xkrLGxkYoh3S8c+5MVFQUfioqEq9bJ8MpKSniuNlsbreTKd0gHSXDxitGREb2lSX24ISHbJaKSR2GqAkvulVfHC2HllYoSI2stISa3GMwGNqt+46MHDXSpv4dP3bcZsVCXp7zZ9Q6ylHS1/q6zczMlOXf9QYp6Ws9+9yR2Ftf644GLtwZRfaUdM7WbWBHYlcqlZg+fQb+5913cbTwiGibxIY9bQY6yCo1dSx0uhLxunVy03qQQtrwrK3IyL5iyZ3BYIBKtQlJSb+x+Rk5PntppkZqs6XB8sC+SkSMetTmZ5uN1R4/6mK5UgnFIPtVXt4QENof181XxetmYzVKt7+D6BnL7Fa9WWrLHHbwWyfDbfswJv05myXU3jQwbiAaGm4mxM7qi6P+gaO+Ts+eN2ec8/J2ebSaxde0t4LJk8mW9PRpOHfuZvKlUm0SK7fkWM0h6eYfiOuNtueX6n7I0AcRMmSUd/6dTiTVzrRNWFvHHprwe7fO0Vh6Rgx8OZptlkNERIRdwtqRCTrpUazNqi+RnfUf4lqWY5D/VulSCXFQ3P0wVVk3h7DUlsFUcgSmkiPQ5sxB8doMsRtjg+40ao79w6588MAkBMXdj0tb/x9KNs5HZNqrYvTVVH0RwQmul/d0RFhYGEYnjxGb9KzLyYFOdxEfrHgfiQnxSEyIFzeLpUvfdvhsYm7uTiQmxEOl2oQ3l7yBxIR48d7+ffvFM3felpg4FIcPHxIdyWeeniP+lGIHrInD9GnpduW1Wi0+WPE+dLqLuH9EEhIT4m12t1OpNolnhrxNEZ0oVgRYastgKNyE6w2VuPjZ8yhemyF2GW+vvjToTkO3bRnKdn8Abc4cKGKTbtaXimIoBo2RrbG9W6SnT8OlSzoA1mTknexsJCYOxYQJaTZfIabVah3uWB4XNwgq1SbxtV2tl2DLndykp08Ts2XSDcOT2KX3KisrUV9fD61Wa7MbI2A/i+stcXGDxY2pI7FLyfDiJW8hIiLCYezuztR6Qjqn1BFzFrtarXYYu0ajgcFggNlsFs9KS3WkvLwccXGDb+kqla6k9X4UrdvuB9MesGm7Dx78J9bl5NiVT0lJweIlb+HBtAfwZOYTWLzkLTFwqlarMTp5jGyffXDCQ2KppfF8IUwlR2Ao3ITitRkoXpshBr1rjv3DZhdpiaW2DMVrM9BQtBfV+R+jeG2GeM9U8TOChyTblfEG/959YSo5IpL0mmP/wPWGSuh3ZovYAWuSf+nLRWJ5eGvSva1k43ybe9uNFgtMZRoERds/9uQNY8eOs1mB4ay+OOofHDz4T6RPnoRFr7+OxIR49AnvIzbw1Gq1GJ08xu3VLL5IGkCU2mZnky1qtdrhoMSw+4Zh/779Yrdh4OZjKU1NTbKtwureMwTXGyrF69YJZdtBrMbSMx4/ztjSVO9wFtcbpKXc0uBUR2JvnQy3Hfi60WyWbQDOG3Wm9WDoqVMnERc3WCzNl7POyM3vdgfgidBhabj42fMIHZYG/96RGPjESpv3pUracKFQ7DbZWje/AESMehShw9IA2D5vVFe4BTHT3pYt9gULXkHenj1ISUnBi/Pm2T17GxMTA4PBgMtVVRg37nd25ceN+x1yd9mvy9dqtaitq7WZrfUmpVIpdmadPn2GwxgA4NIlHTIzZ9sdj4mJsSsjXTjffPMNFi95S5aONQCE3JOMusItaDEZHdYXaXm8SX8OQYN+a1c+NOH3CIpOwI1mC/zbrEKoKdyKiOQMuzJk68GJD+LAdwcwYUIaysvLxYyu9OfyFR9i+vQZOHr0KCoq9Hb1OCkpCZ//dSPWrLGuBmm9TH/fvr1iAx+5Yt+3by+SkpJw4sRx6HQXodNdtIu9oCAfV69edXgNtu4E5uXtQu6uPCiVSpw7d9bh9eItj2dkoKAgH0ql0mXsAOxil3bF/mDF+2LjMin2goJ8LF7ylmyxL17yllux5+3Zg5jYGLvYf/zxR8zKeAyAdVDj879uFHWkoCAfj2fwum3PxIkPYfWqVdDr9U7b7uLiYowcNdLhOV544UXMnPk4ANtBkzVrVotN6uQQPnwqKv93HUKGjEJw3HAo2rT30mqehqK9iEy1X2ng6B4BWGedG7WHEZkyU5a4/RQhYhfriFGPImLUvyF8+FS7n7PUlKJHv6EOZ5Lau7c1XNJAEZsky8o3wNpurFmzGlqtFkqlst36UllZieUr7L9ecvr0Gfjtb0fCZDLhP5cts6kvGzdswKxZs2SJ+24hTbacPn0aKSkpor101G7n7dmDkaNG2g3CzpkzFxs3bsDY1GSMTh6DLVv/Ln4PavURh5tCeoOfIgQ9+g1FY+kZBA24D436IlxvqIShcBMMhdZNmgY+sRIBfWJh0HyD4CHJdnXfUluGS18uAgAxkBU/f6v19aUf0HvYRFljN1UUdzh2Y7F13x/9zmxxTIq9seyMbANwntQZ1ebNeHDig3Z1Zl1OjthIKy5uMF5ZuFDcY+WsM3L71S+//PLL7QxgQGx/UQnc0Vh6Bj1693PawFtqyzxaftBiMqKp4mePlmgUr83AuSLPnifNzd3pdDmC2WxGXV2dRyOics80AdbRoNLSUqdJtzRr40lyW1CQjxEj7veozMMfn3L7ZwHr10108w90Wh+ajdUedRhaTEY06E67vSymeG0GSsvk2eXzdhgQ29/tum82m/HoIw/bLaFra9Hrr+OVhQs9qsdPPTUXy5ZlyVb3pdg3q750Wkc7Ekf65ElYs/YTt8skJsR71N4YDAaMTU3GocOFTmP3NA53P5PWOhr7yVMap4MdiQnxLv9/rZnNZtw/IsntMokJ8XfFdevJ9QpYZ9h79uzptE7o9XqEh4e7PRhlNpvFoKq7EhPiPeobANbvEg6OG97u83s3Wiy43mT0qL231JZZZ2zcfJYXsLb5nsTuzj1FmkF299lEwL3+Uls7Xh3h9s8C7vVBPK0vgLW/NHHiQ26VuVuuVYkn16xarcaaNavxxRftf9+0O22fwWCwec/de0hrnl6zjaVnUFO4VXx1qiM3WizQ5szB4Gc/dbvut5iMuLT1/2HQH1a4vYrP02v2TovdkzbeG3VGmiVu+2iEJ3XmTrtuu1xCfKfoSEJMnedpQnwn8OWEGLA2nAqFwqsrAcxmM8rLy2UdCAI61pFzpSOxe5pUAvLF7umgXVeN/U67WXeUp9frnaIjCfGdwtPO9Z3E04T4TnC3XKsST69ZaYa+PR1ptw0GA0wmk8dtvaf13lJbBv/eke0mfx0ZxGoxGfFLs8WjMh25Zu+k2D1t4++EOnOnXbddask0EXU9cjwDFhgYKHsyDDD2tgIDA2/JM31dOXYiolvJ1f2kI21fWFiYbI+zteZqNWc3vwB083DJv58iBHD+bVNe0ZVj78p1Ri5dalMtIiIiIiIiIm9hQkxEREREREQ+iQkxERERERER+SQmxEREREREROSTmBATERERERGRT2JCTERERERERD6JCTERERERERH5JCbERERERERE5JOYEBMREREREZFPYkJMREREREREPokJMREREREREfkkJsRERERERETkk5gQExERERERkU9iQkxEREREREQ+iQkxERERERER+SQmxEREREREROST/G53AABQvDbjdofQIYkJ8bc7BCIiIqe66r2qq/YNgK4be+La2x0BEdGt96tffvnll9sZwIDY/oifv/V2htAhxWszcK6o+HaH4XMe/vjU7Q7BY8VrM1BaVnG7w/CaAbH9b3cIRLfE3XDdDojt3yXvVYkJ8V2ybwBY2/yuGvuOV0fc7hA8lpgQf1dcqxLeY8lX3EnX7R0xQ0xEXUtX7GB3ZYkJ8V32M++qiU1XneEjoq6vK7b3Xf0+xdhvrTtt5RKfISYiIiIiIiKfxISYiIiIiIiIfBITYiIiIiIiIvJJTIiJiIiIiIjIJzEhJiIiIiIiIp/EhJiIiIiIiIh8EhNiIiIiIiIi8klMiImIiIiIiMgnMSEmIiIiIiIin8SEmIiIiIiIiHwSE2IiIiIiIiLySUyIiYiIiIiIyCcxISYiIiIiIiKfxISYiIiIiIiIfBITYiIiIiIiIvJJTIiJiIiIiIjIJ/nd7gA8pdu2DH3HzYUi6h7U/fAtLDUl6BYQjOCBv0HQgPtclm8xGVH/Yz669eiJ0KEPoJtfAFpMRlza+v8w6A8r0M0vQJa4DQYDnsx8AnnffAutVosdO76G8YoRMbExmDAhDUql0ml5vV6PEyeO4/ix40ifMgUpKSkAgIKCfGi1WrzwwouyxA0Aubk7UVxcjEWL3oBarUbenj0AgJGjRmLixIcQGBjYblmz2Yzt27fjp6IihPQOwdix40Tsi15/HZlPPiley6EiPwch8WMRNOA+j+uLVFeajZfhH9IXvQaPQkCfWLSYjLj42fMY/Oyn8FOEyBY7EdGtlp2VJe4xKpXKYdvtjMFgwLZtXwEAZs58HGFhYTCbzbh/RBIOHS5EWFiYLHHfaLFAmzMHg5/9FAActt3ONBur0agvgkl/TtwzAKCx9AyMxYfQP22eLHFL/0ZN4VbEzcyGpbYM9UUHcMPSgICIQQiJH+PyPtPeva3q4N8Q0GcAQhN+L1vs69evg1KpxIQJaSgoyMeB7w4AAMY/MB6pqWOd9g+kulJeVm7XF0qfPAlr1n7ism9EHOYOcwAAGeBJREFUROQNXWqGuLH0DABAEXWPOBY6NA0BfQZAv9N6I3HGUluGi589DwBovlqDkr8tQYvJCD9FCBSxSTCeL5Qt9m3bvsIzzz4HAGhqakJ8fDwemzkTALBg/sswm81Oy5eWlqK4uBjaC1pUV18Wx1NTx+KrrVthMBhkidtsNmP1qlV4+OFH/hV7I9KnTEH6lCk4fuw4Nm7c4LR8eXk5fioqwvgHxqN//2g88/Qc6PV6AEDmk09izZrVssQNWH/fpjKNTeIbOjQNiv73oqrgz6I+teeXZgv8gvsgdGia9f+y6z3caLHATxGCsOTZqP8xX7bY7yZPPTUXGo0GgLXzlJ2VhZUrP4RarXarvMFgwPr167B+/TpRz81mM9InT5Kt3kueemou9Hq9iMGT2M1mM3Jzd2Llyg+hUqnEcYPBgMSEeFljlz6fjsau0WiwcuWHyM7KgkqlEteswWBA+uRJLturzrjRYsGFLxaixWREi8mImmPbUZGfg6qDf3N5zQLW677q4N9QkZ+DmmPb0WysBmBNeC58sRA3Wiyyxd7VabVaHD58CMOHDxfHHps5EyNGjMCy//wPl3VHGvi9evUqrl69iiczn4DBYEBgYCAWL3lLJMpyMJ4vRFjybPgpQkTbHT58Krr16CnabmeuXamCpbYU1wzlaG68eW0GDbgP1wzlLvsXnVFTuBURyRkAgBvNZij634uQ+LGw1JSg+rDKRWnAUlOCoEG/RUCfAagq+DNMlecBAKEJ41FXuEW2Om8wGPDBivcxYsT94lj6lCkY/8B4fPbZZ9i3b6/T8iaTCVFRUZgzdy6Cg3th+rR00S6+snAhCgp4j3XFbDYjOytL/D03dyfWr1+HgoJ8t+8xZrMZKpVK3KcBa1uwfv06WWKWGAwGZGdlwWw2dyh2g8EAjUaD3Nyd0Gq14vitiF363Dsau16vF2U0Go24p97K2KW/dyZ2tVp9S2OXU5dKiI3Fh9B72ETxOvw3k6CIugehCb+HYtAYmKovOi3fWH4WwQkPIWLUo+g37g+43lCJpoqfAVgTpbrCLbLF/sGK9zF58mQAQFJSEqZPn4GkpCTMnPk4dLqLqKurc1o+JSUFixa9AeUQ29HSwMBAPJ6RIVtH4/Tp00hMHCpGaSdMSENKSgpSUlIw/oHx+GrrVqfllUollmVlYcKENGRmZiI9fRpOnDgu/k8AbBoyb6ovOoDQETPEa6m+hAwZhR4Rg2CqOu+0vH9IpLVuRd2D8BFTcL2hEs1XrJ3r3veOg/HsflnivptIHeikpCQAQFRUlOhgP/P0HJsbsCN6vR5jU5Nx9epVBAf3wtjUZNHBlrPeS7H3Ce+D6OhoEfucuXNF7K7qbV1dHY4fOw7jFSN+KioSx8PCwmRPDvbt24vU1LF2scfHx7sV+759e9G/fzQemzkTFRV6LF36toh9cnq6y45uZxjPF0IRmyRmxaTExr9XBPQ7s9FiMro8h6L/vQgdmobrlibo91oH3fxDImUf+Ozqduz4Gs88+5yY1cvMzERSUhImTEjD5PR0aDQ/OC1/8OA/AQCLFr2BRYveQN9+/cSxqVOn4YMV78sWe13hFgTFWgc/pbY7oE8sQoc+YNN2tydowH3oN+4P6BEWY/der/hxqC86IEvcltoyXKs6KwZupXtU0ID7EDo0DQ1Frq+1/mnzEDJklPV+FZuExjLrwFFAn1jrva6iWJbYv/nmG8x76WUx6y/1DyZMSMP48eNRXOz8342Ojsb06TOgVCqRmZmJuLjB+Plna59s4sSH8MGK92UdfLsb7Nu3FzGx1jpbV1eHyspKREVF4cB3B/Bk5hMuy2s0Gjz6yMOoqNDjzSWLRaKkVCpx4MAB2fpngLW9iImNQWBgoF3sr732qlvlly9/H6tXrcK5c2fFcaVSia+2bpU1dulzdxT7k5lPuKy363JyUFlZieDgXli+/H0xuXQrYwc6VmdKS0tFmTVrVuO9d9+9ZbHLqUslxA1Fe6GIHGxzrCI/B2W7PwAABMcNd1RMsNSUwD+kr3gdnPAQblwzAQD8e/fF9YZKWUZSpcrReqmYXq9HdlYWnsx8AvNeell0XDsiKioK5WXlnY7TkerqywgNDbU5plKpkJ2Vhfkvv4Tsd/7o9rn0ej3y8nYhLm6QOKYcorRpyLzJXPkT/ILDbY5J9eW6yYje945zeY5mYzUq8nNQ+vV/I2T4v4lld/4hkdZOltF5J8vX5e3Zg1mzZonX0kDQhAlpSE+fBp2uxGn5EyeOIz19GhYtekMMqEgd7JkzH5e1g523Zw8yn3wSgPXalTpuEyakYXTyGFy6pHNaPjo6GsuysjBy1Ei791JSxsga+5YtW5A+ZQoA29inT5/hVuzS552UlISHH34ERwuPiJHjiRMfwupVq2SLva5wi1iV4acIEYlN+G8moXtwFCw1l5yWD+gTi5Aho6wDWUkP4VrVWZFEhw5Nw5Uf98kWe1d3SXcJ/fr1tTmWnZWFRa+/jm/y8jB16jSX50hNHSv+rhyixPFj1gFQ6R4nrTbwphaTEdcbKhEQMUAca912Byc85HLJtDOKvkPQqD3sjVDtWK5UIjjhIZtjjaVnUJGfg4pv/4R+6W+7fa4WkxGmMg0U/W6uogvsq7SZ8famn4qKEB8fb3NMpVJh0euv46utW8XKMmekvtBTT81FYuJQsTohMDAQcXGDUV4uT9/mbrF61SqkpIwBYL3GXnjhRUyfPgNvL10Kne6iy+Tk79u24fGMDCxa9AY2q76ESrVJXKOzZs3Cjh1fyxr7hAlpdrG/+tprOFp4xGXs06fPwBdfbLBpcyTPPPvcbYl9WVYWdLqLLuvtsqwsvPDCi8jMzMSCBa/YTC7ditgd1ZlXX3vNrTqTkpIiyrz55ltQqTaJ915ZuFDW2OXUpRJiR0KHpqFnbBJMJUdcdpQAoFuPng6PS7MRrkaRO6KpqQmZmbNtjoWHhyN9yhRMTk/HN3l5nVo+GRc3yKZCetPxY8ftOvTjx4/H+AfGY3TyGPE8sStmsxlLl76NxUveErOFABDSW75ncK9VnUVA7yibY+HDp6JnbBKuN9bh2pUql+fo3jPE+jxZ3P1o1B62mZ3qHhyFG81cfumMSrUJiYlDbY5JHezaulqMG/c7p+UrKysx7L5h4nXKmDGigy0NMMk1GqlSbUJERITNManj1ie8j80yQU9JnUg5kgMAOFp4xGuxHz16FKOTx4jPOzY2FjrdRVlmbm60WHC9oRJ+PXuLY1Jio9u2DD0iBkHRP97JGaykhKJ0+ztiGS1gHfi8ViXPANzdIC9vFwYOjLM5NmfuXKSMsXaepNU97mrbvsfFDYbJZOpckA5cb7K2y633AOneMwShQ9MQFHc/TGWaTg1edvMPxPWGyk7H6Yg0KN9aQMRABA36LXpEDIKx6Dv3ztNiQWXBOihik2weE/IL7gOT/pzX4m3t8OFDCAoKsjk2fvx4UV+OHj3q8hzh4eF4bOZMjB8/Hnl5u2wSidTUsbINmN8NtFotdLqLNn0qg8GA3Nyd+PelS5GePg0xMfYrHlo7fPgQkpJ+A8B6Tx2dPAalpaUAgMTEofgmL0+W2PV6PXS6izbPiEuxv5OdjfT0aZ16fnz06NGyxS597o5iX/T662597q1pND/Y9JNGjx6NkydPejVmibM6I33u7sSu1WqhUqmwfPn7WLzkLXFczjojty6fECui7kH4byYhZPi/oeGS8+Vc/iF9Yam5OSNlKru5XFOaGe7e0/sJWs+ePe0S1sDAQLEMGgBOnep45dfpSpCe7nrkviNGjhppt+wpOjoaEyak2Y0MtcdsNuPfly7F+PHj7Tb/Ml5xvfyxo3r0G4qWpnqbY9JMU+iIGTAWH3J5jm5+AQgacB8iRj0KAGKJPQDZOkh3u8dmzkTKmDG4XFUllse15+rVqzavg4NtO19y1Xsp2Wt7Y3hs5kxMnToNeXm7UFbW8WcKpSWpciQHUpLdtjPRutPpbuxqtRrZWf+BZcuyxDEpMZZj5kYakPQPiRTHbBKbkiNuDVoGRAxESPxY6xLps/tF+y4lxnI+D9qVjU4eg5qaGptj0nLWZ559TgxGOaO9cHOA6pLuEn6dkCBe63TOH2vqqG7+9pthdvMLgCLqHkSMehQ9IgahUV/koKT7ugdHuf4hL/FThCBkyCj0+91T1jrvIpm/0WKB/lvrowH9xj9t+941EwIiBjkq1mmpqWPR2Nhocyw6OhqZmZl4ZeFC7N69y+U5AgMDkZSU9K/Zstk2CbD2gtZuQJVuanutShoaGlFbV4vaulqX9xid7qLN4KlyiFLsUxMeHi7bNVtbW4vRyWPsjjc03KxPnR10lWvgFkC7sbv7uUvUajU+WPE+Xlm40Ob40cIjXomzrZqaGsTFDbY73pHYGxqs/bPWK1QVCoVsdUZuXSohVgwaA8sVaxLSYjKisfQMmo3VMFWeR6P2MIIHWke5GkvPoO6Hb+3L97sHpjINGkvPoL7oe1xvqBTLrJuvVKN7cJQsuwZLnerWD55rtVro9XoUFORDp7soZmxUKpXDjUsMBgO0Wi3q6+tRWVlpMyvW0NCIgXEDvR43AAQFBeGS7ubMe0FBPvR6PfR6Pf6+bZuY+ZaWPbUlJcOA9fki6f8tqa+vt1lC7U09wmLEUjGpvrSYjDBVnsfV4oNQRCcCaL++WGrLYKo8j2ZjNYwXjuF6QyV69r9XnA9Ap5bh+aqkpCRkZmZicnq6yxUG8fHxNo3t8WPHbTrYeXmuO1wdISWsbZM+KfZ5L70s63O0ndHe0lSp0znvpZfx448/ujyPWq3GM0/Pwed/3WiTXEvtWHh4eHtFO0wakGy9EqN1YqMYNAaN5a5njPwUIQgacB/6p82zeX5USoz9e0c6K+6zWneGDQYD1Gq12Lhm9+5dYrWQWq222ShOkpg4FEcLj6CgIB8FBfnIy9uF0aNHi/MB9gM13iANoEgDHa3b7sbSMzCVHBGPW9X98K3DzdlutFhgqS3DdfNVtDTU2gyamKovQhGbZFfGGxSRg20G5xtLz8BSW4ZmYzWu/HwQPfoNFf+/ivwch8mx/tvVuFZTgj6/fQTNV6ptfsZSU2L36JC3xMTGoLLy5sCw1D/QarXYv28/xo8fD0AaWLPvH2i1Wmg0GlHX2q4oOlp4RJZ25m7RdhUQYB2wzMzMxBdfbMDlqiqXky3p6dNsBiFUqk2iT+Zqb5vO6NmzJy5X2a7Sk2Jf+dFHqK2rxeHDrictXHG2y3lntE1Ypdhzcta59bkD7d9j5dSzZ0+7hNXTOgNY2/EXXngRf/rTx1CpNon2XY5B/lulSyXEwUOS0VhyAoB1B+Cawq0o2TgftSe+RuiIGWKZkKnqPJqv2o+cBQ24D/0mvISawq0w6c9h4BMrRQJ89eIxhAx9UJa4AwMDkZk5W1zcNTU1WDD/ZTyY9gAOfHcAn/91o5h1+fyzvzg8x88//4yNGzYgNDQU5WXl2Ljh5u7On3/2F7ee1emIESPuR17eLlHZD3x3AA+mPYDnnn0GMbExmDN3LgDrReBotriurg6hoaEIDQ3Fxg0bsHHDBhw4YN2cRKvV4ty5s3bPIHlLSPxY8bygVF8ufvY8ak98jV7x4xByTzIAwGLQO6wvLU31qPj2TyjZOB+NJSfQL/1tUV8adKcRljzbrgzZSk+fJp5XlTo9er0eGo0GJ0+exPgHbnaY2utgq1SbRAdbpdokOtjtzeJ6M/ampiYRu9Rx02g0+CYvD2PHjnMaO2Ct45WVlaivr4dWq7UZFAPkSQ4A69LU2tradmMfPHiw09ilG/XiJW8hIiLCJnZpkECOr8+Rri9pCayU2EgDWaaSI1D0HQLAmtg4GsiSEooWkxH1Rd8DuJkASwOfcn29XleXPmUKtmyxbi5pMpmwZs1qjE1NxvLl72Pq1GmYONH6rGt19WVUVNgv91cqlcjdlYcD3x3Ajq93IHdXnqjjBw/+0+7RIW8KS54tBktat93G4kPol/62GLxsKtPgerP9rNH1JiPqTu9G98BeaDZeRt3p3eK9hguFCIm3f07RG6S6KZJ5gx6XvlyE0u3v4LqlCVH/x7qqqsVkbHeDre6BvaCITUL92XzUnd6NqyUnbcpIA7neNmFCGr7aulW0DTu+3oEH0x5AdnYWht03DDNnPg7AWl9arxyQ1NTUYPny9zE2NRmqzZuxfMWHor6o1WpkZs6W7Wu67gbSYIH0+ev1ept7jE53UTwCoVarHT5eNOy+Ydi/bz8MBoPY1Ts29l/XSlOTbKuw2s4+t439aOERl7H///buLzaKIg7g+I/aplchjcUoQqkFa5NWLWKUHiUmBorYtPgn0RoSC/4DjEoNCvjiQ+EVNTTanvFBIFIDtpFEjFpjhWBEuSJqbRSTehaVVg31DqtyWynUh2bX+7N3va03d1zn+3ki3fvzY252Z36zOzPxDA0N2d7FTYZ45T4wMJBQuYcmw5Hb2aksd/O3/T91JvRvR458IsXF8yUvL0957Kpl1D7E+ddWir+7Xc4Nn5ac/Cuk+N5ttq/7+8cvpbB2k+2x6UU3RO0/e2F0RALdb1j7F6rQsHq1bNu21VqFsfOD6I7c4OCgXDlrlu1ej+bKzpG8Xq9UVS1R1rEOXRF37dp10rR1qzTZjPSeOPFt2DwCk7mwkJ0DB96WDY2NykbwphfdMD748ev3knfVtTHry8jQSZl5Y63t+69ZE7140IXREfF3t0thXeKLneiqenm1fHz4Y1m6dJnVwT7WfVRqauqktrbOWgyjv78/Zge7vWO/7H/rLfH94JP2jv1WXe/q+lBWrXpAWf2pXl4tXV0fSkVFhQSDQXn++e1W7A89/Ii1+Etv79dRj3abVtbVWP/u7HzXShCOHTumNDm4r75evN6jMWM3ryWxVg0279y/+MJ2a/EvM/ZDhw7anuvJUlD5gPzZ//n4nt9nz8hvh16V83/9KnnzFsvlt66ztt2LXCTRNBIYlMF3xs/1GWW3y5w7m6wEWOXA51TgdrultbVFent7paKiQl5/3X5bveOfH7cGQyOZOwtEann5ZWn1vJLUeENddv0y+anjObnsutviXrv/GTopM67eEHUsJ/8K272GR34/JeeDwxPuWz9ZWdm5MrPyfvH3vCezl62XmQtWyMwFK6LjGPpJZpTdHjadwBRrj+Qz3xwMm0OfbCUlJVJVtUR6enrE7XbLjuZm2SHNUa/r6+uTJ5+MLvNY/RoRkdbWFtv34D/mnF+z/L/44rhs2Tw+Da+4eL5s2vys1V52vv++3HzLzVF9xYaG1dLWtkeWVFXKosrF0t6x3xqE8HqPWvPBVcXu9XptY1//2ONWrPv27pXq5dVRsft8PquN3bfvDdmy+Rk58d34FL/e3q+tJxRUxZ5IuceK3WxjH3qwwfqbGbvXe1Sql6tpp5IRe9uePdYNsEWVi8P68SrrjGrTxsbGxtIZQNHc2VL6RPyte0KdGz4t03Jyk3qBvzA6IufPDts2NLH0eeqtypson8+X9MTVvHOrchTVMAzx+/3/ayVsOz6fTwoLCx0lNHe99JWj7zAfvUx2fTn3x+mEH5fu89TLz6d+Sdr3p1vR3NkJ133DMOSeu++Snbt2x60/T2/cKBsaGx2dH2vWrJampq3KBoPM2PfuezPu+eU0DvNzWz2vJPye8rJSR9ebQCAgS6oq5dPPuuPGXnPHign/f6EMw5CbFlZM+LmhystKHV3jR4PD0r/rUSlZ3xb3Tm6fp17mP/xawue2+bmJvmeqnLdOzlcRNW2KYRgyMDDg6Fx1Wm9ExvsHl1yan9QnACbThvR56h3F7rRNSdRkyuPAUwsdfYeqPoiT/lJ5WemUOFdNTs5Zr9crra0t1uBVIBCQYDAY1t4m0pYFAoGwY4m2IaGctlN2sfv9/qgpOk7bnKkQ+5df9SbcN05G7E7rjDklK/Q9Tsv9YjtvM+oOsYg4SloTlZWdK1kKPjeSio57Kh4ncrlcSU+GRdQ9LhpKxch4VnYuc4cT5HK5ZOeu3dbjNLHsaI6+qxCPYRhKk2GRxGOPdRctHifJ8GQUFBTIRwcPTxi73ZMqE/no4GGl153svHyZ1+CZ8HVOk6WsnFyZ1+BRdrdsqlDx27pcrpRc71X0D1JRX1S1KSrKI5Kqa0Gq5lRmOrfbbc37Fxn/Pex+k527dsf9rSKP+f3+sOl8KpixG4YhLpcrZuxO25xgMJiy2M2BhGTFbpa7qiffRJJTZ+xyglTUGZUyLiEGkFlUDKakqoNN7OFUDY5FyuSBTwBIpZUr74x7fDLX7ZKSkpS0UypinzNnTkraKco9XKpiVyWjFtUCAAAAACBZSIgBAAAAAFoiIQYAAAAAaImEGAAAAACgJRJiAAAAAICWSIgBAAAAAFoiIQYAAAAAaImEGAAAAACgJRJiAAAAAICWSIgBAAAAAFoiIQYAAAAAaImEGAAAAACgJRJiAAAAAICWSIgBAAAAAFoiIQYAAAAAaCk73QGIiPR56tMdwqSUl5WmOwQAAOLK1LYqU/sGIpkbe7kn3REAQOqlPSH++dQv6Q4BgEOZ2sHOZJlc5pmaHEwFtLEAAMQ3bWxsbCzdQQAAAAC6K5o7O90hAClxMQ3YkhADAAAAALTEoloAAAAAAC2REAMAAAAAtERCDAAAAADQEgkxAAAAAEBLJMQAAAAAAC2REAMAAAAAtERCDAAAAADQEgkxAAAAAEBLJMQAAAAAAC2REAMAAAAAtERCDAAAAADQEgkxAAAAAEBLJMQAAAAAAC2REAMAAAAAtERCDAAAAADQEgkxAAAAAEBLJMQAAAAAAC2REAMAAAAAtERCDAAAAADQEgkxAAAAAEBL/wI/5iLfTZ8FfwAAAABJRU5ErkJggg==)"
      ],
      "metadata": {
        "id": "Tx0Qv9-MlGaL"
      }
    },
    {
      "cell_type": "markdown",
      "metadata": {
        "id": "elntQMbWMroX"
      },
      "source": [
        "This also applies to multi-dimentional array too."
      ]
    },
    {
      "cell_type": "code",
      "metadata": {
        "id": "nSCqvTBoMkyf",
        "colab": {
          "base_uri": "https://localhost:8080/"
        },
        "outputId": "c53f370d-0322-42e4-ee88-9cc6804e6cd4"
      },
      "source": [
        "a = np.array([[1,2,3,4],\n",
        "              [5,6,7,8],\n",
        "              [9,10,11,12]]) \n",
        "print(a) "
      ],
      "execution_count": null,
      "outputs": [
        {
          "output_type": "stream",
          "name": "stdout",
          "text": [
            "[[ 1  2  3  4]\n",
            " [ 5  6  7  8]\n",
            " [ 9 10 11 12]]\n"
          ]
        }
      ]
    },
    {
      "cell_type": "code",
      "metadata": {
        "id": "DzCNePhtmrcw",
        "colab": {
          "base_uri": "https://localhost:8080/"
        },
        "outputId": "feb54478-5498-4a22-871d-fa2a116736f4"
      },
      "source": [
        "print(a[:, 0])  # first column"
      ],
      "execution_count": null,
      "outputs": [
        {
          "output_type": "stream",
          "name": "stdout",
          "text": [
            "[1 5 9]\n"
          ]
        }
      ]
    },
    {
      "cell_type": "code",
      "metadata": {
        "id": "NRoGQ1mzmwkl",
        "colab": {
          "base_uri": "https://localhost:8080/"
        },
        "outputId": "8879150c-e202-4633-9834-e91db07494e2"
      },
      "source": [
        "print(a[0, :])  # first row\n",
        "print(a[0])     # equivalent to a[0, :]"
      ],
      "execution_count": null,
      "outputs": [
        {
          "output_type": "stream",
          "name": "stdout",
          "text": [
            "[1 2 3 4]\n",
            "[1 2 3 4]\n"
          ]
        }
      ]
    },
    {
      "cell_type": "code",
      "metadata": {
        "id": "5PIxUXack73a",
        "colab": {
          "base_uri": "https://localhost:8080/"
        },
        "outputId": "b7bb95bf-b3eb-4144-ec2a-ab5a6427133b"
      },
      "source": [
        "print(a)\n",
        "print(a[:2, :3]) # first two rows, first three columns"
      ],
      "execution_count": null,
      "outputs": [
        {
          "output_type": "stream",
          "name": "stdout",
          "text": [
            "[[ 1  2  3  4]\n",
            " [ 5  6  7  8]\n",
            " [ 9 10 11 12]]\n",
            "[[1 2 3]\n",
            " [5 6 7]]\n"
          ]
        }
      ]
    },
    {
      "cell_type": "code",
      "metadata": {
        "id": "3NuFRGuHNOOM",
        "colab": {
          "base_uri": "https://localhost:8080/"
        },
        "outputId": "cc24e161-8abb-4976-b0e9-f80ba2e4e567"
      },
      "source": [
        "# slice items starting from index\n",
        "print(a[1:, :]) # last two rows\n",
        "print(a[1:])    # omit the second index"
      ],
      "execution_count": null,
      "outputs": [
        {
          "output_type": "stream",
          "name": "stdout",
          "text": [
            "[[ 5  6  7  8]\n",
            " [ 9 10 11 12]]\n",
            "[[ 5  6  7  8]\n",
            " [ 9 10 11 12]]\n"
          ]
        }
      ]
    },
    {
      "cell_type": "code",
      "metadata": {
        "id": "Sd3_ib0GNNEZ",
        "colab": {
          "base_uri": "https://localhost:8080/"
        },
        "outputId": "c5842ec3-bfb4-4df7-d92a-b92f8ab4a735"
      },
      "source": [
        "# slice items stoping before index\n",
        "print(a[:2])    # first two rows\n",
        "print(a[:2, :]) # first two rows"
      ],
      "execution_count": null,
      "outputs": [
        {
          "output_type": "stream",
          "name": "stdout",
          "text": [
            "[[1 2 3 4]\n",
            " [5 6 7 8]]\n",
            "[[1 2 3 4]\n",
            " [5 6 7 8]]\n"
          ]
        }
      ]
    },
    {
      "cell_type": "code",
      "metadata": {
        "id": "KEmab-BCl7o-",
        "colab": {
          "base_uri": "https://localhost:8080/"
        },
        "outputId": "f535f056-9032-47fb-df76-10c418e3b371"
      },
      "source": [
        "print(a[:3, ::2])  # all rows, every other column\n",
        "print(a[:, ::2])   # all rows, every other column"
      ],
      "execution_count": null,
      "outputs": [
        {
          "output_type": "stream",
          "name": "stdout",
          "text": [
            "[[ 1  3]\n",
            " [ 5  7]\n",
            " [ 9 11]]\n",
            "[[ 1  3]\n",
            " [ 5  7]\n",
            " [ 9 11]]\n"
          ]
        }
      ]
    },
    {
      "cell_type": "code",
      "metadata": {
        "id": "JsNDJmrcmR6A",
        "colab": {
          "base_uri": "https://localhost:8080/"
        },
        "outputId": "b4d5b6c3-d07c-4489-a503-84605cc8d3ee"
      },
      "source": [
        "print(a)\n",
        "print(a[::-1]) # Reverse rows "
      ],
      "execution_count": null,
      "outputs": [
        {
          "output_type": "stream",
          "name": "stdout",
          "text": [
            "[[ 1  2  3  4]\n",
            " [ 5  6  7  8]\n",
            " [ 9 10 11 12]]\n",
            "[[ 9 10 11 12]\n",
            " [ 5  6  7  8]\n",
            " [ 1  2  3  4]]\n"
          ]
        }
      ]
    },
    {
      "cell_type": "code",
      "metadata": {
        "id": "_iuTFSfzmah5",
        "colab": {
          "base_uri": "https://localhost:8080/"
        },
        "outputId": "14413ba9-7f44-4da7-a70b-0cc8ec344648"
      },
      "source": [
        "print(a[:, ::-1]) # Reverse columns "
      ],
      "execution_count": null,
      "outputs": [
        {
          "output_type": "stream",
          "name": "stdout",
          "text": [
            "[[ 4  3  2  1]\n",
            " [ 8  7  6  5]\n",
            " [12 11 10  9]]\n"
          ]
        }
      ]
    },
    {
      "cell_type": "code",
      "metadata": {
        "id": "yC2PrAzfmLKd",
        "colab": {
          "base_uri": "https://localhost:8080/"
        },
        "outputId": "282deb52-1b11-40ef-8ebe-f1ffd5d1323e"
      },
      "source": [
        "print(a[::-1, ::-1]) # Reverse both rows and columns"
      ],
      "execution_count": null,
      "outputs": [
        {
          "output_type": "stream",
          "name": "stdout",
          "text": [
            "[[12 11 10  9]\n",
            " [ 8  7  6  5]\n",
            " [ 4  3  2  1]]\n"
          ]
        }
      ]
    },
    {
      "cell_type": "code",
      "source": [
        "a = np.array([[0, 1, 2], [3, 4, 5]])\n",
        "b = a.ravel()\n",
        "print(b)\n",
        "print(b.shape)"
      ],
      "metadata": {
        "colab": {
          "base_uri": "https://localhost:8080/"
        },
        "id": "dEkElsDsgq9c",
        "outputId": "aed2a3b5-c4f9-4b40-d30d-e49cdf81e802"
      },
      "execution_count": null,
      "outputs": [
        {
          "output_type": "stream",
          "name": "stdout",
          "text": [
            "[0 1 2 3 4 5]\n",
            "(6,)\n"
          ]
        }
      ]
    },
    {
      "cell_type": "markdown",
      "metadata": {
        "id": "zn84yK-LOUq_"
      },
      "source": [
        "### Ellipsis (…) for Multi-dimensional subarrays  \n",
        "Slicing can also include ellipsis (…) to make a selection tuple of the same length as the dimension of an array. If ellipsis is used at the row position, it will return an ndarray comprising of items in rows."
      ]
    },
    {
      "cell_type": "code",
      "metadata": {
        "id": "27VBaNTBOZHD",
        "colab": {
          "base_uri": "https://localhost:8080/"
        },
        "outputId": "e11c2b1c-90ef-4193-ec69-9682bb154135"
      },
      "source": [
        "a = np.array([[1,2,3],[3,4,5],[4,5,6]]) \n",
        "\n",
        "print('Our array is:')\n",
        "print(a)\n",
        "print('\\n')  \n",
        "\n",
        "# this returns array of items in the second column \n",
        "print('The items in the second column are:')\n",
        "print(a[...,1]) # generic, for matrix with any number of dimensions\n",
        "print(a[:, 1])  # works for 2D matrix\n",
        "print('\\n')\n",
        "\n",
        "# Now we will slice all items from the second row \n",
        "print('The items in the second row are:')\n",
        "print(a[1,...])\n",
        "print('\\n')\n",
        "\n",
        "# Now we will slice all items from column 1 onwards \n",
        "print('The items column 1 onwards are:')\n",
        "print(a[...,1:])"
      ],
      "execution_count": null,
      "outputs": [
        {
          "output_type": "stream",
          "name": "stdout",
          "text": [
            "Our array is:\n",
            "[[1 2 3]\n",
            " [3 4 5]\n",
            " [4 5 6]]\n",
            "\n",
            "\n",
            "The items in the second column are:\n",
            "[2 4 5]\n",
            "[2 4 5]\n",
            "\n",
            "\n",
            "The items in the second row are:\n",
            "[3 4 5]\n",
            "\n",
            "\n",
            "The items column 1 onwards are:\n",
            "[[2 3]\n",
            " [4 5]\n",
            " [5 6]]\n"
          ]
        }
      ]
    },
    {
      "cell_type": "markdown",
      "metadata": {
        "id": "QYv4JyIEL9iD"
      },
      "source": [
        "Slicing: Similar to Python lists, numpy arrays can be sliced. Since arrays may be multidimensional, you can also specify a slice for each dimension of the array:"
      ]
    },
    {
      "cell_type": "code",
      "metadata": {
        "id": "wLWA0udwL9iD",
        "colab": {
          "base_uri": "https://localhost:8080/"
        },
        "outputId": "71ee6446-27c9-4697-dd60-b49b48d51784"
      },
      "source": [
        "import numpy as np\n",
        "\n",
        "# Create the following rank 2 array with shape (3, 4)\n",
        "# [[ 1  2  3  4]\n",
        "#  [ 5  6  7  8]\n",
        "#  [ 9 10 11 12]]\n",
        "a = np.array([[1,2,3,4], [5,6,7,8], [9,10,11,12]])\n",
        "print('a shape: ', a.shape)\n",
        "\n",
        "# Use slicing to pull out the subarray consisting of the first 2 rows\n",
        "# and columns 1 and 2; b is the following array of shape (2, 2):\n",
        "# [[2 3]\n",
        "#  [6 7]]\n",
        "b = a[:2, 1:3]\n",
        "print('b shape: ', b.shape)\n",
        "print(b)"
      ],
      "execution_count": null,
      "outputs": [
        {
          "output_type": "stream",
          "name": "stdout",
          "text": [
            "a shape:  (3, 4)\n",
            "b shape:  (2, 2)\n",
            "[[2 3]\n",
            " [6 7]]\n"
          ]
        }
      ]
    },
    {
      "cell_type": "markdown",
      "metadata": {
        "id": "TpxMLIyireDN"
      },
      "source": [
        "### Mixing integer indexing and slice indexing"
      ]
    },
    {
      "cell_type": "markdown",
      "metadata": {
        "id": "_Zcf3zi-L9iI"
      },
      "source": [
        "You can mix integer indexing with slice indexing. However, doing so will yield an array of lower rank than the original array,\n",
        "while using only slices yields an array of the same rank as the\n",
        "original array. Note that this is quite different from the way that MATLAB handles array slicing:"
      ]
    },
    {
      "cell_type": "code",
      "metadata": {
        "id": "G6lfbPuxL9iJ",
        "colab": {
          "base_uri": "https://localhost:8080/"
        },
        "outputId": "4a6fd853-bd94-42b0-bd7c-bc0be16b1e0f"
      },
      "source": [
        "# Create the following rank 2 array with shape (3, 4)\n",
        "a = np.array([[1,2,3,4], [5,6,7,8], [9,10,11,12]])\n",
        "print('a shape: ', a.shape, '\\n')\n",
        "print(a, '\\n')\n",
        "\n",
        "b = a[1:]  # slicing\n",
        "print('b shape: ', b.shape, '\\n')\n",
        "print(b, '\\n')\n",
        "\n",
        "c = a[1:, 2]  # mixing integer indexing with slice indexing\n",
        "print('c shape: ', c.shape, '\\n')\n",
        "print(c, '\\n')\n",
        "\n",
        "d = a[1:, [2]]  #  slice indexing\n",
        "print('d shape: ', d.shape, '\\n')\n",
        "print(d, '\\n')"
      ],
      "execution_count": null,
      "outputs": [
        {
          "output_type": "stream",
          "name": "stdout",
          "text": [
            "a shape:  (3, 4) \n",
            "\n",
            "[[ 1  2  3  4]\n",
            " [ 5  6  7  8]\n",
            " [ 9 10 11 12]] \n",
            "\n",
            "b shape:  (2, 4) \n",
            "\n",
            "[[ 5  6  7  8]\n",
            " [ 9 10 11 12]] \n",
            "\n",
            "c shape:  (2,) \n",
            "\n",
            "[ 7 11] \n",
            "\n",
            "d shape:  (2, 1) \n",
            "\n",
            "[[ 7]\n",
            " [11]] \n",
            "\n"
          ]
        }
      ]
    },
    {
      "cell_type": "code",
      "metadata": {
        "id": "EOiEMsmNL9iL",
        "colab": {
          "base_uri": "https://localhost:8080/"
        },
        "outputId": "9a1f3390-938b-4abb-b456-22fd7d1ca3fe"
      },
      "source": [
        "a = np.array([[1,2,3,4], [5,6,7,8], [9,10,11,12]])\n",
        "row_r1 = a[1, :]    # Rank 1 view of the second row of a  \n",
        "row_r2 = a[1:2, :]  # Rank 2 view of the second row of a\n",
        "row_r3 = a[[1], :]  # Rank 2 view of the second row of a\n",
        "print(row_r1, '\\t shape = ', row_r1.shape)\n",
        "print(row_r2, '\\t shape = ', row_r2.shape)\n",
        "print(row_r3, '\\t shape = ', row_r3.shape)"
      ],
      "execution_count": null,
      "outputs": [
        {
          "output_type": "stream",
          "name": "stdout",
          "text": [
            "[5 6 7 8] \t shape =  (4,)\n",
            "[[5 6 7 8]] \t shape =  (1, 4)\n",
            "[[5 6 7 8]] \t shape =  (1, 4)\n"
          ]
        }
      ]
    },
    {
      "cell_type": "code",
      "metadata": {
        "id": "JXu73pfDL9iN",
        "colab": {
          "base_uri": "https://localhost:8080/"
        },
        "outputId": "101421eb-ba26-4907-8351-11c71a51237a"
      },
      "source": [
        "# We can make the same distinction when accessing columns of an array:\n",
        "col_r1 = a[:, 1]\n",
        "col_r2 = a[:, 1:2]\n",
        "print(col_r1, col_r1.shape)\n",
        "print()\n",
        "print(col_r2, col_r2.shape)"
      ],
      "execution_count": null,
      "outputs": [
        {
          "output_type": "stream",
          "name": "stdout",
          "text": [
            "[ 2  6 10] (3,)\n",
            "\n",
            "[[ 2]\n",
            " [ 6]\n",
            " [10]] (3, 1)\n"
          ]
        }
      ]
    },
    {
      "cell_type": "markdown",
      "metadata": {
        "id": "HiuX-lGTqYau"
      },
      "source": [
        "### Numpy subarray is NOT a copy!"
      ]
    },
    {
      "cell_type": "markdown",
      "metadata": {
        "id": "KahhtZKYL9iF"
      },
      "source": [
        "**A slice of a NumPy array is a view into the same data, so modifying it will modify the original array.**"
      ]
    },
    {
      "cell_type": "markdown",
      "metadata": {
        "id": "FkmkuMsdnY8H"
      },
      "source": [
        "One important–and extremely useful–thing to know about array slices is that they return views rather than copies of the array data. This is one area in which NumPy array slicing differs from Python list slicing: in lists, slices will be copies. "
      ]
    },
    {
      "cell_type": "code",
      "metadata": {
        "id": "1kmtaFHuL9iG",
        "colab": {
          "base_uri": "https://localhost:8080/"
        },
        "outputId": "379c6e16-a0c3-41ec-bead-be69f2f1fef0"
      },
      "source": [
        "a = np.array([[1,2,3,4], [5,6,7,8], [9,10,11,12]])\n",
        "b = a[1:]  # slicing\n",
        "print('a = ', a)\n",
        "print('b = ', b)\n",
        "\n",
        "b[0, 0] = 77    # b[0, 0] is the same piece of data as a[1, 0]\n",
        "\n",
        "print()\n",
        "print('b = ', b)\n",
        "print()\n",
        "print('a = ', a) "
      ],
      "execution_count": null,
      "outputs": [
        {
          "output_type": "stream",
          "name": "stdout",
          "text": [
            "a =  [[ 1  2  3  4]\n",
            " [ 5  6  7  8]\n",
            " [ 9 10 11 12]]\n",
            "b =  [[ 5  6  7  8]\n",
            " [ 9 10 11 12]]\n",
            "\n",
            "b =  [[77  6  7  8]\n",
            " [ 9 10 11 12]]\n",
            "\n",
            "a =  [[ 1  2  3  4]\n",
            " [77  6  7  8]\n",
            " [ 9 10 11 12]]\n"
          ]
        }
      ]
    },
    {
      "cell_type": "markdown",
      "metadata": {
        "id": "1WfLzUsnoACZ"
      },
      "source": [
        "### Creating copies of arrays \n",
        "Despite the nice features of array views, it is sometimes useful to instead explicitly copy the data within an array or a subarray. This can be most easily done with the ``copy()`` method:"
      ]
    },
    {
      "cell_type": "code",
      "metadata": {
        "id": "CdCxtnZBoGzx",
        "colab": {
          "base_uri": "https://localhost:8080/"
        },
        "outputId": "6292a167-895e-427e-bdb0-76d949517ef8"
      },
      "source": [
        "a = np.array([[1,2,3,4], [5,6,7,8], [9,10,11,12]])\n",
        "print(a, '\\n')\n",
        "\n",
        "b = a[:2, 1:3].copy()  # make a copy\n",
        "print(b, '\\n')\n",
        "\n",
        "b[0,0] = 100\n",
        "print(b, '\\n')\n",
        "\n",
        "print(a, '\\n')\n"
      ],
      "execution_count": null,
      "outputs": [
        {
          "output_type": "stream",
          "name": "stdout",
          "text": [
            "[[ 1  2  3  4]\n",
            " [ 5  6  7  8]\n",
            " [ 9 10 11 12]] \n",
            "\n",
            "[[2 3]\n",
            " [6 7]] \n",
            "\n",
            "[[100   3]\n",
            " [  6   7]] \n",
            "\n",
            "[[ 1  2  3  4]\n",
            " [ 5  6  7  8]\n",
            " [ 9 10 11 12]] \n",
            "\n"
          ]
        }
      ]
    },
    {
      "cell_type": "markdown",
      "metadata": {
        "id": "VP3916bOL9iP"
      },
      "source": [
        "###Integer array indexing\n",
        "\n",
        "When you index into numpy arrays using slicing, the resulting array view will always be a subarray of the original array. In contrast, integer array indexing allows you to construct arbitrary arrays using the data from another array. Here is an example:"
      ]
    },
    {
      "cell_type": "code",
      "metadata": {
        "id": "TBnWonIDL9iP",
        "colab": {
          "base_uri": "https://localhost:8080/"
        },
        "outputId": "af2e578a-ff25-48ef-b4a8-96c869d7d296"
      },
      "source": [
        "a = np.array([[1,2], [3, 4], [5, 6]])\n",
        "\n",
        "# An example of integer array indexing.\n",
        "# The returned array will have shape (3,) and \n",
        "print(a[[0, 1, 2], [0, 1, 0]])\n",
        "\n",
        "# The above example of integer array indexing is equivalent to this:\n",
        "print(np.array([a[0, 0], a[1, 1], a[2, 0]]))"
      ],
      "execution_count": null,
      "outputs": [
        {
          "output_type": "stream",
          "name": "stdout",
          "text": [
            "[1 4 5]\n",
            "[1 4 5]\n"
          ]
        }
      ]
    },
    {
      "cell_type": "code",
      "metadata": {
        "id": "n7vuati-L9iR",
        "colab": {
          "base_uri": "https://localhost:8080/"
        },
        "outputId": "97dd0bf7-1c16-475c-fa07-9bcd0a262560"
      },
      "source": [
        "# When using integer array indexing, you can reuse the same\n",
        "# element from the source array:\n",
        "print(a[[0, 0], [1, 1]])\n",
        "\n",
        "# Equivalent to the previous integer array indexing example\n",
        "print(np.array([a[0, 1], a[0, 1]]))"
      ],
      "execution_count": null,
      "outputs": [
        {
          "output_type": "stream",
          "name": "stdout",
          "text": [
            "[2 2]\n",
            "[2 2]\n"
          ]
        }
      ]
    },
    {
      "cell_type": "markdown",
      "metadata": {
        "id": "kaipSLafL9iU"
      },
      "source": [
        "One useful trick with integer array indexing is selecting or mutating one element from each row of a matrix:"
      ]
    },
    {
      "cell_type": "code",
      "metadata": {
        "id": "ehqsV7TXL9iU",
        "colab": {
          "base_uri": "https://localhost:8080/"
        },
        "outputId": "e2bf6427-59e3-4dd2-c82f-51e293b11964"
      },
      "source": [
        "# Create a new array from which we will select elements\n",
        "a = np.array([[1,2,3], [4,5,6], [7,8,9], [10,11,12]])\n",
        "print(a)"
      ],
      "execution_count": null,
      "outputs": [
        {
          "output_type": "stream",
          "name": "stdout",
          "text": [
            "[[ 1  2  3]\n",
            " [ 4  5  6]\n",
            " [ 7  8  9]\n",
            " [10 11 12]]\n"
          ]
        }
      ]
    },
    {
      "cell_type": "code",
      "metadata": {
        "id": "pAPOoqy5L9iV",
        "colab": {
          "base_uri": "https://localhost:8080/"
        },
        "outputId": "36dcc263-8df1-4278-9918-f7b5426fc913"
      },
      "source": [
        "# Create an array of indices\n",
        "b = np.array([0, 2, 0, 1])\n",
        "\n",
        "# Select one element from each row of a using the indices in b\n",
        "print(a[np.arange(4), b])  # Prints \"[ 1  6  7 11]\"\n",
        "\n",
        "# Equivalent to print\n",
        "print(np.array([a[0, 0], a[1, 2], a[2, 0], a[3, 1]]))"
      ],
      "execution_count": null,
      "outputs": [
        {
          "output_type": "stream",
          "name": "stdout",
          "text": [
            "[ 1  6  7 11]\n",
            "[ 1  6  7 11]\n"
          ]
        }
      ]
    },
    {
      "cell_type": "code",
      "metadata": {
        "id": "6v1PdI1DL9ib",
        "colab": {
          "base_uri": "https://localhost:8080/"
        },
        "outputId": "bea181a9-8d16-42f5-8b04-27b4bc7b36f2"
      },
      "source": [
        "# Mutate one element from each row of a using the indices in b\n",
        "a[np.arange(4), b] += 10\n",
        "print(a)"
      ],
      "execution_count": null,
      "outputs": [
        {
          "output_type": "stream",
          "name": "stdout",
          "text": [
            "[[11  2  3]\n",
            " [ 4  5 16]\n",
            " [17  8  9]\n",
            " [10 21 12]]\n"
          ]
        }
      ]
    },
    {
      "cell_type": "code",
      "metadata": {
        "id": "GZQOYf16RORe",
        "colab": {
          "base_uri": "https://localhost:8080/"
        },
        "outputId": "1458a8db-a986-48c6-a607-044347fcdcf1"
      },
      "source": [
        "a = np.array([[1,2,3], [4,5,6], [7,8,9], [10,11,12]])\n",
        "print('a = ', a)\n",
        "\n",
        "rows = np.array([[0,1],[1,3]])\n",
        "cols = np.array([[1,2],[0,2]]) \n",
        "b = a[rows,cols] \n",
        "print('\\nb =', b)\n",
        "\n",
        "# Equivalent to\n",
        "print()\n",
        "print(np.array([[a[0, 1], a[1, 2]], [a[1, 0], a[3, 2]]]))"
      ],
      "execution_count": null,
      "outputs": [
        {
          "output_type": "stream",
          "name": "stdout",
          "text": [
            "a =  [[ 1  2  3]\n",
            " [ 4  5  6]\n",
            " [ 7  8  9]\n",
            " [10 11 12]]\n",
            "\n",
            "b = [[ 2  6]\n",
            " [ 4 12]]\n",
            "\n",
            "[[ 2  6]\n",
            " [ 4 12]]\n"
          ]
        }
      ]
    },
    {
      "cell_type": "markdown",
      "metadata": {
        "id": "kaE8dBGgL9id"
      },
      "source": [
        "### Boolean array indexing \n",
        "Boolean array indexing lets you pick out arbitrary elements of an array. Frequently this type of indexing is used to select the elements of an array that satisfy some condition. "
      ]
    },
    {
      "cell_type": "markdown",
      "metadata": {
        "id": "P_tuldEZBHal"
      },
      "source": [
        " A summary of the comparison operators and their equivalent ufunc is shown here:\n",
        "\n",
        "| Operator\t    | Equivalent ufunc    || Operator\t   | Equivalent ufunc    |\n",
        "|---------------|---------------------||---------------|---------------------|\n",
        "|``==``         |``np.equal``         ||``!=``         |``np.not_equal``     |\n",
        "|``<``          |``np.less``          ||``<=``         |``np.less_equal``    |\n",
        "|``>``          |``np.greater``       ||``>=``         |``np.greater_equal`` |"
      ]
    },
    {
      "cell_type": "markdown",
      "metadata": {
        "id": "iTF9QNaiBC3h"
      },
      "source": [
        "Here is an example:"
      ]
    },
    {
      "cell_type": "code",
      "metadata": {
        "id": "32PusjtKL9id",
        "colab": {
          "base_uri": "https://localhost:8080/"
        },
        "outputId": "41050b78-2169-4885-87ab-1d541620920c"
      },
      "source": [
        "import numpy as np\n",
        "\n",
        "a = np.array([[1, 2], [3, 4], [5, 6]])\n",
        "\n",
        "bool_idx = (a > 2)  # Find the elements of a that are bigger than 2;\n",
        "                    # this returns a numpy array of Booleans of the same\n",
        "                    # shape as a, where each slot of bool_idx tells\n",
        "                    # whether that element of a is > 2.\n",
        "\n",
        "print(a)\n",
        "print(bool_idx)"
      ],
      "execution_count": null,
      "outputs": [
        {
          "output_type": "stream",
          "name": "stdout",
          "text": [
            "[[1 2]\n",
            " [3 4]\n",
            " [5 6]]\n",
            "[[False False]\n",
            " [ True  True]\n",
            " [ True  True]]\n"
          ]
        }
      ]
    },
    {
      "cell_type": "code",
      "metadata": {
        "id": "cb2IRMXaL9if",
        "colab": {
          "base_uri": "https://localhost:8080/"
        },
        "outputId": "79bb9ea8-8894-45d4-fb4e-cec8d628699a"
      },
      "source": [
        "# We use boolean array indexing to construct a rank 1 array\n",
        "# consisting of the elements of a corresponding to the True values\n",
        "# of bool_idx\n",
        "print(a[bool_idx])\n",
        "\n",
        "# We can do all of the above in a single concise statement:\n",
        "print(a[a > 2])\n",
        "print(len(a[a>2]))"
      ],
      "execution_count": null,
      "outputs": [
        {
          "output_type": "stream",
          "name": "stdout",
          "text": [
            "[3 4 5 6]\n",
            "[3 4 5 6]\n",
            "4\n"
          ]
        }
      ]
    },
    {
      "cell_type": "markdown",
      "metadata": {
        "id": "qPVlv6kEBla_"
      },
      "source": [
        "To count the number of ``True`` entries in a Boolean array, ``np.count_nonzero`` is useful:"
      ]
    },
    {
      "cell_type": "code",
      "metadata": {
        "id": "3oS5NrSRBXXC",
        "colab": {
          "base_uri": "https://localhost:8080/"
        },
        "outputId": "22bb7d8d-29ba-4994-e39a-e230f70b507c"
      },
      "source": [
        "# how many values greater than 2?\n",
        "print(np.count_nonzero(a > 2))"
      ],
      "execution_count": null,
      "outputs": [
        {
          "output_type": "stream",
          "name": "stdout",
          "text": [
            "4\n"
          ]
        }
      ]
    },
    {
      "cell_type": "markdown",
      "metadata": {
        "id": "_Qm9J45xBuBu"
      },
      "source": [
        "Another way to get at this information is to use `np.sum`; in this case, False is interpreted as 0, and True is interpreted as 1:"
      ]
    },
    {
      "cell_type": "code",
      "metadata": {
        "id": "rvdxNwI5BwdQ",
        "colab": {
          "base_uri": "https://localhost:8080/"
        },
        "outputId": "2a3242f5-b4b5-4ae6-bf4d-7b2918a53e05"
      },
      "source": [
        "print(a)\n",
        "\n",
        "print('How many values greater than 2?')\n",
        "print(np.sum(a > 2))\n",
        "\n",
        "print('How many values greater than 2 in each row?')\n",
        "print(np.sum(a > 2, axis=1))\n",
        "\n",
        "print('How many values greater than 2 in each column?')\n",
        "print(np.sum(a > 2, axis=0))"
      ],
      "execution_count": null,
      "outputs": [
        {
          "output_type": "stream",
          "name": "stdout",
          "text": [
            "[[1 2]\n",
            " [3 4]\n",
            " [5 6]]\n",
            "How many values greater than 2?\n",
            "4\n",
            "How many values greater than 2 in each row?\n",
            "[0 2 2]\n",
            "How many values greater than 2 in each column?\n",
            "[2 2]\n"
          ]
        }
      ]
    },
    {
      "cell_type": "markdown",
      "metadata": {
        "id": "0eY8NjKGDlcJ"
      },
      "source": [
        "We can use bitwise Boolean operators to build composound logic expression.\n",
        "\n",
        "| Operator\t    | Equivalent ufunc    || Operator\t    | Equivalent ufunc    |\n",
        "|---------------|---------------------||---------------|---------------------|\n",
        "|``&``          |``np.bitwise_and``   ||&#124;         |``np.bitwise_or``    |\n",
        "|``^``          |``np.bitwise_xor``   ||``~``          |``np.bitwise_not``   |"
      ]
    },
    {
      "cell_type": "code",
      "metadata": {
        "id": "VGjbfHOkC7_c",
        "colab": {
          "base_uri": "https://localhost:8080/"
        },
        "outputId": "2f384a4c-b090-4b0b-cb36-85b703bf0669"
      },
      "source": [
        "print('How many values greater than 2 but smaller than 5?')\n",
        "print(np.sum((a > 2) & (a < 5)))"
      ],
      "execution_count": null,
      "outputs": [
        {
          "output_type": "stream",
          "name": "stdout",
          "text": [
            "How many values greater than 2 but smaller than 5?\n",
            "2\n"
          ]
        }
      ]
    },
    {
      "cell_type": "markdown",
      "metadata": {
        "id": "CdofMonAL9ih"
      },
      "source": [
        "For brevity we have left out a lot of details about numpy array indexing; if you want to know more you should read the documentation."
      ]
    },
    {
      "cell_type": "markdown",
      "metadata": {
        "id": "ABROkhB4EduL"
      },
      "source": [
        "### Modifying Values with Fancy Indexing\n",
        "\n",
        "Just as fancy indexing can be used to access parts of an array, it can also be used to modify parts of an array.\n",
        "For example, imagine we have an array of indices and we'd like to set the corresponding items in an array to some value:"
      ]
    },
    {
      "cell_type": "code",
      "metadata": {
        "id": "-k9d4Q7yEiLq",
        "colab": {
          "base_uri": "https://localhost:8080/"
        },
        "outputId": "34117f42-3842-4bed-f389-3e53d0d1d776"
      },
      "source": [
        "x = np.arange(10)\n",
        "print(x)\n",
        "i = np.array([2, 1, 8, 4])\n",
        "x[i] = 99\n",
        "print(x)\n",
        "print(x>50)\n",
        "x[x>50] = 50\n",
        "print(x)"
      ],
      "execution_count": null,
      "outputs": [
        {
          "output_type": "stream",
          "name": "stdout",
          "text": [
            "[0 1 2 3 4 5 6 7 8 9]\n",
            "[ 0 99 99  3 99  5  6  7 99  9]\n",
            "[False  True  True False  True False False False  True False]\n",
            "[ 0 50 50  3 50  5  6  7 50  9]\n"
          ]
        }
      ]
    },
    {
      "cell_type": "code",
      "metadata": {
        "id": "4hTyqxbCFETi",
        "colab": {
          "base_uri": "https://localhost:8080/"
        },
        "outputId": "214d0ba1-3629-4d94-96fc-2020ae35a106"
      },
      "source": [
        "x = np.zeros(10)\n",
        "x[[0, 0]] = [4, 6]\n",
        "print(x)"
      ],
      "execution_count": null,
      "outputs": [
        {
          "output_type": "stream",
          "name": "stdout",
          "text": [
            "[6. 0. 0. 0. 0. 0. 0. 0. 0. 0.]\n"
          ]
        }
      ]
    },
    {
      "cell_type": "markdown",
      "metadata": {
        "id": "xVjAnxv4FG3-"
      },
      "source": [
        "Where did the 4 go? The result of this operation is to first assign ``x[0] = 4``, followed by ``x[0] = 6``.\n",
        "The result, of course, is that ``x[0]`` contains the value 6.\n",
        "\n",
        "Fair enough, but consider this operation:"
      ]
    },
    {
      "cell_type": "code",
      "metadata": {
        "id": "hT2Bxt2HFdrv",
        "colab": {
          "base_uri": "https://localhost:8080/"
        },
        "outputId": "6cbfd199-c1e5-4efa-e4ad-e085960e799b"
      },
      "source": [
        "x = np.arange(10)\n",
        "i = [2, 2, 2]\n",
        "x[i] += 1\n",
        "x"
      ],
      "execution_count": null,
      "outputs": [
        {
          "output_type": "execute_result",
          "data": {
            "text/plain": [
              "array([0, 1, 3, 3, 4, 5, 6, 7, 8, 9])"
            ]
          },
          "metadata": {},
          "execution_count": 83
        }
      ]
    },
    {
      "cell_type": "markdown",
      "metadata": {
        "id": "QOXp4g_jFxPT"
      },
      "source": [
        "Why `x[2]` is not 5? This is because ``x[i] += 1`` is meant as a shorthand of ``x[i] = x[i] + 1``. ``x[i] + 1`` has been evaluated, and then the result is assigned to the indices in x.\n",
        "\n",
        "So what if you want the other behavior where the operation is repeated? For this, you can use the ``at()`` method of ufuncs (available since NumPy 1.8), and do the following:"
      ]
    },
    {
      "cell_type": "code",
      "metadata": {
        "id": "1RaNm4gsGWd_",
        "colab": {
          "base_uri": "https://localhost:8080/"
        },
        "outputId": "c16f591f-de92-4f57-81fd-b29d4b21fbf7"
      },
      "source": [
        "x = np.zeros(10)\n",
        "np.add.at(x, i, 1)\n",
        "print(x)"
      ],
      "execution_count": null,
      "outputs": [
        {
          "output_type": "stream",
          "name": "stdout",
          "text": [
            "[0. 0. 3. 0. 0. 0. 0. 0. 0. 0.]\n"
          ]
        }
      ]
    },
    {
      "cell_type": "markdown",
      "metadata": {
        "id": "GpWOC8AUGaqe"
      },
      "source": [
        "The ``at()`` method does an in-place application of the given operator at the specified indices (here, ``i``) with the specified value (here, 1).\n",
        "Another method that is similar in spirit is the ``reduceat()`` method of ufuncs, which you can read about in the NumPy documentation."
      ]
    },
    {
      "cell_type": "markdown",
      "metadata": {
        "id": "69NldifJfJAM"
      },
      "source": [
        "## Array Concatenation and Splitting"
      ]
    },
    {
      "cell_type": "markdown",
      "metadata": {
        "id": "e2_B16_fx17w"
      },
      "source": [
        "All of the preceding routines worked on single arrays. It's also possible to combine multiple arrays into one, and to conversely split a single array into multiple arrays. We'll take a look at those operations here."
      ]
    },
    {
      "cell_type": "markdown",
      "metadata": {
        "id": "0vxUv7vIfJAM"
      },
      "source": [
        "### Concatenation of arrays\n",
        "\n",
        "Concatenation, or joining of two arrays in NumPy, is primarily accomplished using the routines ``np.concatenate``, ``np.vstack``, and ``np.hstack``.\n",
        "``np.concatenate`` takes a tuple or list of arrays as its first argument, as we can see here:"
      ]
    },
    {
      "cell_type": "code",
      "metadata": {
        "id": "aJXkgrAwfJAM",
        "colab": {
          "base_uri": "https://localhost:8080/"
        },
        "outputId": "6a0cdbc6-728f-4a0d-e4c7-a07380ce573a"
      },
      "source": [
        "x = np.array([1, 2, 3])\n",
        "y = np.array([3, 2, 1])\n",
        "np.concatenate([x, y])"
      ],
      "execution_count": null,
      "outputs": [
        {
          "output_type": "execute_result",
          "data": {
            "text/plain": [
              "array([1, 2, 3, 3, 2, 1])"
            ]
          },
          "metadata": {},
          "execution_count": 85
        }
      ]
    },
    {
      "cell_type": "markdown",
      "metadata": {
        "id": "GaEKcm4dfJAS"
      },
      "source": [
        "You can also concatenate more than two arrays at once:"
      ]
    },
    {
      "cell_type": "code",
      "metadata": {
        "id": "5p3tilk_fJAS",
        "colab": {
          "base_uri": "https://localhost:8080/"
        },
        "outputId": "98595867-1b4a-42af-fab2-a82efc564222"
      },
      "source": [
        "z = [99, 99, 99]\n",
        "print(np.concatenate([x, y, z]))"
      ],
      "execution_count": null,
      "outputs": [
        {
          "output_type": "stream",
          "name": "stdout",
          "text": [
            "[ 1  2  3  3  2  1 99 99 99]\n"
          ]
        }
      ]
    },
    {
      "cell_type": "markdown",
      "metadata": {
        "id": "wSpZXefGfJAV"
      },
      "source": [
        "It can also be used for two-dimensional arrays:"
      ]
    },
    {
      "cell_type": "code",
      "metadata": {
        "id": "-tDVNmXffJAW"
      },
      "source": [
        "grid = np.array([[1, 2, 3],\n",
        "                 [4, 5, 6]])"
      ],
      "execution_count": null,
      "outputs": []
    },
    {
      "cell_type": "code",
      "metadata": {
        "id": "KfHJgZNnfJAa",
        "colab": {
          "base_uri": "https://localhost:8080/"
        },
        "outputId": "8a8aa17a-5b58-465f-bc54-1351a896981e"
      },
      "source": [
        "# concatenate along the first axis\n",
        "np.concatenate([grid, grid])"
      ],
      "execution_count": null,
      "outputs": [
        {
          "output_type": "execute_result",
          "data": {
            "text/plain": [
              "array([[1, 2, 3],\n",
              "       [4, 5, 6],\n",
              "       [1, 2, 3],\n",
              "       [4, 5, 6]])"
            ]
          },
          "metadata": {},
          "execution_count": 88
        }
      ]
    },
    {
      "cell_type": "code",
      "metadata": {
        "id": "H7VuUlyafJAf",
        "colab": {
          "base_uri": "https://localhost:8080/"
        },
        "outputId": "841e08ce-4797-4eec-e9c3-0341ccd75ae3"
      },
      "source": [
        "# concatenate along the second axis (zero-indexed)\n",
        "np.concatenate([grid, grid], axis=1)"
      ],
      "execution_count": null,
      "outputs": [
        {
          "output_type": "execute_result",
          "data": {
            "text/plain": [
              "array([[1, 2, 3, 1, 2, 3],\n",
              "       [4, 5, 6, 4, 5, 6]])"
            ]
          },
          "metadata": {},
          "execution_count": 89
        }
      ]
    },
    {
      "cell_type": "markdown",
      "metadata": {
        "id": "1P8jkQZ8fJAj"
      },
      "source": [
        "For working with arrays of mixed dimensions, it can be clearer to use the ``np.vstack`` (vertical stack) and ``np.hstack`` (horizontal stack) functions:"
      ]
    },
    {
      "cell_type": "code",
      "metadata": {
        "id": "KDOpdoMIfJAj",
        "colab": {
          "base_uri": "https://localhost:8080/"
        },
        "outputId": "fc051fcf-eea4-4b06-c4c2-9f3c7fc2556b"
      },
      "source": [
        "x = np.array([1, 2, 3])\n",
        "grid = np.array([[9, 8, 7],\n",
        "                 [6, 5, 4]])\n",
        "\n",
        "# vertically stack the arrays\n",
        "np.vstack([x, grid])"
      ],
      "execution_count": null,
      "outputs": [
        {
          "output_type": "execute_result",
          "data": {
            "text/plain": [
              "array([[1, 2, 3],\n",
              "       [9, 8, 7],\n",
              "       [6, 5, 4]])"
            ]
          },
          "metadata": {},
          "execution_count": 90
        }
      ]
    },
    {
      "cell_type": "code",
      "metadata": {
        "id": "8E1IypUQfJAo",
        "colab": {
          "base_uri": "https://localhost:8080/"
        },
        "outputId": "7f5a24d1-d8d5-480e-a6e1-406ce916b832"
      },
      "source": [
        "# horizontally stack the arrays\n",
        "y = np.array([[99],\n",
        "              [99]])\n",
        "np.hstack([grid, y])"
      ],
      "execution_count": null,
      "outputs": [
        {
          "output_type": "execute_result",
          "data": {
            "text/plain": [
              "array([[ 9,  8,  7, 99],\n",
              "       [ 6,  5,  4, 99]])"
            ]
          },
          "metadata": {},
          "execution_count": 91
        }
      ]
    },
    {
      "cell_type": "markdown",
      "metadata": {
        "id": "QF74kCewfJAr"
      },
      "source": [
        "Similary, ``np.dstack`` will stack arrays along the third axis."
      ]
    },
    {
      "cell_type": "markdown",
      "metadata": {
        "id": "rPa-5elbfJAs"
      },
      "source": [
        "### Splitting of arrays\n",
        "\n",
        "The opposite of concatenation is splitting, which is implemented by the functions ``np.split``, ``np.hsplit``, and ``np.vsplit``.  For each of these, we can pass a list of indices giving the split points:"
      ]
    },
    {
      "cell_type": "code",
      "metadata": {
        "id": "-hvjGmtjfJAt",
        "colab": {
          "base_uri": "https://localhost:8080/"
        },
        "outputId": "15bf9ae0-7fb0-48eb-8892-fdff237e921c"
      },
      "source": [
        "x = [1, 2, 3, 99, 99, 3, 2, 1]\n",
        "x1, x2, x3 = np.split(x, [3, 5])\n",
        "print(x1, x2, x3)"
      ],
      "execution_count": null,
      "outputs": [
        {
          "output_type": "stream",
          "name": "stdout",
          "text": [
            "[1 2 3] [99 99] [3 2 1]\n"
          ]
        }
      ]
    },
    {
      "cell_type": "markdown",
      "metadata": {
        "id": "5SdPtJRMfJAv"
      },
      "source": [
        "Notice that *N* split-points, leads to *N + 1* subarrays.\n",
        "The related functions ``np.hsplit`` and ``np.vsplit`` are similar:"
      ]
    },
    {
      "cell_type": "code",
      "metadata": {
        "id": "7GuKQo5SfJAw",
        "colab": {
          "base_uri": "https://localhost:8080/"
        },
        "outputId": "94d3a3fc-931a-4e2f-d5d0-b1f07aad3c15"
      },
      "source": [
        "grid = np.arange(16).reshape((4, 4))\n",
        "grid"
      ],
      "execution_count": null,
      "outputs": [
        {
          "output_type": "execute_result",
          "data": {
            "text/plain": [
              "array([[ 0,  1,  2,  3],\n",
              "       [ 4,  5,  6,  7],\n",
              "       [ 8,  9, 10, 11],\n",
              "       [12, 13, 14, 15]])"
            ]
          },
          "metadata": {},
          "execution_count": 93
        }
      ]
    },
    {
      "cell_type": "code",
      "metadata": {
        "id": "bvPSzVWbfJA0",
        "colab": {
          "base_uri": "https://localhost:8080/"
        },
        "outputId": "0edd4777-ed07-44dd-817d-5fed0ce27c27"
      },
      "source": [
        "upper, lower = np.vsplit(grid, [2])\n",
        "print(upper)\n",
        "print(lower)"
      ],
      "execution_count": null,
      "outputs": [
        {
          "output_type": "stream",
          "name": "stdout",
          "text": [
            "[[0 1 2 3]\n",
            " [4 5 6 7]]\n",
            "[[ 8  9 10 11]\n",
            " [12 13 14 15]]\n"
          ]
        }
      ]
    },
    {
      "cell_type": "code",
      "metadata": {
        "id": "INk4uwd7fJA8",
        "colab": {
          "base_uri": "https://localhost:8080/"
        },
        "outputId": "89ceb41e-5fe4-41ec-d3e7-4bbeb550cb11"
      },
      "source": [
        "left, right = np.hsplit(grid, [2])\n",
        "print(left)\n",
        "print(right)"
      ],
      "execution_count": null,
      "outputs": [
        {
          "output_type": "stream",
          "name": "stdout",
          "text": [
            "[[ 0  1]\n",
            " [ 4  5]\n",
            " [ 8  9]\n",
            " [12 13]]\n",
            "[[ 2  3]\n",
            " [ 6  7]\n",
            " [10 11]\n",
            " [14 15]]\n"
          ]
        }
      ]
    },
    {
      "cell_type": "markdown",
      "metadata": {
        "id": "xni7UWZzfJA_"
      },
      "source": [
        "Similarly, ``np.dsplit`` will split arrays along the third axis."
      ]
    },
    {
      "cell_type": "markdown",
      "metadata": {
        "id": "TuB-fdhIL9ik"
      },
      "source": [
        "##Array math"
      ]
    },
    {
      "cell_type": "markdown",
      "metadata": {
        "id": "M1Hc3qlf0J3r"
      },
      "source": [
        "The following table lists the arithmetic operators implemented in NumPy:\n",
        "\n",
        "| Operator\t    | Equivalent ufunc    | Description                           |\n",
        "|---------------|---------------------|---------------------------------------|\n",
        "|``+``          |``np.add``           |Addition (e.g., ``1 + 1 = 2``)         |\n",
        "|``-``          |``np.subtract``      |Subtraction (e.g., ``3 - 2 = 1``)      |\n",
        "|``-``          |``np.negative``      |Unary negation (e.g., ``-2``)          |\n",
        "|``*``          |``np.multiply``      |Multiplication (e.g., ``2 * 3 = 6``)   |\n",
        "|``/``          |``np.divide``        |Division (e.g., ``3 / 2 = 1.5``)       |\n",
        "|``//``         |``np.floor_divide``  |Floor division (e.g., ``3 // 2 = 1``)  |\n",
        "|``**``         |``np.power``         |Exponentiation (e.g., ``2 ** 3 = 8``)  |\n",
        "|``%``          |``np.mod``           |Modulus/remainder (e.g., ``9 % 4 = 1``)|\n"
      ]
    },
    {
      "cell_type": "code",
      "metadata": {
        "id": "iVlHmr54zwVT",
        "colab": {
          "base_uri": "https://localhost:8080/"
        },
        "outputId": "1464a0a4-8191-42e4-f8c7-18c17ad74828"
      },
      "source": [
        "x = np.arange(1,5)\n",
        "print(\"x     =\", x)\n",
        "print(\"x + 5 =\", x + 5)\n",
        "print(\"x - 5 =\", x - 5)\n",
        "print(\"x * 2 =\", x * 2)\n",
        "print(\"x / 2 =\", x / 2)\n",
        "print(\"x // 2 =\", x // 2)  # floor division\n",
        "print(\"-x     = \", -x)\n",
        "print(\"x ** 2 = \", x ** 2)\n",
        "print(\"x % 2  = \", x % 2)"
      ],
      "execution_count": null,
      "outputs": [
        {
          "output_type": "stream",
          "name": "stdout",
          "text": [
            "x     = [1 2 3 4]\n",
            "x + 5 = [6 7 8 9]\n",
            "x - 5 = [-4 -3 -2 -1]\n",
            "x * 2 = [2 4 6 8]\n",
            "x / 2 = [0.5 1.  1.5 2. ]\n",
            "x // 2 = [0 1 1 2]\n",
            "-x     =  [-1 -2 -3 -4]\n",
            "x ** 2 =  [ 1  4  9 16]\n",
            "x % 2  =  [1 0 1 0]\n"
          ]
        }
      ]
    },
    {
      "cell_type": "code",
      "metadata": {
        "id": "3XtEOMT_1At2",
        "colab": {
          "base_uri": "https://localhost:8080/"
        },
        "outputId": "6aeb42c0-b621-4e16-8320-f0492c26f275"
      },
      "source": [
        "print(\"e^x   =\", np.exp(x))\n",
        "print(\"2^x   =\", np.exp2(x))\n",
        "print(\"3^x   =\", np.power(3, x))"
      ],
      "execution_count": null,
      "outputs": [
        {
          "output_type": "stream",
          "name": "stdout",
          "text": [
            "e^x   = [ 2.71828183  7.3890561  20.08553692 54.59815003]\n",
            "2^x   = [ 2.  4.  8. 16.]\n",
            "3^x   = [ 3  9 27 81]\n"
          ]
        }
      ]
    },
    {
      "cell_type": "code",
      "metadata": {
        "id": "z19tRRwZ1DcP",
        "colab": {
          "base_uri": "https://localhost:8080/"
        },
        "outputId": "d0eff6f5-7a8b-4425-cd25-01642455e0fa"
      },
      "source": [
        "print(\"sin(x) = \", np.sin(x))\n",
        "print(\"cos(x) = \", np.cos(x))\n",
        "print(\"tan(x) = \", np.tan(x))"
      ],
      "execution_count": null,
      "outputs": [
        {
          "output_type": "stream",
          "name": "stdout",
          "text": [
            "sin(x) =  [ 0.84147098  0.90929743  0.14112001 -0.7568025 ]\n",
            "cos(x) =  [ 0.54030231 -0.41614684 -0.9899925  -0.65364362]\n",
            "tan(x) =  [ 1.55740772 -2.18503986 -0.14254654  1.15782128]\n"
          ]
        }
      ]
    },
    {
      "cell_type": "code",
      "metadata": {
        "id": "WiYmlpCF1Fr3",
        "colab": {
          "base_uri": "https://localhost:8080/"
        },
        "outputId": "fdd9c39e-5199-4586-ed41-0e5321ded374"
      },
      "source": [
        "print(\"ln(x)    =\", np.log(x))\n",
        "print(\"log2(x)  =\", np.log2(x))\n",
        "print(\"log10(x) =\", np.log10(x))"
      ],
      "execution_count": null,
      "outputs": [
        {
          "output_type": "stream",
          "name": "stdout",
          "text": [
            "ln(x)    = [0.         0.69314718 1.09861229 1.38629436]\n",
            "log2(x)  = [0.        1.        1.5849625 2.       ]\n",
            "log10(x) = [0.         0.30103    0.47712125 0.60205999]\n"
          ]
        }
      ]
    },
    {
      "cell_type": "markdown",
      "metadata": {
        "id": "18e8V8elL9ik"
      },
      "source": [
        "Basic mathematical functions operate elementwise on arrays, and are available both as operator overloads and as functions in the numpy module:"
      ]
    },
    {
      "cell_type": "code",
      "metadata": {
        "id": "gHKvBrSKL9il",
        "colab": {
          "base_uri": "https://localhost:8080/"
        },
        "outputId": "96b97920-7b7b-480b-fd84-acb89143a8e5"
      },
      "source": [
        "x = np.array([[1,2],[3,4]], dtype=np.float64)\n",
        "y = np.array([[5,6],[7,8]], dtype=np.float64)\n",
        "print(x)\n",
        "print('\\n')\n",
        "print(y)\n",
        "print('\\n')\n",
        "\n",
        "# Elementwise sum; both produce the array\n",
        "print(x + y)\n",
        "print('\\n')\n",
        "print(np.add(x, y))"
      ],
      "execution_count": null,
      "outputs": [
        {
          "output_type": "stream",
          "name": "stdout",
          "text": [
            "[[1. 2.]\n",
            " [3. 4.]]\n",
            "\n",
            "\n",
            "[[5. 6.]\n",
            " [7. 8.]]\n",
            "\n",
            "\n",
            "[[ 6.  8.]\n",
            " [10. 12.]]\n",
            "\n",
            "\n",
            "[[ 6.  8.]\n",
            " [10. 12.]]\n"
          ]
        }
      ]
    },
    {
      "cell_type": "code",
      "metadata": {
        "id": "1fZtIAMxL9in",
        "colab": {
          "base_uri": "https://localhost:8080/"
        },
        "outputId": "86ea83a6-7b51-4fca-81d9-f3bdcf20dafb"
      },
      "source": [
        "# Elementwise difference; both produce the array\n",
        "print(x - y)\n",
        "print(np.subtract(x, y))"
      ],
      "execution_count": null,
      "outputs": [
        {
          "output_type": "stream",
          "name": "stdout",
          "text": [
            "[[-4. -4.]\n",
            " [-4. -4.]]\n",
            "[[-4. -4.]\n",
            " [-4. -4.]]\n"
          ]
        }
      ]
    },
    {
      "cell_type": "code",
      "metadata": {
        "id": "nil4AScML9io",
        "colab": {
          "base_uri": "https://localhost:8080/"
        },
        "outputId": "19f220f0-99ab-406a-db3f-fa9d07ed761f"
      },
      "source": [
        "# Elementwise product; both produce the array\n",
        "print(x * y)\n",
        "print('\\n')\n",
        "\n",
        "print(np.multiply(x, y))\n",
        "print('\\n')\n",
        "\n",
        "# If we want matrix multiplication, we should use np.matmul(x, y)\n",
        "print(np.matmul(x, y))"
      ],
      "execution_count": null,
      "outputs": [
        {
          "output_type": "stream",
          "name": "stdout",
          "text": [
            "[[ 5. 12.]\n",
            " [21. 32.]]\n",
            "\n",
            "\n",
            "[[ 5. 12.]\n",
            " [21. 32.]]\n",
            "\n",
            "\n",
            "[[19. 22.]\n",
            " [43. 50.]]\n"
          ]
        }
      ]
    },
    {
      "cell_type": "code",
      "metadata": {
        "id": "0JoA4lH6L9ip",
        "colab": {
          "base_uri": "https://localhost:8080/"
        },
        "outputId": "77c7a452-a8df-441f-bd8c-e7ee387ac1f9"
      },
      "source": [
        "# Elementwise division; both produce the array\n",
        "# [[ 0.2         0.33333333]\n",
        "#  [ 0.42857143  0.5       ]]\n",
        "print(x / y)\n",
        "print(np.divide(x, y))"
      ],
      "execution_count": null,
      "outputs": [
        {
          "output_type": "stream",
          "name": "stdout",
          "text": [
            "[[0.2        0.33333333]\n",
            " [0.42857143 0.5       ]]\n",
            "[[0.2        0.33333333]\n",
            " [0.42857143 0.5       ]]\n"
          ]
        }
      ]
    },
    {
      "cell_type": "code",
      "metadata": {
        "id": "g0iZuA6bL9ir",
        "colab": {
          "base_uri": "https://localhost:8080/"
        },
        "outputId": "dbbbbea6-4f26-47bd-efad-7cc05d9e1b94"
      },
      "source": [
        "# Elementwise square root; produces the array\n",
        "# [[ 1.          1.41421356]\n",
        "#  [ 1.73205081  2.        ]]\n",
        "print(np.sqrt(x))"
      ],
      "execution_count": null,
      "outputs": [
        {
          "output_type": "stream",
          "name": "stdout",
          "text": [
            "[[1.         1.41421356]\n",
            " [1.73205081 2.        ]]\n"
          ]
        }
      ]
    },
    {
      "cell_type": "markdown",
      "metadata": {
        "id": "a5d_uujuL9it"
      },
      "source": [
        "Note that unlike MATLAB, `*` is elementwise multiplication, not matrix multiplication. We instead use the dot function to compute inner products of vectors, to multiply a vector by a matrix, and to multiply matrices. dot is available both as a function in the numpy module and as an instance method of array objects:"
      ]
    },
    {
      "cell_type": "code",
      "metadata": {
        "id": "I3FnmoSeL9iu",
        "colab": {
          "base_uri": "https://localhost:8080/"
        },
        "outputId": "32a7a656-111b-4a43-d7ab-f5741e536397"
      },
      "source": [
        "x = np.array([[1,2],[3,4]])\n",
        "y = np.array([[5,6],[7,8]])\n",
        "\n",
        "v = np.array([9,10])\n",
        "w = np.array([11,12])\n",
        "\n",
        "# Inner product of vectors; both produce 219\n",
        "print(v.dot(w))\n",
        "print(np.dot(v, w))"
      ],
      "execution_count": null,
      "outputs": [
        {
          "output_type": "stream",
          "name": "stdout",
          "text": [
            "219\n",
            "219\n"
          ]
        }
      ]
    },
    {
      "cell_type": "markdown",
      "metadata": {
        "id": "vmxPbrHASVeA"
      },
      "source": [
        "You can also use the `@` operator which is equivalent to numpy's `dot` operator."
      ]
    },
    {
      "cell_type": "code",
      "metadata": {
        "id": "vyrWA-mXSdtt",
        "colab": {
          "base_uri": "https://localhost:8080/"
        },
        "outputId": "07858813-af4b-4ae5-f168-c52a5126fcbd"
      },
      "source": [
        "print(v @ w)"
      ],
      "execution_count": null,
      "outputs": [
        {
          "output_type": "stream",
          "name": "stdout",
          "text": [
            "219\n"
          ]
        }
      ]
    },
    {
      "cell_type": "code",
      "metadata": {
        "id": "zvUODeTxL9iw",
        "colab": {
          "base_uri": "https://localhost:8080/"
        },
        "outputId": "962cb3b3-45ac-414a-8c28-315b8094d2a9"
      },
      "source": [
        "# Matrix / vector product; both produce the rank 1 array [29 67]\n",
        "print(x.dot(v))\n",
        "print(np.dot(x, v))\n",
        "print(x @ v)"
      ],
      "execution_count": null,
      "outputs": [
        {
          "output_type": "stream",
          "name": "stdout",
          "text": [
            "[29 67]\n",
            "[29 67]\n",
            "[29 67]\n"
          ]
        }
      ]
    },
    {
      "cell_type": "code",
      "metadata": {
        "id": "3V_3NzNEL9iy",
        "colab": {
          "base_uri": "https://localhost:8080/"
        },
        "outputId": "482306ef-5486-406d-a031-bdaa63d6853b"
      },
      "source": [
        "# Matrix / matrix product; both produce the rank 2 array\n",
        "# [[19 22]\n",
        "#  [43 50]]\n",
        "print(x.dot(y))\n",
        "print(np.dot(x, y))\n",
        "print(x @ y)"
      ],
      "execution_count": null,
      "outputs": [
        {
          "output_type": "stream",
          "name": "stdout",
          "text": [
            "[[19 22]\n",
            " [43 50]]\n",
            "[[19 22]\n",
            " [43 50]]\n",
            "[[19 22]\n",
            " [43 50]]\n"
          ]
        }
      ]
    },
    {
      "cell_type": "markdown",
      "metadata": {
        "id": "FbE-1If_L9i0"
      },
      "source": [
        "Numpy provides many useful functions for performing computations on arrays; one of the most useful is `sum`:"
      ]
    },
    {
      "cell_type": "code",
      "metadata": {
        "id": "DZUdZvPrL9i0",
        "colab": {
          "base_uri": "https://localhost:8080/"
        },
        "outputId": "9f8389f6-43c9-47e1-d845-83bdaef4ccb3"
      },
      "source": [
        "x = np.array([[1,2],[3,4]])\n",
        "\n",
        "print(np.sum(x))  # Compute sum of all elements; prints \"10\"\n",
        "print(np.sum(x, axis=0))  # Compute sum of each column; prints \"[4 6]\"\n",
        "print(np.sum(x, axis=1))  # Compute sum of each row; prints \"[3 7]\""
      ],
      "execution_count": null,
      "outputs": [
        {
          "output_type": "stream",
          "name": "stdout",
          "text": [
            "10\n",
            "[4 6]\n",
            "[3 7]\n"
          ]
        }
      ]
    },
    {
      "cell_type": "markdown",
      "metadata": {
        "id": "ahdVW4iUL9i3"
      },
      "source": [
        "You can find the full list of mathematical functions provided by numpy in the [documentation](http://docs.scipy.org/doc/numpy/reference/routines.math.html).\n",
        "\n",
        "Apart from computing mathematical functions using arrays, we frequently need to reshape or otherwise manipulate data in arrays. The simplest example of this type of operation is transposing a matrix; to transpose a matrix, simply use the T attribute of an array object:"
      ]
    },
    {
      "cell_type": "code",
      "metadata": {
        "id": "63Yl1f3oL9i3",
        "colab": {
          "base_uri": "https://localhost:8080/"
        },
        "outputId": "2b806b38-05ed-460a-8403-eef9ce2611fa"
      },
      "source": [
        "print(x)\n",
        "print(\"\\ntranspose\\n\", x.T)"
      ],
      "execution_count": null,
      "outputs": [
        {
          "output_type": "stream",
          "name": "stdout",
          "text": [
            "[[1 2]\n",
            " [3 4]]\n",
            "\n",
            "transpose\n",
            " [[1 3]\n",
            " [2 4]]\n"
          ]
        }
      ]
    },
    {
      "cell_type": "code",
      "metadata": {
        "id": "mkk03eNIL9i4",
        "colab": {
          "base_uri": "https://localhost:8080/"
        },
        "outputId": "0bbd1026-eb23-440d-89f7-0c498c095174"
      },
      "source": [
        "v = np.array([[1,2,3]])\n",
        "print(v )\n",
        "print(\"\\ntranspose\\n\", v.T)"
      ],
      "execution_count": null,
      "outputs": [
        {
          "output_type": "stream",
          "name": "stdout",
          "text": [
            "[[1 2 3]]\n",
            "\n",
            "transpose\n",
            " [[1]\n",
            " [2]\n",
            " [3]]\n"
          ]
        }
      ]
    },
    {
      "cell_type": "markdown",
      "metadata": {
        "id": "KAiH8A0oo0Gx"
      },
      "source": [
        "Below offers more examples of arithmatic operations."
      ]
    },
    {
      "cell_type": "code",
      "metadata": {
        "id": "iaNG3KUioGSS",
        "colab": {
          "base_uri": "https://localhost:8080/"
        },
        "outputId": "104b8c69-f2cf-4606-bf36-bf0c0ce1b9ba"
      },
      "source": [
        "a = np.array([11,21,30]) \n",
        "b = np.array([3,5,7]) \n",
        "print(np.mod(a,b))\n",
        "print(np.remainder(a,b)) # produces the same result\n",
        "print(np.add(a,b))\n",
        "print(np.power(a,2))\n",
        "print(np.power(a,b))\n"
      ],
      "execution_count": null,
      "outputs": [
        {
          "output_type": "stream",
          "name": "stdout",
          "text": [
            "[2 1 2]\n",
            "[2 1 2]\n",
            "[14 26 37]\n",
            "[121 441 900]\n",
            "[       1331     4084101 21870000000]\n"
          ]
        }
      ]
    },
    {
      "cell_type": "markdown",
      "metadata": {
        "id": "TWDhTuvKpLiu"
      },
      "source": [
        "## Statistical Functions"
      ]
    },
    {
      "cell_type": "markdown",
      "metadata": {
        "id": "JYpG5iSPqnJo"
      },
      "source": [
        "Examples: `np.amin, np.amax, np.median, np.mean, np.ptp, np.percentile, np.average, np.std, np.var`\n",
        "\n",
        "Note: `np.max` is just an alias for `np.amax`. Similarly, `np.min` is an alias for `np.min`."
      ]
    },
    {
      "cell_type": "code",
      "metadata": {
        "id": "H_7HMijVpQ1L",
        "colab": {
          "base_uri": "https://localhost:8080/"
        },
        "outputId": "aff9bedf-2013-4ff9-dd37-6c0932f97a09"
      },
      "source": [
        "a = np.array([[3,7,5],[8,4,3],[2,4,9]]) \n",
        "print(a)"
      ],
      "execution_count": null,
      "outputs": [
        {
          "output_type": "stream",
          "name": "stdout",
          "text": [
            "[[3 7 5]\n",
            " [8 4 3]\n",
            " [2 4 9]]\n"
          ]
        }
      ]
    },
    {
      "cell_type": "code",
      "metadata": {
        "id": "IAHstzrmpvgE",
        "colab": {
          "base_uri": "https://localhost:8080/"
        },
        "outputId": "ece63a87-36c2-4be6-96cd-bca844f95ac1"
      },
      "source": [
        "# min of the array\n",
        "print(np.amin(a))"
      ],
      "execution_count": null,
      "outputs": [
        {
          "output_type": "stream",
          "name": "stdout",
          "text": [
            "2\n"
          ]
        }
      ]
    },
    {
      "cell_type": "code",
      "metadata": {
        "id": "0QkC1MksphHm",
        "colab": {
          "base_uri": "https://localhost:8080/"
        },
        "outputId": "16fa7625-f95d-483a-f99d-e8ca307f0d3e"
      },
      "source": [
        "# min of each column\n",
        "print(np.amin(a, axis=0)) # among all elements in the first dimension "
      ],
      "execution_count": null,
      "outputs": [
        {
          "output_type": "stream",
          "name": "stdout",
          "text": [
            "[2 4 3]\n"
          ]
        }
      ]
    },
    {
      "cell_type": "code",
      "metadata": {
        "id": "P27u6ZGdpW1P",
        "colab": {
          "base_uri": "https://localhost:8080/"
        },
        "outputId": "609548f3-bf7f-4832-e6ea-4e8da0049c68"
      },
      "source": [
        "# min of each row\n",
        "print(np.amin(a, axis=1)) # among all elements in the second dimension "
      ],
      "execution_count": null,
      "outputs": [
        {
          "output_type": "stream",
          "name": "stdout",
          "text": [
            "[3 3 2]\n"
          ]
        }
      ]
    },
    {
      "cell_type": "code",
      "metadata": {
        "id": "X3n3OeYCp2nO",
        "colab": {
          "base_uri": "https://localhost:8080/"
        },
        "outputId": "cdc61d2e-acc0-4a8a-fafb-b04315c0c7d1"
      },
      "source": [
        "print(np.ptp(a)) # peak-to-peak, range = (maximum-minimum) "
      ],
      "execution_count": null,
      "outputs": [
        {
          "output_type": "stream",
          "name": "stdout",
          "text": [
            "7\n"
          ]
        }
      ]
    },
    {
      "cell_type": "code",
      "metadata": {
        "id": "1EZWhhMVqAnM",
        "colab": {
          "base_uri": "https://localhost:8080/"
        },
        "outputId": "b8b93adb-90b1-4f7c-b76d-2e6252051e67"
      },
      "source": [
        "print(np.ptp(a, axis=0)) # among all elements in the first dimension \n"
      ],
      "execution_count": null,
      "outputs": [
        {
          "output_type": "stream",
          "name": "stdout",
          "text": [
            "[6 3 6]\n"
          ]
        }
      ]
    },
    {
      "cell_type": "code",
      "metadata": {
        "id": "uajB9TReqFgq",
        "colab": {
          "base_uri": "https://localhost:8080/"
        },
        "outputId": "cbb6a508-c04a-4cb0-d1df-0ac0bceb1bb2"
      },
      "source": [
        "print(np.ptp(a, axis=1)) # among all elements in the second dimension "
      ],
      "execution_count": null,
      "outputs": [
        {
          "output_type": "stream",
          "name": "stdout",
          "text": [
            "[4 5 7]\n"
          ]
        }
      ]
    },
    {
      "cell_type": "markdown",
      "metadata": {
        "id": "eoZuU1gE3cpf"
      },
      "source": [
        "The following table provides a list of useful aggregation functions available in NumPy:\n",
        "\n",
        "|Function Name      |   NaN-safe Version  | Description                                   |\n",
        "|-------------------|---------------------|-----------------------------------------------|\n",
        "| ``np.sum``        | ``np.nansum``       | Compute sum of elements                       |\n",
        "| ``np.prod``       | ``np.nanprod``      | Compute product of elements                   |\n",
        "| ``np.mean``       | ``np.nanmean``      | Compute mean of elements                      |\n",
        "| ``np.std``        | ``np.nanstd``       | Compute standard deviation                    |\n",
        "| ``np.var``        | ``np.nanvar``       | Compute variance                              |\n",
        "| ``np.min``        | ``np.nanmin``       | Find minimum value                            |\n",
        "| ``np.max``        | ``np.nanmax``       | Find maximum value                            |\n",
        "| ``np.argmin``     | ``np.nanargmin``    | Find index of minimum value                   |\n",
        "| ``np.argmax``     | ``np.nanargmax``    | Find index of maximum value                   |\n",
        "| ``np.median``     | ``np.nanmedian``    | Compute median of elements                    |\n",
        "| ``np.percentile`` | ``np.nanpercentile``| Compute rank-based statistics of elements     |\n",
        "| ``np.any``        | N/A                 | Evaluate whether any elements are true        |\n",
        "| ``np.all``        | N/A                 | Evaluate whether all elements are true        |"
      ]
    },
    {
      "cell_type": "code",
      "metadata": {
        "id": "B9e35YdV3suj",
        "colab": {
          "base_uri": "https://localhost:8080/"
        },
        "outputId": "728da104-262b-4203-83cd-df0996f7bb44"
      },
      "source": [
        "a = np.array([[1,2,3],[4,5,6],[7,8,9]]) \n",
        "print(a)\n",
        "print(a.sum())       # sum of all\n",
        "print(a.sum(axis=0)) # sum of each column\n",
        "print(a.sum(axis=1)) # sum of each row"
      ],
      "execution_count": null,
      "outputs": [
        {
          "output_type": "stream",
          "name": "stdout",
          "text": [
            "[[1 2 3]\n",
            " [4 5 6]\n",
            " [7 8 9]]\n",
            "45\n",
            "[12 15 18]\n",
            "[ 6 15 24]\n"
          ]
        }
      ]
    },
    {
      "cell_type": "markdown",
      "metadata": {
        "id": "T21hGlwxrF7x"
      },
      "source": [
        "## Sort, Search & Counting Functions"
      ]
    },
    {
      "cell_type": "markdown",
      "metadata": {
        "id": "gXEQl90qJOoY"
      },
      "source": [
        "To return a sorted version of the array without modifying the input, you can use ``np.sort``:"
      ]
    },
    {
      "cell_type": "code",
      "metadata": {
        "id": "J-SmD572I-Fd",
        "colab": {
          "base_uri": "https://localhost:8080/"
        },
        "outputId": "756fcbc2-35ae-4318-b789-4a4ba7e850ce"
      },
      "source": [
        "a = [1, 9, 3, 6, 4, 0, 2]\n",
        "print(np.sort(a))\n",
        "b = np.sort(a)\n",
        "print(a) # The original array is not sorted.\n",
        "print(b)"
      ],
      "execution_count": null,
      "outputs": [
        {
          "output_type": "stream",
          "name": "stdout",
          "text": [
            "[0 1 2 3 4 6 9]\n",
            "[1, 9, 3, 6, 4, 0, 2]\n",
            "[0 1 2 3 4 6 9]\n"
          ]
        }
      ]
    },
    {
      "cell_type": "markdown",
      "metadata": {
        "id": "1BZiajHfJSbC"
      },
      "source": [
        "If you prefer to sort the array in-place, you can instead use the ``sort`` method of arrays:"
      ]
    },
    {
      "cell_type": "code",
      "metadata": {
        "id": "lOIRcg4uJTSU",
        "colab": {
          "base_uri": "https://localhost:8080/"
        },
        "outputId": "fe978f53-e719-4b01-a46f-6c94ce1473bd"
      },
      "source": [
        "a.sort()  # the orginal array is updated\n",
        "print(a)"
      ],
      "execution_count": null,
      "outputs": [
        {
          "output_type": "stream",
          "name": "stdout",
          "text": [
            "[0, 1, 2, 3, 4, 6, 9]\n"
          ]
        }
      ]
    },
    {
      "cell_type": "markdown",
      "metadata": {
        "id": "qaWeSF5MJm14"
      },
      "source": [
        "We can also sort a multi-dimensional array along rows or columns."
      ]
    },
    {
      "cell_type": "code",
      "metadata": {
        "id": "KkmMK3GirISB",
        "colab": {
          "base_uri": "https://localhost:8080/"
        },
        "outputId": "eada438d-ea67-43e5-819d-25f5408a5d05"
      },
      "source": [
        "a = np.array([[3,7,5],[8,4,3],[2,4,9]]) \n",
        "print(a)"
      ],
      "execution_count": null,
      "outputs": [
        {
          "output_type": "stream",
          "name": "stdout",
          "text": [
            "[[3 7 5]\n",
            " [8 4 3]\n",
            " [2 4 9]]\n"
          ]
        }
      ]
    },
    {
      "cell_type": "code",
      "metadata": {
        "id": "wNUTVcVvrYw7",
        "colab": {
          "base_uri": "https://localhost:8080/"
        },
        "outputId": "51b6b685-31f5-4b81-f4ed-1367d15f1275"
      },
      "source": [
        "# sort each column \n",
        "print(np.sort(a, axis=0)) # Sort along the first dimension"
      ],
      "execution_count": null,
      "outputs": [
        {
          "output_type": "stream",
          "name": "stdout",
          "text": [
            "[[2 4 3]\n",
            " [3 4 5]\n",
            " [8 7 9]]\n"
          ]
        }
      ]
    },
    {
      "cell_type": "code",
      "metadata": {
        "id": "nNd2aLBlrkIe",
        "colab": {
          "base_uri": "https://localhost:8080/"
        },
        "outputId": "d3e1a2c9-db8f-41b9-bbe2-e94a4d99e6a1"
      },
      "source": [
        "# sort each row\n",
        "print(np.sort(a, axis=1)) # Sort along the second dimension"
      ],
      "execution_count": null,
      "outputs": [
        {
          "output_type": "stream",
          "name": "stdout",
          "text": [
            "[[3 5 7]\n",
            " [3 4 8]\n",
            " [2 4 9]]\n"
          ]
        }
      ]
    },
    {
      "cell_type": "code",
      "metadata": {
        "id": "6OhgxiRyrOXX",
        "colab": {
          "base_uri": "https://localhost:8080/"
        },
        "outputId": "9b5a5c28-1213-41e9-bc9c-4907ea2834d7"
      },
      "source": [
        "print(np.sort(a)) # If axis is not specified, sort on the last axis"
      ],
      "execution_count": null,
      "outputs": [
        {
          "output_type": "stream",
          "name": "stdout",
          "text": [
            "[[3 5 7]\n",
            " [3 4 8]\n",
            " [2 4 9]]\n"
          ]
        }
      ]
    },
    {
      "cell_type": "code",
      "metadata": {
        "id": "xYptifJFr6FW",
        "colab": {
          "base_uri": "https://localhost:8080/"
        },
        "outputId": "696d6ef1-8df5-495e-8bbe-54c832133a0d"
      },
      "source": [
        "x = np.array([3, 1, 2]) \n",
        "y = np.argsort(x) # return the array of indices of data\n",
        "print(y)\n",
        "print(x[y])  # Reconstruct original array in sorted order"
      ],
      "execution_count": null,
      "outputs": [
        {
          "output_type": "stream",
          "name": "stdout",
          "text": [
            "[1 2 0]\n",
            "[1 2 3]\n"
          ]
        }
      ]
    },
    {
      "cell_type": "markdown",
      "metadata": {
        "id": "mu_-RggttG9s"
      },
      "source": [
        "The `np.where()` function returns the indices of elements in an input array where the given condition is satisfied."
      ]
    },
    {
      "cell_type": "code",
      "metadata": {
        "id": "-U8tbs50sycB",
        "colab": {
          "base_uri": "https://localhost:8080/"
        },
        "outputId": "c0bd8045-0b12-4683-b3e0-3c03a3ed1f54"
      },
      "source": [
        "x = np.arange(9.).reshape(3, 3) \n",
        "print(x)\n",
        "\n",
        "print('Indices of elements > 3')\n",
        "y = np.where(x > 3)  # Better than x>3, saves memory space\n",
        "print(y)\n",
        "\n",
        "print(x>3)\n",
        "\n",
        "print('Use these indices to get elements satisfying the condition')\n",
        "print(x[y])"
      ],
      "execution_count": null,
      "outputs": [
        {
          "output_type": "stream",
          "name": "stdout",
          "text": [
            "[[0. 1. 2.]\n",
            " [3. 4. 5.]\n",
            " [6. 7. 8.]]\n",
            "Indices of elements > 3\n",
            "(array([1, 1, 2, 2, 2]), array([1, 2, 0, 1, 2]))\n",
            "[[False False False]\n",
            " [False  True  True]\n",
            " [ True  True  True]]\n",
            "Use these indices to get elements satisfying the condition\n",
            "[4. 5. 6. 7. 8.]\n"
          ]
        }
      ]
    },
    {
      "cell_type": "markdown",
      "source": [
        "**<font color=\"red\">In-class excercise: Find the most frequent element in a numpy array:</font>**"
      ],
      "metadata": {
        "id": "R_hJZbjeZKt8"
      }
    },
    {
      "cell_type": "code",
      "source": [
        "a = np.array([1, 9, 3, 6, 4, 0, 6, 9, 9, 2])"
      ],
      "metadata": {
        "id": "yF5if7bXZKDE"
      },
      "execution_count": null,
      "outputs": []
    },
    {
      "cell_type": "markdown",
      "metadata": {
        "id": "Oj7bQcqSW9Us"
      },
      "source": [
        "##Linear Algebra"
      ]
    },
    {
      "cell_type": "markdown",
      "metadata": {
        "id": "LE0aMiK8XXQd"
      },
      "source": [
        "### Dot product of the two arrays `numpy.dot()`"
      ]
    },
    {
      "cell_type": "markdown",
      "metadata": {
        "id": "IdwvUwmuYGOL"
      },
      "source": [
        "`numpy.dot()`: This function returns the dot product of two arrays. For 2-D vectors, it is the equivalent to matrix multiplication. For 1-D arrays, it is the inner product of the vectors. For N-dimensional arrays, it is a sum product over the last axis of a and the second-last axis of b."
      ]
    },
    {
      "cell_type": "code",
      "metadata": {
        "id": "l_0gKEosYWcU",
        "colab": {
          "base_uri": "https://localhost:8080/"
        },
        "outputId": "1044fc89-b83e-4ac4-e8be-b758ee3e4faa"
      },
      "source": [
        "import numpy.matlib \n",
        "import numpy as np \n",
        "\n",
        "a = np.array([[1,2],\n",
        "              [3,4]]) \n",
        "b = np.array([[11,12],\n",
        "              [13,14]]) \n",
        "np.dot(a,b) # [[1*11+2*13, 1*12+2*14],[3*11+4*13, 3*12+4*14]]\n"
      ],
      "execution_count": null,
      "outputs": [
        {
          "output_type": "execute_result",
          "data": {
            "text/plain": [
              "array([[37, 40],\n",
              "       [85, 92]])"
            ]
          },
          "metadata": {},
          "execution_count": 129
        }
      ]
    },
    {
      "cell_type": "markdown",
      "metadata": {
        "id": "kV5Q5yDbXbs4"
      },
      "source": [
        "### Dot product of the two vector `numpy.vdot()`"
      ]
    },
    {
      "cell_type": "markdown",
      "metadata": {
        "id": "7GgsuB46ZBIa"
      },
      "source": [
        "This function returns the dot product of the two vectors. If the argument id is multi-dimensional array, it is flattened."
      ]
    },
    {
      "cell_type": "code",
      "metadata": {
        "id": "yK3YaCy4YxLP",
        "colab": {
          "base_uri": "https://localhost:8080/"
        },
        "outputId": "dffa4bae-2fae-4217-c2e6-feac4ceb4463"
      },
      "source": [
        "a = np.array([[1,2],[3,4]]) \n",
        "b = np.array([[11,12],[13,14]]) \n",
        "print(np.vdot(a,b)) # 1*11 + 2*12 + 3*13 + 4*14 = 130"
      ],
      "execution_count": null,
      "outputs": [
        {
          "output_type": "stream",
          "name": "stdout",
          "text": [
            "130\n"
          ]
        }
      ]
    },
    {
      "cell_type": "markdown",
      "metadata": {
        "id": "hhN2C7sOXgym"
      },
      "source": [
        "### Inner product of the two arrays `numpy.inner()`"
      ]
    },
    {
      "cell_type": "markdown",
      "metadata": {
        "id": "Nkbw0L-PZPM5"
      },
      "source": [
        "This function returns the inner product of vectors for 1-D arrays. **For higher dimensions, it returns the sum product over the last axes.**"
      ]
    },
    {
      "cell_type": "code",
      "metadata": {
        "id": "ybDL5HS-ZR6w",
        "colab": {
          "base_uri": "https://localhost:8080/"
        },
        "outputId": "d713950c-91a4-4f19-ef03-d6d9bea2dbb5"
      },
      "source": [
        "a = np.array([1,2,3])\n",
        "b = np.array([0,1,0])\n",
        "print(np.inner(a, b))\n"
      ],
      "execution_count": null,
      "outputs": [
        {
          "output_type": "stream",
          "name": "stdout",
          "text": [
            "2\n"
          ]
        }
      ]
    },
    {
      "cell_type": "code",
      "metadata": {
        "id": "ORsYD4V_ZeC0",
        "colab": {
          "base_uri": "https://localhost:8080/"
        },
        "outputId": "fb8ddd33-8df6-42e5-bbed-a11bdceb67bc"
      },
      "source": [
        "a = np.array([[1,2], \n",
        "              [3,4]]) \n",
        "\n",
        "b = np.array([[11, 12], \n",
        "              [13, 14]]) \n",
        "\n",
        "print(np.inner(a,b))\n",
        "# 1*11+2*12, 1*13+2*14 \n",
        "# 3*11+4*12, 3*13+4*14 \n"
      ],
      "execution_count": null,
      "outputs": [
        {
          "output_type": "stream",
          "name": "stdout",
          "text": [
            "[[35 41]\n",
            " [81 95]]\n"
          ]
        }
      ]
    },
    {
      "cell_type": "markdown",
      "metadata": {
        "id": "Wryr8KVzXj8G"
      },
      "source": [
        "### Matrix product of the two arrays `numpy.matmul()`\n"
      ]
    },
    {
      "cell_type": "markdown",
      "metadata": {
        "id": "rtk1943daOWe"
      },
      "source": [
        "The numpy.matmul() function returns the matrix product of two arrays. While it returns a normal product for 2-D arrays, if dimensions of either argument is >2, it is treated as a stack of matrices residing in the last two indexes and is broadcast accordingly.\n",
        "\n",
        "On the other hand, if either argument is 1-D array, it is promoted to a matrix by appending a 1 to its dimension, which is removed after multiplication."
      ]
    },
    {
      "cell_type": "code",
      "metadata": {
        "id": "2Nlm2oa4aR8t",
        "colab": {
          "base_uri": "https://localhost:8080/"
        },
        "outputId": "f3778111-ed8f-4e50-f305-eeb5b5df5fc4"
      },
      "source": [
        "import numpy.matlib \n",
        "import numpy as np \n",
        "\n",
        "a = [[1,0],\n",
        "     [0,1]] \n",
        "\n",
        "b = [[4,1],\n",
        "     [2,2]] \n",
        "     \n",
        "print(np.matmul(a,b))"
      ],
      "execution_count": null,
      "outputs": [
        {
          "output_type": "stream",
          "name": "stdout",
          "text": [
            "[[4 1]\n",
            " [2 2]]\n"
          ]
        }
      ]
    },
    {
      "cell_type": "code",
      "metadata": {
        "id": "zX7Fy9wDajVd",
        "colab": {
          "base_uri": "https://localhost:8080/"
        },
        "outputId": "d642713e-11f7-4d87-a683-ff7975a9b77c"
      },
      "source": [
        "a = [[1,0],\n",
        "     [0,1]] \n",
        "     \n",
        "b = [1,2] \n",
        "\n",
        "print(np.matmul(a,b))\n",
        "print(np.matmul(b,a))"
      ],
      "execution_count": null,
      "outputs": [
        {
          "output_type": "stream",
          "name": "stdout",
          "text": [
            "[1 2]\n",
            "[1 2]\n"
          ]
        }
      ]
    },
    {
      "cell_type": "code",
      "metadata": {
        "id": "nIk3OVTJa08B",
        "colab": {
          "base_uri": "https://localhost:8080/"
        },
        "outputId": "aa887ed7-58d0-4ee2-b099-82fc8c03d601"
      },
      "source": [
        "a = np.arange(8).reshape(2,2,2) \n",
        "print(a)\n",
        "print('\\n')\n",
        "\n",
        "b = np.arange(4).reshape(2,2) \n",
        "print(b)\n",
        "print('\\n')\n",
        "print(np.matmul(a,b))"
      ],
      "execution_count": null,
      "outputs": [
        {
          "output_type": "stream",
          "name": "stdout",
          "text": [
            "[[[0 1]\n",
            "  [2 3]]\n",
            "\n",
            " [[4 5]\n",
            "  [6 7]]]\n",
            "\n",
            "\n",
            "[[0 1]\n",
            " [2 3]]\n",
            "\n",
            "\n",
            "[[[ 2  3]\n",
            "  [ 6 11]]\n",
            "\n",
            " [[10 19]\n",
            "  [14 27]]]\n"
          ]
        }
      ]
    },
    {
      "cell_type": "markdown",
      "metadata": {
        "id": "FJGJumJfXpGX"
      },
      "source": [
        "### Computes the determinant of the array `np.linalg.det()`"
      ]
    },
    {
      "cell_type": "code",
      "metadata": {
        "id": "OEowB26qbZbI",
        "colab": {
          "base_uri": "https://localhost:8080/"
        },
        "outputId": "7df3f531-7965-4264-b8d9-0e133d53bc12"
      },
      "source": [
        "a = np.array([[1,2], [3,4]]) \n",
        "print(np.linalg.det(a))"
      ],
      "execution_count": null,
      "outputs": [
        {
          "output_type": "stream",
          "name": "stdout",
          "text": [
            "-2.0000000000000004\n"
          ]
        }
      ]
    },
    {
      "cell_type": "markdown",
      "metadata": {
        "id": "gbTpPxhVXtSE"
      },
      "source": [
        "### Solves the linear matrix equation `numpy.linalg.solve()`"
      ]
    },
    {
      "cell_type": "code",
      "metadata": {
        "id": "TOXeFhsQbuGx"
      },
      "source": [],
      "execution_count": null,
      "outputs": []
    },
    {
      "cell_type": "markdown",
      "metadata": {
        "id": "cSTU9OCCXwor"
      },
      "source": [
        "### Finds the multiplicative inverse of the matrix `numpy.linalg.inv()`"
      ]
    },
    {
      "cell_type": "code",
      "metadata": {
        "id": "rPL7qfAQb46_",
        "colab": {
          "base_uri": "https://localhost:8080/"
        },
        "outputId": "9ff5aeff-4788-40b3-eacc-19c43d4db25b"
      },
      "source": [
        "x = np.array([[1,2],[3,4]]) \n",
        "y = np.linalg.inv(x) \n",
        "print(x)\n",
        "print(y)\n",
        "print(np.dot(x,y))"
      ],
      "execution_count": null,
      "outputs": [
        {
          "output_type": "stream",
          "name": "stdout",
          "text": [
            "[[1 2]\n",
            " [3 4]]\n",
            "[[-2.   1. ]\n",
            " [ 1.5 -0.5]]\n",
            "[[1.0000000e+00 0.0000000e+00]\n",
            " [8.8817842e-16 1.0000000e+00]]\n"
          ]
        }
      ]
    },
    {
      "cell_type": "markdown",
      "metadata": {
        "id": "REfLrUTcL9i7"
      },
      "source": [
        "##Broadcasting"
      ]
    },
    {
      "cell_type": "markdown",
      "metadata": {
        "id": "gElv4KFL7WZk"
      },
      "source": [
        "### Introducing Broadcasting"
      ]
    },
    {
      "cell_type": "markdown",
      "source": [
        "Credit: https://towardsdatascience.com/broadcasting-in-numpy-58856f926d73"
      ],
      "metadata": {
        "id": "BeigWc5hmgIf"
      }
    },
    {
      "cell_type": "markdown",
      "source": [
        "![image.png](data:image/png;base64,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)"
      ],
      "metadata": {
        "id": "L6OclcpDmg24"
      }
    },
    {
      "cell_type": "markdown",
      "metadata": {
        "id": "O2Y8PX2w4kbZ"
      },
      "source": [
        "Recall that for arrays of the same size, binary operations are performed on an element-by-element basis:"
      ]
    },
    {
      "cell_type": "code",
      "metadata": {
        "id": "3aSXyYkP4nE4",
        "colab": {
          "base_uri": "https://localhost:8080/"
        },
        "outputId": "ba557b54-caa9-41e0-b960-f0855185734b"
      },
      "source": [
        "a = np.array([0, 1, 2])\n",
        "b = np.array([5, 5, 5])\n",
        "a + b"
      ],
      "execution_count": null,
      "outputs": [
        {
          "output_type": "execute_result",
          "data": {
            "text/plain": [
              "array([5, 6, 7])"
            ]
          },
          "metadata": {},
          "execution_count": 172
        }
      ]
    },
    {
      "cell_type": "markdown",
      "metadata": {
        "id": "n39WPiEX4uGm"
      },
      "source": [
        "Broadcasting allows these types of binary operations to be performed on arrays of different sizes–for example, we can just as easily add a scalar (think of it as a zero-dimensional array) to an array:"
      ]
    },
    {
      "cell_type": "code",
      "metadata": {
        "id": "LDrYzq7Y4wtW",
        "colab": {
          "base_uri": "https://localhost:8080/"
        },
        "outputId": "09784fa0-af06-4f82-f47f-2526771d82cb"
      },
      "source": [
        "print(a.shape)\n",
        "a + 5"
      ],
      "execution_count": null,
      "outputs": [
        {
          "output_type": "stream",
          "name": "stdout",
          "text": [
            "(3,)\n"
          ]
        },
        {
          "output_type": "execute_result",
          "data": {
            "text/plain": [
              "array([5, 6, 7])"
            ]
          },
          "metadata": {},
          "execution_count": 173
        }
      ]
    },
    {
      "cell_type": "markdown",
      "metadata": {
        "id": "N1C0C5l343_2"
      },
      "source": [
        "We can think of this as an operation that stretches or duplicates the value 5 into the array [5, 5, 5], and adds the results. The advantage of NumPy's broadcasting is that this duplication of values does not actually take place, but it is a useful mental model as we think about broadcasting."
      ]
    },
    {
      "cell_type": "markdown",
      "metadata": {
        "id": "KYVDPMDE5EVI"
      },
      "source": [
        "We can similarly extend this to arrays of higher dimension. Observe the result when we add a one-dimensional array to a two-dimensional array:"
      ]
    },
    {
      "cell_type": "code",
      "source": [
        "a"
      ],
      "metadata": {
        "colab": {
          "base_uri": "https://localhost:8080/"
        },
        "id": "QhVevIq3zGtk",
        "outputId": "e90f866c-4d48-49ac-fbdb-bcdd212f7424"
      },
      "execution_count": null,
      "outputs": [
        {
          "output_type": "execute_result",
          "data": {
            "text/plain": [
              "array([0, 1, 2])"
            ]
          },
          "metadata": {},
          "execution_count": 175
        }
      ]
    },
    {
      "cell_type": "code",
      "metadata": {
        "id": "Hd-vWICR5JU-",
        "colab": {
          "base_uri": "https://localhost:8080/"
        },
        "outputId": "aaf1bec6-3159-434d-a7e2-20f671fff148"
      },
      "source": [
        "M = np.ones((3, 3))\n",
        "print('Shape of M:', M.shape)\n",
        "print(M)\n",
        "print('Shape of a:', a.shape)\n",
        "print(a)\n",
        "print('\\n')\n",
        "\n",
        "# Broadcast\n",
        "# [[0 1 2],         [[1. 1. 1.]\n",
        "#  [0 1 2],   +      [1. 1. 1.]\n",
        "#  [0 1 2]]          [1. 1. 1.]]\n",
        "print(M + a)"
      ],
      "execution_count": null,
      "outputs": [
        {
          "output_type": "stream",
          "name": "stdout",
          "text": [
            "Shape of M: (3, 3)\n",
            "[[1. 1. 1.]\n",
            " [1. 1. 1.]\n",
            " [1. 1. 1.]]\n",
            "Shape of a: (3,)\n",
            "[0 1 2]\n",
            "\n",
            "\n",
            "[[1. 2. 3.]\n",
            " [1. 2. 3.]\n",
            " [1. 2. 3.]]\n"
          ]
        }
      ]
    },
    {
      "cell_type": "code",
      "metadata": {
        "id": "qvp10UHb57k9",
        "colab": {
          "base_uri": "https://localhost:8080/"
        },
        "outputId": "dd6c77b1-c138-4e7e-aca9-4e49737b5d41"
      },
      "source": [
        "M = np.ones((3, 3))\n",
        "print('Shape of M:', M.shape)\n",
        "print(M)\n",
        "\n",
        "b = a.reshape(3, 1)\n",
        "print('Shape of b:', b.shape)\n",
        "print(b)\n",
        "print('\\n')\n",
        "\n",
        "# [[0, 0, 0],\n",
        "#  [1, 0, 1],\n",
        "#  [2, 2, 2]]\n",
        "print(M+b)"
      ],
      "execution_count": null,
      "outputs": [
        {
          "output_type": "stream",
          "name": "stdout",
          "text": [
            "Shape of M: (3, 3)\n",
            "[[1. 1. 1.]\n",
            " [1. 1. 1.]\n",
            " [1. 1. 1.]]\n",
            "Shape of b: (3, 1)\n",
            "[[0]\n",
            " [1]\n",
            " [2]]\n",
            "\n",
            "\n",
            "[[1. 1. 1.]\n",
            " [2. 2. 2.]\n",
            " [3. 3. 3.]]\n"
          ]
        }
      ]
    },
    {
      "cell_type": "markdown",
      "metadata": {
        "id": "TWrtyv5N4Y5t"
      },
      "source": [
        "Here the one-dimensional array ``a`` is stretched, or broadcast across the second dimension in order to match the shape of ``M``.\n",
        "\n",
        "While these examples are relatively easy to understand, more complicated cases can involve broadcasting of both arrays. Consider the following example:"
      ]
    },
    {
      "cell_type": "code",
      "metadata": {
        "id": "-jBslLzO4Y5t",
        "colab": {
          "base_uri": "https://localhost:8080/"
        },
        "outputId": "173049cf-0dcd-4e76-ee55-f1567319af96"
      },
      "source": [
        "a = np.arange(3)\n",
        "b = np.arange(4)[:, np.newaxis]\n",
        "\n",
        "print(a)\n",
        "print(b)"
      ],
      "execution_count": null,
      "outputs": [
        {
          "output_type": "stream",
          "name": "stdout",
          "text": [
            "[0 1 2]\n",
            "[[0]\n",
            " [1]\n",
            " [2]\n",
            " [3]]\n"
          ]
        }
      ]
    },
    {
      "cell_type": "code",
      "source": [
        "print(a.shape, b.shape)"
      ],
      "metadata": {
        "colab": {
          "base_uri": "https://localhost:8080/"
        },
        "id": "Qf1cV6jQzjnk",
        "outputId": "250cb1bf-6bd0-43c4-bb4a-d069a0cee9a9"
      },
      "execution_count": null,
      "outputs": [
        {
          "output_type": "stream",
          "name": "stdout",
          "text": [
            "(3,) (4, 1)\n"
          ]
        }
      ]
    },
    {
      "cell_type": "code",
      "source": [
        "a = np.zeros((2,2))\n",
        "a + b"
      ],
      "metadata": {
        "colab": {
          "base_uri": "https://localhost:8080/",
          "height": 184
        },
        "id": "g4lB9ahl0XEV",
        "outputId": "ee8ae864-07f1-4372-e821-5a0c6cba59ec"
      },
      "execution_count": null,
      "outputs": [
        {
          "output_type": "error",
          "ename": "ValueError",
          "evalue": "ignored",
          "traceback": [
            "\u001b[0;31m---------------------------------------------------------------------------\u001b[0m",
            "\u001b[0;31mValueError\u001b[0m                                Traceback (most recent call last)",
            "\u001b[0;32m<ipython-input-184-fa0ff10e6cd4>\u001b[0m in \u001b[0;36m<module>\u001b[0;34m\u001b[0m\n\u001b[1;32m      1\u001b[0m \u001b[0ma\u001b[0m \u001b[0;34m=\u001b[0m \u001b[0mnp\u001b[0m\u001b[0;34m.\u001b[0m\u001b[0mzeros\u001b[0m\u001b[0;34m(\u001b[0m\u001b[0;34m(\u001b[0m\u001b[0;36m2\u001b[0m\u001b[0;34m,\u001b[0m\u001b[0;36m2\u001b[0m\u001b[0;34m)\u001b[0m\u001b[0;34m)\u001b[0m\u001b[0;34m\u001b[0m\u001b[0;34m\u001b[0m\u001b[0m\n\u001b[0;32m----> 2\u001b[0;31m \u001b[0ma\u001b[0m \u001b[0;34m+\u001b[0m \u001b[0mb\u001b[0m\u001b[0;34m\u001b[0m\u001b[0;34m\u001b[0m\u001b[0m\n\u001b[0m",
            "\u001b[0;31mValueError\u001b[0m: operands could not be broadcast together with shapes (2,2) (4,1) "
          ]
        }
      ]
    },
    {
      "cell_type": "code",
      "metadata": {
        "id": "Tk_QCfHB4Y52",
        "colab": {
          "base_uri": "https://localhost:8080/"
        },
        "outputId": "dc9d4bcd-9fd1-4ce0-d3d6-6b0cf89a7b79"
      },
      "source": [
        "c = a + b\n",
        "print(c.shape)\n",
        "print(c)"
      ],
      "execution_count": null,
      "outputs": [
        {
          "output_type": "stream",
          "name": "stdout",
          "text": [
            "(4, 3)\n",
            "[[0 1 2]\n",
            " [1 2 3]\n",
            " [2 3 4]\n",
            " [3 4 5]]\n"
          ]
        }
      ]
    },
    {
      "cell_type": "markdown",
      "metadata": {
        "id": "EygGAMWqL9i7"
      },
      "source": [
        "Broadcasting is a powerful mechanism that allows numpy to **work with arrays of different shapes** when performing arithmetic operations. Frequently we have a smaller array and a larger array, and we want to use the smaller array multiple times to perform some operation on the larger array."
      ]
    },
    {
      "cell_type": "markdown",
      "metadata": {
        "id": "bpL-mLsD67Rg"
      },
      "source": [
        "### Rules of broadcasting"
      ]
    },
    {
      "cell_type": "markdown",
      "metadata": {
        "id": "se0-gzSA66CS"
      },
      "source": [
        "Broadcasting in NumPy follows a strict set of rules to determine the interaction between the two arrays:\n",
        "\n",
        "- Rule 1: If the two arrays differ in their number of dimensions, the shape of the one with fewer dimensions is *padded* with ones on its leading (left) side.\n",
        "- Rule 2: If the shape of the two arrays does not match in any dimension, the array with shape equal to 1 in that dimension is stretched to match the other shape.\n",
        "- Rule 3: If in any dimension the sizes disagree and neither is equal to 1, an error is raised."
      ]
    },
    {
      "cell_type": "markdown",
      "source": [
        "https://thecleverprogrammer.com/2020/09/13/numpy-broadcasting-in-python/"
      ],
      "metadata": {
        "id": "Hx2Ow-a5nUbJ"
      }
    },
    {
      "cell_type": "markdown",
      "source": [
        "![image.png](data:image/png;base64,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)"
      ],
      "metadata": {
        "id": "-2n6zQa1nRqR"
      }
    },
    {
      "cell_type": "markdown",
      "source": [
        "![image.png](data:image/png;base64,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)"
      ],
      "metadata": {
        "id": "U4hEpCgQnW9x"
      }
    },
    {
      "cell_type": "markdown",
      "source": [
        "# New Section"
      ],
      "metadata": {
        "id": "29_acTYpnTNg"
      }
    },
    {
      "cell_type": "markdown",
      "metadata": {
        "id": "TJRPT_EM7JLs"
      },
      "source": [
        "\n",
        "Here are some applications of broadcasting:"
      ]
    },
    {
      "cell_type": "code",
      "metadata": {
        "id": "EmQnwoM9L9jH",
        "colab": {
          "base_uri": "https://localhost:8080/"
        },
        "outputId": "488d289e-8dad-4ae1-a53e-63d571441349"
      },
      "source": [
        "# Compute outer product of vectors\n",
        "v = np.array([1,2,3])  # v has shape (3,)\n",
        "w = np.array([4,5])    # w has shape (2,)\n",
        "# To compute an outer product, we first reshape v to be a column\n",
        "# vector of shape (3, 1); we can then broadcast it against w to yield\n",
        "# an output of shape (3, 2), which is the outer product of v and w:\n",
        "\n",
        "print(v.reshape(3, 1) * w)"
      ],
      "execution_count": null,
      "outputs": [
        {
          "output_type": "stream",
          "name": "stdout",
          "text": [
            "[[ 4  5]\n",
            " [ 8 10]\n",
            " [12 15]]\n"
          ]
        }
      ]
    },
    {
      "cell_type": "code",
      "source": [
        "v * w"
      ],
      "metadata": {
        "colab": {
          "base_uri": "https://localhost:8080/",
          "height": 166
        },
        "id": "rLn0mHO01EMM",
        "outputId": "691eecdb-5bb1-472d-e214-7d375067f429"
      },
      "execution_count": null,
      "outputs": [
        {
          "output_type": "error",
          "ename": "ValueError",
          "evalue": "ignored",
          "traceback": [
            "\u001b[0;31m---------------------------------------------------------------------------\u001b[0m",
            "\u001b[0;31mValueError\u001b[0m                                Traceback (most recent call last)",
            "\u001b[0;32m<ipython-input-186-21fab2d5f12e>\u001b[0m in \u001b[0;36m<module>\u001b[0;34m\u001b[0m\n\u001b[0;32m----> 1\u001b[0;31m \u001b[0mv\u001b[0m \u001b[0;34m*\u001b[0m \u001b[0mw\u001b[0m\u001b[0;34m\u001b[0m\u001b[0;34m\u001b[0m\u001b[0m\n\u001b[0m",
            "\u001b[0;31mValueError\u001b[0m: operands could not be broadcast together with shapes (3,) (2,) "
          ]
        }
      ]
    },
    {
      "cell_type": "code",
      "metadata": {
        "id": "PgotmpcnL9jK",
        "colab": {
          "base_uri": "https://localhost:8080/"
        },
        "outputId": "d2f4384f-31ec-4347-9a44-e3522def0c54"
      },
      "source": [
        "# Add a vector to each row of a matrix\n",
        "x = np.array([[1,2,3], [4,5,6]])\n",
        "# x has shape (2, 3) and v has shape (3,) so they broadcast to (2, 3),\n",
        "# giving the following matrix:\n",
        "\n",
        "print(x + v)"
      ],
      "execution_count": null,
      "outputs": [
        {
          "output_type": "stream",
          "name": "stdout",
          "text": [
            "[[2 4 6]\n",
            " [5 7 9]]\n"
          ]
        }
      ]
    },
    {
      "cell_type": "code",
      "metadata": {
        "id": "T5hKS1QaL9jK",
        "colab": {
          "base_uri": "https://localhost:8080/"
        },
        "outputId": "264676bb-a9a8-4e78-b65e-e644890bed99"
      },
      "source": [
        "# Add a vector to each column of a matrix\n",
        "# x has shape (2, 3) and w has shape (2,).\n",
        "# If we transpose x then it has shape (3, 2) and can be broadcast\n",
        "# against w to yield a result of shape (3, 2); transposing this result\n",
        "# yields the final result of shape (2, 3) which is the matrix x with\n",
        "# the vector w added to each column. Gives the following matrix:\n",
        "\n",
        "print((x.T + w).T)"
      ],
      "execution_count": null,
      "outputs": [
        {
          "output_type": "stream",
          "name": "stdout",
          "text": [
            "[[ 5  6  7]\n",
            " [ 9 10 11]]\n"
          ]
        }
      ]
    },
    {
      "cell_type": "code",
      "metadata": {
        "id": "JDUrZUl6L9jN",
        "colab": {
          "base_uri": "https://localhost:8080/"
        },
        "outputId": "8433e74f-6230-4250-ff59-269dc0bea200"
      },
      "source": [
        "# Another solution is to reshape w to be a row vector of shape (2, 1);\n",
        "# we can then broadcast it directly against x to produce the same\n",
        "# output.\n",
        "print(x + np.reshape(w, (2, 1)))"
      ],
      "execution_count": null,
      "outputs": [
        {
          "output_type": "stream",
          "name": "stdout",
          "text": [
            "[[ 5  6  7]\n",
            " [ 9 10 11]]\n"
          ]
        }
      ]
    },
    {
      "cell_type": "code",
      "metadata": {
        "id": "VzrEo4KGL9jP",
        "colab": {
          "base_uri": "https://localhost:8080/"
        },
        "outputId": "e759d893-7567-457e-9662-c39ce281a912"
      },
      "source": [
        "# Multiply a matrix by a constant:\n",
        "# x has shape (2, 3). Numpy treats scalars as arrays of shape ();\n",
        "# these can be broadcast together to shape (2, 3), producing the\n",
        "# following array:\n",
        "print(x * 2)"
      ],
      "execution_count": null,
      "outputs": [
        {
          "output_type": "stream",
          "name": "stdout",
          "text": [
            "[[ 2  4  6]\n",
            " [ 8 10 12]]\n"
          ]
        }
      ]
    },
    {
      "cell_type": "markdown",
      "metadata": {
        "id": "89e2FXxFL9jQ"
      },
      "source": [
        "Broadcasting typically makes your code more concise and faster, so you should strive to use it where possible."
      ]
    },
    {
      "cell_type": "markdown",
      "metadata": {
        "id": "iF3ZtwVNL9jQ"
      },
      "source": [
        "This brief overview has touched on many of the important things that you need to know about numpy, but is far from complete. Check out the [numpy reference](http://docs.scipy.org/doc/numpy/reference/) to find out much more about numpy."
      ]
    }
  ]
}